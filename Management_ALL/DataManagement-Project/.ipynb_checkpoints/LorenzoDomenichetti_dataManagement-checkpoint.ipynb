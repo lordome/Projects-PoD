{
 "cells": [
  {
   "cell_type": "markdown",
   "metadata": {},
   "source": [
    "# Data Management Assignment\n",
    "\n",
    "## Lorenzo Domenichetti - 2011653\n",
    "\n"
   ]
  },
  {
   "cell_type": "code",
   "execution_count": 1,
   "metadata": {},
   "outputs": [],
   "source": [
    "import os\n",
    "import time\n",
    "import requests\n",
    "import numpy as np\n",
    "import pandas as pd\n",
    "from functools import reduce\n",
    "import matplotlib.pyplot as plt\n",
    "\n",
    "requests.packages.urllib3.disable_warnings()"
   ]
  },
  {
   "cell_type": "markdown",
   "metadata": {},
   "source": [
    "### Fun exercise\n",
    "\n",
    "1+2 = 3\n",
    "\n",
    "2+5 = 7\n",
    "\n",
    "3+7 = 4\n",
    "\n",
    "4+5 = ?\n",
    "\n",
    "5+9 = 12\n",
    "\n",
    "The operation between these numbers of course is the XOR! The answer was truly straight-forward after all the lessons on parity, checksums, redundancy... and error-correction algorithms.\n",
    "\n",
    "Let's show the proof. \n",
    "\n",
    "Let's convert the numbers in binaries - I'll keep only the first bits for ease.\n",
    "\n",
    "1$\\rightarrow$ 001, 2$\\rightarrow$ 010, 5$\\rightarrow$ 101;\n",
    "\n",
    "1+2 $\\rightarrow$ 001^010 = 011 $\\rightarrow$ can be converted into 3.\n",
    "\n",
    "2+5 $\\rightarrow$ 010^101 = 111 $\\rightarrow$ can be converted into 7.\n",
    "\n",
    "3+7 $\\rightarrow$ 011^111 = 100 $\\rightarrow$ can be converted into 4. \n",
    "\n",
    "**4+5 $\\rightarrow$ 100^101 = 001 $\\rightarrow$ can be converted into 1.**\n",
    "\n",
    "5+9 $\\rightarrow$ 0101^1001 = 1100 $\\rightarrow$ can be converted into 12.\n"
   ]
  },
  {
   "cell_type": "code",
   "execution_count": 2,
   "metadata": {},
   "outputs": [
    {
     "name": "stdout",
     "output_type": "stream",
     "text": [
      "The XOR between 1 and 2: 3\n",
      "The XOR between 2 and 5: 7\n",
      "The XOR between 3 and 7: 4\n",
      "The XOR between 4 and 5: 1\n",
      "The XOR between 5 and 9: 12\n"
     ]
    }
   ],
   "source": [
    "#Or, defining a function..\n",
    "def XOR(a,b):\n",
    "    '''\n",
    "    The XOR function takes as arguments two integer and returns their bitwise xor.\n",
    "    '''\n",
    "    return a ^ b\n",
    "\n",
    "print(f\"The XOR between 1 and 2: {XOR(1,2)}\")\n",
    "print(f\"The XOR between 2 and 5: {XOR(2,5)}\")\n",
    "print(f\"The XOR between 3 and 7: {XOR(3,7)}\")\n",
    "print(f\"The XOR between 4 and 5: {XOR(4,5)}\")\n",
    "print(f\"The XOR between 5 and 9: {XOR(5,9)}\")"
   ]
  },
  {
   "cell_type": "markdown",
   "metadata": {},
   "source": [
    "## 1. Redundancy\n",
    "\n",
    "We are programming a file based RAID-4 software algorithm. \n",
    "\n",
    "For this purpose we are converting a single input (raid4.input) file into four data files raid4.0,raid4.1,raid4.2,raid4.3 and one parity file \n",
    "raid4.4 - the four data and one parity file we call ‘stripe files’.\n",
    "\n",
    "The input file can be downloaded from:\n",
    "http://apeters.web.cern.ch/apeters/pd2021/raid4.input\n",
    "\n",
    "To do this we are reading in a loop sequentially blocks of four bytes from the input\n",
    "file until the whole file is read:\n",
    "\n",
    "• in each loop we write one of the four read bytes round-robin to each data file, compute the parity of the four input bytes and write the result into the fifth parity\n",
    "file. ( see the drawing for better understanding )\n",
    "\n",
    "• we continue until all input data has been read. If the last bytes read from the input file are not filling four bytes, we consider the missing bytes as zero for the parity computation.\n",
    "\n",
    "\n",
    "**1.1** Write a program (C,C++, R or Python), which produces four striped\n",
    "data and one parity file as described above using the given input file.\n",
    "\n",
    "\n",
    "<!---\n",
    "hint: if you have a problem programming this yourself, you can download the core program in C++ from http://apeters.web.cern.ch/apeters/pd2021/raid4.c. See the explanations in the beginning how to compile and run it. You have to add the parity computations at the IMPLEMENT THIS sections! If you can’t compile or\n",
    "run it, you can still fill in the missing implementation!\n",
    "-->\n",
    "\n",
    "\n",
    "**1.2** Extend the program to compute additionally the parity of all bytes\n",
    "within one stripe file. \n",
    "\n",
    "You can say, that the computed column-wise\n",
    "parity acts as a **CHECKSUM** for each stripe file. \n",
    "\n",
    "Compute the size\n",
    "overhead by comparing the size of all 5 stripe files with the original file.\n",
    "The size overhead is **25** % ! \n",
    "\n",
    "As expected: we split the initial file in four chunks (each 25% of the initial one). Then we add another chunk that contains parity, and, as computed, it has the same dimension as the previous chunks themselves. So that is why the overhead is 25%. \n",
    "\n",
    "\n",
    "### The q vector acts as a **checksum** for all stripes."
   ]
  },
  {
   "cell_type": "code",
   "execution_count": 3,
   "metadata": {},
   "outputs": [],
   "source": [
    "#vector containing file_names.\n",
    "vec_file = [\"file4.0\", \"file4.1\", \"file4.2\", \"file4.3\", \"file4.4\"] \n",
    "\n",
    "#empty checksum vector, updated at each iteration sequentially.\n",
    "q = [0] * 5 \n",
    "\n",
    "with open(\"raid4.input\", \"rb\") as file: \n",
    "    \n",
    "    #read 4 bytes blocks in a loop sequentially.\n",
    "    while (byte := (file.read(4))):\n",
    "        \n",
    "        #check if four or less bytes are read. \n",
    "        #in case less than four bytes, fill with zeros.\n",
    "        while(len(byte)<4):\n",
    "            byte = bytearray(byte)\n",
    "            byte.append(0)\n",
    "            byte = bytes(byte)\n",
    "        \n",
    "        #print data on file four by four. Update the checksum. \n",
    "        for it in range(4):\n",
    "            with open(vec_file[it], 'ab') as write_file:\n",
    "                write_file.write(chr(byte[it]).encode('latin-1'))\n",
    "            q[it] = q[it]^byte[it]  \n",
    "        \n",
    "        #parity\n",
    "        res = ((reduce(lambda i,j: (i^j), byte)))\n",
    "        \n",
    "        #print parity on fifth file. Update the checksum. \n",
    "        with open(vec_file[4], 'ab') as write_file:\n",
    "            write_file.write(chr(res).encode('latin-1'))\n",
    "        q[4] = q[4]^res\n",
    "        \n",
    "        "
   ]
  },
  {
   "cell_type": "code",
   "execution_count": 4,
   "metadata": {},
   "outputs": [
    {
     "name": "stdout",
     "output_type": "stream",
     "text": [
      "The final files summed are 1.25 times the initial one. The actual overhead is 25%\n"
     ]
    }
   ],
   "source": [
    "files_size = 0\n",
    "for j in vec_file:\n",
    "    files_size+=os.path.getsize(j)\n",
    "    \n",
    "overhead = files_size/os.path.getsize('raid4.input')\n",
    "print(f'The final files summed are {overhead:.2f} times the initial one. The actual overhead is {(overhead-1)*100:.0f}%')\n",
    "\n",
    "#print('The actual size is 1.25 times, so 25% overhead')"
   ]
  },
  {
   "cell_type": "markdown",
   "metadata": {},
   "source": [
    "**1.3** What is the 5-byte parity value if you write it it in hexadecimal\n",
    "format like P5 =0x[q0][q1][q2][q3][q4], where the [qx] are the\n",
    "hexadecimal parity bytes computed by xor-ing all bytes in each stripe file. A byte in hexadecimal has two digits and you should add leading 0 if necessary."
   ]
  },
  {
   "cell_type": "code",
   "execution_count": 5,
   "metadata": {},
   "outputs": [
    {
     "name": "stdout",
     "output_type": "stream",
     "text": [
      "The final parity value in hexadecimal format: 0x a5 07 a0 9c 9e\n"
     ]
    }
   ],
   "source": [
    "lista = [str(hex(k))[2:] for k in q]\n",
    "for it in range(len(lista)):\n",
    "    if(len(lista[it])!=2):\n",
    "        lista[it] = '0'+ lista[it]\n",
    "\n",
    "checksum = '0x '+' '.join(lista)\n",
    "print(f\"The final parity value in hexadecimal format: {checksum}\")"
   ]
  },
  {
   "cell_type": "markdown",
   "metadata": {},
   "source": [
    "**1.4a** If you create a sixth stripe file, which contains the row-wise parities of\n",
    "the five stripe files, what would be the contents of this file?\n",
    "\n",
    "**1.4b** Write down the equation for R, which is the XOR between all data\n",
    "stripes D0,D1,D2,D3 and the parity P. Remember P was the parity of\n",
    "D0,D1,D2,D3! Reduce the equation removing P from it to get the answer\n",
    "about the contents!\n",
    "\n",
    "\n",
    "\n",
    "If we compute again the parity between all columns and their parity, the result is going to be zero for each row. \n",
    "\n",
    "Let's show the proof: \n",
    "\n",
    "$$R = D0\\oplus D1\\oplus D2\\oplus D3\\oplus P = D0\\oplus D1\\oplus D2\\oplus D3\\oplus (D0\\oplus D1\\oplus D2\\oplus D3)$$\n",
    "\n",
    "Now we can exploit the commutative and associative properties of the XOR. $a\\oplus (b\\oplus c) = (a\\oplus b)\\oplus c = (a\\oplus c)\\oplus b$.\n",
    "\n",
    "Such proposition follows directly from the XOR definition, and are intuitive looking at XOR's truth table.\n",
    "\n",
    "$$R = (D0\\oplus D0)\\oplus (D1\\oplus D1)\\oplus (D2\\oplus D2)\\oplus (D3\\oplus D3)$$\n",
    "\n",
    "Now we may want again to exploit a property of the XOR operation. Given any X, it holds X^X = 0 . The proof of such proposition follows again from the binary representation - X's bits are all equal, and the bitewise XOR returns always a zero bit. \n",
    "\n",
    "So, finally, $R = 0\\oplus0\\oplus0\\oplus0 = 0$.\n",
    "\n",
    "Let's check it.  - For the sake of simplicity, instead of removing P one could have noticed that the first four XORs again yield P, and $P\\oplus P = 0$."
   ]
  },
  {
   "cell_type": "code",
   "execution_count": 6,
   "metadata": {},
   "outputs": [
    {
     "data": {
      "text/plain": [
       "True"
      ]
     },
     "execution_count": 6,
     "metadata": {},
     "output_type": "execute_result"
    }
   ],
   "source": [
    "double_xor = []\n",
    "with open(\"raid4.input\", \"rb\") as file:\n",
    "    while (byte := (file.read(4))):\n",
    "        while(len(byte)<4):\n",
    "            byte = bytearray(byte)\n",
    "            byte.append(0)\n",
    "            byte = bytes(byte)\n",
    "        \n",
    "        res = ((reduce(lambda i,j: (i^j), byte)))\n",
    "        #d_xor = res^res  - simpler..\n",
    "        d_xor = res\n",
    "        for it in range(4):\n",
    "            d_xor = d_xor^byte[it]\n",
    "            \n",
    "        #appending XOR of res(fifth column) and the original four bytes.\n",
    "        double_xor.append(d_xor)\n",
    "\n",
    "#Checking our proposition is correct\n",
    "double_xor == [0] * len(double_xor)"
   ]
  },
  {
   "cell_type": "markdown",
   "metadata": {},
   "source": [
    "**1.5** After some time you recompute the 5-byte parity value as in 1.3. Now\n",
    "the result is P 5 = 0x a5 07 a0 01 9e. Something has been corrupted. You\n",
    "want to reconstruct the original file raid4.input using the 5 stripe files.\n",
    "\n",
    "Describe how you can recreate the original data file. \n",
    "Which stripe files\n",
    "do you use and how do you recreate the original data file with the correct\n",
    "size?\n",
    "\n",
    "Original checksum: 0x a5 07 a0 9c 9e\n",
    "\n",
    "New checksum: $\\,\\,\\,\\,\\,$     0x a5 07 a0 01 9e\n",
    "\n",
    "First - we need to find which column has been corrupted. In this case, the checksum yield the uncorrect result in \n",
    "the fourth column (9c $\\rightarrow$ 01) - so we may conclude that the corrupted data lay in the fourth column. \n",
    "\n",
    "The fourth column then has to be discarded. Fortunately, only one column seems to be corrupted. So, with a single parity, we are still able to reconstruct the initial file. The procedure is the following: as we want to reconstruct the lost column, we take the remaining four (1,2,3,5). Now, thanks to the properties of the XOR, we can reconstruct the column element by element taking the XOR of the row elements of the four columns that return the right checksum. The result of this operation will be then the original value. \n",
    "\n",
    "With this approach one is finally able to reconstruct the initial data, and the checksum should finally return to the original value. If two or more columns would have been corrupted, we would have not been able to use this simple algorithm to reconstruct the original data.\n",
    "\n",
    "$$D3 = D0 \\oplus D1 \\oplus D2 \\oplus P$$\n",
    "\n",
    "Let's check it.\n",
    "\n",
    "\n"
   ]
  },
  {
   "cell_type": "code",
   "execution_count": 7,
   "metadata": {},
   "outputs": [
    {
     "name": "stdout",
     "output_type": "stream",
     "text": [
      "True\n",
      "[70, 51, 229, 167, 196]\n",
      "[70, 51, 229, 167, 196]\n"
     ]
    }
   ],
   "source": [
    "fourth_original = []\n",
    "fourth_reconstructed = []\n",
    "with open(\"raid4.input\", \"rb\") as file:\n",
    "    while (byte := (file.read(4))):\n",
    "        while(len(byte)<4):\n",
    "            byte = bytearray(byte)\n",
    "            byte.append(0)\n",
    "            byte = bytes(byte)\n",
    "        \n",
    "        res = ((reduce(lambda i,j: (i^j), byte))) #parity\n",
    "\n",
    "        recover_xor = res\n",
    "        for it in range(3):      \n",
    "            recover_xor = recover_xor^byte[it] #computing the XOR between the first three and the parity entries.\n",
    "            \n",
    "        fourth_reconstructed.append(recover_xor)\n",
    "        fourth_original.append(byte[3])\n",
    "\n",
    "#Checking our proposition is correct. Check if the two list are equal element by element.\n",
    "print(fourth_original == fourth_reconstructed)\n",
    "print(fourth_original[:5])\n",
    "print(fourth_reconstructed[:5])"
   ]
  },
  {
   "cell_type": "markdown",
   "metadata": {},
   "source": [
    "## 2. Cryptography\n",
    "The Caesar cipher is named for Julius Caesar, who\n",
    "used an alphabet where decrypting would shift three\n",
    "letters to the left.\n",
    "\n",
    "A friend has emailed you the following text:\n",
    "K]amua!trgpy\n",
    "She told you that her encryption algorithm works\n",
    "similar to the Caesar cipher:\n",
    "\n",
    "• to each ASCII value of each letter I add a secret key\n",
    "value. (note that ASCII values range from 0 to 255)\n",
    "\n",
    "\n",
    "• additionally to make it more secure I add a variable (so called) nonce value to each ASCII number.\n",
    "\n",
    "\n",
    "The nonce start value is 5 for the first character of the message. For each\n",
    "following character add 1 to the nonce of the previous character, e.g. for\n",
    "the second letter the nonce added is 6, for the third letter it is 7 aso."
   ]
  },
  {
   "cell_type": "markdown",
   "metadata": {},
   "source": [
    "**2.1** Is this symmetric or asymmetric encryption and explain why?\n",
    "\n",
    "**The encryption is symmetric** - ONE single key is used for both encrypting and decriptying the secret message. And this is exactly the definition of symmetric encryption. In asymmetric encryption, instead, there would have been differnt keys for encoding and decoding. In this case, as will be shown, an algorithm can be designed for decoding the initial message using the same keys (nonce start value and _\"the secret key\"_) used for encryption. \n",
    "\n",
    "Moreover, there are no public nor private keys neiter for sender nor receiver - as it happens in asymmetric encryption. \n",
    "\n",
    "**2.2** Write a small brute force program which tests keys from 0..255 and\n",
    "use a dictionary approach to figure out the original message. \n",
    "\n",
    "<!--- \n",
    "In Python you can use the ord() function to get an integer representation of a character and the chr() to retrieve a character string from an integer\n",
    " -->\n",
    "\n",
    "The **used key is 246**. The original message text is  **Padova rocks**."
   ]
  },
  {
   "cell_type": "code",
   "execution_count": 8,
   "metadata": {},
   "outputs": [
    {
     "name": "stdout",
     "output_type": "stream",
     "text": [
      "As our friend told us that the encryption algorithm includes sums, I am assuming the decryption algorithm works by subtraction.\n",
      "This way we can really use the same keys (246, 5-nonce) with slightly different algorithms (subtractions instead of sums).\n",
      "\n",
      "The original message: Padova rocks\n",
      "\n"
     ]
    }
   ],
   "source": [
    "message = 'K]amua!trgpy'\n",
    "#conversion to integer and subtraction of the \"nonce\" values \n",
    "to_int = [ord(k) for k in message] - np.arange(5,5+len(message)) \n",
    "\n",
    "#original message \n",
    "original_message = ''\n",
    "\n",
    "#message key\n",
    "key = -1\n",
    "\n",
    "for i in range(256):\n",
    "    #subtracting the values one by one to the original string - bruteforce algorithm.\n",
    "    dec = to_int - i \n",
    "    \n",
    "    #ASCII values only range from 0 to 255. If in the subtraction a negative numeber is found,\n",
    "    # the count restarts from the biggest value possible, i.e. 255.\n",
    "    dec[dec < 0 ] = 256 + dec[dec < 0 ] \n",
    "    \n",
    "    #interpreting the dictionary_approach as \"the string that makes sense is the right one\"!\n",
    "    if(chr(dec[0])=='P'): \n",
    "        original_message = ''.join(([chr(k) for k in dec]))\n",
    "        key = i\n",
    "        break\n",
    "        \n",
    "        \n",
    "print(f\"As our friend told us that the encryption algorithm includes sums, I am assuming the decryption algorithm works by subtraction.\\nThis way we can really use the same keys (246, 5-nonce) with slightly different algorithms (subtractions instead of sums).\\n\")\n",
    "print(f\"The original message: {original_message}\\n\")\n"
   ]
  },
  {
   "cell_type": "markdown",
   "metadata": {},
   "source": [
    "**2.3** What is the decryption algorithm/formula to be used?\n",
    "\n",
    "The decryption algoritm follows the following steps:\n",
    "\n",
    "1) convert the initial characters to their corresponding ASCII;\n",
    "\n",
    "2) subtract the nonce values, ranging from 5 to 5+length(message), accordingly to the position in the array;\n",
    "\n",
    "3) subtract to the key (246 in our case) to the obtained values. Mind that negative numbers have to be converted to numbers on top of the ASCII range. \n",
    "\n",
    "4) convert the so obtained integers into the corresponding characters and join them into a single string."
   ]
  },
  {
   "cell_type": "markdown",
   "metadata": {},
   "source": [
    "## 3. Object Storage\n",
    "\n",
    "In an object storage system we are mapping objects by name to locations\n",
    "using a hash table.\n",
    "Imagine we have a system with ten hard disks (10 locations). We\n",
    "enumerate the location of a file using an index of the hard disk [0..9].\n",
    "\n",
    "Our hash algorithm for placement produces hashes, which are distributed\n",
    "uniform over the value space for a flat input key distribution.\n",
    "We want now to **simulate the behaviour of our hash algorithm without\n",
    "the need to actually compute any hash value.**\n",
    "\n",
    "Instead of using real filenames, which we would hash and map using a\n",
    "hash table to a location (as we did in the exercise), we are ‘computing’ a\n",
    "**location** for ‘any’ file by **generating a random number for the location**\n",
    "in the range [0..9] to assign a file location. To place a file in the storage\n",
    "system we use this random location where the file will be stored and\n",
    "consumes space.\n",
    "\n",
    "Assume each disk has 1TB of space, we have 10TB in total.\n",
    "Place as many files of 10GB size as possible to hard disks choosing\n",
    "random locations until one hard disk is full.\n",
    "Hint: a hard disk is full once you have stored hundred 10GB files.\n",
    "\n",
    "\n",
    "**3.1** Write a program in Python, R or\n",
    "using ROOT, which simulates the\n",
    "placement of 10GB files to random\n",
    "locations and account the used space on\n",
    "each hard disk. Once the first hard disk is\n",
    "full, you stop to place files.\n",
    "Possibly visualise the distribution."
   ]
  },
  {
   "cell_type": "code",
   "execution_count": 9,
   "metadata": {},
   "outputs": [
    {
     "data": {
      "image/png": "[encoded data removed]",
      "text/plain": [
       "<Figure size 576x576 with 1 Axes>"
      ]
     },
     "metadata": {
      "needs_background": "light"
     },
     "output_type": "display_data"
    }
   ],
   "source": [
    "# as suggested, we'll keep 1000 as ratio between different data sizes (MB, GB, TB), instead of 1028...\n",
    "counts = [0]*10\n",
    "x = np.arange(10)\n",
    "np.random.seed(123456)\n",
    "\n",
    "\n",
    "for i in np.random.randint(0,10,1000):\n",
    "    counts[i] += 10\n",
    "    if(counts[i] == 1000):\n",
    "        break\n",
    "        \n",
    "plt.figure(figsize = (8,8))\n",
    "plt.hist(x, bins = range(11), align='left',  weights = counts, alpha = 0.3, color = 'green', \n",
    "         histtype='bar', label = 'Entries per disk [10GB per chunk]', ec='black')\n",
    "plt.xlabel(\"Number of the corresponding disk\")\n",
    "plt.ylabel(\"Used Space[GB]\")\n",
    "plt.legend()\n",
    "plt.xticks(np.arange(0,10))\n",
    "plt.show()"
   ]
  },
  {
   "cell_type": "markdown",
   "metadata": {},
   "source": [
    "**3.1a** How many files did you manage to place?\n",
    "\n",
    "**3.1b** What is the percentage of total used space on all hard disks in the\n",
    "moment the first disk is full?"
   ]
  },
  {
   "cell_type": "code",
   "execution_count": 10,
   "metadata": {},
   "outputs": [
    {
     "name": "stdout",
     "output_type": "stream",
     "text": [
      "The number of files placed: 848\n",
      "The total amount of space available is 10 x 1TB and we have placed 848 x 10GB files. \n",
      "So we have used 8.48TB of the 10TB available. The percentage: 84.8%\n"
     ]
    }
   ],
   "source": [
    "print(f\"The number of files placed: {sum(counts)/10:.0f}\")\n",
    "print(f\"The total amount of space available is 10 x 1TB and we have placed {sum(counts)/10:.0f} x 10GB files.\",\n",
    "      f\"\\nSo we have used {sum(counts)/1000}TB of the 10TB available. The percentage: {sum(counts)/100}%\")"
   ]
  },
  {
   "cell_type": "markdown",
   "metadata": {},
   "source": [
    "**3.2** Repeat the same task placing 1GB files until the first hard disk is full."
   ]
  },
  {
   "cell_type": "code",
   "execution_count": 11,
   "metadata": {},
   "outputs": [
    {
     "data": {
      "image/png": "[encoded data removed]",
      "text/plain": [
       "<Figure size 576x576 with 1 Axes>"
      ]
     },
     "metadata": {
      "needs_background": "light"
     },
     "output_type": "display_data"
    }
   ],
   "source": [
    "#In case of 1GB files, we need to have 1000 files to fill a 1TB disk.\n",
    "counts_1GB = [0]*10\n",
    "np.random.seed(123456)\n",
    "\n",
    "for i in np.random.randint(0,10,10000):\n",
    "    counts_1GB[i] += 1\n",
    "    if(counts_1GB[i] == 1000):\n",
    "        break\n",
    "\n",
    "plt.figure(figsize = (8,8))\n",
    "plt.hist(x, bins = range(11), align='left',  weights = np.array(counts_1GB), alpha = 0.3, color = 'green', \n",
    "         histtype='bar', label = 'Entries per disk [1GB per chunk]', ec='black')\n",
    "plt.xlabel(\"Number of the corresponding disk, 1GB chunks\")\n",
    "plt.ylabel(\"'Entries [1GB per chunk]'\")\n",
    "plt.legend()\n",
    "plt.xticks(np.arange(0,10))\n",
    "plt.show()"
   ]
  },
  {
   "cell_type": "markdown",
   "metadata": {},
   "source": [
    "**3.2a** How many files did you manage to place?\n",
    "\n",
    "**3.2b** What is the percentage of total used space on all hard disks in the\n",
    "moment the first disk is full?"
   ]
  },
  {
   "cell_type": "code",
   "execution_count": 12,
   "metadata": {},
   "outputs": [
    {
     "name": "stdout",
     "output_type": "stream",
     "text": [
      "The number of files placed: 9626\n",
      "The total amount of space available is  10 x 1TB and we have placed 9626 x 1GB files. \n",
      "So we have used 9.626TB of the 10 available. The percentage: 96.26%\n"
     ]
    }
   ],
   "source": [
    "print(f\"The number of files placed: {sum(counts_1GB)}\")\n",
    "print(f\"The total amount of space available is  10 x 1TB and we have placed {sum(counts_1GB)} x 1GB files.\",\n",
    "      f\"\\nSo we have used {sum(counts_1GB)/1000}TB of the 10 available. The percentage: {sum(counts_1GB)/10000*100}%\")\n"
   ]
  },
  {
   "cell_type": "markdown",
   "metadata": {},
   "source": [
    "**3.3** Based on this observation: why do you think object storage typically\n",
    "stores fixed size blocks of 4M and not files of GBs size as a whole?\n",
    "( so called block storage approach )\n",
    "Run the same program for 4M block sizes and demonstrate the benefits"
   ]
  },
  {
   "cell_type": "code",
   "execution_count": 13,
   "metadata": {},
   "outputs": [
    {
     "data": {
      "image/png": "[encoded data removed]",
      "text/plain": [
       "<Figure size 576x576 with 1 Axes>"
      ]
     },
     "metadata": {
      "needs_background": "light"
     },
     "output_type": "display_data"
    }
   ],
   "source": [
    "#250*4MB = 1GB => 1000GB = 1TB\n",
    "counts_4MB = [0]*10\n",
    "np.random.seed(123456)\n",
    "\n",
    "for j in np.random.randint(0,10, 2500000):\n",
    "    counts_4MB[j]+=0.004\n",
    "    if(counts_4MB[j] >= 1000): break \n",
    "            \n",
    "\n",
    "plt.figure(figsize = (8,8))\n",
    "plt.hist(x, bins = range(11), align='left',  weights = np.array(counts_4MB), alpha = 0.3, color = 'green', \n",
    "         histtype='bar', label = 'Entries per disk', ec='black')\n",
    "plt.xlabel(\"Number of the corresponding disk\")\n",
    "plt.ylabel(\"Used space [GB]\")\n",
    "plt.legend()\n",
    "plt.xticks(np.arange(0,10))\n",
    "plt.show()"
   ]
  },
  {
   "cell_type": "code",
   "execution_count": 14,
   "metadata": {},
   "outputs": [
    {
     "name": "stdout",
     "output_type": "stream",
     "text": [
      "The number of files placed: 2494566\n",
      "The total amount of space available is 10 x 1 TB and we have placed 2494566 x 4MB files. \n",
      "So we have used 9.978TB of the 10 available. The percentage: 99.78%\n"
     ]
    }
   ],
   "source": [
    "print(f\"The number of files placed: {sum(counts_4MB)/0.004:.0f}\")\n",
    "print(f\"The total amount of space available is 10 x 1 TB and we have placed {sum(counts_4MB)/0.004:.0f} x 4MB files.\",\n",
    "      f\"\\nSo we have used {sum(counts_4MB)/1000:.3f}TB of the 10 available. The percentage: {sum(counts_4MB)/100:.2f}%\")"
   ]
  },
  {
   "cell_type": "markdown",
   "metadata": {},
   "source": [
    "We can clearly see that with this simple algorithm the space that we manage to fill increases reducing the dimension of the chunks stored, and the distribution of the entries per disk tend to be more and more uniform as we increase the number of random numbers(i.e. file placed) generated.\n",
    "\n",
    "Moreover, some application may need to read small chuncks of data coming from bigger files (ex. last 100 calls to a call center). With this chunk reduction, waiting times are cut by orders of magnitude. \n",
    "\n",
    "In principle, one could split files in smaller and smaller chunks, optimizing the used space (hypothetically down to bits). But also the time to handle each chunk (read/write/send..) has to be considered. 4MB chunks are in most applications a reasonable tradeoff between filling efficiency and handling ease."
   ]
  },
  {
   "cell_type": "markdown",
   "metadata": {},
   "source": [
    "**3.4a** Compute the average used space on all hard disks and the standard\n",
    "deviation for the average used space for 10 GB and 1GB and 4M files.\n",
    "How is the standard deviation correlated to the block size and why?\n",
    "\n",
    "\n",
    "Let's re-run the previous experiment for 100 times and look at the average filled space per 10-disk-set, plotting the distributions and computing means and std_devs."
   ]
  },
  {
   "cell_type": "code",
   "execution_count": 15,
   "metadata": {},
   "outputs": [],
   "source": [
    "k = np.arange(10)\n",
    "results_10GB = []\n",
    "results_1GB = []\n",
    "results_4MB = []\n",
    "np.random.seed(123456)\n",
    "\n",
    "for it in range(100):\n",
    "    \n",
    "    counts = [0]*10\n",
    "    for j in np.random.randint(0,10, 1000):\n",
    "        counts[j]+=1\n",
    "        if(counts[j] == 100): break \n",
    "        \n",
    "    results_10GB.append(sum(counts))\n",
    "    \n",
    "    counts = [0]*10\n",
    "    for j in np.random.randint(0,10, 10000):\n",
    "        counts[j]+=1\n",
    "        if(counts[j] == 1000): break \n",
    "    \n",
    "    results_1GB.append(sum(counts))\n",
    "         \n",
    "    counts = [0]*10\n",
    "    for j in np.random.randint(0,10, 2500000):\n",
    "        counts[j]+=1\n",
    "        if(counts[j] == 250000): break \n",
    "            \n",
    "    results_4MB.append(sum(counts))\n"
   ]
  },
  {
   "cell_type": "code",
   "execution_count": 16,
   "metadata": {},
   "outputs": [
    {
     "name": "stdout",
     "output_type": "stream",
     "text": [
      "Filling percentages - means: 10 GB - 85.37,  1 GB - 94.97,  4 MB - 99.68\n"
     ]
    },
    {
     "data": {
      "image/png": "[encoded data removed]",
      "text/plain": [
       "<Figure size 576x576 with 1 Axes>"
      ]
     },
     "metadata": {
      "needs_background": "light"
     },
     "output_type": "display_data"
    }
   ],
   "source": [
    "results_10GB = np.array(results_10GB)\n",
    "results_1GB = np.array(results_1GB)\n",
    "results_4MB = np.array(results_4MB)\n",
    "\n",
    "m_10 = results_10GB.mean()\n",
    "std_10 = (results_10GB/100).std()\n",
    "\n",
    "m_1  = results_1GB.mean()\n",
    "std_1  = (results_1GB/1000).std()\n",
    "\n",
    "m_4  = results_4MB.mean()\n",
    "std_4  = (results_4MB/25000).std()\n",
    "\n",
    "print(f\"Filling percentages - means: 10 GB - {m_10/10:.2f},  1 GB - {m_1/100:.2f},  4 MB - {m_4/25000:.2f}\")\n",
    "\n",
    "plt.figure(figsize = (8,8))\n",
    "plt.hist(results_10GB/10, alpha = 0.5, label = \"10GB chunks\")\n",
    "plt.hist(results_1GB/100, alpha = 0.5, label = \"1GB chunks\")\n",
    "plt.hist(results_4MB/25000, alpha = 0.5, label = \"4MB chunks\")\n",
    "plt.xlabel(\"Filling percentage\")\n",
    "plt.ylabel(\"Counts\")\n",
    "plt.title(\"Filling percentage by chunk dimension\")\n",
    "plt.legend()\n",
    "plt.axvline(m_10/10, color= 'blue', alpha = 0.3)\n",
    "plt.axvline(m_1/100, color = 'orange', alpha = 0.5)\n",
    "plt.axvline(m_4/25000, color = 'green', alpha = 0.5)\n",
    "\n",
    "plt.show()\n"
   ]
  },
  {
   "cell_type": "code",
   "execution_count": 17,
   "metadata": {},
   "outputs": [
    {
     "data": {
      "image/png": "[encoded data removed]",
      "text/plain": [
       "<Figure size 432x432 with 1 Axes>"
      ]
     },
     "metadata": {
      "needs_background": "light"
     },
     "output_type": "display_data"
    }
   ],
   "source": [
    "size = [4, 1000, 10000]\n",
    "fill_size = [std_4*100, std_1*100, std_10*100]\n",
    "plt.figure(figsize = (6,6))\n",
    "plt.plot(size, fill_size, marker = 'o')\n",
    "plt.title(\"Comparison of stdev varying chunk dimensions\")\n",
    "plt.xlabel(\"Chunk size [MB]\")\n",
    "plt.ylabel(\"Stdev of filling percentage\")\n",
    "plt.show()"
   ]
  },
  {
   "cell_type": "markdown",
   "metadata": {},
   "source": [
    "The standard deviation shrinks dramatically as the dimension of the chunks decreases. This effect is related to the fact that, as shown in the previous histograms, the filling percentage of EACH single disks tends to be uniform as files are smaller. \n",
    "\n",
    "This property leads then the total filling percentage to be constant throughout different sets of disks, and so the final percentage tends to be more reliable and solid.\n",
    "\n",
    "If we were to repeat such task with thousands of disks with such properties, for sure the distribution of the disks filled with bigger chunks will be far from uniform, while reducing the chunks would lead to a flat distribution - again, smaller files are to be preferred in the case in which we stop filling once one single disk is full.\n",
    "\n",
    "Moreover, it's also interesting to consider, in this case, the upper limits of such algorithm. \n",
    "\n",
    "In the case of 10GB scenario, with 10x 1TB disks, the best case scenario is represented by 9 disks with 99 files, and one with 100 ones. \n",
    "\n",
    "The best result for 10GB chunks is 99.1% - Actually lower than the average we get in case of 4MB files! Really poor.\n",
    "\n",
    "In the case of 1GB files, instead, it is 99.91%. \n",
    "\n",
    "In the last 4MB case, 99.9964%!\n",
    "\n",
    "The uniformity of the samples is also related on the ratio between the actual averages we got and the upper limits. In the case of 4MB files we are not far from our best estimate - 0.3%. Increasing the file size increases then variability, and so the actual means are very far from the best estimate. In such cases using a predetermined filling algorithm instead of a random generator may really help!\n"
   ]
  },
  {
   "cell_type": "markdown",
   "metadata": {},
   "source": [
    "**3.4b** If we now repeat such an experiment for many more (thousands) of hard\n",
    "disks, which kind of distribution do you get when you do a histogram of\n",
    "the used space of all hard disks?\n",
    "\n",
    "\n",
    "The distribution is different from the previous one - previously we were looking for the average filling space in the whole 10 sets, and repeating the same experiments for a hundred times. \n",
    "\n",
    "The expected distribution in this case contains some larger tails, as some disk must reach the 100% space filling."
   ]
  },
  {
   "cell_type": "code",
   "execution_count": 18,
   "metadata": {},
   "outputs": [],
   "source": [
    "k = np.arange(10)\n",
    "results_10GB_1000 = []\n",
    "results_1GB_1000 = []\n",
    "results_4MB_1000 = []\n",
    "np.random.seed(123456)\n",
    "    \n",
    "counts = [0]*1000\n",
    "for j in np.random.randint(0, 1000, 1000*100):\n",
    "    counts[j]+=1\n",
    "    if(counts[j] == 100): break \n",
    "\n",
    "results_10GB_1000.append(counts)\n",
    "\n",
    "counts = [0]*1000\n",
    "for j in np.random.randint(0, 1000, 1000*1000):\n",
    "    counts[j]+=1\n",
    "    if(counts[j] == 1000): break \n",
    "\n",
    "results_1GB_1000.append(counts)\n",
    "\n",
    "counts = [0]*1000\n",
    "for j in np.random.randint(0,1000, 1000*250000):\n",
    "    counts[j]+=1\n",
    "    if(counts[j] == 250000): break \n",
    "\n",
    "results_4MB_1000.append(counts)"
   ]
  },
  {
   "cell_type": "code",
   "execution_count": 19,
   "metadata": {},
   "outputs": [
    {
     "data": {
      "image/png": "[encoded data removed]",
      "text/plain": [
       "<Figure size 576x576 with 1 Axes>"
      ]
     },
     "metadata": {
      "needs_background": "light"
     },
     "output_type": "display_data"
    },
    {
     "name": "stdout",
     "output_type": "stream",
     "text": [
      "Filling percentage: mean and std: 10GB - 70.44,  0.08\n",
      "Filling percentage: mean and std: 1GB  - 91.28,  0.03\n",
      "Filling percentage: mean and std: 4MB  - 99.68,  0.01\n"
     ]
    }
   ],
   "source": [
    "results_10GB_1000 = np.array(results_10GB_1000).flatten()\n",
    "results_1GB_1000 = np.array(results_1GB_1000).flatten()\n",
    "results_4MB_1000 = np.array(results_4MB_1000).flatten()\n",
    "\n",
    "m_10 = results_10GB_1000.mean()\n",
    "std_10 = (results_10GB_1000/100).std()\n",
    "\n",
    "m_1  = results_1GB_1000.mean()\n",
    "std_1  = (results_1GB_1000/1000).std()\n",
    "\n",
    "m_4  = results_4MB.mean()\n",
    "std_4  = (results_4MB/250000).std()\n",
    "\n",
    "\n",
    "plt.figure(figsize = (8,8))\n",
    "plt.hist(results_10GB_1000/100, alpha = 0.5, label = \"10GB chunks\")\n",
    "plt.hist(results_1GB_1000/1000, alpha = 0.5, label = \"1GB chunks\")\n",
    "plt.hist(results_4MB_1000/250000, alpha = 0.5, label = \"4MB chunks\")\n",
    "\n",
    "plt.xlabel(\"Filling percentage per disk\")\n",
    "plt.ylabel(\"Counts\")\n",
    "plt.title(\"Filling percentage per disk by chunk dimension\")\n",
    "plt.legend(loc = 1)\n",
    "plt.axvline(m_10/100, color= 'blue', alpha = 0.3)\n",
    "plt.axvline(m_1/1000, color = 'orange', alpha = 0.5)\n",
    "plt.axvline(m_4/2500000, color = 'green', alpha = 0.5)\n",
    "\n",
    "plt.show()\n",
    "\n",
    "\n",
    "print(f\"Filling percentage: mean and std: 10GB - {m_10:.2f},  {std_10:.2f}\")\n",
    "print(f\"Filling percentage: mean and std: 1GB  - {m_1/10:.2f},  {std_1:.2f}\")\n",
    "print(f\"Filling percentage: mean and std: 4MB  - {m_4/25000:.2f},  {std_4:.2f}\")"
   ]
  },
  {
   "cell_type": "markdown",
   "metadata": {},
   "source": [
    "As can be also seen from the graph, the usage of 4MB files still brings major advantages in terms of filling capacity. Moreover, the stadard deviation of the 4MB distribution is really small - all disk are almost equally filled and the algorithm used shows a very high efficiency. "
   ]
  },
  {
   "cell_type": "markdown",
   "metadata": {},
   "source": [
    "## 4. Rest APIs & Block Chain Technology\n",
    "\n",
    "### I have two usernames - CANE (which means \"dog\" in italian, my usual one online), and LorenzoDomenichetti\n",
    "\n",
    "Under https://pansophy.app:8443 you find a (hopefully running) Crypto\n",
    "Coin Server exporting a simple Block Chain.\n",
    "You can open this URL in any web browser to see the current Block Chain\n",
    "status and the account information. At the time of writing the initial birth\n",
    "account of the Block Chain contained 1M coins ( “genesis” : 1000000 ). \n",
    "\n",
    "The REST responses are given in JSON format. Our REST API uses\n",
    "secure HTTP protocol and it is based on two HTTP methods:\n",
    "\n",
    "GET\n",
    "\n",
    "POST\n",
    "\n",
    "GET requests are used, to retrieve any kind of information, POST requests\n",
    "are used to change state in the server.The task is to implement a client and use a simple REST API to submit\n",
    "transactions to the Block Chain. Your goal is to book coins from other\n",
    "people’s accounts to your own account.\n",
    "The server implements a Proof Of Time algorithm. To add a transaction to\n",
    "move coins to your account, you have to submit a merit request and you\n",
    "have to let time pass before you can send a claim request to execute your\n",
    "transaction on the Block Chain. If you claim your transaction too fast after\n",
    "a merit request, your request is discarded. The server enforces a Proof Of\n",
    "Time of a minimum of 10 seconds!\n",
    "\n",
    "\n",
    "**4.1.1** Use the REST API and the curl command to transfer coins of the\n",
    "genesis or any other account on your own team account.\n",
    "\n",
    "You can use the -d option to POST a document. You have to indicate in your request, that\n",
    "the content type of the document is JSON. To do this you can add an\n",
    "HTTP header for this command\n",
    "curl … -H ”Content-Type: application/json” …\n",
    "\n",
    "\n",
    "If you prefer, you can use a Python program, doing the same HTTPS\n",
    "requests respecting Proof of Time. If you want to have some more fun,\n",
    "you can also load the current state into your Python script using GET\n",
    "requests and programatically steal from accounts which are reported. Be\n",
    "aware, that you can never steal the last coin of an account and if at the\n",
    "time of a claim there are not enough coins left on an account, your\n",
    "transaction is discarded. \n",
    "\n",
    "\n",
    "To you will have to add at least one successful transaction to the Block\n",
    "Chain.\n"
   ]
  },
  {
   "cell_type": "code",
   "execution_count": 20,
   "metadata": {},
   "outputs": [
    {
     "name": "stdout",
     "output_type": "stream",
     "text": [
      "The pastebin URL is:{\"msg\": \"accepted\"}\n",
      "The pastebin URL is:{\"msg\": \"request claimed\"}\n"
     ]
    }
   ],
   "source": [
    "# defining the api-endpoint \n",
    "API = \"https://pansophy.app:8443/\"\n",
    "\n",
    "# data to be sent to api\n",
    "\n",
    "data_merit = {\n",
    "    \"operation\": \"merit\",\n",
    "    \"team\": \"LorenzoDomenichetti\",\n",
    "    \"coin\": 1,\n",
    "    \"stealfrom\": \"CANE\"\n",
    "\n",
    "}\n",
    "\n",
    "data_claim= {\n",
    "    \"operation\": \"claim\",\n",
    "    \"team\": \"LorenzoDomenichetti\",\n",
    "\n",
    "}\n",
    "    \n",
    "\n",
    "# sending post request and saving response as response object\n",
    "r = requests.post(url = API, json = data_merit, verify = False)\n",
    "\n",
    "# extracting response text \n",
    "pastebin_url = r.text\n",
    "print(\"The pastebin URL is:%s\"%pastebin_url)\n",
    "\n",
    "\n",
    "time.sleep(10)\n",
    "\n",
    "# sending post request and saving response as response object\n",
    "r = requests.post(url = API, json = data_claim, verify = False)\n",
    "\n",
    "\n",
    "# extracting response text \n",
    "pastebin_url = r.text\n",
    "print(\"The pastebin URL is:%s\"%pastebin_url)\n"
   ]
  },
  {
   "cell_type": "code",
   "execution_count": 21,
   "metadata": {
    "scrolled": true
   },
   "outputs": [],
   "source": [
    "#AUTOMATIC STEALING ALGORITHM.\n",
    "#ONE GET REQUEST PER CYCLE, THAN RUN OVER ALL ACCOUNTS STEALING 1k COINS PER CLAIM. \n",
    "while(1):\n",
    "    \n",
    "    break #comment this line for starting automatic steal!\n",
    "    \n",
    "    data = requests.get(url = \"https://pansophy.app:8443/\", verify = False)\n",
    "\n",
    "    data = data.json()\n",
    "\n",
    "    API = \"https://pansophy.app:8443/\"\n",
    "\n",
    "    for accounts in data['accounts'].items():\n",
    "\n",
    "        if(accounts[0] == 'CANE'): continue\n",
    "        money = accounts[1]\n",
    "\n",
    "        for it in range(int(accounts[1]/1000)+1):\n",
    "            if(money == 1): continue\n",
    "            if(money<=1000):\n",
    "                data_merit = {\n",
    "                    \"operation\": \"merit\",\n",
    "                    \"team\": \"CANE\",\n",
    "                    \"coin\": money-1,\n",
    "                    \"stealfrom\": accounts[0]\n",
    "                }\n",
    "            else: \n",
    "                data_merit = {\n",
    "                    \"operation\": \"merit\",\n",
    "                    \"team\": \"CANE\",\n",
    "                    \"coin\": 1000,\n",
    "                    \"stealfrom\": accounts[0]\n",
    "                }\n",
    "\n",
    "\n",
    "            data_claim= {\n",
    "                \"operation\": \"claim\",\n",
    "                \"team\": \"CANE\",\n",
    "            }\n",
    "\n",
    "\n",
    "            print(accounts[1], it, money )\n",
    "            print(data_merit)\n",
    "\n",
    "            # sending post request and saving response as response object\n",
    "            r = requests.post(url = API, json = data_merit, verify = False)\n",
    "\n",
    "            # extracting response text \n",
    "            pastebin_url = r.text\n",
    "            print(\"The pastebin URL is:%s\"%pastebin_url)\n",
    "\n",
    "\n",
    "            time.sleep(10)\n",
    "\n",
    "            # sending post request and saving response as response object\n",
    "            r = requests.post(url = API, json = data_claim, verify = False)\n",
    "\n",
    "\n",
    "            # extracting response text \n",
    "            pastebin_url = r.text\n",
    "            print(\"The pastebin URL is:%s\"%pastebin_url)\n",
    "\n",
    "\n",
    "            money = money - 1000\n"
   ]
  },
  {
   "cell_type": "markdown",
   "metadata": {},
   "source": [
    "**4.2**  What is the maximum number of transactions one given team can\n",
    "add to the Block Chain in one day?\n",
    "\n",
    "\n",
    "8640! As in a day there are 86400 seconds and we can only send one claim successfully every 10s. \n",
    "\n",
    "\n",
    "**4.2.1** Explain what this function does and why is this ‘the key’ for Block\n",
    "Chain technology?\n",
    "\n",
    "\n"
   ]
  },
  {
   "cell_type": "code",
   "execution_count": null,
   "metadata": {},
   "outputs": [],
   "source": [
    "def calculate_hash(self):\n",
    "block_of_string = “{}{}{}{}{}”.format( self.index,\n",
    "self.team,\n",
    "self.prev_hash,\n",
    "self.coins,\n",
    "self.timestamp)\n",
    "self.my_hash =\n",
    "hashlib.sha256(block_of_string.encode()).hexdigest()\n",
    "return self.my_hash"
   ]
  },
  {
   "cell_type": "markdown",
   "metadata": {},
   "source": [
    "This function computes the hash of the current block in the blockchain, given the information contained in the block itself (team, coins, timestamp, index) AND the previous valid hash. It basically concatenates the information inside a string and then hashed it through the SHA-256 algorithm, returning a 256bit string containing all the information of the considered block. \n",
    "\n",
    "It is truly the key of the blockchain as every block is concatenated usign the same procedure, and of course each of them have to be consistent with the previous one in order to be properly attached to the chain. \n",
    "Infact, if one tries to hack any block of the chain (in principle), then the neighbouring blocks will have inconsistent hashes, breaking the whole chain.\n",
    "\n",
    "**4.2.2** If you have the knowledge of the hash function, how can you\n",
    "validate the contents of the Block Chain you received using a GET request\n",
    "to make sure, nobody has tampered with it? You don’t need to implement it! Explain the algorithm to validate a Block Chain!\n",
    "\n",
    "As each block is related to the previous one, it is possible to check if all blocks are coherent with the previous one.\n",
    "\n",
    "* As the index feature counts the position of each block, we may want to check weather the next block has index = prev_index+1\n",
    "\n",
    "* Each block contains the hash of the previous one, so it is possibile to check that the two actually are equal.\n",
    "\n",
    "* One last check can be done asking that the timestamp of the considered block is greater than the timestamp of the previous one. \n",
    "\n",
    "IF all these requirement are satisfied (at least in this simple case) for each block of the received chain, we may then conclude that the chain has not been tampered.\n",
    "\n",
    "**OBS**: these are the steps computed in the hands-on session. More advanced settings can be then added to make the chain even more secure. (For example the proof_no feature, which was implemented in our example, which would  try to prevent users from mining blocks easily). \n",
    "\n",
    "\n",
    "\n",
    "\n",
    "**4.2.3** Why might the GET REST API run into scalability problems?\n",
    "Express the scalability behaviour of execution times of GET and POST\n",
    "requests in Big O notation in relation to the number of transactions\n",
    "recorded in the Block Chain! Draw execution time vs transactions for GET\n",
    "and POST requests.\n",
    "\n",
    "We may now assume that THE time the GET request takes is constant for each block in the chain, so it may scale as O(N) for big values of N. On the other hand, posting a request requires only the knowledge of the last hash. This may lead us to believe the POST time to be constant, so independent from the dimension of the chain - in bigO notation O(1). \n"
   ]
  },
  {
   "cell_type": "code",
   "execution_count": 22,
   "metadata": {},
   "outputs": [
    {
     "data": {
      "image/png": "[encoded data removed]",
      "text/plain": [
       "<Figure size 576x576 with 1 Axes>"
      ]
     },
     "metadata": {
      "needs_background": "light"
     },
     "output_type": "display_data"
    }
   ],
   "source": [
    "plt.figure(figsize= (8,8))\n",
    "plt.plot(np.array(range(50))+1, label = 'GET Response Time', c = 'red')\n",
    "plt.plot(np.repeat(1,50), label = 'POST Response Time', c = 'green')\n",
    "plt.xlabel(\"Chain dimension\")\n",
    "plt.ylabel(\"Response time\")\n",
    "plt.title(\"Response time for GET and POST Requests\")\n",
    "plt.legend()\n",
    "plt.show()"
   ]
  },
  {
   "cell_type": "markdown",
   "metadata": {},
   "source": [
    "**4.2.4** If the Crypto server goes down, the way it is implemented it loses the\n",
    "current account balances. How can the server recompute the account\n",
    "balances after a restart from the saved Block Chain?\n",
    "\n",
    "If the server goes down and loses the balances, the simplest way to recover the balances is to start reading the chain again from bottom to top, so starting from the first genesis block up to the last executed transaction.\n",
    "\n",
    "**4.2.5** What are the advantages of using a REST API and JSON in a\n",
    "client-server architecture? What are possible disadvantages?\n",
    "\n",
    "\n",
    "\n",
    "**Advantages:**\n",
    "\n",
    "\n",
    "REST API is easy to understand and learn. Moreover, thanks to this user-friendly library \"requests\", the usage is super-easy also in python. \n",
    "\n",
    "With the possibility to caching and using HTTP proxy, high loads can be efficiently managed. \n",
    "\n",
    "Users can exploit standard HTTP procedure call-outs to retrieve data and requests.\n",
    " \n",
    "Brings flexibility formats by serializing data in JSON format.\n",
    "\n",
    "Allows Standard-based protection with the use of OAuth protocols to verify your REST requests.\n",
    "\n",
    "**Disadvantages:**\n",
    "\n",
    "Lack of state: most web applications require stateful mechanisms.\n",
    "The burden of maintaining the state lies on the client, which makes the client application heavy and difficult to maintain.\n",
    "\n",
    "Last of security: REST doest impose security such as other APIs. That is the reason REST is appropriate for public URLs, but it is not good for confidential data passage between client and server.\n",
    "\n",
    "\n",
    "In general, RESI APIs reduce complexity and lets users handle resources with ease and few operations. \n",
    "\n",
    "<!---Honestly, I looked for some hints on the web. Here are the references: \n",
    "\n",
    "https://krify.co/advantages-and-disadvantages-of-rest-api/\n",
    "\n",
    "\n",
    "https://www.infoq.com/news/2013/05/rest-drawbacks/ (drawbacks - state and security) -->\n"
   ]
  }
 ],
 "metadata": {
  "kernelspec": {
   "display_name": "Python 3",
   "language": "python",
   "name": "python3"
  },
  "language_info": {
   "codemirror_mode": {
    "name": "ipython",
    "version": 3
   },
   "file_extension": ".py",
   "mimetype": "text/x-python",
   "name": "python",
   "nbconvert_exporter": "python",
   "pygments_lexer": "ipython3",
   "version": "3.8.5"
  }
 },
 "nbformat": 4,
 "nbformat_minor": 4
}
