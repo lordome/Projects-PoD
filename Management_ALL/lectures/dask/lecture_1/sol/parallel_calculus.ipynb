{
 "cells": [
  {
   "cell_type": "markdown",
   "metadata": {},
   "source": [
    "# Parallelize code with DASK"
   ]
  },
  {
   "cell_type": "markdown",
   "metadata": {},
   "source": [
    "### Why parallelize your code? \n",
    "Nowadays even a simple desktop computer has more than one CPU (~4 to 8).\n",
    "The presence of multiple CPUs allows to execute more than one instruction per time. This concept is called *Parallelization*.\n",
    "The parallelization of the instructions allows us to work faster and to use and exploit all the power of modern computers.\n",
    "\n",
    "The parallelization is the concept behind the Clusters and distributed computations.\n",
    "While the parallelization of the source code of the applications is the first step to work with long or/and complex computations that can be concurrently executed, the clustering and distributed calculos are necessary steps to deal with large amount of data (*Big Data*) and to work with more complex computations."
   ]
  },
  {
   "cell_type": "markdown",
   "metadata": {},
   "source": [
    "### Basics\n",
    "\n",
    "First let's make some simple functions, *increment* and *add*, that sleep for a while to simulate work. We'll then time run these functions normally.\n"
   ]
  },
  {
   "cell_type": "code",
   "execution_count": 1,
   "metadata": {},
   "outputs": [],
   "source": [
    "from time import sleep\n",
    "\n",
    "\n",
    "def increment(x):\n",
    "    \"\"\"\n",
    "    take a number x and return x+1\n",
    "    sleep for 1s\n",
    "    \"\"\"\n",
    "    sleep(1)\n",
    "    return x + 1\n",
    "\n",
    "def add(x, y):\n",
    "    \"\"\"\n",
    "    sum y to x and return the result\n",
    "    sleep for 1s\n",
    "    \"\"\"\n",
    "    sleep(1)\n",
    "    return x + y"
   ]
  },
  {
   "cell_type": "markdown",
   "metadata": {},
   "source": [
    "Now let's run a simple snippet that uses those function and see how long it takes."
   ]
  },
  {
   "cell_type": "code",
   "execution_count": 2,
   "metadata": {},
   "outputs": [
    {
     "name": "stdout",
     "output_type": "stream",
     "text": [
      "CPU times: user 1.47 ms, sys: 147 µs, total: 1.62 ms\n",
      "Wall time: 3 s\n"
     ]
    }
   ],
   "source": [
    "%%time\n",
    "\n",
    "x = increment(1)\n",
    "y = increment(2)\n",
    "z = add(x, y)"
   ]
  },
  {
   "cell_type": "markdown",
   "metadata": {},
   "source": [
    "This takes three seconds to run because we call each function sequentially. This means that the x value is computed as first, y as second and z as third. Each instrucion is executed after the previous one."
   ]
  },
  {
   "cell_type": "markdown",
   "metadata": {},
   "source": [
    "### Parallelize the computation"
   ]
  },
  {
   "cell_type": "markdown",
   "metadata": {},
   "source": [
    "In this step we parallelizze the execution of the *increment* function. This operation is performed by wrapping the invokation of the function with the *dask.delayed* function. This allows us to prepare the parallelization of the program execution without in fact executing the computation.\n",
    "\n",
    "The invokation returns the *delayed object*, which is a placeholder of the original computation. Up until the *z.compute()* instruction, the code runs instantaneously without actually doing anything.\n",
    "\n",
    "let's try:\n"
   ]
  },
  {
   "cell_type": "code",
   "execution_count": 3,
   "metadata": {},
   "outputs": [
    {
     "name": "stdout",
     "output_type": "stream",
     "text": [
      "CPU times: user 57.8 ms, sys: 7.79 ms, total: 65.6 ms\n",
      "Wall time: 63.4 ms\n"
     ]
    }
   ],
   "source": [
    "%%time\n",
    "\n",
    "# the delayed function takes several arguments. the first argument is the function that has to be executed in parallel.\n",
    "# the following arguments are the arguments of the original function.\n",
    "from dask import delayed\n",
    "\n",
    "x = delayed(increment)(1)\n",
    "y = delayed(increment)(2)\n",
    "z = delayed(add)(x, y)"
   ]
  },
  {
   "cell_type": "code",
   "execution_count": 4,
   "metadata": {},
   "outputs": [
    {
     "name": "stdout",
     "output_type": "stream",
     "text": [
      "CPU times: user 8.76 ms, sys: 64 µs, total: 8.82 ms\n",
      "Wall time: 2.01 s\n"
     ]
    },
    {
     "data": {
      "text/plain": [
       "5"
      ]
     },
     "execution_count": 4,
     "metadata": {},
     "output_type": "execute_result"
    }
   ],
   "source": [
    "%%time\n",
    "\n",
    "z.compute() "
   ]
  },
  {
   "cell_type": "markdown",
   "metadata": {},
   "source": [
    "As we can see, the total execution time of paralellized code is 2.0s while the execution time of the non-parallelized code is 3.0. \n",
    "\n",
    "The parallelized version has been 1 second faster because some instrutions have been executed concurrently. Let's see what happened."
   ]
  },
  {
   "cell_type": "code",
   "execution_count": 5,
   "metadata": {
    "scrolled": true
   },
   "outputs": [
    {
     "data": {
      "image/png": "[encoded data removed]",
      "text/plain": [
       "<IPython.core.display.Image object>"
      ]
     },
     "execution_count": 5,
     "metadata": {},
     "output_type": "execute_result"
    }
   ],
   "source": [
    "z.visualize()"
   ]
  },
  {
   "cell_type": "markdown",
   "metadata": {},
   "source": [
    "As we can see from the computation graph, the two invokations of the *increment* function have been computed \n",
    "in parallel."
   ]
  },
  {
   "cell_type": "markdown",
   "metadata": {},
   "source": [
    "### Exercise 1: Parallelize a for loop"
   ]
  },
  {
   "cell_type": "markdown",
   "metadata": {},
   "source": [
    "Let's try a parallelize a for loop.\n",
    "\n",
    "The exercise consist in reading some numbers from a source by incrementing them and then by put them on a new source. At the end all the new numbers must to be sum.\n"
   ]
  },
  {
   "cell_type": "code",
   "execution_count": 6,
   "metadata": {},
   "outputs": [],
   "source": [
    "def increment(x):\n",
    "    sleep(1)\n",
    "    return x + 1\n",
    "\n",
    "data = [1, 2, 3, 4, 5, 6, 7, 8]"
   ]
  },
  {
   "cell_type": "markdown",
   "metadata": {},
   "source": [
    "\n",
    "Let's see the source of non-parallelize code:"
   ]
  },
  {
   "cell_type": "code",
   "execution_count": 7,
   "metadata": {},
   "outputs": [
    {
     "name": "stdout",
     "output_type": "stream",
     "text": [
      "After computing : 44\n",
      "Computation took 8s\n"
     ]
    }
   ],
   "source": [
    "import time\n",
    "start = time.time()\n",
    "# Sequential code\n",
    "\n",
    "results = []\n",
    "for x in data:\n",
    "    y = increment(x)\n",
    "    results.append(y)\n",
    "    \n",
    "result = sum(results)\n",
    "end = time.time()\n",
    "print(\"After computing : {}\".format(result))\n",
    "print(\"Computation took {}s\".format(round(end-start), 2))"
   ]
  },
  {
   "cell_type": "markdown",
   "metadata": {},
   "source": [
    "Here there is the partial code of the parallelized code, fill the blank spaces by yourself.\n"
   ]
  },
  {
   "cell_type": "code",
   "execution_count": 8,
   "metadata": {},
   "outputs": [
    {
     "name": "stdout",
     "output_type": "stream",
     "text": [
      "After computing : 44\n",
      "Computation took 1s\n"
     ]
    }
   ],
   "source": [
    "import time\n",
    "start = time.time()\n",
    "\n",
    "results = []\n",
    "\n",
    "for x in data:\n",
    "    y =  delayed(increment)(x) # put your code here.\n",
    "    results.append(y)\n",
    "    \n",
    "total = delayed(sum)(results)  #put your code here. \n",
    "result = total.compute()\n",
    "end = time.time()\n",
    "print(\"After computing : {}\".format(result))\n",
    "print(\"Computation took {}s\".format(round(end-start), 2))"
   ]
  },
  {
   "cell_type": "markdown",
   "metadata": {},
   "source": [
    "### Exercise2 : Parallelizing a for-loop code with control flow\n"
   ]
  },
  {
   "cell_type": "markdown",
   "metadata": {},
   "source": [
    "This exercise is quite similar to the first one.\n",
    "\n",
    "The exercise consist in reading some numbers from a source by checking if the current number is even or odd throught the usage of ```is_even``` function . If the number is even it must be doubled by using function ```double```, otherwise it must be increment by using function ```increment```. Once the number has been processed in the right way it must be put on a new source. At the end all the new numbers must to be sum.\n"
   ]
  },
  {
   "cell_type": "code",
   "execution_count": 9,
   "metadata": {},
   "outputs": [],
   "source": [
    "def double(x):\n",
    "    sleep(1)\n",
    "    return 2 * x\n",
    "\n",
    "def is_even(x):\n",
    "    return not x % 2\n",
    "\n",
    "def increment(x):\n",
    "    sleep(1)\n",
    "    return x + 1\n",
    "\n",
    "data = [1, 2, 3, 4, 5, 6, 7, 8, 9, 10]"
   ]
  },
  {
   "cell_type": "markdown",
   "metadata": {},
   "source": [
    "\n",
    "Let's see the source of non-parallelize code:"
   ]
  },
  {
   "cell_type": "code",
   "execution_count": 10,
   "metadata": {},
   "outputs": [
    {
     "name": "stdout",
     "output_type": "stream",
     "text": [
      "After computing : 90\n",
      "Computation took 10s\n"
     ]
    }
   ],
   "source": [
    "import time\n",
    "start = time.time()\n",
    "\n",
    "# Sequential code\n",
    "\n",
    "results = []\n",
    "for x in data:\n",
    "    if is_even(x):\n",
    "        y = double(x)\n",
    "    else:\n",
    "        y = increment(x)\n",
    "    results.append(y)\n",
    "    \n",
    "result = sum(results)\n",
    "end = time.time()\n",
    "print(\"After computing :\", result)\n",
    "print(\"Computation took {}s\".format(round(end-start), 2))"
   ]
  },
  {
   "cell_type": "markdown",
   "metadata": {},
   "source": [
    "try to parallelize:"
   ]
  },
  {
   "cell_type": "code",
   "execution_count": 11,
   "metadata": {},
   "outputs": [
    {
     "name": "stdout",
     "output_type": "stream",
     "text": [
      "After computing : 90\n",
      "Computation took 1s\n"
     ]
    }
   ],
   "source": [
    "import time\n",
    "start = time.time()\n",
    "results = []\n",
    "for x in data:\n",
    "    if is_even(x):  # even\n",
    "        y =  delayed(double)(x) \n",
    "    else:          # odd\n",
    "        y = delayed(increment)(x) \n",
    "    results.append(y)\n",
    "    \n",
    "total = delayed(sum)(results) \n",
    "result = total.compute()\n",
    "end = time.time()\n",
    "print(\"After computing :\", result)\n",
    "print(\"Computation took {}s\".format(round(end-start), 2))"
   ]
  },
  {
   "cell_type": "markdown",
   "metadata": {},
   "source": [
    "### Exercise 3: Sum reduction on a tree\n",
    "\n",
    "This exercise is an example of a non-trivial algorithm, consider the classic tree reduction. \n",
    "Here there is a schema on wath you have to do:\n",
    "\n",
    "```\n",
    "finish           total             single output\n",
    "    ^          /        \\\n",
    "    |        c1          c2        neighbors merge\n",
    "    |       /  \\        /  \\\n",
    "    |     b1    b2    b3    b4     neighbors merge\n",
    "    ^    / \\   / \\   / \\   / \\\n",
    "start   a1 a2 a3 a4 a5 a6 a7 a8    many inputs\n",
    "```"
   ]
  },
  {
   "cell_type": "markdown",
   "metadata": {},
   "source": [
    "Here there is a \"simple\" algorithm with nested for loop and a bit of normal Python logic."
   ]
  },
  {
   "cell_type": "code",
   "execution_count": 12,
   "metadata": {},
   "outputs": [
    {
     "name": "stdout",
     "output_type": "stream",
     "text": [
      "44\n",
      "Computation took 7s\n"
     ]
    }
   ],
   "source": [
    "import time\n",
    "\n",
    "start = time.time()\n",
    "L = [1, 3, 4, 5, 6, 7, 8, 10]\n",
    "\n",
    "\n",
    "while len(L) > 1:\n",
    "    new_L = []\n",
    "    for i in range(0, len(L), 2):\n",
    "        lazy = add(L[i], L[i + 1])  # add neighbors\n",
    "        new_L.append(lazy)\n",
    "    L = new_L \n",
    "    \n",
    "print(L[0])\n",
    "end = time.time()\n",
    "print(\"Computation took {}s\".format(round(end-start), 2))"
   ]
  },
  {
   "cell_type": "markdown",
   "metadata": {},
   "source": [
    "Try to parallelize the algorithm:"
   ]
  },
  {
   "cell_type": "code",
   "execution_count": 15,
   "metadata": {},
   "outputs": [
    {
     "data": {
      "image/png": "[encoded data removed]",
      "text/plain": [
       "<IPython.core.display.Image object>"
      ]
     },
     "metadata": {},
     "output_type": "display_data"
    }
   ],
   "source": [
    "import time\n",
    "\n",
    "start = time.time()\n",
    "\n",
    "L = [1, 3, 4, 5, 6, 7, 8, 10]\n",
    "result = None\n",
    "while len(L) > 1:\n",
    "    new_L = []\n",
    "    for i in range(0, len(L), 2):\n",
    "        lazy = delayed(add)(L[i], L[i + 1])\n",
    "        new_L.append(lazy)\n",
    "    L = new_L \n",
    "display(L[0].visualize())\n"
   ]
  },
  {
   "cell_type": "markdown",
   "metadata": {},
   "source": [
    "Modify the previous code in oder to visualize the computation graph"
   ]
  },
  {
   "cell_type": "code",
   "execution_count": 16,
   "metadata": {},
   "outputs": [
    {
     "name": "stdout",
     "output_type": "stream",
     "text": [
      "44\n",
      "Computation took 3s\n"
     ]
    }
   ],
   "source": [
    "import time\n",
    "\n",
    "start = time.time()\n",
    "\n",
    "L = [1, 3, 4, 5, 6, 7, 8, 10]\n",
    "result = None\n",
    "while len(L) > 1:\n",
    "    new_L = []\n",
    "    for i in range(0, len(L), 2):\n",
    "        lazy = delayed(add)(L[i], L[i + 1])  # put your code here\n",
    "        new_L.append(lazy)\n",
    "    L = new_L \n",
    "L[0].visualize()\n",
    "print(L[0].compute()) \n",
    "end = time.time()\n",
    "print(\"Computation took {}s\".format(round(end-start), 2))"
   ]
  },
  {
   "cell_type": "markdown",
   "metadata": {},
   "source": [
    "### Exercise 4: Monte Carlo Integration... What is happening??"
   ]
  },
  {
   "cell_type": "code",
   "execution_count": 17,
   "metadata": {},
   "outputs": [],
   "source": [
    "import numpy as np\n",
    "\n",
    "def f(x):\n",
    "    return (np.sin(1/(x*(2-x))))**2\n"
   ]
  },
  {
   "cell_type": "markdown",
   "metadata": {},
   "source": [
    "Let's see the normal code"
   ]
  },
  {
   "cell_type": "code",
   "execution_count": 18,
   "metadata": {},
   "outputs": [
    {
     "name": "stdout",
     "output_type": "stream",
     "text": [
      "1.450827\n",
      "Computation took 4s\n"
     ]
    }
   ],
   "source": [
    "import time\n",
    "\n",
    "start = time.time()\n",
    "\n",
    "# Monte Carlo integration\n",
    "N=2000000\n",
    "count=[]\n",
    "def get_value():\n",
    "    x=2*np.random.random()\n",
    "    y=np.random.random()\n",
    "    if y<f(x): \n",
    "        return 1\n",
    "    else:\n",
    "        return 0\n",
    "        \n",
    "for i in range(N):\n",
    "    count.append(get_value())\n",
    "    \n",
    "I=2*sum(count)/N\n",
    "print(I)\n",
    "end = time.time()\n",
    "print(\"Computation took {}s\".format(round(end-start), 2))\n"
   ]
  },
  {
   "cell_type": "code",
   "execution_count": 22,
   "metadata": {},
   "outputs": [
    {
     "name": "stderr",
     "output_type": "stream",
     "text": [
      "dot: graph is too large for cairo-renderer bitmaps. Scaling by 0.0341328 to fit\n"
     ]
    },
    {
     "name": "stdout",
     "output_type": "stream",
     "text": [
      "1.4474\n",
      "Computation took 29s\n"
     ]
    }
   ],
   "source": [
    "import time\n",
    "\n",
    "start = time.time()\n",
    "\n",
    "# Monte Carlo integration\n",
    "N=10000\n",
    "count=[]\n",
    "def get_value():\n",
    "    x=2*np.random.random()\n",
    "    y=np.random.random()\n",
    "    if y<f(x): \n",
    "        return 1\n",
    "    else:\n",
    "        return 0\n",
    "        \n",
    "for i in range(N):\n",
    "    count.append(delayed(get_value())) ## put your code here\n",
    "\n",
    "real_count = delayed(sum)(count)     ##put your code here\n",
    "real_count.visualize()\n",
    "I=2*real_count.compute()/N\n",
    "print(I)\n",
    "end = time.time()\n",
    "print(\"Computation took {}s\".format(round(end-start), 2))\n"
   ]
  },
  {
   "cell_type": "markdown",
   "metadata": {},
   "source": [
    "Try to visualize the graph"
   ]
  },
  {
   "cell_type": "code",
   "execution_count": 23,
   "metadata": {},
   "outputs": [
    {
     "data": {
      "image/png": "[encoded data removed]",
      "text/plain": [
       "<IPython.core.display.Image object>"
      ]
     },
     "metadata": {},
     "output_type": "display_data"
    }
   ],
   "source": [
    "import time\n",
    "\n",
    "start = time.time()\n",
    "\n",
    "# Monte Carlo integration\n",
    "N=10\n",
    "count=[]\n",
    "def get_value():\n",
    "    x=2*np.random.random()\n",
    "    y=np.random.random()\n",
    "    if y<f(x): \n",
    "        return 1\n",
    "    else:\n",
    "        return 0\n",
    "        \n",
    "for i in range(N):\n",
    "    count.append(delayed(get_value())) \n",
    "\n",
    "real_count = delayed(sum)(count)  \n",
    "display(real_count.visualize()) \n"
   ]
  },
  {
   "cell_type": "code",
   "execution_count": null,
   "metadata": {},
   "outputs": [],
   "source": []
  }
 ],
 "metadata": {
  "kernelspec": {
   "display_name": "Python 3",
   "language": "python",
   "name": "python3"
  },
  "language_info": {
   "codemirror_mode": {
    "name": "ipython",
    "version": 3
   },
   "file_extension": ".py",
   "mimetype": "text/x-python",
   "name": "python",
   "nbconvert_exporter": "python",
   "pygments_lexer": "ipython3",
   "version": "3.6.9"
  }
 },
 "nbformat": 4,
 "nbformat_minor": 4
}
