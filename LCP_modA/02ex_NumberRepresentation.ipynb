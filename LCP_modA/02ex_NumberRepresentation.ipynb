{
 "cells": [
  {
   "cell_type": "markdown",
   "metadata": {},
   "source": [
    "1\\. Write a function that converts number representation (bin<->dec<->hex)"
   ]
  },
  {
   "cell_type": "code",
   "execution_count": 2,
   "metadata": {},
   "outputs": [
    {
     "output_type": "stream",
     "name": "stdout",
     "text": [
      "17\n00000011\n"
     ]
    }
   ],
   "source": [
    "def convert(x, type):\n",
    "\n",
    "    conv = 0\n",
    "    if type == \"bin_toint\": \n",
    "        conv = int(x, 2)\n",
    "    if type == \"int_tobin\": \n",
    "        conv = f'{x:08b}' #more intuitive binary rep.\n",
    "        #conv = bin(x)\n",
    "    if type == \"int_tohex\": \n",
    "        conv = f'{x:08x}' #more intuitive (look at the last digits)\n",
    "        #conv = hex(x)\n",
    "    if type == \"hex_toint\": \n",
    "        conv = int(x, 16)\n",
    "    return conv\n",
    "x = 17\n",
    "print(x)\n",
    "print(convert(x, \"int_tohex\"))\n",
    "\n"
   ]
  },
  {
   "cell_type": "markdown",
   "metadata": {},
   "source": [
    "2\\. Write a function that converts a 32 bit word into a single precision floating point (i.e. interprets the various bits as sign, mantissa and exponent)"
   ]
  },
  {
   "cell_type": "code",
   "execution_count": 8,
   "metadata": {},
   "outputs": [
    {
     "output_type": "stream",
     "name": "stdout",
     "text": [
      "Float representation of x = 126.0\n"
     ]
    }
   ],
   "source": [
    "def func_tofloat(x):\n",
    "    echo = []\n",
    "    iter, exp, mant  = 0 , 0, 0\n",
    "    for j in x[1:9]: #exponent\n",
    "        iter+=1\n",
    "        exp += int(j)*2**(-iter+8)\n",
    "    for k in x[9:32]: #mantissa\n",
    "        iter+=1\n",
    "        mant+=int(k)*2**(-iter+8)\n",
    "    return float(((-1)**int(x[0]))*2**(exp-127)*(1+mant)) #adding also sign\n",
    "\n",
    "x = \"01000010111111000000000000000000\" #==126  \n",
    "print(f\"Float representation of x = {func_tofloat(x)}\")\n",
    "\n"
   ]
  },
  {
   "cell_type": "markdown",
   "metadata": {},
   "source": [
    "3\\. Write a program to determine the underflow and overflow limits (within a factor of 2) for python on your computer. \n",
    "\n",
    "**Tips**: define two variables inizialized to 1 and halve/double them enough time to exceed the under/over-flow limits  "
   ]
  },
  {
   "cell_type": "code",
   "execution_count": 6,
   "metadata": {
    "tags": []
   },
   "outputs": [
    {
     "name": "stdout",
     "output_type": "stream",
     "text": [
      "5e-324\n",
      "8.98846567431158e+307\n"
     ]
    }
   ],
   "source": [
    "j = 1\n",
    "\n",
    "def find_min(j):\n",
    "    ier = 0\n",
    "    while j!=0:\n",
    "        ier = j\n",
    "        j/=2  \n",
    "    return ier\n",
    "def find_max(h):\n",
    "    ai = 0\n",
    "    while h!=float(\"inf\"): \n",
    "        ai = h\n",
    "        h*=2.\n",
    "    return ai\n",
    "\n",
    "print(find_min(j))\n",
    "print(find_max(j))\n"
   ]
  },
  {
   "cell_type": "markdown",
   "metadata": {},
   "source": [
    "4\\. Write a program to determine the machine precision\n",
    "\n",
    "**Tips**: define a new variable by adding a smaller and smaller value (proceeding similarly to prob. 2) to an original variable and check the point where the two are the same "
   ]
  },
  {
   "cell_type": "code",
   "execution_count": 11,
   "metadata": {},
   "outputs": [
    {
     "name": "stdout",
     "output_type": "stream",
     "text": [
      "5.551115123125783e-17\n"
     ]
    }
   ],
   "source": [
    "j = 1\n",
    "\n",
    "def add(j): \n",
    "    ai, prev = 0, 0\n",
    "    while j!=prev:\n",
    "        ai-=1\n",
    "        prev = j\n",
    "        j+=2**(ai)\n",
    "    return 2**(ai)\n",
    "\n",
    "print(add(j))"
   ]
  },
  {
   "cell_type": "markdown",
   "metadata": {},
   "source": [
    "5\\. Write a function that takes in input three parameters $a$, $b$ and $c$ and prints out the two solutions to the quadratic equation $ax^2+bx+c=0$ using the standard formula:\n",
    "$$\n",
    "x=\\frac{-b\\pm\\sqrt{b^2-4ac}}{2a}\n",
    "$$\n",
    "\n",
    "(a) use the program to compute the solution for $a=0.001$, $b=1000$ and $c=0.001$\n",
    "\n",
    "(b) re-express the standard solution formula by multiplying top and bottom by $-b\\mp\\sqrt{b^2-4ac}$ and again find the solution for $a=0.001$, $b=1000$ and $c=0.001$. How does it compare with what previously obtained? Why?\n",
    "\n",
    "(c) write a function that compute the roots of a quadratic equation accurately in all cases"
   ]
  },
  {
   "cell_type": "code",
   "execution_count": 14,
   "metadata": {},
   "outputs": [
    {
     "output_type": "stream",
     "name": "stdout",
     "text": [
      "First solution = (-9.999894245993346e-07, -999999.999999)\nSecond solution, multiplying and dividing = (-1.000000000001e-06, -1000010.5755125057)\nThird solution, using numpy.roots = [-1.e+06 -1.e-06]\n"
     ]
    }
   ],
   "source": [
    "import numpy as np\n",
    "def fake_sol ( a,b,c): \n",
    "    return (-b+np.sqrt(b*b-4*c*a) )/(2*a), (-b-np.sqrt(b*b-4*c*a) )/(2*a)\n",
    "\n",
    "def fake_sol_mult ( a,b,c): \n",
    "    return ( 2*c ) /(-b-np.sqrt(b*b-4*c*a) ), ( 2*c ) /(-b+np.sqrt(b*b-4*c*a) )\n",
    "\n",
    "def sol(a,b,c):\n",
    "    return np.roots([a,b,c])\n",
    "\n",
    "print(f\"First solution = {fake_sol(0.001, 1000, 0.001)}\") \n",
    "print(f\"Second solution, multiplying and dividing = {fake_sol_mult(0.001, 1000, 0.001)}\") \n",
    "print(f\"Third solution, using numpy.roots = {sol(0.001, 1000, 0.001)}\") #maybe not right yet using numpy..."
   ]
  },
  {
   "cell_type": "markdown",
   "metadata": {},
   "source": [
    "6\\. Write a program that implements the function $f(x)=x(x−1)$\n",
    "\n",
    "(a) Calculate the derivative of the function at the point $x = 1$ using the derivative definition:\n",
    "\n",
    "$$\n",
    "\\frac{{\\rm d}f}{{\\rm d}x} = \\lim_{\\delta\\to0} \\frac{f(x+\\delta)-f(x)}{\\delta}\n",
    "$$\n",
    "\n",
    "with $\\delta = 10^{−2}$. Calculate the true value of the same derivative analytically and compare with the answer your program gives. The two will not agree perfectly. Why not?\n",
    "\n",
    "(b) Repeat the calculation for $\\delta = 10^{−4}, 10^{−6}, 10^{−8}, 10^{−10}, 10^{−12}$ and $10^{−14}$. How does the accuracy scales with $\\delta$?"
   ]
  },
  {
   "cell_type": "markdown",
   "metadata": {},
   "source": [
    "def func(x): return(x*(x-1))\n",
    "\n",
    "def calc():\n",
    "    for j in range(1,8):\n",
    "        der = (func(1+10**(-2*j))-func(1) )/10**(-2*j)\n",
    "        print( \"While true value = $\\delta = {} , the algorithm holds: {} \".format(10**(-2*j) , der) )\n",
    "        #print( der, \"\", j, \" \", 10**(-2*j))\n",
    "        #print(j)\n",
    "    return \n",
    "\n",
    "calc()\n",
    "\n",
    "print(\"The accuacy literally increases lineary up to 10^-8 (near 10^-17.. so the maximum precision) and then decreases (again linearly). \")\n"
   ]
  },
  {
   "cell_type": "code",
   "execution_count": 15,
   "metadata": {},
   "outputs": [
    {
     "output_type": "stream",
     "name": "stdout",
     "text": [
      "While true value = $\\delta = 0.01 , the algorithm returns: 1.010000000000001 \nWhile true value = $\\delta = 0.0001 , the algorithm returns: 1.0000999999998899 \nWhile true value = $\\delta = 1e-06 , the algorithm returns: 1.0000009999177333 \nWhile true value = $\\delta = 1e-08 , the algorithm returns: 1.0000000039225287 \nWhile true value = $\\delta = 1e-10 , the algorithm returns: 1.000000082840371 \nWhile true value = $\\delta = 1e-12 , the algorithm returns: 1.0000889005833413 \nWhile true value = $\\delta = 1e-14 , the algorithm returns: 0.9992007221626509 \nThe accuacy literally increases lineary up to 10^-8 (near 10^-17.. so the maximum precision) \nand then decreases (linearly)\n"
     ]
    }
   ],
   "source": [
    "def func(x): return(x*(x-1))\n",
    "\n",
    "def calc(): \n",
    "    for j in range(1,8): \n",
    "        der = (func(1+10**(-2*j))-func(1) )/10**(-2*j) \n",
    "        print(\"While true value = $\\delta = {} , the algorithm returns: {} \".format(10**(-2*j) , der) ) \n",
    "        #print( der, \"\", j, \" \", 10*(-2j)) \n",
    "        #print(j) \n",
    "    return\n",
    "\n",
    "calc()\n",
    "print(\"The accuacy literally increases lineary up to 10^-8 (near 10^-17.. so the maximum precision) \") \n",
    "print( \"and then decreases (linearly)\")"
   ]
  },
  {
   "cell_type": "markdown",
   "metadata": {},
   "source": [
    "7\\. Consider the integral of the semicircle of radius 1:\n",
    "$$\n",
    "I=\\int_{-1}^{1} \\sqrt(1-x^2) {\\rm d}x\n",
    "$$\n",
    "which it's known to be $I=\\frac{\\pi}{2}=1.57079632679...$.\n",
    "Alternatively we can use the Riemann definition of the integral:\n",
    "$$\n",
    "I=\\lim_{N\\to\\infty} \\sum_{k=1}^{N} h y_k \n",
    "$$\n",
    "\n",
    "with $h=2/N$ the width of each of the $N$ slices the domain is divided into and where\n",
    "$y_k$ is the value of the function at the $k-$th slice.\n",
    "\n",
    "(a) Write a programe to compute the integral with $N=100$. How does the result compares to the true value?\n",
    "\n",
    "(b) How much can $N$ be increased if the computation needs to be run in less than a second? What is the gain in running it for 1 minute? \n"
   ]
  },
  {
   "cell_type": "code",
   "execution_count": 72,
   "metadata": {
    "tags": []
   },
   "outputs": [
    {
     "output_type": "stream",
     "name": "stdout",
     "text": [
      "Integral with N = 100 : 1.5691342555492498 (quite bad actually)\n",
      "### Using bisection method to get the maximum N such that time is still < 1s (not so accurate actually...) ###\n",
      "With n = 1119998, it takes 0.9983675229996152s. Interval: [1119996 ; 1120000]\n",
      "Our final n == 1119998. The result : 1.570796325391826 \n",
      "\n",
      "Final result in a minute of calculation: 1.5707963267927778 \n",
      "\n",
      "Final gain: \n",
      "-2.2330561332166678e-10 vs -3.372094752280542e-13 \n"
     ]
    }
   ],
   "source": [
    "import numpy as np\n",
    "from timeit import default_timer as timer\n",
    "from sys import stdout\n",
    "\n",
    "\n",
    "def func(x): return np.sqrt(1-x*x)\n",
    "\n",
    "def integral(n):\n",
    "    step, result, result_2 =  2/n, 0, 0 #noting also 2/n != 0.2... (n=100 ofc)\n",
    "    for i in range(n):\n",
    "        result+=func(-1+step*i)\n",
    "    return result*step\n",
    "    \n",
    "print(f\"Integral with N = 100 : {integral(100)} (quite bad actually)\")\n",
    "\n",
    "conto = 0\n",
    "n = 1000\n",
    "lastn = n\n",
    "\n",
    "print(\"### Using bisection method to get the maximum N such that time is still < 1s (not so accurate actually...) ###\")\n",
    "a, b = 0, 2048000\n",
    "\n",
    "def bisection(a,b,steps):\n",
    "    for i in range(steps):\n",
    "        middle = int ( (b+a)/2 ) \n",
    "        start = timer()\n",
    "        calc = integral(middle)\n",
    "        end = timer()\n",
    "        stdout.write(str(f\"\\rWith n = {middle}, it takes {end-start}s. Interval: [{a} ; {b}]\") )\n",
    "        stdout.flush()\n",
    "        if (end - start)<1:\n",
    "            a = middle \n",
    "        else: b = middle\n",
    "    stdout.write(\"\\n\")\n",
    "    return middle, calc\n",
    "    \n",
    "res, output = bisection(a,b,20)\n",
    "print(f\"Our final n == {res}. The result : {output} \\n\")\n",
    "\n",
    "\n",
    "print(f\"Final result in a minute of calculation: {1.5707963267927778} \\n\") # = integral(80000000)\n",
    "\n",
    "print(f\"Final gain: \\n{(output - np.pi/2)/np.pi/2} vs {(1.5707963267927778 - np.pi/2)/np.pi/2} \")\n"
   ]
  }
 ],
 "metadata": {
  "kernelspec": {
   "display_name": "Python 3",
   "language": "python",
   "name": "python3"
  },
  "language_info": {
   "codemirror_mode": {
    "name": "ipython",
    "version": 3
   },
   "file_extension": ".py",
   "mimetype": "text/x-python",
   "name": "python",
   "nbconvert_exporter": "python",
   "pygments_lexer": "ipython3",
   "version": "3.8.5-final"
  }
 },
 "nbformat": 4,
 "nbformat_minor": 2
}