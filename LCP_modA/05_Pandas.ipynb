{
 "cells": [
  {
   "cell_type": "markdown",
   "metadata": {},
   "source": [
    "# Pandas\n",
    "\n",
    "The `numpy` module is excellent for numerical computations, but to handle missing data or arrays with mixed types takes more work. The `pandas` module is currently the most widely used tool for data manipulation, providing high-performance, easy-to-use data structures and advanced data analysis tools.\n",
    "\n",
    "In particular `pandas` features:\n",
    "\n",
    "* A fast and efficient \"DataFrame\" object for data manipulation with integrated indexing;\n",
    "* Tools for reading and writing data between in-memory data structures and different formats (CSV, Excel, SQL, HDF5);\n",
    "* Intelligent data alignment and integrated handling of missing data;\n",
    "* Intelligent label-based slicing, fancy indexing, and subsetting of large data sets;\n",
    "* Aggregating or transforming data with a powerful \"group-by\" engine; \n",
    "* High performance merging and joining of data sets;\n",
    "* Hierarchical axis indexing provides an intuitive way of working with high-dimensional data in a lower-dimensional data structure;\n",
    "* Time series-functionalities;\n",
    "* Highly optimized for performance, with critical code paths written in Cython or C.\n"
   ]
  },
  {
   "cell_type": "code",
   "execution_count": 3,
   "metadata": {},
   "outputs": [],
   "source": [
    "import pandas as pd\n",
    "import numpy as np"
   ]
  },
  {
   "cell_type": "markdown",
   "metadata": {},
   "source": [
    "## Series\n",
    "\n",
    "Series are completely equivalent to 1D array but with axis labels and the possibility to store heterogeneous elements. Of paramount importance are the time-series, used to define time evolutions of a phenomenon. \n"
   ]
  },
  {
   "cell_type": "code",
   "execution_count": 4,
   "metadata": {},
   "outputs": [
    {
     "output_type": "stream",
     "name": "stdout",
     "text": [
      "xs: \n a    0.0\nb    0.5\nc    1.0\nd    1.5\ne    2.0\nf    2.5\ng    3.0\nh    3.5\ni    4.0\nj    4.5\ndtype: float64 \n\nxs indexes: Index(['a', 'b', 'c', 'd', 'e', 'f', 'g', 'h', 'i', 'j'], dtype='object') \n\nxs values: [0.  0.5 1.  1.5 2.  2.5 3.  3.5 4.  4.5] <class 'numpy.ndarray'> \n\n2.5 2.5 3.5 \n\nd    1.5\nf    2.5\nh    3.5\ndtype: float64 \n\n<class 'pandas.core.series.Series'> \n\n"
     ]
    }
   ],
   "source": [
    "from string import ascii_lowercase as letters\n",
    "\n",
    "# Creating a series, accessing indexes, values and values by their index \n",
    "xs = pd.Series(np.arange(10)*0.5, index=tuple(letters[:10]))\n",
    "print (\"xs:\",'\\n',xs,'\\n')\n",
    "print (\"xs indexes:\",xs.index,'\\n')\n",
    "# Values of the Series are actually a numpy array\n",
    "print (\"xs values:\", xs.values, type(xs.values),'\\n')\n",
    "print (xs['f'], xs.f, xs.h, '\\n') #calling as a method: dangerous\n",
    "print (xs[['d', 'f', 'h']], '\\n')\n",
    "print (type(xs[['d', 'f', 'h']]), '\\n')"
   ]
  },
  {
   "cell_type": "code",
   "execution_count": 5,
   "metadata": {},
   "outputs": [
    {
     "output_type": "stream",
     "name": "stdout",
     "text": [
      "a    0.0\nb    0.5\nc    1.0\ndtype: float64 \n up to three\nh    3.5\ni    4.0\nj    4.5\ndtype: float64 \n from seventh\na    0.0\nd    1.5\ng    3.0\nj    4.5\ndtype: float64 \n step of three\nh    3.5\ni    4.0\nj    4.5\ndtype: float64 \n grater than three\na     1.000000\nb     1.648721\nc     2.718282\nd     4.481689\ne     7.389056\nf    12.182494\ng    20.085537\nh    33.115452\ni    54.598150\nj    90.017131\ndtype: float64 \n exp\n2.25 1.4361406616345072 \n mean and devstd\n"
     ]
    }
   ],
   "source": [
    "# Extracting elements and operations: same as numpy array\n",
    "print (xs[:3],'\\n up to three')\n",
    "print (xs[7:], '\\n from seventh')\n",
    "print (xs[::3], '\\n step of three')\n",
    "print (xs[xs>3], '\\n grater than three')\n",
    "print (np.exp(xs), '\\n exp')\n",
    "print (np.mean(xs), np.std(xs), '\\n mean and devstd')"
   ]
  },
  {
   "cell_type": "code",
   "execution_count": 6,
   "metadata": {},
   "outputs": [
    {
     "output_type": "execute_result",
     "data": {
      "text/plain": [
       "b         1\n",
       "a       cat\n",
       "c    [2, 3]\n",
       "dtype: object"
      ]
     },
     "metadata": {},
     "execution_count": 6
    }
   ],
   "source": [
    "# Series can be created from python dictionary too.\n",
    "# Not that the elements can be whatever!\n",
    "d = {'b' : 1, 'a' : 'cat', 'c' : [2,3]}\n",
    "pd.Series(d) #ok.. series == dictionary in pracice..."
   ]
  },
  {
   "cell_type": "markdown",
   "metadata": {},
   "source": [
    "A key difference between Series and ndarray is that operations between Series automatically align the data based on label. Thus, you can write computations without considering whether the Series involved have the same labels."
   ]
  },
  {
   "cell_type": "code",
   "execution_count": 7,
   "metadata": {},
   "outputs": [
    {
     "output_type": "stream",
     "name": "stdout",
     "text": [
      "a   -0.175747\nb   -1.194991\nc   -0.928330\nd    2.193868\ne   -1.281963\ndtype: float64\na         NaN\nb   -2.389982\nc   -1.856659\nd    4.387736\ne         NaN\ndtype: float64\n"
     ]
    }
   ],
   "source": [
    "s = pd.Series(np.random.randn(5), index=tuple(letters[:5]))\n",
    "print(s)\n",
    "s = s[1:] + s[:-1]\n",
    "print(s) #we get NaN!! ocho.."
   ]
  },
  {
   "cell_type": "markdown",
   "metadata": {},
   "source": [
    "### Time series\n",
    "\n",
    "Time series are very often used to profile the behaviour of a quantity as a function of time. Pandas as a special index for that, `DatetimeIndex`, that can be created e.g. with the function `pd.data_range()`"
   ]
  },
  {
   "cell_type": "code",
   "execution_count": 8,
   "metadata": {},
   "outputs": [
    {
     "output_type": "stream",
     "name": "stdout",
     "text": [
      "2020-11-10\n2020-11-09 14:45:10.000015\n9/11/2020 14:45:00\nDatetimeIndex(['2020-09-11 14:45:00', '2020-09-12 14:45:00',\n               '2020-09-13 14:45:00', '2020-09-14 14:45:00',\n               '2020-09-15 14:45:00', '2020-09-16 14:45:00',\n               '2020-09-17 14:45:00'],\n              dtype='datetime64[ns]', freq='D')\nDatetimeIndex(['2020-09-11 14:45:00', '2020-09-11 14:45:01',\n               '2020-09-11 14:45:02', '2020-09-11 14:45:03',\n               '2020-09-11 14:45:04', '2020-09-11 14:45:05',\n               '2020-09-11 14:45:06', '2020-09-11 14:45:07',\n               '2020-09-11 14:45:08', '2020-09-11 14:45:09',\n               ...\n               '2020-09-11 15:44:50', '2020-09-11 15:44:51',\n               '2020-09-11 15:44:52', '2020-09-11 15:44:53',\n               '2020-09-11 15:44:54', '2020-09-11 15:44:55',\n               '2020-09-11 15:44:56', '2020-09-11 15:44:57',\n               '2020-09-11 15:44:58', '2020-09-11 15:44:59'],\n              dtype='datetime64[ns]', length=3600, freq='S')\n"
     ]
    }
   ],
   "source": [
    "# to define a date, the datetime module is very useful\n",
    "import datetime as dt\n",
    "date = dt.date.today()\n",
    "print(date)\n",
    "\n",
    "date = dt.datetime(2020,11,9,14,45,10,15)\n",
    "print (date)\n",
    "\n",
    "# otherwise, several notations are interpreted too\n",
    "date = 'Nov 9 2020'\n",
    "# or alternatively\n",
    "date = '9/11/2020 14:45:00'\n",
    "print (date)\n",
    "\n",
    "days = pd.date_range(date, periods=7, freq='D')\n",
    "print (days)\n",
    "\n",
    "seconds = pd.date_range(date, periods=3600, freq='s')\n",
    "print (seconds)\n"
   ]
  },
  {
   "cell_type": "markdown",
   "metadata": {},
   "source": [
    "To learn more about the frequency strings, please see this [link](http://pandas.pydata.org/pandas-docs/stable/timeseries.html#offset-aliases)\n",
    "\n",
    "\n",
    "Timestamped data is the most basic type of time series data that associates values with points in time. For pandas objects it means using the points in time.\n",
    "\n",
    "functions like `pd.to_datetime` can be used, for instance, when reading information as string from a dataset"
   ]
  },
  {
   "cell_type": "code",
   "execution_count": 9,
   "metadata": {},
   "outputs": [
    {
     "output_type": "stream",
     "name": "stdout",
     "text": [
      "1604880000000000000\n<class 'pandas._libs.tslibs.timestamps.Timestamp'>\n2010-11-12 00:00:00\n1289520000000000000\n2010-11-12 00:00:00\n1289520000000000000\n"
     ]
    }
   ],
   "source": [
    "tstamp = pd.Timestamp(dt.datetime(2020, 11, 9))\n",
    "\n",
    "# internally it counts the nanoseconds from January 1st 19\n",
    "#tstamp = pd.Timestamp(dt.datetime(1970, 1, 1, 0, 0, 0, 1))\n",
    "print(tstamp.value)\n",
    "\n",
    "# when creating a timestamp the format can be explicitly passed\n",
    "ts = pd.to_datetime('2010/11/12', format='%Y/%m/%d')\n",
    "print (type(ts))\n",
    "print (ts)\n",
    "print(ts.value) #actual timestamp\n",
    "ts = pd.to_datetime('12-11-2010 00:00', format='%d-%m-%Y %H:%M')\n",
    "print (ts)\n",
    "print (ts.value)\n",
    "\n"
   ]
  },
  {
   "cell_type": "markdown",
   "metadata": {},
   "source": [
    "A standard series can be created and (range of) elements can be used as indexes"
   ]
  },
  {
   "cell_type": "code",
   "execution_count": 10,
   "metadata": {
    "scrolled": true
   },
   "outputs": [
    {
     "output_type": "stream",
     "name": "stdout",
     "text": [
      "2020-09-11 14:45:00    10.101886\n2020-09-12 14:45:00     8.746741\n2020-09-13 14:45:00    11.411759\n2020-09-14 14:45:00    10.645405\nFreq: D, dtype: float64 \n\n2020-09-11 14:45:00    10.101886\n2020-09-12 14:45:00     8.746741\n2020-09-13 14:45:00    11.411759\nFreq: D, dtype: float64 \n\n"
     ]
    }
   ],
   "source": [
    "tseries = pd.Series(np.random.normal(10, 1, len(days)), index=days)\n",
    "# Extracting elements\n",
    "print (tseries[0:4], '\\n')\n",
    "print (tseries['2020-09-11':'2020-09-13'], '\\n') # Note - includes end time\n"
   ]
  },
  {
   "cell_type": "markdown",
   "metadata": {},
   "source": [
    "`pd.to_datetime` can also be used to create a `DatetimeIndex`:"
   ]
  },
  {
   "cell_type": "code",
   "execution_count": 11,
   "metadata": {},
   "outputs": [
    {
     "output_type": "execute_result",
     "data": {
      "text/plain": [
       "DatetimeIndex(['1980-02-04', '1980-02-05', '1980-02-06', '1980-02-07'], dtype='datetime64[ns]', freq=None)"
      ]
     },
     "metadata": {},
     "execution_count": 11
    }
   ],
   "source": [
    "pd.to_datetime([1, 2, 3, 4], unit='D', origin=pd.Timestamp('1980-02-03'))"
   ]
  },
  {
   "cell_type": "markdown",
   "metadata": {},
   "source": [
    "## DataFrame\n",
    "\n",
    "A pandas DataFrame is like a simple tabular spreadsheet. For future reference (or for people already familiar with R), a pandas DataFrame is very similar to the R DataFrame.\n",
    "\n",
    "Each column in a DataFrame is a Series object.\n",
    "\n",
    "The element can be whatever, missing data are dealt with too (as NaN)"
   ]
  },
  {
   "cell_type": "markdown",
   "metadata": {},
   "source": [
    "### DataFrame creation\n",
    "\n",
    "A DataFrame can be created implicitly, with, e.g., a DatatimeIndex object as index:"
   ]
  },
  {
   "cell_type": "code",
   "execution_count": 12,
   "metadata": {},
   "outputs": [
    {
     "output_type": "execute_result",
     "data": {
      "text/plain": [
       "                            A         B         C         D\n",
       "2020-11-09 14:45:00  1.407144  0.219429 -0.207785  2.269153\n",
       "2020-11-09 15:45:00  0.043199 -0.456115 -1.212836  1.370118\n",
       "2020-11-09 16:45:00 -0.889778  1.363724 -2.287257  0.832952\n",
       "2020-11-09 17:45:00  0.027954 -0.191032  1.755418 -0.224717\n",
       "2020-11-09 18:45:00 -1.427035 -1.411288  0.535301  0.335671\n",
       "2020-11-09 19:45:00  0.505363 -0.696822 -0.988745 -0.120855\n",
       "2020-11-09 20:45:00  0.415315 -1.724885 -0.496601 -0.539501\n",
       "2020-11-09 21:45:00 -0.426914 -1.042783 -1.096151 -0.576592\n",
       "2020-11-09 22:45:00 -1.466273  0.205849  0.374378 -0.355268\n",
       "2020-11-09 23:45:00  0.908403  1.097730  1.756739 -0.064603"
      ],
      "text/html": "<div>\n<style scoped>\n    .dataframe tbody tr th:only-of-type {\n        vertical-align: middle;\n    }\n\n    .dataframe tbody tr th {\n        vertical-align: top;\n    }\n\n    .dataframe thead th {\n        text-align: right;\n    }\n</style>\n<table border=\"1\" class=\"dataframe\">\n  <thead>\n    <tr style=\"text-align: right;\">\n      <th></th>\n      <th>A</th>\n      <th>B</th>\n      <th>C</th>\n      <th>D</th>\n    </tr>\n  </thead>\n  <tbody>\n    <tr>\n      <th>2020-11-09 14:45:00</th>\n      <td>1.407144</td>\n      <td>0.219429</td>\n      <td>-0.207785</td>\n      <td>2.269153</td>\n    </tr>\n    <tr>\n      <th>2020-11-09 15:45:00</th>\n      <td>0.043199</td>\n      <td>-0.456115</td>\n      <td>-1.212836</td>\n      <td>1.370118</td>\n    </tr>\n    <tr>\n      <th>2020-11-09 16:45:00</th>\n      <td>-0.889778</td>\n      <td>1.363724</td>\n      <td>-2.287257</td>\n      <td>0.832952</td>\n    </tr>\n    <tr>\n      <th>2020-11-09 17:45:00</th>\n      <td>0.027954</td>\n      <td>-0.191032</td>\n      <td>1.755418</td>\n      <td>-0.224717</td>\n    </tr>\n    <tr>\n      <th>2020-11-09 18:45:00</th>\n      <td>-1.427035</td>\n      <td>-1.411288</td>\n      <td>0.535301</td>\n      <td>0.335671</td>\n    </tr>\n    <tr>\n      <th>2020-11-09 19:45:00</th>\n      <td>0.505363</td>\n      <td>-0.696822</td>\n      <td>-0.988745</td>\n      <td>-0.120855</td>\n    </tr>\n    <tr>\n      <th>2020-11-09 20:45:00</th>\n      <td>0.415315</td>\n      <td>-1.724885</td>\n      <td>-0.496601</td>\n      <td>-0.539501</td>\n    </tr>\n    <tr>\n      <th>2020-11-09 21:45:00</th>\n      <td>-0.426914</td>\n      <td>-1.042783</td>\n      <td>-1.096151</td>\n      <td>-0.576592</td>\n    </tr>\n    <tr>\n      <th>2020-11-09 22:45:00</th>\n      <td>-1.466273</td>\n      <td>0.205849</td>\n      <td>0.374378</td>\n      <td>-0.355268</td>\n    </tr>\n    <tr>\n      <th>2020-11-09 23:45:00</th>\n      <td>0.908403</td>\n      <td>1.097730</td>\n      <td>1.756739</td>\n      <td>-0.064603</td>\n    </tr>\n  </tbody>\n</table>\n</div>"
     },
     "metadata": {},
     "execution_count": 12
    }
   ],
   "source": [
    "entries=10\n",
    "dates=pd.date_range('11/9/2020 14:45:00',freq='h', periods=entries)\n",
    "df = pd.DataFrame(np.random.randn(entries,4), index=dates, columns=['A','B','C','D'])\n",
    "df"
   ]
  },
  {
   "cell_type": "markdown",
   "metadata": {},
   "source": [
    "or by means of a dictionary:\n"
   ]
  },
  {
   "cell_type": "code",
   "execution_count": 13,
   "metadata": {},
   "outputs": [
    {
     "output_type": "execute_result",
     "data": {
      "text/plain": [
       "     A          B    C   D      E\n",
       "0  1.0 2013-01-02  1.0   7   test\n",
       "1  1.0 2013-01-02  1.0   8  train\n",
       "2  1.0 2013-01-02  1.0   9   test\n",
       "3  1.0 2013-01-02  1.0  10  train"
      ],
      "text/html": "<div>\n<style scoped>\n    .dataframe tbody tr th:only-of-type {\n        vertical-align: middle;\n    }\n\n    .dataframe tbody tr th {\n        vertical-align: top;\n    }\n\n    .dataframe thead th {\n        text-align: right;\n    }\n</style>\n<table border=\"1\" class=\"dataframe\">\n  <thead>\n    <tr style=\"text-align: right;\">\n      <th></th>\n      <th>A</th>\n      <th>B</th>\n      <th>C</th>\n      <th>D</th>\n      <th>E</th>\n    </tr>\n  </thead>\n  <tbody>\n    <tr>\n      <th>0</th>\n      <td>1.0</td>\n      <td>2013-01-02</td>\n      <td>1.0</td>\n      <td>7</td>\n      <td>test</td>\n    </tr>\n    <tr>\n      <th>1</th>\n      <td>1.0</td>\n      <td>2013-01-02</td>\n      <td>1.0</td>\n      <td>8</td>\n      <td>train</td>\n    </tr>\n    <tr>\n      <th>2</th>\n      <td>1.0</td>\n      <td>2013-01-02</td>\n      <td>1.0</td>\n      <td>9</td>\n      <td>test</td>\n    </tr>\n    <tr>\n      <th>3</th>\n      <td>1.0</td>\n      <td>2013-01-02</td>\n      <td>1.0</td>\n      <td>10</td>\n      <td>train</td>\n    </tr>\n  </tbody>\n</table>\n</div>"
     },
     "metadata": {},
     "execution_count": 13
    }
   ],
   "source": [
    "df2 = pd.DataFrame(\n",
    "    { 'A' : 1., #if just one element, it's going to be repeated over and over..\n",
    "      'B' : pd.Timestamp('20130102'),\n",
    "      'C' : pd.Series(1,index=range(4),dtype='float32'),\n",
    "      'D' : np.arange(7,11), #pay attention to array lenghts and indexes!\n",
    "      'E' : pd.Categorical([\"test\",\"train\",\"test\",\"train\"]),\n",
    "    }\n",
    "    )\n",
    "df2"
   ]
  },
  {
   "cell_type": "markdown",
   "metadata": {},
   "source": [
    "### Viewing Data"
   ]
  },
  {
   "cell_type": "code",
   "execution_count": 14,
   "metadata": {},
   "outputs": [
    {
     "output_type": "execute_result",
     "data": {
      "text/plain": [
       "                            A         B         C         D\n",
       "2020-11-09 14:45:00  1.407144  0.219429 -0.207785  2.269153\n",
       "2020-11-09 15:45:00  0.043199 -0.456115 -1.212836  1.370118\n",
       "2020-11-09 16:45:00 -0.889778  1.363724 -2.287257  0.832952\n",
       "2020-11-09 17:45:00  0.027954 -0.191032  1.755418 -0.224717\n",
       "2020-11-09 18:45:00 -1.427035 -1.411288  0.535301  0.335671"
      ],
      "text/html": "<div>\n<style scoped>\n    .dataframe tbody tr th:only-of-type {\n        vertical-align: middle;\n    }\n\n    .dataframe tbody tr th {\n        vertical-align: top;\n    }\n\n    .dataframe thead th {\n        text-align: right;\n    }\n</style>\n<table border=\"1\" class=\"dataframe\">\n  <thead>\n    <tr style=\"text-align: right;\">\n      <th></th>\n      <th>A</th>\n      <th>B</th>\n      <th>C</th>\n      <th>D</th>\n    </tr>\n  </thead>\n  <tbody>\n    <tr>\n      <th>2020-11-09 14:45:00</th>\n      <td>1.407144</td>\n      <td>0.219429</td>\n      <td>-0.207785</td>\n      <td>2.269153</td>\n    </tr>\n    <tr>\n      <th>2020-11-09 15:45:00</th>\n      <td>0.043199</td>\n      <td>-0.456115</td>\n      <td>-1.212836</td>\n      <td>1.370118</td>\n    </tr>\n    <tr>\n      <th>2020-11-09 16:45:00</th>\n      <td>-0.889778</td>\n      <td>1.363724</td>\n      <td>-2.287257</td>\n      <td>0.832952</td>\n    </tr>\n    <tr>\n      <th>2020-11-09 17:45:00</th>\n      <td>0.027954</td>\n      <td>-0.191032</td>\n      <td>1.755418</td>\n      <td>-0.224717</td>\n    </tr>\n    <tr>\n      <th>2020-11-09 18:45:00</th>\n      <td>-1.427035</td>\n      <td>-1.411288</td>\n      <td>0.535301</td>\n      <td>0.335671</td>\n    </tr>\n  </tbody>\n</table>\n</div>"
     },
     "metadata": {},
     "execution_count": 14
    }
   ],
   "source": [
    "df.head() #just first records"
   ]
  },
  {
   "cell_type": "code",
   "execution_count": 15,
   "metadata": {},
   "outputs": [
    {
     "output_type": "execute_result",
     "data": {
      "text/plain": [
       "                            A         B         C         D\n",
       "2020-11-09 20:45:00  0.415315 -1.724885 -0.496601 -0.539501\n",
       "2020-11-09 21:45:00 -0.426914 -1.042783 -1.096151 -0.576592\n",
       "2020-11-09 22:45:00 -1.466273  0.205849  0.374378 -0.355268\n",
       "2020-11-09 23:45:00  0.908403  1.097730  1.756739 -0.064603"
      ],
      "text/html": "<div>\n<style scoped>\n    .dataframe tbody tr th:only-of-type {\n        vertical-align: middle;\n    }\n\n    .dataframe tbody tr th {\n        vertical-align: top;\n    }\n\n    .dataframe thead th {\n        text-align: right;\n    }\n</style>\n<table border=\"1\" class=\"dataframe\">\n  <thead>\n    <tr style=\"text-align: right;\">\n      <th></th>\n      <th>A</th>\n      <th>B</th>\n      <th>C</th>\n      <th>D</th>\n    </tr>\n  </thead>\n  <tbody>\n    <tr>\n      <th>2020-11-09 20:45:00</th>\n      <td>0.415315</td>\n      <td>-1.724885</td>\n      <td>-0.496601</td>\n      <td>-0.539501</td>\n    </tr>\n    <tr>\n      <th>2020-11-09 21:45:00</th>\n      <td>-0.426914</td>\n      <td>-1.042783</td>\n      <td>-1.096151</td>\n      <td>-0.576592</td>\n    </tr>\n    <tr>\n      <th>2020-11-09 22:45:00</th>\n      <td>-1.466273</td>\n      <td>0.205849</td>\n      <td>0.374378</td>\n      <td>-0.355268</td>\n    </tr>\n    <tr>\n      <th>2020-11-09 23:45:00</th>\n      <td>0.908403</td>\n      <td>1.097730</td>\n      <td>1.756739</td>\n      <td>-0.064603</td>\n    </tr>\n  </tbody>\n</table>\n</div>"
     },
     "metadata": {},
     "execution_count": 15
    }
   ],
   "source": [
    "df.tail(4) #last records"
   ]
  },
  {
   "cell_type": "code",
   "execution_count": 16,
   "metadata": {},
   "outputs": [
    {
     "output_type": "execute_result",
     "data": {
      "text/plain": [
       "DatetimeIndex(['2020-11-09 14:45:00', '2020-11-09 15:45:00',\n",
       "               '2020-11-09 16:45:00', '2020-11-09 17:45:00',\n",
       "               '2020-11-09 18:45:00', '2020-11-09 19:45:00',\n",
       "               '2020-11-09 20:45:00', '2020-11-09 21:45:00',\n",
       "               '2020-11-09 22:45:00', '2020-11-09 23:45:00'],\n",
       "              dtype='datetime64[ns]', freq='H')"
      ]
     },
     "metadata": {},
     "execution_count": 16
    }
   ],
   "source": [
    "df.index  "
   ]
  },
  {
   "cell_type": "code",
   "execution_count": 17,
   "metadata": {},
   "outputs": [
    {
     "output_type": "execute_result",
     "data": {
      "text/plain": [
       "Index(['A', 'B', 'C', 'D'], dtype='object')"
      ]
     },
     "metadata": {},
     "execution_count": 17
    }
   ],
   "source": [
    "df.columns"
   ]
  },
  {
   "cell_type": "code",
   "execution_count": 18,
   "metadata": {},
   "outputs": [
    {
     "output_type": "execute_result",
     "data": {
      "text/plain": [
       "array([[ 1.4071442 ,  0.21942858, -0.20778537,  2.26915337],\n",
       "       [ 0.04319898, -0.45611497, -1.21283642,  1.37011796],\n",
       "       [-0.88977804,  1.36372401, -2.28725698,  0.83295239],\n",
       "       [ 0.02795393, -0.19103222,  1.75541842, -0.22471662],\n",
       "       [-1.42703507, -1.41128815,  0.53530121,  0.33567144],\n",
       "       [ 0.50536337, -0.69682221, -0.9887453 , -0.12085475],\n",
       "       [ 0.41531491, -1.72488533, -0.49660051, -0.5395011 ],\n",
       "       [-0.42691352, -1.04278307, -1.09615073, -0.57659207],\n",
       "       [-1.46627265,  0.20584893,  0.37437785, -0.35526842],\n",
       "       [ 0.90840251,  1.09773034,  1.75673877, -0.06460314]])"
      ]
     },
     "metadata": {},
     "execution_count": 18
    }
   ],
   "source": [
    "df.values #it's a numpy array!!!"
   ]
  },
  {
   "cell_type": "code",
   "execution_count": 19,
   "metadata": {},
   "outputs": [
    {
     "output_type": "execute_result",
     "data": {
      "text/plain": [
       "               A          B          C          D\n",
       "count  10.000000  10.000000  10.000000  10.000000\n",
       "mean   -0.090262  -0.263619  -0.186754   0.292636\n",
       "std     0.961171   1.013508   1.308817   0.930676\n",
       "min    -1.466273  -1.724885  -2.287257  -0.576592\n",
       "25%    -0.774062  -0.956293  -1.069299  -0.322630\n",
       "50%     0.035576  -0.323574  -0.352193  -0.092729\n",
       "75%     0.482851   0.216034   0.495070   0.708632\n",
       "max     1.407144   1.363724   1.756739   2.269153"
      ],
      "text/html": "<div>\n<style scoped>\n    .dataframe tbody tr th:only-of-type {\n        vertical-align: middle;\n    }\n\n    .dataframe tbody tr th {\n        vertical-align: top;\n    }\n\n    .dataframe thead th {\n        text-align: right;\n    }\n</style>\n<table border=\"1\" class=\"dataframe\">\n  <thead>\n    <tr style=\"text-align: right;\">\n      <th></th>\n      <th>A</th>\n      <th>B</th>\n      <th>C</th>\n      <th>D</th>\n    </tr>\n  </thead>\n  <tbody>\n    <tr>\n      <th>count</th>\n      <td>10.000000</td>\n      <td>10.000000</td>\n      <td>10.000000</td>\n      <td>10.000000</td>\n    </tr>\n    <tr>\n      <th>mean</th>\n      <td>-0.090262</td>\n      <td>-0.263619</td>\n      <td>-0.186754</td>\n      <td>0.292636</td>\n    </tr>\n    <tr>\n      <th>std</th>\n      <td>0.961171</td>\n      <td>1.013508</td>\n      <td>1.308817</td>\n      <td>0.930676</td>\n    </tr>\n    <tr>\n      <th>min</th>\n      <td>-1.466273</td>\n      <td>-1.724885</td>\n      <td>-2.287257</td>\n      <td>-0.576592</td>\n    </tr>\n    <tr>\n      <th>25%</th>\n      <td>-0.774062</td>\n      <td>-0.956293</td>\n      <td>-1.069299</td>\n      <td>-0.322630</td>\n    </tr>\n    <tr>\n      <th>50%</th>\n      <td>0.035576</td>\n      <td>-0.323574</td>\n      <td>-0.352193</td>\n      <td>-0.092729</td>\n    </tr>\n    <tr>\n      <th>75%</th>\n      <td>0.482851</td>\n      <td>0.216034</td>\n      <td>0.495070</td>\n      <td>0.708632</td>\n    </tr>\n    <tr>\n      <th>max</th>\n      <td>1.407144</td>\n      <td>1.363724</td>\n      <td>1.756739</td>\n      <td>2.269153</td>\n    </tr>\n  </tbody>\n</table>\n</div>"
     },
     "metadata": {},
     "execution_count": 19
    }
   ],
   "source": [
    "df.describe() #nice!"
   ]
  },
  {
   "cell_type": "code",
   "execution_count": 20,
   "metadata": {},
   "outputs": [
    {
     "output_type": "execute_result",
     "data": {
      "text/plain": [
       "   2020-11-09 14:45:00  2020-11-09 15:45:00  2020-11-09 16:45:00  \\\n",
       "A             1.407144             0.043199            -0.889778   \n",
       "B             0.219429            -0.456115             1.363724   \n",
       "C            -0.207785            -1.212836            -2.287257   \n",
       "D             2.269153             1.370118             0.832952   \n",
       "\n",
       "   2020-11-09 17:45:00  2020-11-09 18:45:00  2020-11-09 19:45:00  \\\n",
       "A             0.027954            -1.427035             0.505363   \n",
       "B            -0.191032            -1.411288            -0.696822   \n",
       "C             1.755418             0.535301            -0.988745   \n",
       "D            -0.224717             0.335671            -0.120855   \n",
       "\n",
       "   2020-11-09 20:45:00  2020-11-09 21:45:00  2020-11-09 22:45:00  \\\n",
       "A             0.415315            -0.426914            -1.466273   \n",
       "B            -1.724885            -1.042783             0.205849   \n",
       "C            -0.496601            -1.096151             0.374378   \n",
       "D            -0.539501            -0.576592            -0.355268   \n",
       "\n",
       "   2020-11-09 23:45:00  \n",
       "A             0.908403  \n",
       "B             1.097730  \n",
       "C             1.756739  \n",
       "D            -0.064603  "
      ],
      "text/html": "<div>\n<style scoped>\n    .dataframe tbody tr th:only-of-type {\n        vertical-align: middle;\n    }\n\n    .dataframe tbody tr th {\n        vertical-align: top;\n    }\n\n    .dataframe thead th {\n        text-align: right;\n    }\n</style>\n<table border=\"1\" class=\"dataframe\">\n  <thead>\n    <tr style=\"text-align: right;\">\n      <th></th>\n      <th>2020-11-09 14:45:00</th>\n      <th>2020-11-09 15:45:00</th>\n      <th>2020-11-09 16:45:00</th>\n      <th>2020-11-09 17:45:00</th>\n      <th>2020-11-09 18:45:00</th>\n      <th>2020-11-09 19:45:00</th>\n      <th>2020-11-09 20:45:00</th>\n      <th>2020-11-09 21:45:00</th>\n      <th>2020-11-09 22:45:00</th>\n      <th>2020-11-09 23:45:00</th>\n    </tr>\n  </thead>\n  <tbody>\n    <tr>\n      <th>A</th>\n      <td>1.407144</td>\n      <td>0.043199</td>\n      <td>-0.889778</td>\n      <td>0.027954</td>\n      <td>-1.427035</td>\n      <td>0.505363</td>\n      <td>0.415315</td>\n      <td>-0.426914</td>\n      <td>-1.466273</td>\n      <td>0.908403</td>\n    </tr>\n    <tr>\n      <th>B</th>\n      <td>0.219429</td>\n      <td>-0.456115</td>\n      <td>1.363724</td>\n      <td>-0.191032</td>\n      <td>-1.411288</td>\n      <td>-0.696822</td>\n      <td>-1.724885</td>\n      <td>-1.042783</td>\n      <td>0.205849</td>\n      <td>1.097730</td>\n    </tr>\n    <tr>\n      <th>C</th>\n      <td>-0.207785</td>\n      <td>-1.212836</td>\n      <td>-2.287257</td>\n      <td>1.755418</td>\n      <td>0.535301</td>\n      <td>-0.988745</td>\n      <td>-0.496601</td>\n      <td>-1.096151</td>\n      <td>0.374378</td>\n      <td>1.756739</td>\n    </tr>\n    <tr>\n      <th>D</th>\n      <td>2.269153</td>\n      <td>1.370118</td>\n      <td>0.832952</td>\n      <td>-0.224717</td>\n      <td>0.335671</td>\n      <td>-0.120855</td>\n      <td>-0.539501</td>\n      <td>-0.576592</td>\n      <td>-0.355268</td>\n      <td>-0.064603</td>\n    </tr>\n  </tbody>\n</table>\n</div>"
     },
     "metadata": {},
     "execution_count": 20
    }
   ],
   "source": [
    "df.T"
   ]
  },
  {
   "cell_type": "code",
   "execution_count": 21,
   "metadata": {},
   "outputs": [
    {
     "output_type": "execute_result",
     "data": {
      "text/plain": [
       "                            D         C         B         A\n",
       "2020-11-09 14:45:00  2.269153 -0.207785  0.219429  1.407144\n",
       "2020-11-09 15:45:00  1.370118 -1.212836 -0.456115  0.043199\n",
       "2020-11-09 16:45:00  0.832952 -2.287257  1.363724 -0.889778\n",
       "2020-11-09 17:45:00 -0.224717  1.755418 -0.191032  0.027954\n",
       "2020-11-09 18:45:00  0.335671  0.535301 -1.411288 -1.427035\n",
       "2020-11-09 19:45:00 -0.120855 -0.988745 -0.696822  0.505363\n",
       "2020-11-09 20:45:00 -0.539501 -0.496601 -1.724885  0.415315\n",
       "2020-11-09 21:45:00 -0.576592 -1.096151 -1.042783 -0.426914\n",
       "2020-11-09 22:45:00 -0.355268  0.374378  0.205849 -1.466273\n",
       "2020-11-09 23:45:00 -0.064603  1.756739  1.097730  0.908403"
      ],
      "text/html": "<div>\n<style scoped>\n    .dataframe tbody tr th:only-of-type {\n        vertical-align: middle;\n    }\n\n    .dataframe tbody tr th {\n        vertical-align: top;\n    }\n\n    .dataframe thead th {\n        text-align: right;\n    }\n</style>\n<table border=\"1\" class=\"dataframe\">\n  <thead>\n    <tr style=\"text-align: right;\">\n      <th></th>\n      <th>D</th>\n      <th>C</th>\n      <th>B</th>\n      <th>A</th>\n    </tr>\n  </thead>\n  <tbody>\n    <tr>\n      <th>2020-11-09 14:45:00</th>\n      <td>2.269153</td>\n      <td>-0.207785</td>\n      <td>0.219429</td>\n      <td>1.407144</td>\n    </tr>\n    <tr>\n      <th>2020-11-09 15:45:00</th>\n      <td>1.370118</td>\n      <td>-1.212836</td>\n      <td>-0.456115</td>\n      <td>0.043199</td>\n    </tr>\n    <tr>\n      <th>2020-11-09 16:45:00</th>\n      <td>0.832952</td>\n      <td>-2.287257</td>\n      <td>1.363724</td>\n      <td>-0.889778</td>\n    </tr>\n    <tr>\n      <th>2020-11-09 17:45:00</th>\n      <td>-0.224717</td>\n      <td>1.755418</td>\n      <td>-0.191032</td>\n      <td>0.027954</td>\n    </tr>\n    <tr>\n      <th>2020-11-09 18:45:00</th>\n      <td>0.335671</td>\n      <td>0.535301</td>\n      <td>-1.411288</td>\n      <td>-1.427035</td>\n    </tr>\n    <tr>\n      <th>2020-11-09 19:45:00</th>\n      <td>-0.120855</td>\n      <td>-0.988745</td>\n      <td>-0.696822</td>\n      <td>0.505363</td>\n    </tr>\n    <tr>\n      <th>2020-11-09 20:45:00</th>\n      <td>-0.539501</td>\n      <td>-0.496601</td>\n      <td>-1.724885</td>\n      <td>0.415315</td>\n    </tr>\n    <tr>\n      <th>2020-11-09 21:45:00</th>\n      <td>-0.576592</td>\n      <td>-1.096151</td>\n      <td>-1.042783</td>\n      <td>-0.426914</td>\n    </tr>\n    <tr>\n      <th>2020-11-09 22:45:00</th>\n      <td>-0.355268</td>\n      <td>0.374378</td>\n      <td>0.205849</td>\n      <td>-1.466273</td>\n    </tr>\n    <tr>\n      <th>2020-11-09 23:45:00</th>\n      <td>-0.064603</td>\n      <td>1.756739</td>\n      <td>1.097730</td>\n      <td>0.908403</td>\n    </tr>\n  </tbody>\n</table>\n</div>"
     },
     "metadata": {},
     "execution_count": 21
    }
   ],
   "source": [
    "df.sort_index(axis=1,ascending=False)"
   ]
  },
  {
   "cell_type": "code",
   "execution_count": 22,
   "metadata": {},
   "outputs": [
    {
     "output_type": "execute_result",
     "data": {
      "text/plain": [
       "                            A         B         C         D\n",
       "2020-11-09 16:45:00 -0.889778  1.363724 -2.287257  0.832952\n",
       "2020-11-09 15:45:00  0.043199 -0.456115 -1.212836  1.370118\n",
       "2020-11-09 21:45:00 -0.426914 -1.042783 -1.096151 -0.576592\n",
       "2020-11-09 19:45:00  0.505363 -0.696822 -0.988745 -0.120855\n",
       "2020-11-09 20:45:00  0.415315 -1.724885 -0.496601 -0.539501\n",
       "2020-11-09 14:45:00  1.407144  0.219429 -0.207785  2.269153\n",
       "2020-11-09 22:45:00 -1.466273  0.205849  0.374378 -0.355268\n",
       "2020-11-09 18:45:00 -1.427035 -1.411288  0.535301  0.335671\n",
       "2020-11-09 17:45:00  0.027954 -0.191032  1.755418 -0.224717\n",
       "2020-11-09 23:45:00  0.908403  1.097730  1.756739 -0.064603"
      ],
      "text/html": "<div>\n<style scoped>\n    .dataframe tbody tr th:only-of-type {\n        vertical-align: middle;\n    }\n\n    .dataframe tbody tr th {\n        vertical-align: top;\n    }\n\n    .dataframe thead th {\n        text-align: right;\n    }\n</style>\n<table border=\"1\" class=\"dataframe\">\n  <thead>\n    <tr style=\"text-align: right;\">\n      <th></th>\n      <th>A</th>\n      <th>B</th>\n      <th>C</th>\n      <th>D</th>\n    </tr>\n  </thead>\n  <tbody>\n    <tr>\n      <th>2020-11-09 16:45:00</th>\n      <td>-0.889778</td>\n      <td>1.363724</td>\n      <td>-2.287257</td>\n      <td>0.832952</td>\n    </tr>\n    <tr>\n      <th>2020-11-09 15:45:00</th>\n      <td>0.043199</td>\n      <td>-0.456115</td>\n      <td>-1.212836</td>\n      <td>1.370118</td>\n    </tr>\n    <tr>\n      <th>2020-11-09 21:45:00</th>\n      <td>-0.426914</td>\n      <td>-1.042783</td>\n      <td>-1.096151</td>\n      <td>-0.576592</td>\n    </tr>\n    <tr>\n      <th>2020-11-09 19:45:00</th>\n      <td>0.505363</td>\n      <td>-0.696822</td>\n      <td>-0.988745</td>\n      <td>-0.120855</td>\n    </tr>\n    <tr>\n      <th>2020-11-09 20:45:00</th>\n      <td>0.415315</td>\n      <td>-1.724885</td>\n      <td>-0.496601</td>\n      <td>-0.539501</td>\n    </tr>\n    <tr>\n      <th>2020-11-09 14:45:00</th>\n      <td>1.407144</td>\n      <td>0.219429</td>\n      <td>-0.207785</td>\n      <td>2.269153</td>\n    </tr>\n    <tr>\n      <th>2020-11-09 22:45:00</th>\n      <td>-1.466273</td>\n      <td>0.205849</td>\n      <td>0.374378</td>\n      <td>-0.355268</td>\n    </tr>\n    <tr>\n      <th>2020-11-09 18:45:00</th>\n      <td>-1.427035</td>\n      <td>-1.411288</td>\n      <td>0.535301</td>\n      <td>0.335671</td>\n    </tr>\n    <tr>\n      <th>2020-11-09 17:45:00</th>\n      <td>0.027954</td>\n      <td>-0.191032</td>\n      <td>1.755418</td>\n      <td>-0.224717</td>\n    </tr>\n    <tr>\n      <th>2020-11-09 23:45:00</th>\n      <td>0.908403</td>\n      <td>1.097730</td>\n      <td>1.756739</td>\n      <td>-0.064603</td>\n    </tr>\n  </tbody>\n</table>\n</div>"
     },
     "metadata": {},
     "execution_count": 22
    }
   ],
   "source": [
    "df.sort_values(by=\"C\")"
   ]
  },
  {
   "cell_type": "markdown",
   "metadata": {},
   "source": [
    "## Selection\n",
    "\n",
    "### Getting slices\n",
    "\n",
    "The following show how to get part of the DataFrame (i.e. not just the elements)"
   ]
  },
  {
   "cell_type": "code",
   "execution_count": 23,
   "metadata": {},
   "outputs": [
    {
     "output_type": "stream",
     "name": "stdout",
     "text": [
      "2020-11-09 14:45:00    1.407144\n2020-11-09 15:45:00    0.043199\n2020-11-09 16:45:00   -0.889778\n2020-11-09 17:45:00    0.027954\n2020-11-09 18:45:00   -1.427035\n2020-11-09 19:45:00    0.505363\n2020-11-09 20:45:00    0.415315\n2020-11-09 21:45:00   -0.426914\n2020-11-09 22:45:00   -1.466273\n2020-11-09 23:45:00    0.908403\nFreq: H, Name: A, dtype: float64 \n\n2020-11-09 14:45:00    1.407144\n2020-11-09 15:45:00    0.043199\n2020-11-09 16:45:00   -0.889778\n2020-11-09 17:45:00    0.027954\n2020-11-09 18:45:00   -1.427035\n2020-11-09 19:45:00    0.505363\n2020-11-09 20:45:00    0.415315\n2020-11-09 21:45:00   -0.426914\n2020-11-09 22:45:00   -1.466273\n2020-11-09 23:45:00    0.908403\nFreq: H, Name: A, dtype: float64\n"
     ]
    }
   ],
   "source": [
    "## standard and safe\n",
    "print (df['A'],'\\n')\n",
    "\n",
    "## equivalent but dangerous (imagine blank spaces in the name of the column..)\n",
    "print (df.A)\n"
   ]
  },
  {
   "cell_type": "code",
   "execution_count": 24,
   "metadata": {},
   "outputs": [
    {
     "output_type": "stream",
     "name": "stdout",
     "text": [
      "                            A         B         C         D\n2020-11-09 14:45:00  1.407144  0.219429 -0.207785  2.269153\n2020-11-09 15:45:00  0.043199 -0.456115 -1.212836  1.370118\n2020-11-09 16:45:00 -0.889778  1.363724 -2.287257  0.832952 \n\n                            A         B         C         D\n2020-11-09 14:45:00  1.407144  0.219429 -0.207785  2.269153\n2020-11-09 15:45:00  0.043199 -0.456115 -1.212836  1.370118\n2020-11-09 16:45:00 -0.889778  1.363724 -2.287257  0.832952\n"
     ]
    }
   ],
   "source": [
    "# selecting rows by counting\n",
    "print (df[0:3], '\\n')\n",
    "\n",
    "# or by index\n",
    "print (df[\"2020-11-09 14:45:00\":\"2020-11-09 16:45:00\"])"
   ]
  },
  {
   "cell_type": "markdown",
   "metadata": {},
   "source": [
    "### Selection by label"
   ]
  },
  {
   "cell_type": "code",
   "execution_count": 25,
   "metadata": {},
   "outputs": [
    {
     "output_type": "execute_result",
     "data": {
      "text/plain": [
       "A    1.407144\n",
       "B    0.219429\n",
       "C   -0.207785\n",
       "D    2.269153\n",
       "Name: 2020-11-09 14:45:00, dtype: float64"
      ]
     },
     "metadata": {},
     "execution_count": 25
    }
   ],
   "source": [
    "# getting a cross section (part of the DataFrame) using a label\n",
    "df.loc[dates[0]]"
   ]
  },
  {
   "cell_type": "code",
   "execution_count": 26,
   "metadata": {},
   "outputs": [
    {
     "output_type": "execute_result",
     "data": {
      "text/plain": [
       "                            A         B\n",
       "2020-11-09 14:45:00  1.407144  0.219429\n",
       "2020-11-09 15:45:00  0.043199 -0.456115\n",
       "2020-11-09 16:45:00 -0.889778  1.363724\n",
       "2020-11-09 17:45:00  0.027954 -0.191032\n",
       "2020-11-09 18:45:00 -1.427035 -1.411288\n",
       "2020-11-09 19:45:00  0.505363 -0.696822\n",
       "2020-11-09 20:45:00  0.415315 -1.724885\n",
       "2020-11-09 21:45:00 -0.426914 -1.042783\n",
       "2020-11-09 22:45:00 -1.466273  0.205849\n",
       "2020-11-09 23:45:00  0.908403  1.097730"
      ],
      "text/html": "<div>\n<style scoped>\n    .dataframe tbody tr th:only-of-type {\n        vertical-align: middle;\n    }\n\n    .dataframe tbody tr th {\n        vertical-align: top;\n    }\n\n    .dataframe thead th {\n        text-align: right;\n    }\n</style>\n<table border=\"1\" class=\"dataframe\">\n  <thead>\n    <tr style=\"text-align: right;\">\n      <th></th>\n      <th>A</th>\n      <th>B</th>\n    </tr>\n  </thead>\n  <tbody>\n    <tr>\n      <th>2020-11-09 14:45:00</th>\n      <td>1.407144</td>\n      <td>0.219429</td>\n    </tr>\n    <tr>\n      <th>2020-11-09 15:45:00</th>\n      <td>0.043199</td>\n      <td>-0.456115</td>\n    </tr>\n    <tr>\n      <th>2020-11-09 16:45:00</th>\n      <td>-0.889778</td>\n      <td>1.363724</td>\n    </tr>\n    <tr>\n      <th>2020-11-09 17:45:00</th>\n      <td>0.027954</td>\n      <td>-0.191032</td>\n    </tr>\n    <tr>\n      <th>2020-11-09 18:45:00</th>\n      <td>-1.427035</td>\n      <td>-1.411288</td>\n    </tr>\n    <tr>\n      <th>2020-11-09 19:45:00</th>\n      <td>0.505363</td>\n      <td>-0.696822</td>\n    </tr>\n    <tr>\n      <th>2020-11-09 20:45:00</th>\n      <td>0.415315</td>\n      <td>-1.724885</td>\n    </tr>\n    <tr>\n      <th>2020-11-09 21:45:00</th>\n      <td>-0.426914</td>\n      <td>-1.042783</td>\n    </tr>\n    <tr>\n      <th>2020-11-09 22:45:00</th>\n      <td>-1.466273</td>\n      <td>0.205849</td>\n    </tr>\n    <tr>\n      <th>2020-11-09 23:45:00</th>\n      <td>0.908403</td>\n      <td>1.097730</td>\n    </tr>\n  </tbody>\n</table>\n</div>"
     },
     "metadata": {},
     "execution_count": 26
    }
   ],
   "source": [
    "# selecting on a multi-axis by label:\n",
    "df.loc[:,['A','B']]\n",
    "# a=df.loc[:,['A', 'B']] it returns a COPY! If you change a, then \n",
    "# df, the original database, is NOT changed!"
   ]
  },
  {
   "cell_type": "code",
   "execution_count": 27,
   "metadata": {},
   "outputs": [
    {
     "output_type": "execute_result",
     "data": {
      "text/plain": [
       "                            A         B\n",
       "2020-11-09 18:45:00 -1.427035 -1.411288\n",
       "2020-11-09 19:45:00  0.505363 -0.696822\n",
       "2020-11-09 20:45:00  0.415315 -1.724885"
      ],
      "text/html": "<div>\n<style scoped>\n    .dataframe tbody tr th:only-of-type {\n        vertical-align: middle;\n    }\n\n    .dataframe tbody tr th {\n        vertical-align: top;\n    }\n\n    .dataframe thead th {\n        text-align: right;\n    }\n</style>\n<table border=\"1\" class=\"dataframe\">\n  <thead>\n    <tr style=\"text-align: right;\">\n      <th></th>\n      <th>A</th>\n      <th>B</th>\n    </tr>\n  </thead>\n  <tbody>\n    <tr>\n      <th>2020-11-09 18:45:00</th>\n      <td>-1.427035</td>\n      <td>-1.411288</td>\n    </tr>\n    <tr>\n      <th>2020-11-09 19:45:00</th>\n      <td>0.505363</td>\n      <td>-0.696822</td>\n    </tr>\n    <tr>\n      <th>2020-11-09 20:45:00</th>\n      <td>0.415315</td>\n      <td>-1.724885</td>\n    </tr>\n  </tbody>\n</table>\n</div>"
     },
     "metadata": {},
     "execution_count": 27
    }
   ],
   "source": [
    "# showing label slicing, both endpoints are included:\n",
    "df.loc['2020-11-09 18:45:00':'2020-11-09 20:45:00',['A','B']]"
   ]
  },
  {
   "cell_type": "code",
   "execution_count": 28,
   "metadata": {},
   "outputs": [
    {
     "output_type": "stream",
     "name": "stdout",
     "text": [
      "0.04319898321533293\n0.04319898321533293\n"
     ]
    }
   ],
   "source": [
    "# getting an individual element\n",
    "print (df.loc[dates[1],'A'])\n",
    "\n",
    "# equivalently\n",
    "print (df.at[dates[1],'A'])"
   ]
  },
  {
   "cell_type": "markdown",
   "metadata": {},
   "source": [
    "### Selecting by position\n",
    "\n",
    "**ILOC RETURNS VIEWS** , different from LOC:\n",
    "\n",
    "**LOC RETURNS COPIES**"
   ]
  },
  {
   "cell_type": "code",
   "execution_count": 29,
   "metadata": {},
   "outputs": [
    {
     "output_type": "stream",
     "name": "stdout",
     "text": [
      "A    0.027954\nB   -0.191032\nC    1.755418\nD   -0.224717\nName: 2020-11-09 17:45:00, dtype: float64 \n\n                            A         B\n2020-11-09 17:45:00  0.027954 -0.191032\n2020-11-09 18:45:00 -1.427035 -1.411288\n"
     ]
    }
   ],
   "source": [
    "# select via the position of the passed integers:\n",
    "print (df.iloc[3],'\\n')\n",
    "\n",
    "# notation similar to numpy/python\n",
    "print (df.iloc[3:5,0:2])"
   ]
  },
  {
   "cell_type": "code",
   "execution_count": 30,
   "metadata": {},
   "outputs": [
    {
     "output_type": "execute_result",
     "data": {
      "text/plain": [
       "                            A         C\n",
       "2020-11-09 15:45:00  0.043199 -1.212836\n",
       "2020-11-09 16:45:00 -0.889778 -2.287257\n",
       "2020-11-09 18:45:00 -1.427035  0.535301"
      ],
      "text/html": "<div>\n<style scoped>\n    .dataframe tbody tr th:only-of-type {\n        vertical-align: middle;\n    }\n\n    .dataframe tbody tr th {\n        vertical-align: top;\n    }\n\n    .dataframe thead th {\n        text-align: right;\n    }\n</style>\n<table border=\"1\" class=\"dataframe\">\n  <thead>\n    <tr style=\"text-align: right;\">\n      <th></th>\n      <th>A</th>\n      <th>C</th>\n    </tr>\n  </thead>\n  <tbody>\n    <tr>\n      <th>2020-11-09 15:45:00</th>\n      <td>0.043199</td>\n      <td>-1.212836</td>\n    </tr>\n    <tr>\n      <th>2020-11-09 16:45:00</th>\n      <td>-0.889778</td>\n      <td>-2.287257</td>\n    </tr>\n    <tr>\n      <th>2020-11-09 18:45:00</th>\n      <td>-1.427035</td>\n      <td>0.535301</td>\n    </tr>\n  </tbody>\n</table>\n</div>"
     },
     "metadata": {},
     "execution_count": 30
    }
   ],
   "source": [
    "# selecting raws 1,2 and 4 for columns 0 and 2\n",
    "df.iloc[[1,2,4],[0,2]] #just counting across rows"
   ]
  },
  {
   "cell_type": "code",
   "execution_count": 31,
   "metadata": {},
   "outputs": [
    {
     "output_type": "stream",
     "name": "stdout",
     "text": [
      "                            A         B         C         D\n2020-11-09 15:45:00  0.043199 -0.456115 -1.212836  1.370118\n2020-11-09 16:45:00 -0.889778  1.363724 -2.287257  0.832952 \n\n                            B         C\n2020-11-09 14:45:00  0.219429 -0.207785\n2020-11-09 15:45:00 -0.456115 -1.212836\n2020-11-09 16:45:00  1.363724 -2.287257\n2020-11-09 17:45:00 -0.191032  1.755418\n2020-11-09 18:45:00 -1.411288  0.535301\n2020-11-09 19:45:00 -0.696822 -0.988745\n2020-11-09 20:45:00 -1.724885 -0.496601\n2020-11-09 21:45:00 -1.042783 -1.096151\n2020-11-09 22:45:00  0.205849  0.374378\n2020-11-09 23:45:00  1.097730  1.756739\n"
     ]
    }
   ],
   "source": [
    "# slicing rows explicitly\n",
    "print (df.iloc[1:3,:],'\\n')\n",
    "\n",
    "# slicing columns explicitly\n",
    "print (df.iloc[:,1:3])\n"
   ]
  },
  {
   "cell_type": "code",
   "execution_count": 32,
   "metadata": {},
   "outputs": [
    {
     "output_type": "execute_result",
     "data": {
      "text/plain": [
       "-0.45611496622761827"
      ]
     },
     "metadata": {},
     "execution_count": 32
    }
   ],
   "source": [
    "# selecting an individual element by position\n",
    "df.iloc[1,1]\n",
    "df.iat[1,1]\n"
   ]
  },
  {
   "cell_type": "markdown",
   "metadata": {},
   "source": [
    "### Boolean index\n",
    "\n",
    "Very powerful way of filtering out data with certain features. Notation is very similar to numpy arrays."
   ]
  },
  {
   "cell_type": "code",
   "execution_count": 33,
   "metadata": {},
   "outputs": [
    {
     "output_type": "execute_result",
     "data": {
      "text/plain": [
       "                            A         B         C         D\n",
       "2020-11-09 14:45:00  1.407144  0.219429 -0.207785  2.269153\n",
       "2020-11-09 16:45:00 -0.889778  1.363724 -2.287257  0.832952\n",
       "2020-11-09 22:45:00 -1.466273  0.205849  0.374378 -0.355268\n",
       "2020-11-09 23:45:00  0.908403  1.097730  1.756739 -0.064603"
      ],
      "text/html": "<div>\n<style scoped>\n    .dataframe tbody tr th:only-of-type {\n        vertical-align: middle;\n    }\n\n    .dataframe tbody tr th {\n        vertical-align: top;\n    }\n\n    .dataframe thead th {\n        text-align: right;\n    }\n</style>\n<table border=\"1\" class=\"dataframe\">\n  <thead>\n    <tr style=\"text-align: right;\">\n      <th></th>\n      <th>A</th>\n      <th>B</th>\n      <th>C</th>\n      <th>D</th>\n    </tr>\n  </thead>\n  <tbody>\n    <tr>\n      <th>2020-11-09 14:45:00</th>\n      <td>1.407144</td>\n      <td>0.219429</td>\n      <td>-0.207785</td>\n      <td>2.269153</td>\n    </tr>\n    <tr>\n      <th>2020-11-09 16:45:00</th>\n      <td>-0.889778</td>\n      <td>1.363724</td>\n      <td>-2.287257</td>\n      <td>0.832952</td>\n    </tr>\n    <tr>\n      <th>2020-11-09 22:45:00</th>\n      <td>-1.466273</td>\n      <td>0.205849</td>\n      <td>0.374378</td>\n      <td>-0.355268</td>\n    </tr>\n    <tr>\n      <th>2020-11-09 23:45:00</th>\n      <td>0.908403</td>\n      <td>1.097730</td>\n      <td>1.756739</td>\n      <td>-0.064603</td>\n    </tr>\n  </tbody>\n</table>\n</div>"
     },
     "metadata": {},
     "execution_count": 33
    }
   ],
   "source": [
    "# Filter by a boolean condition on the values of a single column\n",
    "df[df['B'] > 0]"
   ]
  },
  {
   "cell_type": "code",
   "execution_count": 34,
   "metadata": {},
   "outputs": [
    {
     "output_type": "execute_result",
     "data": {
      "text/plain": [
       "                            A         B         C         D\n",
       "2020-11-09 14:45:00  1.407144  0.219429       NaN  2.269153\n",
       "2020-11-09 15:45:00  0.043199       NaN       NaN  1.370118\n",
       "2020-11-09 16:45:00       NaN  1.363724       NaN  0.832952\n",
       "2020-11-09 17:45:00  0.027954       NaN  1.755418       NaN\n",
       "2020-11-09 18:45:00       NaN       NaN  0.535301  0.335671\n",
       "2020-11-09 19:45:00  0.505363       NaN       NaN       NaN\n",
       "2020-11-09 20:45:00  0.415315       NaN       NaN       NaN\n",
       "2020-11-09 21:45:00       NaN       NaN       NaN       NaN\n",
       "2020-11-09 22:45:00       NaN  0.205849  0.374378       NaN\n",
       "2020-11-09 23:45:00  0.908403  1.097730  1.756739       NaN"
      ],
      "text/html": "<div>\n<style scoped>\n    .dataframe tbody tr th:only-of-type {\n        vertical-align: middle;\n    }\n\n    .dataframe tbody tr th {\n        vertical-align: top;\n    }\n\n    .dataframe thead th {\n        text-align: right;\n    }\n</style>\n<table border=\"1\" class=\"dataframe\">\n  <thead>\n    <tr style=\"text-align: right;\">\n      <th></th>\n      <th>A</th>\n      <th>B</th>\n      <th>C</th>\n      <th>D</th>\n    </tr>\n  </thead>\n  <tbody>\n    <tr>\n      <th>2020-11-09 14:45:00</th>\n      <td>1.407144</td>\n      <td>0.219429</td>\n      <td>NaN</td>\n      <td>2.269153</td>\n    </tr>\n    <tr>\n      <th>2020-11-09 15:45:00</th>\n      <td>0.043199</td>\n      <td>NaN</td>\n      <td>NaN</td>\n      <td>1.370118</td>\n    </tr>\n    <tr>\n      <th>2020-11-09 16:45:00</th>\n      <td>NaN</td>\n      <td>1.363724</td>\n      <td>NaN</td>\n      <td>0.832952</td>\n    </tr>\n    <tr>\n      <th>2020-11-09 17:45:00</th>\n      <td>0.027954</td>\n      <td>NaN</td>\n      <td>1.755418</td>\n      <td>NaN</td>\n    </tr>\n    <tr>\n      <th>2020-11-09 18:45:00</th>\n      <td>NaN</td>\n      <td>NaN</td>\n      <td>0.535301</td>\n      <td>0.335671</td>\n    </tr>\n    <tr>\n      <th>2020-11-09 19:45:00</th>\n      <td>0.505363</td>\n      <td>NaN</td>\n      <td>NaN</td>\n      <td>NaN</td>\n    </tr>\n    <tr>\n      <th>2020-11-09 20:45:00</th>\n      <td>0.415315</td>\n      <td>NaN</td>\n      <td>NaN</td>\n      <td>NaN</td>\n    </tr>\n    <tr>\n      <th>2020-11-09 21:45:00</th>\n      <td>NaN</td>\n      <td>NaN</td>\n      <td>NaN</td>\n      <td>NaN</td>\n    </tr>\n    <tr>\n      <th>2020-11-09 22:45:00</th>\n      <td>NaN</td>\n      <td>0.205849</td>\n      <td>0.374378</td>\n      <td>NaN</td>\n    </tr>\n    <tr>\n      <th>2020-11-09 23:45:00</th>\n      <td>0.908403</td>\n      <td>1.097730</td>\n      <td>1.756739</td>\n      <td>NaN</td>\n    </tr>\n  </tbody>\n</table>\n</div>"
     },
     "metadata": {},
     "execution_count": 34
    }
   ],
   "source": [
    "# Selecting on the basis of boolean conditions applied to the whole DataFrame\n",
    "df[df>0]\n",
    "\n",
    "# a DataFrame with the same shape is returned, with NaN's where condition is not met"
   ]
  },
  {
   "cell_type": "markdown",
   "metadata": {},
   "source": [
    "### Setting\n",
    "\n",
    "Combination of selection and setting of values"
   ]
  },
  {
   "cell_type": "code",
   "execution_count": 35,
   "metadata": {},
   "outputs": [],
   "source": [
    "# setting values by label (same as by position)\n",
    "df.at[dates[0],'A'] = 0\n",
    "\n",
    "# setting and assigning a numpy array\n",
    "df.loc[:,'D'] = np.array([5] * len(df))\n",
    "\n",
    "# defining a brend new column\n",
    "df['E'] = np.arange(len(df))*0.5\n",
    "\n",
    "# defining a brend new column by means of a pd.Series: indexes must be the same!\n",
    "df['E prime'] = pd.Series(np.arange(len(df))*2, index=df.index)\n"
   ]
  },
  {
   "cell_type": "code",
   "execution_count": 36,
   "metadata": {},
   "outputs": [
    {
     "output_type": "execute_result",
     "data": {
      "text/plain": [
       "                            A         B         C  D    E  E prime    cosine\n",
       "2020-11-09 14:45:00  0.000000  0.219429 -0.207785  5  0.0        0  1.000000\n",
       "2020-11-09 15:45:00  0.043199 -0.456115 -1.212836  5  0.5        2  0.999962\n",
       "2020-11-09 16:45:00 -0.889778  1.363724 -2.287257  5  1.0        4  0.999848\n",
       "2020-11-09 17:45:00  0.027954 -0.191032  1.755418  5  1.5        6  0.999657\n",
       "2020-11-09 18:45:00 -1.427035 -1.411288  0.535301  5  2.0        8  0.999391\n",
       "2020-11-09 19:45:00  0.505363 -0.696822 -0.988745  5  2.5       10  0.999048\n",
       "2020-11-09 20:45:00  0.415315 -1.724885 -0.496601  5  3.0       12  0.998630\n",
       "2020-11-09 21:45:00 -0.426914 -1.042783 -1.096151  5  3.5       14  0.998135\n",
       "2020-11-09 22:45:00 -1.466273  0.205849  0.374378  5  4.0       16  0.997564\n",
       "2020-11-09 23:45:00  0.908403  1.097730  1.756739  5  4.5       18  0.996917"
      ],
      "text/html": "<div>\n<style scoped>\n    .dataframe tbody tr th:only-of-type {\n        vertical-align: middle;\n    }\n\n    .dataframe tbody tr th {\n        vertical-align: top;\n    }\n\n    .dataframe thead th {\n        text-align: right;\n    }\n</style>\n<table border=\"1\" class=\"dataframe\">\n  <thead>\n    <tr style=\"text-align: right;\">\n      <th></th>\n      <th>A</th>\n      <th>B</th>\n      <th>C</th>\n      <th>D</th>\n      <th>E</th>\n      <th>E prime</th>\n      <th>cosine</th>\n    </tr>\n  </thead>\n  <tbody>\n    <tr>\n      <th>2020-11-09 14:45:00</th>\n      <td>0.000000</td>\n      <td>0.219429</td>\n      <td>-0.207785</td>\n      <td>5</td>\n      <td>0.0</td>\n      <td>0</td>\n      <td>1.000000</td>\n    </tr>\n    <tr>\n      <th>2020-11-09 15:45:00</th>\n      <td>0.043199</td>\n      <td>-0.456115</td>\n      <td>-1.212836</td>\n      <td>5</td>\n      <td>0.5</td>\n      <td>2</td>\n      <td>0.999962</td>\n    </tr>\n    <tr>\n      <th>2020-11-09 16:45:00</th>\n      <td>-0.889778</td>\n      <td>1.363724</td>\n      <td>-2.287257</td>\n      <td>5</td>\n      <td>1.0</td>\n      <td>4</td>\n      <td>0.999848</td>\n    </tr>\n    <tr>\n      <th>2020-11-09 17:45:00</th>\n      <td>0.027954</td>\n      <td>-0.191032</td>\n      <td>1.755418</td>\n      <td>5</td>\n      <td>1.5</td>\n      <td>6</td>\n      <td>0.999657</td>\n    </tr>\n    <tr>\n      <th>2020-11-09 18:45:00</th>\n      <td>-1.427035</td>\n      <td>-1.411288</td>\n      <td>0.535301</td>\n      <td>5</td>\n      <td>2.0</td>\n      <td>8</td>\n      <td>0.999391</td>\n    </tr>\n    <tr>\n      <th>2020-11-09 19:45:00</th>\n      <td>0.505363</td>\n      <td>-0.696822</td>\n      <td>-0.988745</td>\n      <td>5</td>\n      <td>2.5</td>\n      <td>10</td>\n      <td>0.999048</td>\n    </tr>\n    <tr>\n      <th>2020-11-09 20:45:00</th>\n      <td>0.415315</td>\n      <td>-1.724885</td>\n      <td>-0.496601</td>\n      <td>5</td>\n      <td>3.0</td>\n      <td>12</td>\n      <td>0.998630</td>\n    </tr>\n    <tr>\n      <th>2020-11-09 21:45:00</th>\n      <td>-0.426914</td>\n      <td>-1.042783</td>\n      <td>-1.096151</td>\n      <td>5</td>\n      <td>3.5</td>\n      <td>14</td>\n      <td>0.998135</td>\n    </tr>\n    <tr>\n      <th>2020-11-09 22:45:00</th>\n      <td>-1.466273</td>\n      <td>0.205849</td>\n      <td>0.374378</td>\n      <td>5</td>\n      <td>4.0</td>\n      <td>16</td>\n      <td>0.997564</td>\n    </tr>\n    <tr>\n      <th>2020-11-09 23:45:00</th>\n      <td>0.908403</td>\n      <td>1.097730</td>\n      <td>1.756739</td>\n      <td>5</td>\n      <td>4.5</td>\n      <td>18</td>\n      <td>0.996917</td>\n    </tr>\n  </tbody>\n</table>\n</div>"
     },
     "metadata": {},
     "execution_count": 36
    }
   ],
   "source": [
    "def dcos(theta):\n",
    "    theta = theta*(np.pi/180)\n",
    "    return np.cos(theta)\n",
    " \n",
    "df['cosine'] = pd.Series(df[\"E\"].apply(dcos), index=df.index)\n",
    "df"
   ]
  },
  {
   "cell_type": "code",
   "execution_count": 37,
   "metadata": {},
   "outputs": [
    {
     "output_type": "execute_result",
     "data": {
      "text/plain": [
       "                            A         B         C  D    E  E prime    cosine\n",
       "2020-11-09 14:45:00  0.000000 -0.219429 -0.207785 -5  0.0        0 -1.000000\n",
       "2020-11-09 15:45:00 -0.043199 -0.456115 -1.212836 -5 -0.5       -2 -0.999962\n",
       "2020-11-09 16:45:00 -0.889778 -1.363724 -2.287257 -5 -1.0       -4 -0.999848\n",
       "2020-11-09 17:45:00 -0.027954 -0.191032 -1.755418 -5 -1.5       -6 -0.999657\n",
       "2020-11-09 18:45:00 -1.427035 -1.411288 -0.535301 -5 -2.0       -8 -0.999391\n",
       "2020-11-09 19:45:00 -0.505363 -0.696822 -0.988745 -5 -2.5      -10 -0.999048\n",
       "2020-11-09 20:45:00 -0.415315 -1.724885 -0.496601 -5 -3.0      -12 -0.998630\n",
       "2020-11-09 21:45:00 -0.426914 -1.042783 -1.096151 -5 -3.5      -14 -0.998135\n",
       "2020-11-09 22:45:00 -1.466273 -0.205849 -0.374378 -5 -4.0      -16 -0.997564\n",
       "2020-11-09 23:45:00 -0.908403 -1.097730 -1.756739 -5 -4.5      -18 -0.996917"
      ],
      "text/html": "<div>\n<style scoped>\n    .dataframe tbody tr th:only-of-type {\n        vertical-align: middle;\n    }\n\n    .dataframe tbody tr th {\n        vertical-align: top;\n    }\n\n    .dataframe thead th {\n        text-align: right;\n    }\n</style>\n<table border=\"1\" class=\"dataframe\">\n  <thead>\n    <tr style=\"text-align: right;\">\n      <th></th>\n      <th>A</th>\n      <th>B</th>\n      <th>C</th>\n      <th>D</th>\n      <th>E</th>\n      <th>E prime</th>\n      <th>cosine</th>\n    </tr>\n  </thead>\n  <tbody>\n    <tr>\n      <th>2020-11-09 14:45:00</th>\n      <td>0.000000</td>\n      <td>-0.219429</td>\n      <td>-0.207785</td>\n      <td>-5</td>\n      <td>0.0</td>\n      <td>0</td>\n      <td>-1.000000</td>\n    </tr>\n    <tr>\n      <th>2020-11-09 15:45:00</th>\n      <td>-0.043199</td>\n      <td>-0.456115</td>\n      <td>-1.212836</td>\n      <td>-5</td>\n      <td>-0.5</td>\n      <td>-2</td>\n      <td>-0.999962</td>\n    </tr>\n    <tr>\n      <th>2020-11-09 16:45:00</th>\n      <td>-0.889778</td>\n      <td>-1.363724</td>\n      <td>-2.287257</td>\n      <td>-5</td>\n      <td>-1.0</td>\n      <td>-4</td>\n      <td>-0.999848</td>\n    </tr>\n    <tr>\n      <th>2020-11-09 17:45:00</th>\n      <td>-0.027954</td>\n      <td>-0.191032</td>\n      <td>-1.755418</td>\n      <td>-5</td>\n      <td>-1.5</td>\n      <td>-6</td>\n      <td>-0.999657</td>\n    </tr>\n    <tr>\n      <th>2020-11-09 18:45:00</th>\n      <td>-1.427035</td>\n      <td>-1.411288</td>\n      <td>-0.535301</td>\n      <td>-5</td>\n      <td>-2.0</td>\n      <td>-8</td>\n      <td>-0.999391</td>\n    </tr>\n    <tr>\n      <th>2020-11-09 19:45:00</th>\n      <td>-0.505363</td>\n      <td>-0.696822</td>\n      <td>-0.988745</td>\n      <td>-5</td>\n      <td>-2.5</td>\n      <td>-10</td>\n      <td>-0.999048</td>\n    </tr>\n    <tr>\n      <th>2020-11-09 20:45:00</th>\n      <td>-0.415315</td>\n      <td>-1.724885</td>\n      <td>-0.496601</td>\n      <td>-5</td>\n      <td>-3.0</td>\n      <td>-12</td>\n      <td>-0.998630</td>\n    </tr>\n    <tr>\n      <th>2020-11-09 21:45:00</th>\n      <td>-0.426914</td>\n      <td>-1.042783</td>\n      <td>-1.096151</td>\n      <td>-5</td>\n      <td>-3.5</td>\n      <td>-14</td>\n      <td>-0.998135</td>\n    </tr>\n    <tr>\n      <th>2020-11-09 22:45:00</th>\n      <td>-1.466273</td>\n      <td>-0.205849</td>\n      <td>-0.374378</td>\n      <td>-5</td>\n      <td>-4.0</td>\n      <td>-16</td>\n      <td>-0.997564</td>\n    </tr>\n    <tr>\n      <th>2020-11-09 23:45:00</th>\n      <td>-0.908403</td>\n      <td>-1.097730</td>\n      <td>-1.756739</td>\n      <td>-5</td>\n      <td>-4.5</td>\n      <td>-18</td>\n      <td>-0.996917</td>\n    </tr>\n  </tbody>\n</table>\n</div>"
     },
     "metadata": {},
     "execution_count": 37
    }
   ],
   "source": [
    "# another example of global setting\n",
    "df2=df.copy()\n",
    "df2[df2>0] = -df2\n",
    "df2"
   ]
  },
  {
   "cell_type": "markdown",
   "metadata": {},
   "source": [
    "### Dropping\n",
    "\n",
    "N.B.: dropping doesn't act permanently on the DataFrame, i.e. to get that do :\n",
    "```python\n",
    "df = df.drop(....)\n",
    "```"
   ]
  },
  {
   "cell_type": "code",
   "execution_count": 38,
   "metadata": {},
   "outputs": [
    {
     "output_type": "execute_result",
     "data": {
      "text/plain": [
       "                            A         B         C  D    E    cosine\n",
       "2020-11-09 14:45:00  0.000000  0.219429 -0.207785  5  0.0  1.000000\n",
       "2020-11-09 15:45:00  0.043199 -0.456115 -1.212836  5  0.5  0.999962\n",
       "2020-11-09 16:45:00 -0.889778  1.363724 -2.287257  5  1.0  0.999848\n",
       "2020-11-09 17:45:00  0.027954 -0.191032  1.755418  5  1.5  0.999657\n",
       "2020-11-09 18:45:00 -1.427035 -1.411288  0.535301  5  2.0  0.999391\n",
       "2020-11-09 19:45:00  0.505363 -0.696822 -0.988745  5  2.5  0.999048\n",
       "2020-11-09 20:45:00  0.415315 -1.724885 -0.496601  5  3.0  0.998630\n",
       "2020-11-09 21:45:00 -0.426914 -1.042783 -1.096151  5  3.5  0.998135\n",
       "2020-11-09 22:45:00 -1.466273  0.205849  0.374378  5  4.0  0.997564\n",
       "2020-11-09 23:45:00  0.908403  1.097730  1.756739  5  4.5  0.996917"
      ],
      "text/html": "<div>\n<style scoped>\n    .dataframe tbody tr th:only-of-type {\n        vertical-align: middle;\n    }\n\n    .dataframe tbody tr th {\n        vertical-align: top;\n    }\n\n    .dataframe thead th {\n        text-align: right;\n    }\n</style>\n<table border=\"1\" class=\"dataframe\">\n  <thead>\n    <tr style=\"text-align: right;\">\n      <th></th>\n      <th>A</th>\n      <th>B</th>\n      <th>C</th>\n      <th>D</th>\n      <th>E</th>\n      <th>cosine</th>\n    </tr>\n  </thead>\n  <tbody>\n    <tr>\n      <th>2020-11-09 14:45:00</th>\n      <td>0.000000</td>\n      <td>0.219429</td>\n      <td>-0.207785</td>\n      <td>5</td>\n      <td>0.0</td>\n      <td>1.000000</td>\n    </tr>\n    <tr>\n      <th>2020-11-09 15:45:00</th>\n      <td>0.043199</td>\n      <td>-0.456115</td>\n      <td>-1.212836</td>\n      <td>5</td>\n      <td>0.5</td>\n      <td>0.999962</td>\n    </tr>\n    <tr>\n      <th>2020-11-09 16:45:00</th>\n      <td>-0.889778</td>\n      <td>1.363724</td>\n      <td>-2.287257</td>\n      <td>5</td>\n      <td>1.0</td>\n      <td>0.999848</td>\n    </tr>\n    <tr>\n      <th>2020-11-09 17:45:00</th>\n      <td>0.027954</td>\n      <td>-0.191032</td>\n      <td>1.755418</td>\n      <td>5</td>\n      <td>1.5</td>\n      <td>0.999657</td>\n    </tr>\n    <tr>\n      <th>2020-11-09 18:45:00</th>\n      <td>-1.427035</td>\n      <td>-1.411288</td>\n      <td>0.535301</td>\n      <td>5</td>\n      <td>2.0</td>\n      <td>0.999391</td>\n    </tr>\n    <tr>\n      <th>2020-11-09 19:45:00</th>\n      <td>0.505363</td>\n      <td>-0.696822</td>\n      <td>-0.988745</td>\n      <td>5</td>\n      <td>2.5</td>\n      <td>0.999048</td>\n    </tr>\n    <tr>\n      <th>2020-11-09 20:45:00</th>\n      <td>0.415315</td>\n      <td>-1.724885</td>\n      <td>-0.496601</td>\n      <td>5</td>\n      <td>3.0</td>\n      <td>0.998630</td>\n    </tr>\n    <tr>\n      <th>2020-11-09 21:45:00</th>\n      <td>-0.426914</td>\n      <td>-1.042783</td>\n      <td>-1.096151</td>\n      <td>5</td>\n      <td>3.5</td>\n      <td>0.998135</td>\n    </tr>\n    <tr>\n      <th>2020-11-09 22:45:00</th>\n      <td>-1.466273</td>\n      <td>0.205849</td>\n      <td>0.374378</td>\n      <td>5</td>\n      <td>4.0</td>\n      <td>0.997564</td>\n    </tr>\n    <tr>\n      <th>2020-11-09 23:45:00</th>\n      <td>0.908403</td>\n      <td>1.097730</td>\n      <td>1.756739</td>\n      <td>5</td>\n      <td>4.5</td>\n      <td>0.996917</td>\n    </tr>\n  </tbody>\n</table>\n</div>"
     },
     "metadata": {},
     "execution_count": 38
    }
   ],
   "source": [
    "# Dropping by column\n",
    "df.drop(['E prime'], axis=1)\n",
    "\n",
    "#which is equivalent to\n",
    "df.drop(columns=['E prime']) #in a sense.. it is a copy!... ok"
   ]
  },
  {
   "cell_type": "code",
   "execution_count": 39,
   "metadata": {},
   "outputs": [
    {
     "output_type": "execute_result",
     "data": {
      "text/plain": [
       "                            A         B         C  D    E  E prime    cosine\n",
       "2020-11-09 14:45:00  0.000000  0.219429 -0.207785  5  0.0        0  1.000000\n",
       "2020-11-09 19:45:00  0.505363 -0.696822 -0.988745  5  2.5       10  0.999048\n",
       "2020-11-09 20:45:00  0.415315 -1.724885 -0.496601  5  3.0       12  0.998630\n",
       "2020-11-09 21:45:00 -0.426914 -1.042783 -1.096151  5  3.5       14  0.998135\n",
       "2020-11-09 22:45:00 -1.466273  0.205849  0.374378  5  4.0       16  0.997564\n",
       "2020-11-09 23:45:00  0.908403  1.097730  1.756739  5  4.5       18  0.996917"
      ],
      "text/html": "<div>\n<style scoped>\n    .dataframe tbody tr th:only-of-type {\n        vertical-align: middle;\n    }\n\n    .dataframe tbody tr th {\n        vertical-align: top;\n    }\n\n    .dataframe thead th {\n        text-align: right;\n    }\n</style>\n<table border=\"1\" class=\"dataframe\">\n  <thead>\n    <tr style=\"text-align: right;\">\n      <th></th>\n      <th>A</th>\n      <th>B</th>\n      <th>C</th>\n      <th>D</th>\n      <th>E</th>\n      <th>E prime</th>\n      <th>cosine</th>\n    </tr>\n  </thead>\n  <tbody>\n    <tr>\n      <th>2020-11-09 14:45:00</th>\n      <td>0.000000</td>\n      <td>0.219429</td>\n      <td>-0.207785</td>\n      <td>5</td>\n      <td>0.0</td>\n      <td>0</td>\n      <td>1.000000</td>\n    </tr>\n    <tr>\n      <th>2020-11-09 19:45:00</th>\n      <td>0.505363</td>\n      <td>-0.696822</td>\n      <td>-0.988745</td>\n      <td>5</td>\n      <td>2.5</td>\n      <td>10</td>\n      <td>0.999048</td>\n    </tr>\n    <tr>\n      <th>2020-11-09 20:45:00</th>\n      <td>0.415315</td>\n      <td>-1.724885</td>\n      <td>-0.496601</td>\n      <td>5</td>\n      <td>3.0</td>\n      <td>12</td>\n      <td>0.998630</td>\n    </tr>\n    <tr>\n      <th>2020-11-09 21:45:00</th>\n      <td>-0.426914</td>\n      <td>-1.042783</td>\n      <td>-1.096151</td>\n      <td>5</td>\n      <td>3.5</td>\n      <td>14</td>\n      <td>0.998135</td>\n    </tr>\n    <tr>\n      <th>2020-11-09 22:45:00</th>\n      <td>-1.466273</td>\n      <td>0.205849</td>\n      <td>0.374378</td>\n      <td>5</td>\n      <td>4.0</td>\n      <td>16</td>\n      <td>0.997564</td>\n    </tr>\n    <tr>\n      <th>2020-11-09 23:45:00</th>\n      <td>0.908403</td>\n      <td>1.097730</td>\n      <td>1.756739</td>\n      <td>5</td>\n      <td>4.5</td>\n      <td>18</td>\n      <td>0.996917</td>\n    </tr>\n  </tbody>\n</table>\n</div>"
     },
     "metadata": {},
     "execution_count": 39
    }
   ],
   "source": [
    "# Dropping by raws\n",
    "# safe and always working\n",
    "df.drop(df.index[[1,2,3,4]])"
   ]
  },
  {
   "cell_type": "code",
   "execution_count": 40,
   "metadata": {},
   "outputs": [
    {
     "output_type": "execute_result",
     "data": {
      "text/plain": [
       "                            A         B         C  D    E  E prime    cosine\n",
       "2020-11-09 14:45:00  0.000000  0.219429 -0.207785  5  0.0        0  1.000000\n",
       "2020-11-09 15:45:00  0.043199 -0.456115 -1.212836  5  0.5        2  0.999962\n",
       "2020-11-09 16:45:00 -0.889778  1.363724 -2.287257  5  1.0        4  0.999848\n",
       "2020-11-09 17:45:00  0.027954 -0.191032  1.755418  5  1.5        6  0.999657\n",
       "2020-11-09 18:45:00 -1.427035 -1.411288  0.535301  5  2.0        8  0.999391\n",
       "2020-11-09 19:45:00  0.505363 -0.696822 -0.988745  5  2.5       10  0.999048\n",
       "2020-11-09 20:45:00  0.415315 -1.724885 -0.496601  5  3.0       12  0.998630\n",
       "2020-11-09 21:45:00 -0.426914 -1.042783 -1.096151  5  3.5       14  0.998135\n",
       "2020-11-09 23:45:00  0.908403  1.097730  1.756739  5  4.5       18  0.996917"
      ],
      "text/html": "<div>\n<style scoped>\n    .dataframe tbody tr th:only-of-type {\n        vertical-align: middle;\n    }\n\n    .dataframe tbody tr th {\n        vertical-align: top;\n    }\n\n    .dataframe thead th {\n        text-align: right;\n    }\n</style>\n<table border=\"1\" class=\"dataframe\">\n  <thead>\n    <tr style=\"text-align: right;\">\n      <th></th>\n      <th>A</th>\n      <th>B</th>\n      <th>C</th>\n      <th>D</th>\n      <th>E</th>\n      <th>E prime</th>\n      <th>cosine</th>\n    </tr>\n  </thead>\n  <tbody>\n    <tr>\n      <th>2020-11-09 14:45:00</th>\n      <td>0.000000</td>\n      <td>0.219429</td>\n      <td>-0.207785</td>\n      <td>5</td>\n      <td>0.0</td>\n      <td>0</td>\n      <td>1.000000</td>\n    </tr>\n    <tr>\n      <th>2020-11-09 15:45:00</th>\n      <td>0.043199</td>\n      <td>-0.456115</td>\n      <td>-1.212836</td>\n      <td>5</td>\n      <td>0.5</td>\n      <td>2</td>\n      <td>0.999962</td>\n    </tr>\n    <tr>\n      <th>2020-11-09 16:45:00</th>\n      <td>-0.889778</td>\n      <td>1.363724</td>\n      <td>-2.287257</td>\n      <td>5</td>\n      <td>1.0</td>\n      <td>4</td>\n      <td>0.999848</td>\n    </tr>\n    <tr>\n      <th>2020-11-09 17:45:00</th>\n      <td>0.027954</td>\n      <td>-0.191032</td>\n      <td>1.755418</td>\n      <td>5</td>\n      <td>1.5</td>\n      <td>6</td>\n      <td>0.999657</td>\n    </tr>\n    <tr>\n      <th>2020-11-09 18:45:00</th>\n      <td>-1.427035</td>\n      <td>-1.411288</td>\n      <td>0.535301</td>\n      <td>5</td>\n      <td>2.0</td>\n      <td>8</td>\n      <td>0.999391</td>\n    </tr>\n    <tr>\n      <th>2020-11-09 19:45:00</th>\n      <td>0.505363</td>\n      <td>-0.696822</td>\n      <td>-0.988745</td>\n      <td>5</td>\n      <td>2.5</td>\n      <td>10</td>\n      <td>0.999048</td>\n    </tr>\n    <tr>\n      <th>2020-11-09 20:45:00</th>\n      <td>0.415315</td>\n      <td>-1.724885</td>\n      <td>-0.496601</td>\n      <td>5</td>\n      <td>3.0</td>\n      <td>12</td>\n      <td>0.998630</td>\n    </tr>\n    <tr>\n      <th>2020-11-09 21:45:00</th>\n      <td>-0.426914</td>\n      <td>-1.042783</td>\n      <td>-1.096151</td>\n      <td>5</td>\n      <td>3.5</td>\n      <td>14</td>\n      <td>0.998135</td>\n    </tr>\n    <tr>\n      <th>2020-11-09 23:45:00</th>\n      <td>0.908403</td>\n      <td>1.097730</td>\n      <td>1.756739</td>\n      <td>5</td>\n      <td>4.5</td>\n      <td>18</td>\n      <td>0.996917</td>\n    </tr>\n  </tbody>\n</table>\n</div>"
     },
     "metadata": {},
     "execution_count": 40
    }
   ],
   "source": [
    "# something like df.drop('index_name') \n",
    "# would work but the type of index must be specificed, \n",
    "# in particular with DatetimeIndex\n",
    "df.drop(pd.to_datetime(\"2020-11-09 22:45:00\"))"
   ]
  },
  {
   "cell_type": "markdown",
   "metadata": {},
   "source": [
    "## Missing data\n",
    "\n",
    "pandas primarily uses the value np.nan to represent missing data. It is by default not included in computations."
   ]
  },
  {
   "cell_type": "code",
   "execution_count": 41,
   "metadata": {},
   "outputs": [
    {
     "output_type": "execute_result",
     "data": {
      "text/plain": [
       "                            A         B         C  D    E  E prime    cosine\n",
       "2020-11-09 14:45:00       NaN  0.219429       NaN  5  NaN      NaN  1.000000\n",
       "2020-11-09 15:45:00  0.043199       NaN       NaN  5  0.5      2.0  0.999962\n",
       "2020-11-09 16:45:00       NaN  1.363724       NaN  5  1.0      4.0  0.999848\n",
       "2020-11-09 17:45:00  0.027954       NaN  1.755418  5  1.5      6.0  0.999657\n",
       "2020-11-09 18:45:00       NaN       NaN  0.535301  5  2.0      8.0  0.999391\n",
       "2020-11-09 19:45:00  0.505363       NaN       NaN  5  2.5     10.0  0.999048\n",
       "2020-11-09 20:45:00  0.415315       NaN       NaN  5  3.0     12.0  0.998630\n",
       "2020-11-09 21:45:00       NaN       NaN       NaN  5  3.5     14.0  0.998135\n",
       "2020-11-09 22:45:00       NaN  0.205849  0.374378  5  4.0     16.0  0.997564\n",
       "2020-11-09 23:45:00  0.908403  1.097730  1.756739  5  4.5     18.0  0.996917"
      ],
      "text/html": "<div>\n<style scoped>\n    .dataframe tbody tr th:only-of-type {\n        vertical-align: middle;\n    }\n\n    .dataframe tbody tr th {\n        vertical-align: top;\n    }\n\n    .dataframe thead th {\n        text-align: right;\n    }\n</style>\n<table border=\"1\" class=\"dataframe\">\n  <thead>\n    <tr style=\"text-align: right;\">\n      <th></th>\n      <th>A</th>\n      <th>B</th>\n      <th>C</th>\n      <th>D</th>\n      <th>E</th>\n      <th>E prime</th>\n      <th>cosine</th>\n    </tr>\n  </thead>\n  <tbody>\n    <tr>\n      <th>2020-11-09 14:45:00</th>\n      <td>NaN</td>\n      <td>0.219429</td>\n      <td>NaN</td>\n      <td>5</td>\n      <td>NaN</td>\n      <td>NaN</td>\n      <td>1.000000</td>\n    </tr>\n    <tr>\n      <th>2020-11-09 15:45:00</th>\n      <td>0.043199</td>\n      <td>NaN</td>\n      <td>NaN</td>\n      <td>5</td>\n      <td>0.5</td>\n      <td>2.0</td>\n      <td>0.999962</td>\n    </tr>\n    <tr>\n      <th>2020-11-09 16:45:00</th>\n      <td>NaN</td>\n      <td>1.363724</td>\n      <td>NaN</td>\n      <td>5</td>\n      <td>1.0</td>\n      <td>4.0</td>\n      <td>0.999848</td>\n    </tr>\n    <tr>\n      <th>2020-11-09 17:45:00</th>\n      <td>0.027954</td>\n      <td>NaN</td>\n      <td>1.755418</td>\n      <td>5</td>\n      <td>1.5</td>\n      <td>6.0</td>\n      <td>0.999657</td>\n    </tr>\n    <tr>\n      <th>2020-11-09 18:45:00</th>\n      <td>NaN</td>\n      <td>NaN</td>\n      <td>0.535301</td>\n      <td>5</td>\n      <td>2.0</td>\n      <td>8.0</td>\n      <td>0.999391</td>\n    </tr>\n    <tr>\n      <th>2020-11-09 19:45:00</th>\n      <td>0.505363</td>\n      <td>NaN</td>\n      <td>NaN</td>\n      <td>5</td>\n      <td>2.5</td>\n      <td>10.0</td>\n      <td>0.999048</td>\n    </tr>\n    <tr>\n      <th>2020-11-09 20:45:00</th>\n      <td>0.415315</td>\n      <td>NaN</td>\n      <td>NaN</td>\n      <td>5</td>\n      <td>3.0</td>\n      <td>12.0</td>\n      <td>0.998630</td>\n    </tr>\n    <tr>\n      <th>2020-11-09 21:45:00</th>\n      <td>NaN</td>\n      <td>NaN</td>\n      <td>NaN</td>\n      <td>5</td>\n      <td>3.5</td>\n      <td>14.0</td>\n      <td>0.998135</td>\n    </tr>\n    <tr>\n      <th>2020-11-09 22:45:00</th>\n      <td>NaN</td>\n      <td>0.205849</td>\n      <td>0.374378</td>\n      <td>5</td>\n      <td>4.0</td>\n      <td>16.0</td>\n      <td>0.997564</td>\n    </tr>\n    <tr>\n      <th>2020-11-09 23:45:00</th>\n      <td>0.908403</td>\n      <td>1.097730</td>\n      <td>1.756739</td>\n      <td>5</td>\n      <td>4.5</td>\n      <td>18.0</td>\n      <td>0.996917</td>\n    </tr>\n  </tbody>\n</table>\n</div>"
     },
     "metadata": {},
     "execution_count": 41
    }
   ],
   "source": [
    "df_wNan = df[df>0]\n",
    "df_wNan"
   ]
  },
  {
   "cell_type": "code",
   "execution_count": 42,
   "metadata": {},
   "outputs": [
    {
     "output_type": "execute_result",
     "data": {
      "text/plain": [
       "                            A        B         C  D    E  E prime    cosine\n",
       "2020-11-09 23:45:00  0.908403  1.09773  1.756739  5  4.5     18.0  0.996917"
      ],
      "text/html": "<div>\n<style scoped>\n    .dataframe tbody tr th:only-of-type {\n        vertical-align: middle;\n    }\n\n    .dataframe tbody tr th {\n        vertical-align: top;\n    }\n\n    .dataframe thead th {\n        text-align: right;\n    }\n</style>\n<table border=\"1\" class=\"dataframe\">\n  <thead>\n    <tr style=\"text-align: right;\">\n      <th></th>\n      <th>A</th>\n      <th>B</th>\n      <th>C</th>\n      <th>D</th>\n      <th>E</th>\n      <th>E prime</th>\n      <th>cosine</th>\n    </tr>\n  </thead>\n  <tbody>\n    <tr>\n      <th>2020-11-09 23:45:00</th>\n      <td>0.908403</td>\n      <td>1.09773</td>\n      <td>1.756739</td>\n      <td>5</td>\n      <td>4.5</td>\n      <td>18.0</td>\n      <td>0.996917</td>\n    </tr>\n  </tbody>\n</table>\n</div>"
     },
     "metadata": {},
     "execution_count": 42
    }
   ],
   "source": [
    "# dropping raws with at least a Nan\n",
    "df_wNan.dropna(how='any')"
   ]
  },
  {
   "cell_type": "code",
   "execution_count": 43,
   "metadata": {},
   "outputs": [
    {
     "output_type": "execute_result",
     "data": {
      "text/plain": [
       "                         A      B      C      D      E  E prime  cosine\n",
       "2020-11-09 14:45:00   True  False   True  False   True     True   False\n",
       "2020-11-09 15:45:00  False   True   True  False  False    False   False\n",
       "2020-11-09 16:45:00   True  False   True  False  False    False   False\n",
       "2020-11-09 17:45:00  False   True  False  False  False    False   False\n",
       "2020-11-09 18:45:00   True   True  False  False  False    False   False\n",
       "2020-11-09 19:45:00  False   True   True  False  False    False   False\n",
       "2020-11-09 20:45:00  False   True   True  False  False    False   False\n",
       "2020-11-09 21:45:00   True   True   True  False  False    False   False\n",
       "2020-11-09 22:45:00   True  False  False  False  False    False   False\n",
       "2020-11-09 23:45:00  False  False  False  False  False    False   False"
      ],
      "text/html": "<div>\n<style scoped>\n    .dataframe tbody tr th:only-of-type {\n        vertical-align: middle;\n    }\n\n    .dataframe tbody tr th {\n        vertical-align: top;\n    }\n\n    .dataframe thead th {\n        text-align: right;\n    }\n</style>\n<table border=\"1\" class=\"dataframe\">\n  <thead>\n    <tr style=\"text-align: right;\">\n      <th></th>\n      <th>A</th>\n      <th>B</th>\n      <th>C</th>\n      <th>D</th>\n      <th>E</th>\n      <th>E prime</th>\n      <th>cosine</th>\n    </tr>\n  </thead>\n  <tbody>\n    <tr>\n      <th>2020-11-09 14:45:00</th>\n      <td>True</td>\n      <td>False</td>\n      <td>True</td>\n      <td>False</td>\n      <td>True</td>\n      <td>True</td>\n      <td>False</td>\n    </tr>\n    <tr>\n      <th>2020-11-09 15:45:00</th>\n      <td>False</td>\n      <td>True</td>\n      <td>True</td>\n      <td>False</td>\n      <td>False</td>\n      <td>False</td>\n      <td>False</td>\n    </tr>\n    <tr>\n      <th>2020-11-09 16:45:00</th>\n      <td>True</td>\n      <td>False</td>\n      <td>True</td>\n      <td>False</td>\n      <td>False</td>\n      <td>False</td>\n      <td>False</td>\n    </tr>\n    <tr>\n      <th>2020-11-09 17:45:00</th>\n      <td>False</td>\n      <td>True</td>\n      <td>False</td>\n      <td>False</td>\n      <td>False</td>\n      <td>False</td>\n      <td>False</td>\n    </tr>\n    <tr>\n      <th>2020-11-09 18:45:00</th>\n      <td>True</td>\n      <td>True</td>\n      <td>False</td>\n      <td>False</td>\n      <td>False</td>\n      <td>False</td>\n      <td>False</td>\n    </tr>\n    <tr>\n      <th>2020-11-09 19:45:00</th>\n      <td>False</td>\n      <td>True</td>\n      <td>True</td>\n      <td>False</td>\n      <td>False</td>\n      <td>False</td>\n      <td>False</td>\n    </tr>\n    <tr>\n      <th>2020-11-09 20:45:00</th>\n      <td>False</td>\n      <td>True</td>\n      <td>True</td>\n      <td>False</td>\n      <td>False</td>\n      <td>False</td>\n      <td>False</td>\n    </tr>\n    <tr>\n      <th>2020-11-09 21:45:00</th>\n      <td>True</td>\n      <td>True</td>\n      <td>True</td>\n      <td>False</td>\n      <td>False</td>\n      <td>False</td>\n      <td>False</td>\n    </tr>\n    <tr>\n      <th>2020-11-09 22:45:00</th>\n      <td>True</td>\n      <td>False</td>\n      <td>False</td>\n      <td>False</td>\n      <td>False</td>\n      <td>False</td>\n      <td>False</td>\n    </tr>\n    <tr>\n      <th>2020-11-09 23:45:00</th>\n      <td>False</td>\n      <td>False</td>\n      <td>False</td>\n      <td>False</td>\n      <td>False</td>\n      <td>False</td>\n      <td>False</td>\n    </tr>\n  </tbody>\n</table>\n</div>"
     },
     "metadata": {},
     "execution_count": 43
    }
   ],
   "source": [
    "# getting a mask\n",
    "df_wNan.isna()\n",
    "#df_wNan.notna()"
   ]
  },
  {
   "cell_type": "code",
   "execution_count": 44,
   "metadata": {},
   "outputs": [
    {
     "output_type": "execute_result",
     "data": {
      "text/plain": [
       "                            A         B         C  D    E  E prime    cosine\n",
       "2020-11-09 14:45:00  0.000000  0.219429  0.000000  5  0.0      0.0  1.000000\n",
       "2020-11-09 15:45:00  0.043199  0.000000  0.000000  5  0.5      2.0  0.999962\n",
       "2020-11-09 16:45:00  0.000000  1.363724  0.000000  5  1.0      4.0  0.999848\n",
       "2020-11-09 17:45:00  0.027954  0.000000  1.755418  5  1.5      6.0  0.999657\n",
       "2020-11-09 18:45:00  0.000000  0.000000  0.535301  5  2.0      8.0  0.999391\n",
       "2020-11-09 19:45:00  0.505363  0.000000  0.000000  5  2.5     10.0  0.999048\n",
       "2020-11-09 20:45:00  0.415315  0.000000  0.000000  5  3.0     12.0  0.998630\n",
       "2020-11-09 21:45:00  0.000000  0.000000  0.000000  5  3.5     14.0  0.998135\n",
       "2020-11-09 22:45:00  0.000000  0.205849  0.374378  5  4.0     16.0  0.997564\n",
       "2020-11-09 23:45:00  0.908403  1.097730  1.756739  5  4.5     18.0  0.996917"
      ],
      "text/html": "<div>\n<style scoped>\n    .dataframe tbody tr th:only-of-type {\n        vertical-align: middle;\n    }\n\n    .dataframe tbody tr th {\n        vertical-align: top;\n    }\n\n    .dataframe thead th {\n        text-align: right;\n    }\n</style>\n<table border=\"1\" class=\"dataframe\">\n  <thead>\n    <tr style=\"text-align: right;\">\n      <th></th>\n      <th>A</th>\n      <th>B</th>\n      <th>C</th>\n      <th>D</th>\n      <th>E</th>\n      <th>E prime</th>\n      <th>cosine</th>\n    </tr>\n  </thead>\n  <tbody>\n    <tr>\n      <th>2020-11-09 14:45:00</th>\n      <td>0.000000</td>\n      <td>0.219429</td>\n      <td>0.000000</td>\n      <td>5</td>\n      <td>0.0</td>\n      <td>0.0</td>\n      <td>1.000000</td>\n    </tr>\n    <tr>\n      <th>2020-11-09 15:45:00</th>\n      <td>0.043199</td>\n      <td>0.000000</td>\n      <td>0.000000</td>\n      <td>5</td>\n      <td>0.5</td>\n      <td>2.0</td>\n      <td>0.999962</td>\n    </tr>\n    <tr>\n      <th>2020-11-09 16:45:00</th>\n      <td>0.000000</td>\n      <td>1.363724</td>\n      <td>0.000000</td>\n      <td>5</td>\n      <td>1.0</td>\n      <td>4.0</td>\n      <td>0.999848</td>\n    </tr>\n    <tr>\n      <th>2020-11-09 17:45:00</th>\n      <td>0.027954</td>\n      <td>0.000000</td>\n      <td>1.755418</td>\n      <td>5</td>\n      <td>1.5</td>\n      <td>6.0</td>\n      <td>0.999657</td>\n    </tr>\n    <tr>\n      <th>2020-11-09 18:45:00</th>\n      <td>0.000000</td>\n      <td>0.000000</td>\n      <td>0.535301</td>\n      <td>5</td>\n      <td>2.0</td>\n      <td>8.0</td>\n      <td>0.999391</td>\n    </tr>\n    <tr>\n      <th>2020-11-09 19:45:00</th>\n      <td>0.505363</td>\n      <td>0.000000</td>\n      <td>0.000000</td>\n      <td>5</td>\n      <td>2.5</td>\n      <td>10.0</td>\n      <td>0.999048</td>\n    </tr>\n    <tr>\n      <th>2020-11-09 20:45:00</th>\n      <td>0.415315</td>\n      <td>0.000000</td>\n      <td>0.000000</td>\n      <td>5</td>\n      <td>3.0</td>\n      <td>12.0</td>\n      <td>0.998630</td>\n    </tr>\n    <tr>\n      <th>2020-11-09 21:45:00</th>\n      <td>0.000000</td>\n      <td>0.000000</td>\n      <td>0.000000</td>\n      <td>5</td>\n      <td>3.5</td>\n      <td>14.0</td>\n      <td>0.998135</td>\n    </tr>\n    <tr>\n      <th>2020-11-09 22:45:00</th>\n      <td>0.000000</td>\n      <td>0.205849</td>\n      <td>0.374378</td>\n      <td>5</td>\n      <td>4.0</td>\n      <td>16.0</td>\n      <td>0.997564</td>\n    </tr>\n    <tr>\n      <th>2020-11-09 23:45:00</th>\n      <td>0.908403</td>\n      <td>1.097730</td>\n      <td>1.756739</td>\n      <td>5</td>\n      <td>4.5</td>\n      <td>18.0</td>\n      <td>0.996917</td>\n    </tr>\n  </tbody>\n</table>\n</div>"
     },
     "metadata": {},
     "execution_count": 44
    }
   ],
   "source": [
    "# filling missing data\n",
    "df_wNan.fillna(value=0)"
   ]
  },
  {
   "cell_type": "markdown",
   "metadata": {},
   "source": [
    "Fill gaps forward or backward by propagating non-NA values forward or backward:"
   ]
  },
  {
   "cell_type": "code",
   "execution_count": 45,
   "metadata": {},
   "outputs": [
    {
     "output_type": "execute_result",
     "data": {
      "text/plain": [
       "                            A         B         C  D    E  E prime    cosine\n",
       "2020-11-09 14:45:00       NaN  0.219429       NaN  5  NaN      NaN  1.000000\n",
       "2020-11-09 15:45:00  0.043199  0.219429       NaN  5  0.5      2.0  0.999962\n",
       "2020-11-09 16:45:00  0.043199  1.363724       NaN  5  1.0      4.0  0.999848\n",
       "2020-11-09 17:45:00  0.027954  1.363724  1.755418  5  1.5      6.0  0.999657\n",
       "2020-11-09 18:45:00  0.027954  1.363724  0.535301  5  2.0      8.0  0.999391\n",
       "2020-11-09 19:45:00  0.505363  1.363724  0.535301  5  2.5     10.0  0.999048\n",
       "2020-11-09 20:45:00  0.415315  1.363724  0.535301  5  3.0     12.0  0.998630\n",
       "2020-11-09 21:45:00  0.415315  1.363724  0.535301  5  3.5     14.0  0.998135\n",
       "2020-11-09 22:45:00  0.415315  0.205849  0.374378  5  4.0     16.0  0.997564\n",
       "2020-11-09 23:45:00  0.908403  1.097730  1.756739  5  4.5     18.0  0.996917"
      ],
      "text/html": "<div>\n<style scoped>\n    .dataframe tbody tr th:only-of-type {\n        vertical-align: middle;\n    }\n\n    .dataframe tbody tr th {\n        vertical-align: top;\n    }\n\n    .dataframe thead th {\n        text-align: right;\n    }\n</style>\n<table border=\"1\" class=\"dataframe\">\n  <thead>\n    <tr style=\"text-align: right;\">\n      <th></th>\n      <th>A</th>\n      <th>B</th>\n      <th>C</th>\n      <th>D</th>\n      <th>E</th>\n      <th>E prime</th>\n      <th>cosine</th>\n    </tr>\n  </thead>\n  <tbody>\n    <tr>\n      <th>2020-11-09 14:45:00</th>\n      <td>NaN</td>\n      <td>0.219429</td>\n      <td>NaN</td>\n      <td>5</td>\n      <td>NaN</td>\n      <td>NaN</td>\n      <td>1.000000</td>\n    </tr>\n    <tr>\n      <th>2020-11-09 15:45:00</th>\n      <td>0.043199</td>\n      <td>0.219429</td>\n      <td>NaN</td>\n      <td>5</td>\n      <td>0.5</td>\n      <td>2.0</td>\n      <td>0.999962</td>\n    </tr>\n    <tr>\n      <th>2020-11-09 16:45:00</th>\n      <td>0.043199</td>\n      <td>1.363724</td>\n      <td>NaN</td>\n      <td>5</td>\n      <td>1.0</td>\n      <td>4.0</td>\n      <td>0.999848</td>\n    </tr>\n    <tr>\n      <th>2020-11-09 17:45:00</th>\n      <td>0.027954</td>\n      <td>1.363724</td>\n      <td>1.755418</td>\n      <td>5</td>\n      <td>1.5</td>\n      <td>6.0</td>\n      <td>0.999657</td>\n    </tr>\n    <tr>\n      <th>2020-11-09 18:45:00</th>\n      <td>0.027954</td>\n      <td>1.363724</td>\n      <td>0.535301</td>\n      <td>5</td>\n      <td>2.0</td>\n      <td>8.0</td>\n      <td>0.999391</td>\n    </tr>\n    <tr>\n      <th>2020-11-09 19:45:00</th>\n      <td>0.505363</td>\n      <td>1.363724</td>\n      <td>0.535301</td>\n      <td>5</td>\n      <td>2.5</td>\n      <td>10.0</td>\n      <td>0.999048</td>\n    </tr>\n    <tr>\n      <th>2020-11-09 20:45:00</th>\n      <td>0.415315</td>\n      <td>1.363724</td>\n      <td>0.535301</td>\n      <td>5</td>\n      <td>3.0</td>\n      <td>12.0</td>\n      <td>0.998630</td>\n    </tr>\n    <tr>\n      <th>2020-11-09 21:45:00</th>\n      <td>0.415315</td>\n      <td>1.363724</td>\n      <td>0.535301</td>\n      <td>5</td>\n      <td>3.5</td>\n      <td>14.0</td>\n      <td>0.998135</td>\n    </tr>\n    <tr>\n      <th>2020-11-09 22:45:00</th>\n      <td>0.415315</td>\n      <td>0.205849</td>\n      <td>0.374378</td>\n      <td>5</td>\n      <td>4.0</td>\n      <td>16.0</td>\n      <td>0.997564</td>\n    </tr>\n    <tr>\n      <th>2020-11-09 23:45:00</th>\n      <td>0.908403</td>\n      <td>1.097730</td>\n      <td>1.756739</td>\n      <td>5</td>\n      <td>4.5</td>\n      <td>18.0</td>\n      <td>0.996917</td>\n    </tr>\n  </tbody>\n</table>\n</div>"
     },
     "metadata": {},
     "execution_count": 45
    }
   ],
   "source": [
    "df_wNan.fillna(method='pad') #VERY dangerous..."
   ]
  },
  {
   "cell_type": "markdown",
   "metadata": {},
   "source": [
    "## Operations\n",
    "\n",
    "Here comes the most relevant advantage of DataFrame. Operations on columns are extremly fast, almost as fast as the actual operation between elements in a raw"
   ]
  },
  {
   "cell_type": "code",
   "execution_count": 46,
   "metadata": {},
   "outputs": [
    {
     "output_type": "stream",
     "name": "stdout",
     "text": [
      "A         -0.230977\nB         -0.263619\nC         -0.186754\nD          5.000000\nE          2.250000\nE prime    9.000000\ncosine     0.998915\ndtype: float64 \n\n2020-11-09 14:45:00    0.858806\n2020-11-09 15:45:00    0.982030\n2020-11-09 16:45:00    1.312362\n2020-11-09 17:45:00    2.156000\n2020-11-09 18:45:00    1.956624\n2020-11-09 19:45:00    2.474121\n2020-11-09 20:45:00    2.741780\n2020-11-09 21:45:00    2.990327\n2020-11-09 22:45:00    3.587360\n2020-11-09 23:45:00    4.608541\nFreq: H, dtype: float64 \n\n"
     ]
    }
   ],
   "source": [
    "# Some statistics (mean() just as an example)\n",
    "# raws\n",
    "print (df.mean(axis=0),'\\n')\n",
    "# columns\n",
    "print (df.mean(axis=1),'\\n')"
   ]
  },
  {
   "cell_type": "code",
   "execution_count": 47,
   "metadata": {},
   "outputs": [
    {
     "output_type": "execute_result",
     "data": {
      "text/plain": [
       "                            A         B         C   D     E  E prime    cosine\n",
       "2020-11-09 14:45:00  0.000000  0.219429 -0.207785   5   0.0        0  1.000000\n",
       "2020-11-09 15:45:00  0.043199 -0.236686 -1.420622  10   0.5        2  1.999962\n",
       "2020-11-09 16:45:00 -0.846579  1.127038 -3.707879  15   1.5        6  2.999810\n",
       "2020-11-09 17:45:00 -0.818625  0.936005 -1.952460  20   3.0       12  3.999467\n",
       "2020-11-09 18:45:00 -2.245660 -0.475283 -1.417159  25   5.0       20  4.998858\n",
       "2020-11-09 19:45:00 -1.740297 -1.172105 -2.405904  30   7.5       30  5.997906\n",
       "2020-11-09 20:45:00 -1.324982 -2.896990 -2.902505  35  10.5       42  6.996536\n",
       "2020-11-09 21:45:00 -1.751895 -3.939773 -3.998656  40  14.0       56  7.994670\n",
       "2020-11-09 22:45:00 -3.218168 -3.733924 -3.624278  45  18.0       72  8.992234\n",
       "2020-11-09 23:45:00 -2.309766 -2.636194 -1.867539  50  22.5       90  9.989152"
      ],
      "text/html": "<div>\n<style scoped>\n    .dataframe tbody tr th:only-of-type {\n        vertical-align: middle;\n    }\n\n    .dataframe tbody tr th {\n        vertical-align: top;\n    }\n\n    .dataframe thead th {\n        text-align: right;\n    }\n</style>\n<table border=\"1\" class=\"dataframe\">\n  <thead>\n    <tr style=\"text-align: right;\">\n      <th></th>\n      <th>A</th>\n      <th>B</th>\n      <th>C</th>\n      <th>D</th>\n      <th>E</th>\n      <th>E prime</th>\n      <th>cosine</th>\n    </tr>\n  </thead>\n  <tbody>\n    <tr>\n      <th>2020-11-09 14:45:00</th>\n      <td>0.000000</td>\n      <td>0.219429</td>\n      <td>-0.207785</td>\n      <td>5</td>\n      <td>0.0</td>\n      <td>0</td>\n      <td>1.000000</td>\n    </tr>\n    <tr>\n      <th>2020-11-09 15:45:00</th>\n      <td>0.043199</td>\n      <td>-0.236686</td>\n      <td>-1.420622</td>\n      <td>10</td>\n      <td>0.5</td>\n      <td>2</td>\n      <td>1.999962</td>\n    </tr>\n    <tr>\n      <th>2020-11-09 16:45:00</th>\n      <td>-0.846579</td>\n      <td>1.127038</td>\n      <td>-3.707879</td>\n      <td>15</td>\n      <td>1.5</td>\n      <td>6</td>\n      <td>2.999810</td>\n    </tr>\n    <tr>\n      <th>2020-11-09 17:45:00</th>\n      <td>-0.818625</td>\n      <td>0.936005</td>\n      <td>-1.952460</td>\n      <td>20</td>\n      <td>3.0</td>\n      <td>12</td>\n      <td>3.999467</td>\n    </tr>\n    <tr>\n      <th>2020-11-09 18:45:00</th>\n      <td>-2.245660</td>\n      <td>-0.475283</td>\n      <td>-1.417159</td>\n      <td>25</td>\n      <td>5.0</td>\n      <td>20</td>\n      <td>4.998858</td>\n    </tr>\n    <tr>\n      <th>2020-11-09 19:45:00</th>\n      <td>-1.740297</td>\n      <td>-1.172105</td>\n      <td>-2.405904</td>\n      <td>30</td>\n      <td>7.5</td>\n      <td>30</td>\n      <td>5.997906</td>\n    </tr>\n    <tr>\n      <th>2020-11-09 20:45:00</th>\n      <td>-1.324982</td>\n      <td>-2.896990</td>\n      <td>-2.902505</td>\n      <td>35</td>\n      <td>10.5</td>\n      <td>42</td>\n      <td>6.996536</td>\n    </tr>\n    <tr>\n      <th>2020-11-09 21:45:00</th>\n      <td>-1.751895</td>\n      <td>-3.939773</td>\n      <td>-3.998656</td>\n      <td>40</td>\n      <td>14.0</td>\n      <td>56</td>\n      <td>7.994670</td>\n    </tr>\n    <tr>\n      <th>2020-11-09 22:45:00</th>\n      <td>-3.218168</td>\n      <td>-3.733924</td>\n      <td>-3.624278</td>\n      <td>45</td>\n      <td>18.0</td>\n      <td>72</td>\n      <td>8.992234</td>\n    </tr>\n    <tr>\n      <th>2020-11-09 23:45:00</th>\n      <td>-2.309766</td>\n      <td>-2.636194</td>\n      <td>-1.867539</td>\n      <td>50</td>\n      <td>22.5</td>\n      <td>90</td>\n      <td>9.989152</td>\n    </tr>\n  </tbody>\n</table>\n</div>"
     },
     "metadata": {},
     "execution_count": 47
    }
   ],
   "source": [
    "# global operations on columns\n",
    "df.apply(np.cumsum) #just a view!"
   ]
  },
  {
   "cell_type": "code",
   "execution_count": 48,
   "metadata": {},
   "outputs": [
    {
     "output_type": "execute_result",
     "data": {
      "text/plain": [
       "                            A         B         C  D    E  E prime    cosine\n",
       "2020-11-09 14:45:00  0.000000  0.219429 -0.207785  5  0.0        0  1.000000\n",
       "2020-11-09 15:45:00  0.043199 -0.456115 -1.212836  5  0.5        2  0.999962\n",
       "2020-11-09 16:45:00 -0.889778  1.363724 -2.287257  5  1.0        4  0.999848\n",
       "2020-11-09 17:45:00  0.027954 -0.191032  1.755418  5  1.5        6  0.999657\n",
       "2020-11-09 18:45:00 -1.427035 -1.411288  0.535301  5  2.0        8  0.999391\n",
       "2020-11-09 19:45:00  0.505363 -0.696822 -0.988745  5  2.5       10  0.999048\n",
       "2020-11-09 20:45:00  0.415315 -1.724885 -0.496601  5  3.0       12  0.998630\n",
       "2020-11-09 21:45:00 -0.426914 -1.042783 -1.096151  5  3.5       14  0.998135\n",
       "2020-11-09 22:45:00 -1.466273  0.205849  0.374378  5  4.0       16  0.997564\n",
       "2020-11-09 23:45:00  0.908403  1.097730  1.756739  5  4.5       18  0.996917"
      ],
      "text/html": "<div>\n<style scoped>\n    .dataframe tbody tr th:only-of-type {\n        vertical-align: middle;\n    }\n\n    .dataframe tbody tr th {\n        vertical-align: top;\n    }\n\n    .dataframe thead th {\n        text-align: right;\n    }\n</style>\n<table border=\"1\" class=\"dataframe\">\n  <thead>\n    <tr style=\"text-align: right;\">\n      <th></th>\n      <th>A</th>\n      <th>B</th>\n      <th>C</th>\n      <th>D</th>\n      <th>E</th>\n      <th>E prime</th>\n      <th>cosine</th>\n    </tr>\n  </thead>\n  <tbody>\n    <tr>\n      <th>2020-11-09 14:45:00</th>\n      <td>0.000000</td>\n      <td>0.219429</td>\n      <td>-0.207785</td>\n      <td>5</td>\n      <td>0.0</td>\n      <td>0</td>\n      <td>1.000000</td>\n    </tr>\n    <tr>\n      <th>2020-11-09 15:45:00</th>\n      <td>0.043199</td>\n      <td>-0.456115</td>\n      <td>-1.212836</td>\n      <td>5</td>\n      <td>0.5</td>\n      <td>2</td>\n      <td>0.999962</td>\n    </tr>\n    <tr>\n      <th>2020-11-09 16:45:00</th>\n      <td>-0.889778</td>\n      <td>1.363724</td>\n      <td>-2.287257</td>\n      <td>5</td>\n      <td>1.0</td>\n      <td>4</td>\n      <td>0.999848</td>\n    </tr>\n    <tr>\n      <th>2020-11-09 17:45:00</th>\n      <td>0.027954</td>\n      <td>-0.191032</td>\n      <td>1.755418</td>\n      <td>5</td>\n      <td>1.5</td>\n      <td>6</td>\n      <td>0.999657</td>\n    </tr>\n    <tr>\n      <th>2020-11-09 18:45:00</th>\n      <td>-1.427035</td>\n      <td>-1.411288</td>\n      <td>0.535301</td>\n      <td>5</td>\n      <td>2.0</td>\n      <td>8</td>\n      <td>0.999391</td>\n    </tr>\n    <tr>\n      <th>2020-11-09 19:45:00</th>\n      <td>0.505363</td>\n      <td>-0.696822</td>\n      <td>-0.988745</td>\n      <td>5</td>\n      <td>2.5</td>\n      <td>10</td>\n      <td>0.999048</td>\n    </tr>\n    <tr>\n      <th>2020-11-09 20:45:00</th>\n      <td>0.415315</td>\n      <td>-1.724885</td>\n      <td>-0.496601</td>\n      <td>5</td>\n      <td>3.0</td>\n      <td>12</td>\n      <td>0.998630</td>\n    </tr>\n    <tr>\n      <th>2020-11-09 21:45:00</th>\n      <td>-0.426914</td>\n      <td>-1.042783</td>\n      <td>-1.096151</td>\n      <td>5</td>\n      <td>3.5</td>\n      <td>14</td>\n      <td>0.998135</td>\n    </tr>\n    <tr>\n      <th>2020-11-09 22:45:00</th>\n      <td>-1.466273</td>\n      <td>0.205849</td>\n      <td>0.374378</td>\n      <td>5</td>\n      <td>4.0</td>\n      <td>16</td>\n      <td>0.997564</td>\n    </tr>\n    <tr>\n      <th>2020-11-09 23:45:00</th>\n      <td>0.908403</td>\n      <td>1.097730</td>\n      <td>1.756739</td>\n      <td>5</td>\n      <td>4.5</td>\n      <td>18</td>\n      <td>0.996917</td>\n    </tr>\n  </tbody>\n</table>\n</div>"
     },
     "metadata": {},
     "execution_count": 48
    }
   ],
   "source": [
    "df"
   ]
  },
  {
   "cell_type": "code",
   "execution_count": 49,
   "metadata": {},
   "outputs": [
    {
     "output_type": "execute_result",
     "data": {
      "text/plain": [
       "A           2.374675\n",
       "B           3.088609\n",
       "C           4.043996\n",
       "D           0.000000\n",
       "E           4.500000\n",
       "E prime    18.000000\n",
       "cosine      0.003083\n",
       "dtype: float64"
      ]
     },
     "metadata": {},
     "execution_count": 49
    }
   ],
   "source": [
    "df.apply(lambda x: x.max() - x.min())"
   ]
  },
  {
   "cell_type": "code",
   "execution_count": 50,
   "metadata": {},
   "outputs": [
    {
     "output_type": "execute_result",
     "data": {
      "text/plain": [
       "2020-11-09 14:45:00    0.219429\n",
       "2020-11-09 15:45:00   -0.412916\n",
       "2020-11-09 16:45:00    0.473946\n",
       "2020-11-09 17:45:00   -0.163078\n",
       "2020-11-09 18:45:00   -2.838323\n",
       "2020-11-09 19:45:00   -0.191459\n",
       "2020-11-09 20:45:00   -1.309570\n",
       "2020-11-09 21:45:00   -1.469697\n",
       "2020-11-09 22:45:00   -1.260424\n",
       "2020-11-09 23:45:00    2.006133\n",
       "Freq: H, dtype: float64"
      ]
     },
     "metadata": {},
     "execution_count": 50
    }
   ],
   "source": [
    "# syntax is as usual similar to that of numpy arrays\n",
    "df['A']+df['B']"
   ]
  },
  {
   "cell_type": "markdown",
   "metadata": {},
   "source": [
    "Let's play it hard and load (in memory) a (relatively) large dataset"
   ]
  },
  {
   "cell_type": "code",
   "execution_count": 51,
   "metadata": {},
   "outputs": [
    {
     "output_type": "execute_result",
     "data": {
      "text/plain": [
       "         HEAD  FPGA  TDC_CHANNEL   ORBIT_CNT  BX_COUNTER  TDC_MEAS\n",
       "0           1     0          123  3869200167        2374        26\n",
       "1           1     0          124  3869200167        2374        27\n",
       "2           1     0           63  3869200167        2553        28\n",
       "3           1     0           64  3869200167        2558        19\n",
       "4           1     0           64  3869200167        2760        25\n",
       "...       ...   ...          ...         ...         ...       ...\n",
       "1310715     1     0           62  3869211171         762        14\n",
       "1310716     1     1            4  3869211171         763        11\n",
       "1310717     1     0           64  3869211171         764         0\n",
       "1310718     1     0          139  3869211171         769         0\n",
       "1310719     1     0           61  3869211171         762        18\n",
       "\n",
       "[1310720 rows x 6 columns]"
      ],
      "text/html": "<div>\n<style scoped>\n    .dataframe tbody tr th:only-of-type {\n        vertical-align: middle;\n    }\n\n    .dataframe tbody tr th {\n        vertical-align: top;\n    }\n\n    .dataframe thead th {\n        text-align: right;\n    }\n</style>\n<table border=\"1\" class=\"dataframe\">\n  <thead>\n    <tr style=\"text-align: right;\">\n      <th></th>\n      <th>HEAD</th>\n      <th>FPGA</th>\n      <th>TDC_CHANNEL</th>\n      <th>ORBIT_CNT</th>\n      <th>BX_COUNTER</th>\n      <th>TDC_MEAS</th>\n    </tr>\n  </thead>\n  <tbody>\n    <tr>\n      <th>0</th>\n      <td>1</td>\n      <td>0</td>\n      <td>123</td>\n      <td>3869200167</td>\n      <td>2374</td>\n      <td>26</td>\n    </tr>\n    <tr>\n      <th>1</th>\n      <td>1</td>\n      <td>0</td>\n      <td>124</td>\n      <td>3869200167</td>\n      <td>2374</td>\n      <td>27</td>\n    </tr>\n    <tr>\n      <th>2</th>\n      <td>1</td>\n      <td>0</td>\n      <td>63</td>\n      <td>3869200167</td>\n      <td>2553</td>\n      <td>28</td>\n    </tr>\n    <tr>\n      <th>3</th>\n      <td>1</td>\n      <td>0</td>\n      <td>64</td>\n      <td>3869200167</td>\n      <td>2558</td>\n      <td>19</td>\n    </tr>\n    <tr>\n      <th>4</th>\n      <td>1</td>\n      <td>0</td>\n      <td>64</td>\n      <td>3869200167</td>\n      <td>2760</td>\n      <td>25</td>\n    </tr>\n    <tr>\n      <th>...</th>\n      <td>...</td>\n      <td>...</td>\n      <td>...</td>\n      <td>...</td>\n      <td>...</td>\n      <td>...</td>\n    </tr>\n    <tr>\n      <th>1310715</th>\n      <td>1</td>\n      <td>0</td>\n      <td>62</td>\n      <td>3869211171</td>\n      <td>762</td>\n      <td>14</td>\n    </tr>\n    <tr>\n      <th>1310716</th>\n      <td>1</td>\n      <td>1</td>\n      <td>4</td>\n      <td>3869211171</td>\n      <td>763</td>\n      <td>11</td>\n    </tr>\n    <tr>\n      <th>1310717</th>\n      <td>1</td>\n      <td>0</td>\n      <td>64</td>\n      <td>3869211171</td>\n      <td>764</td>\n      <td>0</td>\n    </tr>\n    <tr>\n      <th>1310718</th>\n      <td>1</td>\n      <td>0</td>\n      <td>139</td>\n      <td>3869211171</td>\n      <td>769</td>\n      <td>0</td>\n    </tr>\n    <tr>\n      <th>1310719</th>\n      <td>1</td>\n      <td>0</td>\n      <td>61</td>\n      <td>3869211171</td>\n      <td>762</td>\n      <td>18</td>\n    </tr>\n  </tbody>\n</table>\n<p>1310720 rows × 6 columns</p>\n</div>"
     },
     "metadata": {},
     "execution_count": 51
    }
   ],
   "source": [
    "# WARNING! link in past notebook was wrong!, (if needed) get the right file from:\n",
    "#!wget https://www.dropbox.com/s/xvjzaxzz3ysphme/data_000637.txt -P ~/data/\n",
    "\n",
    "file_name=\"~/data/data_000637.txt\"\n",
    "data=pd.read_csv(file_name)\n",
    "data"
   ]
  },
  {
   "cell_type": "markdown",
   "metadata": {},
   "source": [
    "Let's now do some operations among (elements of) columns"
   ]
  },
  {
   "cell_type": "code",
   "execution_count": 52,
   "metadata": {},
   "outputs": [],
   "source": [
    "# the one-liner killing it all\n",
    "data['timens']=data['TDC_MEAS']*25/30+data['BX_COUNTER']*25"
   ]
  },
  {
   "cell_type": "code",
   "execution_count": 53,
   "metadata": {},
   "outputs": [],
   "source": [
    "# the old slooow way\n",
    "\"\"\"\n",
    "def conversion(data):\n",
    "    result=[]\n",
    "    for i in range(len(data)): \n",
    "        result.append(data.loc[data.index[i],'TDC_MEAS']*25/30.+data.loc[data.index[i],'BX_COUNTER']*25)\n",
    "    return result\n",
    "\n",
    "data['timens']=conversion(data)\n",
    "\"\"\""
   ]
  },
  {
   "cell_type": "markdown",
   "metadata": {},
   "source": [
    "## Merge\n",
    "\n",
    "pandas provides various facilities for easily combining together Series, DataFrame, and Panel objects with various kinds of set logic for the indexes and relational algebra functionality in the case of join / merge-type operations.\n",
    "\n",
    "### Concat\n",
    "\n",
    "concatenation (adding rows) is straightforward\n"
   ]
  },
  {
   "cell_type": "code",
   "execution_count": 54,
   "metadata": {},
   "outputs": [
    {
     "output_type": "execute_result",
     "data": {
      "text/plain": [
       "          0         1         2         3\n",
       "0 -1.201250 -0.341451 -0.312600 -0.806743\n",
       "1  1.656147 -1.614051  0.801601 -0.220719\n",
       "2  0.561227 -0.577574 -0.294864 -0.344094\n",
       "3  2.202390 -1.080566  0.236250 -0.291808\n",
       "4  0.985143  0.196593 -0.121458  1.937254\n",
       "5  0.720031 -1.621822  0.528248 -0.923969\n",
       "6  1.099929 -0.635774 -0.571515  0.799854\n",
       "7 -2.340513  0.061250  0.520352 -0.366236\n",
       "8 -0.196159  0.423937 -1.821174  0.082470\n",
       "9 -0.842832 -0.215027 -0.071800  0.236347"
      ],
      "text/html": "<div>\n<style scoped>\n    .dataframe tbody tr th:only-of-type {\n        vertical-align: middle;\n    }\n\n    .dataframe tbody tr th {\n        vertical-align: top;\n    }\n\n    .dataframe thead th {\n        text-align: right;\n    }\n</style>\n<table border=\"1\" class=\"dataframe\">\n  <thead>\n    <tr style=\"text-align: right;\">\n      <th></th>\n      <th>0</th>\n      <th>1</th>\n      <th>2</th>\n      <th>3</th>\n    </tr>\n  </thead>\n  <tbody>\n    <tr>\n      <th>0</th>\n      <td>-1.201250</td>\n      <td>-0.341451</td>\n      <td>-0.312600</td>\n      <td>-0.806743</td>\n    </tr>\n    <tr>\n      <th>1</th>\n      <td>1.656147</td>\n      <td>-1.614051</td>\n      <td>0.801601</td>\n      <td>-0.220719</td>\n    </tr>\n    <tr>\n      <th>2</th>\n      <td>0.561227</td>\n      <td>-0.577574</td>\n      <td>-0.294864</td>\n      <td>-0.344094</td>\n    </tr>\n    <tr>\n      <th>3</th>\n      <td>2.202390</td>\n      <td>-1.080566</td>\n      <td>0.236250</td>\n      <td>-0.291808</td>\n    </tr>\n    <tr>\n      <th>4</th>\n      <td>0.985143</td>\n      <td>0.196593</td>\n      <td>-0.121458</td>\n      <td>1.937254</td>\n    </tr>\n    <tr>\n      <th>5</th>\n      <td>0.720031</td>\n      <td>-1.621822</td>\n      <td>0.528248</td>\n      <td>-0.923969</td>\n    </tr>\n    <tr>\n      <th>6</th>\n      <td>1.099929</td>\n      <td>-0.635774</td>\n      <td>-0.571515</td>\n      <td>0.799854</td>\n    </tr>\n    <tr>\n      <th>7</th>\n      <td>-2.340513</td>\n      <td>0.061250</td>\n      <td>0.520352</td>\n      <td>-0.366236</td>\n    </tr>\n    <tr>\n      <th>8</th>\n      <td>-0.196159</td>\n      <td>0.423937</td>\n      <td>-1.821174</td>\n      <td>0.082470</td>\n    </tr>\n    <tr>\n      <th>9</th>\n      <td>-0.842832</td>\n      <td>-0.215027</td>\n      <td>-0.071800</td>\n      <td>0.236347</td>\n    </tr>\n  </tbody>\n</table>\n</div>"
     },
     "metadata": {},
     "execution_count": 54
    }
   ],
   "source": [
    "rdf = pd.DataFrame(np.random.randn(10, 4))\n",
    "rdf"
   ]
  },
  {
   "cell_type": "code",
   "execution_count": 55,
   "metadata": {},
   "outputs": [
    {
     "output_type": "execute_result",
     "data": {
      "text/plain": [
       "[          0         1         2         3\n",
       " 0 -1.201250 -0.341451 -0.312600 -0.806743\n",
       " 1  1.656147 -1.614051  0.801601 -0.220719\n",
       " 2  0.561227 -0.577574 -0.294864 -0.344094,\n",
       "           0         1         2         3\n",
       " 3  2.202390 -1.080566  0.236250 -0.291808\n",
       " 4  0.985143  0.196593 -0.121458  1.937254\n",
       " 5  0.720031 -1.621822  0.528248 -0.923969\n",
       " 6  1.099929 -0.635774 -0.571515  0.799854,\n",
       "           0         1         2         3\n",
       " 7 -2.340513  0.061250  0.520352 -0.366236\n",
       " 8 -0.196159  0.423937 -1.821174  0.082470\n",
       " 9 -0.842832 -0.215027 -0.071800  0.236347]"
      ]
     },
     "metadata": {},
     "execution_count": 55
    }
   ],
   "source": [
    "# divide it into pieaces raw-wise\n",
    "pieces = [rdf[:3], rdf[3:7], rdf[7:]]\n",
    "pieces"
   ]
  },
  {
   "cell_type": "code",
   "execution_count": 56,
   "metadata": {},
   "outputs": [
    {
     "output_type": "execute_result",
     "data": {
      "text/plain": [
       "          0         1         2         3\n",
       "0 -1.201250 -0.341451 -0.312600 -0.806743\n",
       "1  1.656147 -1.614051  0.801601 -0.220719\n",
       "2  0.561227 -0.577574 -0.294864 -0.344094\n",
       "3  2.202390 -1.080566  0.236250 -0.291808\n",
       "4  0.985143  0.196593 -0.121458  1.937254\n",
       "5  0.720031 -1.621822  0.528248 -0.923969\n",
       "6  1.099929 -0.635774 -0.571515  0.799854\n",
       "7 -2.340513  0.061250  0.520352 -0.366236\n",
       "8 -0.196159  0.423937 -1.821174  0.082470\n",
       "9 -0.842832 -0.215027 -0.071800  0.236347"
      ],
      "text/html": "<div>\n<style scoped>\n    .dataframe tbody tr th:only-of-type {\n        vertical-align: middle;\n    }\n\n    .dataframe tbody tr th {\n        vertical-align: top;\n    }\n\n    .dataframe thead th {\n        text-align: right;\n    }\n</style>\n<table border=\"1\" class=\"dataframe\">\n  <thead>\n    <tr style=\"text-align: right;\">\n      <th></th>\n      <th>0</th>\n      <th>1</th>\n      <th>2</th>\n      <th>3</th>\n    </tr>\n  </thead>\n  <tbody>\n    <tr>\n      <th>0</th>\n      <td>-1.201250</td>\n      <td>-0.341451</td>\n      <td>-0.312600</td>\n      <td>-0.806743</td>\n    </tr>\n    <tr>\n      <th>1</th>\n      <td>1.656147</td>\n      <td>-1.614051</td>\n      <td>0.801601</td>\n      <td>-0.220719</td>\n    </tr>\n    <tr>\n      <th>2</th>\n      <td>0.561227</td>\n      <td>-0.577574</td>\n      <td>-0.294864</td>\n      <td>-0.344094</td>\n    </tr>\n    <tr>\n      <th>3</th>\n      <td>2.202390</td>\n      <td>-1.080566</td>\n      <td>0.236250</td>\n      <td>-0.291808</td>\n    </tr>\n    <tr>\n      <th>4</th>\n      <td>0.985143</td>\n      <td>0.196593</td>\n      <td>-0.121458</td>\n      <td>1.937254</td>\n    </tr>\n    <tr>\n      <th>5</th>\n      <td>0.720031</td>\n      <td>-1.621822</td>\n      <td>0.528248</td>\n      <td>-0.923969</td>\n    </tr>\n    <tr>\n      <th>6</th>\n      <td>1.099929</td>\n      <td>-0.635774</td>\n      <td>-0.571515</td>\n      <td>0.799854</td>\n    </tr>\n    <tr>\n      <th>7</th>\n      <td>-2.340513</td>\n      <td>0.061250</td>\n      <td>0.520352</td>\n      <td>-0.366236</td>\n    </tr>\n    <tr>\n      <th>8</th>\n      <td>-0.196159</td>\n      <td>0.423937</td>\n      <td>-1.821174</td>\n      <td>0.082470</td>\n    </tr>\n    <tr>\n      <th>9</th>\n      <td>-0.842832</td>\n      <td>-0.215027</td>\n      <td>-0.071800</td>\n      <td>0.236347</td>\n    </tr>\n  </tbody>\n</table>\n</div>"
     },
     "metadata": {},
     "execution_count": 56
    }
   ],
   "source": [
    "# put it back together\n",
    "#pd.concat(pieces)\n",
    "\n",
    "# indexes can be ignored\n",
    "pd.concat(pieces, ignore_index=True)\n",
    "\n",
    "# in case of dimension mismatch, Nan are added where needed"
   ]
  },
  {
   "cell_type": "code",
   "execution_count": 57,
   "metadata": {},
   "outputs": [
    {
     "output_type": "execute_result",
     "data": {
      "text/plain": [
       "          0         1         2         3\n",
       "0 -1.201250 -0.341451 -0.312600 -0.806743\n",
       "1  1.656147 -1.614051  0.801601 -0.220719\n",
       "2  0.561227 -0.577574 -0.294864 -0.344094\n",
       "3  2.202390 -1.080566  0.236250 -0.291808\n",
       "4  0.985143  0.196593 -0.121458  1.937254\n",
       "5  0.720031 -1.621822  0.528248 -0.923969\n",
       "6  1.099929 -0.635774 -0.571515  0.799854\n",
       "7 -2.340513  0.061250  0.520352 -0.366236\n",
       "8 -0.196159  0.423937 -1.821174  0.082470\n",
       "9 -0.842832 -0.215027 -0.071800  0.236347"
      ],
      "text/html": "<div>\n<style scoped>\n    .dataframe tbody tr th:only-of-type {\n        vertical-align: middle;\n    }\n\n    .dataframe tbody tr th {\n        vertical-align: top;\n    }\n\n    .dataframe thead th {\n        text-align: right;\n    }\n</style>\n<table border=\"1\" class=\"dataframe\">\n  <thead>\n    <tr style=\"text-align: right;\">\n      <th></th>\n      <th>0</th>\n      <th>1</th>\n      <th>2</th>\n      <th>3</th>\n    </tr>\n  </thead>\n  <tbody>\n    <tr>\n      <th>0</th>\n      <td>-1.201250</td>\n      <td>-0.341451</td>\n      <td>-0.312600</td>\n      <td>-0.806743</td>\n    </tr>\n    <tr>\n      <th>1</th>\n      <td>1.656147</td>\n      <td>-1.614051</td>\n      <td>0.801601</td>\n      <td>-0.220719</td>\n    </tr>\n    <tr>\n      <th>2</th>\n      <td>0.561227</td>\n      <td>-0.577574</td>\n      <td>-0.294864</td>\n      <td>-0.344094</td>\n    </tr>\n    <tr>\n      <th>3</th>\n      <td>2.202390</td>\n      <td>-1.080566</td>\n      <td>0.236250</td>\n      <td>-0.291808</td>\n    </tr>\n    <tr>\n      <th>4</th>\n      <td>0.985143</td>\n      <td>0.196593</td>\n      <td>-0.121458</td>\n      <td>1.937254</td>\n    </tr>\n    <tr>\n      <th>5</th>\n      <td>0.720031</td>\n      <td>-1.621822</td>\n      <td>0.528248</td>\n      <td>-0.923969</td>\n    </tr>\n    <tr>\n      <th>6</th>\n      <td>1.099929</td>\n      <td>-0.635774</td>\n      <td>-0.571515</td>\n      <td>0.799854</td>\n    </tr>\n    <tr>\n      <th>7</th>\n      <td>-2.340513</td>\n      <td>0.061250</td>\n      <td>0.520352</td>\n      <td>-0.366236</td>\n    </tr>\n    <tr>\n      <th>8</th>\n      <td>-0.196159</td>\n      <td>0.423937</td>\n      <td>-1.821174</td>\n      <td>0.082470</td>\n    </tr>\n    <tr>\n      <th>9</th>\n      <td>-0.842832</td>\n      <td>-0.215027</td>\n      <td>-0.071800</td>\n      <td>0.236347</td>\n    </tr>\n  </tbody>\n</table>\n</div>"
     },
     "metadata": {},
     "execution_count": 57
    }
   ],
   "source": [
    "# appending a single row (as a Series)\n",
    "s = rdf.iloc[3]\n",
    "rdf.append(s, ignore_index=True)\n",
    "rdf"
   ]
  },
  {
   "cell_type": "markdown",
   "metadata": {},
   "source": [
    "### Merge/Join\n",
    "\n",
    "SQL like operations on table can be performed on DataFrames. This is all rather sophisticated, refer to the [doc](https://pandas.pydata.org/pandas-docs/stable/merging.html#merging) for more info/examples"
   ]
  },
  {
   "cell_type": "code",
   "execution_count": 58,
   "metadata": {},
   "outputs": [
    {
     "output_type": "execute_result",
     "data": {
      "text/plain": [
       "   key  lval  rval\n",
       "0  foo     1     4\n",
       "1  bar     2     5"
      ],
      "text/html": "<div>\n<style scoped>\n    .dataframe tbody tr th:only-of-type {\n        vertical-align: middle;\n    }\n\n    .dataframe tbody tr th {\n        vertical-align: top;\n    }\n\n    .dataframe thead th {\n        text-align: right;\n    }\n</style>\n<table border=\"1\" class=\"dataframe\">\n  <thead>\n    <tr style=\"text-align: right;\">\n      <th></th>\n      <th>key</th>\n      <th>lval</th>\n      <th>rval</th>\n    </tr>\n  </thead>\n  <tbody>\n    <tr>\n      <th>0</th>\n      <td>foo</td>\n      <td>1</td>\n      <td>4</td>\n    </tr>\n    <tr>\n      <th>1</th>\n      <td>bar</td>\n      <td>2</td>\n      <td>5</td>\n    </tr>\n  </tbody>\n</table>\n</div>"
     },
     "metadata": {},
     "execution_count": 58
    }
   ],
   "source": [
    "left = pd.DataFrame({'key': ['foo', 'bar'], 'lval': [1, 2]})\n",
    "right = pd.DataFrame({'key': ['foo', 'bar'], 'rval': [4, 5]})\n",
    "\n",
    "pd.merge(left,right,on=\"key\")"
   ]
  },
  {
   "cell_type": "markdown",
   "metadata": {},
   "source": [
    "## Grouping\n",
    "\n",
    "By “group by” we are referring to a process involving one or more of the following steps:\n",
    "\n",
    "* Splitting the data into groups based on some criteria\n",
    "* Applying a function to each group independently\n",
    "* Combining the results into a data structure\n"
   ]
  },
  {
   "cell_type": "code",
   "execution_count": 59,
   "metadata": {},
   "outputs": [
    {
     "output_type": "execute_result",
     "data": {
      "text/plain": [
       "     A      B         C         D\n",
       "0  foo    one  0.509843  1.018607\n",
       "1  bar    one -0.930326 -0.771364\n",
       "2  foo    two  0.155628  0.247852\n",
       "3  bar  three  1.388471 -0.910340\n",
       "4  foo    two  0.627459  0.008039\n",
       "5  bar    two  0.704079  1.128965\n",
       "6  foo    one  0.330130  0.900512\n",
       "7  foo  three  1.073011 -2.428027"
      ],
      "text/html": "<div>\n<style scoped>\n    .dataframe tbody tr th:only-of-type {\n        vertical-align: middle;\n    }\n\n    .dataframe tbody tr th {\n        vertical-align: top;\n    }\n\n    .dataframe thead th {\n        text-align: right;\n    }\n</style>\n<table border=\"1\" class=\"dataframe\">\n  <thead>\n    <tr style=\"text-align: right;\">\n      <th></th>\n      <th>A</th>\n      <th>B</th>\n      <th>C</th>\n      <th>D</th>\n    </tr>\n  </thead>\n  <tbody>\n    <tr>\n      <th>0</th>\n      <td>foo</td>\n      <td>one</td>\n      <td>0.509843</td>\n      <td>1.018607</td>\n    </tr>\n    <tr>\n      <th>1</th>\n      <td>bar</td>\n      <td>one</td>\n      <td>-0.930326</td>\n      <td>-0.771364</td>\n    </tr>\n    <tr>\n      <th>2</th>\n      <td>foo</td>\n      <td>two</td>\n      <td>0.155628</td>\n      <td>0.247852</td>\n    </tr>\n    <tr>\n      <th>3</th>\n      <td>bar</td>\n      <td>three</td>\n      <td>1.388471</td>\n      <td>-0.910340</td>\n    </tr>\n    <tr>\n      <th>4</th>\n      <td>foo</td>\n      <td>two</td>\n      <td>0.627459</td>\n      <td>0.008039</td>\n    </tr>\n    <tr>\n      <th>5</th>\n      <td>bar</td>\n      <td>two</td>\n      <td>0.704079</td>\n      <td>1.128965</td>\n    </tr>\n    <tr>\n      <th>6</th>\n      <td>foo</td>\n      <td>one</td>\n      <td>0.330130</td>\n      <td>0.900512</td>\n    </tr>\n    <tr>\n      <th>7</th>\n      <td>foo</td>\n      <td>three</td>\n      <td>1.073011</td>\n      <td>-2.428027</td>\n    </tr>\n  </tbody>\n</table>\n</div>"
     },
     "metadata": {},
     "execution_count": 59
    }
   ],
   "source": [
    "gdf = pd.DataFrame({'A' : ['foo', 'bar', 'foo', 'bar',\n",
    "                          'foo', 'bar', 'foo', 'foo'],\n",
    "                    'B' : ['one', 'one', 'two', 'three',\n",
    "                           'two', 'two', 'one', 'three'],\n",
    "                    'C' : np.random.randn(8),\n",
    "                    'D' : np.random.randn(8)})\n",
    "gdf"
   ]
  },
  {
   "cell_type": "code",
   "execution_count": 60,
   "metadata": {},
   "outputs": [
    {
     "output_type": "execute_result",
     "data": {
      "text/plain": [
       "            C         D\n",
       "A                      \n",
       "bar  1.162225 -0.552739\n",
       "foo  2.696071 -0.253017"
      ],
      "text/html": "<div>\n<style scoped>\n    .dataframe tbody tr th:only-of-type {\n        vertical-align: middle;\n    }\n\n    .dataframe tbody tr th {\n        vertical-align: top;\n    }\n\n    .dataframe thead th {\n        text-align: right;\n    }\n</style>\n<table border=\"1\" class=\"dataframe\">\n  <thead>\n    <tr style=\"text-align: right;\">\n      <th></th>\n      <th>C</th>\n      <th>D</th>\n    </tr>\n    <tr>\n      <th>A</th>\n      <th></th>\n      <th></th>\n    </tr>\n  </thead>\n  <tbody>\n    <tr>\n      <th>bar</th>\n      <td>1.162225</td>\n      <td>-0.552739</td>\n    </tr>\n    <tr>\n      <th>foo</th>\n      <td>2.696071</td>\n      <td>-0.253017</td>\n    </tr>\n  </tbody>\n</table>\n</div>"
     },
     "metadata": {},
     "execution_count": 60
    }
   ],
   "source": [
    "# Grouping and then applying the sum() \n",
    "# function to the resulting groups (effective only where number are there).\n",
    "gdf.groupby('A').sum()"
   ]
  },
  {
   "cell_type": "markdown",
   "metadata": {},
   "source": [
    "## Multi-indexing\n",
    "\n",
    "\n",
    "Hierarchical / Multi-level indexing allows sophisticated data analysis on higher dimensional data. In essence, it enables you to store and manipulate data with an arbitrary number of dimensions in lower dimensional data structures like Series (1d) and DataFrame (2d)."
   ]
  },
  {
   "cell_type": "code",
   "execution_count": 61,
   "metadata": {},
   "outputs": [
    {
     "output_type": "stream",
     "name": "stdout",
     "text": [
      "MultiIndex([('bar', 'one'),\n            ('bar', 'two'),\n            ('baz', 'one'),\n            ('baz', 'two'),\n            ('foo', 'one'),\n            ('foo', 'two'),\n            ('qux', 'one'),\n            ('qux', 'two')],\n           names=['first', 'second']) \n\nfirst  second\nbar    one      -0.472198\n       two      -0.859191\nbaz    one       0.330074\n       two      -0.376794\nfoo    one      -1.969331\n       two      -1.924284\nqux    one      -0.897293\n       two      -0.692947\ndtype: float64\n"
     ]
    }
   ],
   "source": [
    "tuples = list(zip(['bar', 'bar', 'baz', 'baz', 'foo', 'foo', 'qux', 'qux'],\n",
    "          ['one', 'two', 'one', 'two', 'one', 'two', 'one', 'two']))\n",
    "multi_index = pd.MultiIndex.from_tuples(tuples, names=['first', 'second'])\n",
    "print (multi_index,'\\n')\n",
    "\n",
    "s = pd.Series(np.random.randn(8), index=multi_index)\n",
    "print (s)\n"
   ]
  },
  {
   "cell_type": "code",
   "execution_count": 62,
   "metadata": {},
   "outputs": [
    {
     "output_type": "execute_result",
     "data": {
      "text/plain": [
       "                  C         D\n",
       "A   B                        \n",
       "bar one   -0.930326 -0.771364\n",
       "    three  1.388471 -0.910340\n",
       "    two    0.704079  1.128965\n",
       "foo one    0.839973  1.919119\n",
       "    three  1.073011 -2.428027\n",
       "    two    0.783087  0.255891"
      ],
      "text/html": "<div>\n<style scoped>\n    .dataframe tbody tr th:only-of-type {\n        vertical-align: middle;\n    }\n\n    .dataframe tbody tr th {\n        vertical-align: top;\n    }\n\n    .dataframe thead th {\n        text-align: right;\n    }\n</style>\n<table border=\"1\" class=\"dataframe\">\n  <thead>\n    <tr style=\"text-align: right;\">\n      <th></th>\n      <th></th>\n      <th>C</th>\n      <th>D</th>\n    </tr>\n    <tr>\n      <th>A</th>\n      <th>B</th>\n      <th></th>\n      <th></th>\n    </tr>\n  </thead>\n  <tbody>\n    <tr>\n      <th rowspan=\"3\" valign=\"top\">bar</th>\n      <th>one</th>\n      <td>-0.930326</td>\n      <td>-0.771364</td>\n    </tr>\n    <tr>\n      <th>three</th>\n      <td>1.388471</td>\n      <td>-0.910340</td>\n    </tr>\n    <tr>\n      <th>two</th>\n      <td>0.704079</td>\n      <td>1.128965</td>\n    </tr>\n    <tr>\n      <th rowspan=\"3\" valign=\"top\">foo</th>\n      <th>one</th>\n      <td>0.839973</td>\n      <td>1.919119</td>\n    </tr>\n    <tr>\n      <th>three</th>\n      <td>1.073011</td>\n      <td>-2.428027</td>\n    </tr>\n    <tr>\n      <th>two</th>\n      <td>0.783087</td>\n      <td>0.255891</td>\n    </tr>\n  </tbody>\n</table>\n</div>"
     },
     "metadata": {},
     "execution_count": 62
    }
   ],
   "source": [
    "# it enables further features of the groupby method,\n",
    "# e.g. when group-by by multiple columns\n",
    "gdf.groupby(['A','B']).sum() #ok..."
   ]
  },
  {
   "cell_type": "code",
   "execution_count": 67,
   "metadata": {},
   "outputs": [
    {
     "output_type": "display_data",
     "data": {
      "text/plain": "     A      B         C         D\n0  foo    one  0.509843  1.018607\n1  bar    one -0.930326 -0.771364\n2  foo    two  0.155628  0.247852\n3  bar  three  1.388471 -0.910340\n4  foo    two  0.627459  0.008039\n5  bar    two  0.704079  1.128965\n6  foo    one  0.330130  0.900512\n7  foo  three  1.073011 -2.428027",
      "text/html": "<div>\n<style scoped>\n    .dataframe tbody tr th:only-of-type {\n        vertical-align: middle;\n    }\n\n    .dataframe tbody tr th {\n        vertical-align: top;\n    }\n\n    .dataframe thead th {\n        text-align: right;\n    }\n</style>\n<table border=\"1\" class=\"dataframe\">\n  <thead>\n    <tr style=\"text-align: right;\">\n      <th></th>\n      <th>A</th>\n      <th>B</th>\n      <th>C</th>\n      <th>D</th>\n    </tr>\n  </thead>\n  <tbody>\n    <tr>\n      <th>0</th>\n      <td>foo</td>\n      <td>one</td>\n      <td>0.509843</td>\n      <td>1.018607</td>\n    </tr>\n    <tr>\n      <th>1</th>\n      <td>bar</td>\n      <td>one</td>\n      <td>-0.930326</td>\n      <td>-0.771364</td>\n    </tr>\n    <tr>\n      <th>2</th>\n      <td>foo</td>\n      <td>two</td>\n      <td>0.155628</td>\n      <td>0.247852</td>\n    </tr>\n    <tr>\n      <th>3</th>\n      <td>bar</td>\n      <td>three</td>\n      <td>1.388471</td>\n      <td>-0.910340</td>\n    </tr>\n    <tr>\n      <th>4</th>\n      <td>foo</td>\n      <td>two</td>\n      <td>0.627459</td>\n      <td>0.008039</td>\n    </tr>\n    <tr>\n      <th>5</th>\n      <td>bar</td>\n      <td>two</td>\n      <td>0.704079</td>\n      <td>1.128965</td>\n    </tr>\n    <tr>\n      <th>6</th>\n      <td>foo</td>\n      <td>one</td>\n      <td>0.330130</td>\n      <td>0.900512</td>\n    </tr>\n    <tr>\n      <th>7</th>\n      <td>foo</td>\n      <td>three</td>\n      <td>1.073011</td>\n      <td>-2.428027</td>\n    </tr>\n  </tbody>\n</table>\n</div>"
     },
     "metadata": {}
    },
    {
     "output_type": "execute_result",
     "data": {
      "text/plain": [
       "A    B       \n",
       "bar  one    C   -0.930326\n",
       "            D   -0.771364\n",
       "     three  C    1.388471\n",
       "            D   -0.910340\n",
       "     two    C    0.704079\n",
       "            D    1.128965\n",
       "foo  one    C    0.839973\n",
       "            D    1.919119\n",
       "     three  C    1.073011\n",
       "            D   -2.428027\n",
       "     two    C    0.783087\n",
       "            D    0.255891\n",
       "dtype: float64"
      ]
     },
     "metadata": {},
     "execution_count": 67
    }
   ],
   "source": [
    "# stack() method “compresses” a level in the DataFrame’s columns\n",
    "import IPython\n",
    "IPython.display.display(gdf)\n",
    "gdf.groupby(['A','B']).sum().stack() #creating an other layer again.."
   ]
  },
  {
   "cell_type": "markdown",
   "metadata": {},
   "source": [
    "## Plotting\n",
    "\n",
    "Just a preview, more on the next lab class!"
   ]
  },
  {
   "cell_type": "code",
   "execution_count": 64,
   "metadata": {},
   "outputs": [
    {
     "output_type": "execute_result",
     "data": {
      "text/plain": [
       "<AxesSubplot:>"
      ]
     },
     "metadata": {},
     "execution_count": 64
    },
    {
     "output_type": "display_data",
     "data": {
      "text/plain": "<Figure size 432x288 with 1 Axes>",
      "image/svg+xml": "<?xml version=\"1.0\" encoding=\"utf-8\" standalone=\"no\"?>\n<!DOCTYPE svg PUBLIC \"-//W3C//DTD SVG 1.1//EN\"\n  \"http://www.w3.org/Graphics/SVG/1.1/DTD/svg11.dtd\">\n<!-- Created with matplotlib (https://matplotlib.org/) -->\n<svg height=\"259.715937pt\" version=\"1.1\" viewBox=\"0 0 377.304688 259.715937\" width=\"377.304688pt\" xmlns=\"http://www.w3.org/2000/svg\" xmlns:xlink=\"http://www.w3.org/1999/xlink\">\n <metadata>\n  <rdf:RDF xmlns:cc=\"http://creativecommons.org/ns#\" xmlns:dc=\"http://purl.org/dc/elements/1.1/\" xmlns:rdf=\"http://www.w3.org/1999/02/22-rdf-syntax-ns#\">\n   <cc:Work>\n    <dc:type rdf:resource=\"http://purl.org/dc/dcmitype/StillImage\"/>\n    <dc:date>2020-11-10T15:01:19.336054</dc:date>\n    <dc:format>image/svg+xml</dc:format>\n    <dc:creator>\n     <cc:Agent>\n      <dc:title>Matplotlib v3.3.2, https://matplotlib.org/</dc:title>\n     </cc:Agent>\n    </dc:creator>\n   </cc:Work>\n  </rdf:RDF>\n </metadata>\n <defs>\n  <style type=\"text/css\">*{stroke-linecap:butt;stroke-linejoin:round;}</style>\n </defs>\n <g id=\"figure_1\">\n  <g id=\"patch_1\">\n   <path d=\"M 0 259.715937 \nL 377.304688 259.715937 \nL 377.304688 0 \nL 0 0 \nz\n\" style=\"fill:none;\"/>\n  </g>\n  <g id=\"axes_1\">\n   <g id=\"patch_2\">\n    <path d=\"M 35.304688 224.64 \nL 370.104688 224.64 \nL 370.104688 7.2 \nL 35.304688 7.2 \nz\n\" style=\"fill:#ffffff;\"/>\n   </g>\n   <g id=\"matplotlib.axis_1\">\n    <g id=\"xtick_1\">\n     <g id=\"line2d_1\">\n      <defs>\n       <path d=\"M 0 0 \nL 0 3.5 \n\" id=\"md3019cdfd5\" style=\"stroke:#000000;stroke-width:0.8;\"/>\n      </defs>\n      <g>\n       <use style=\"stroke:#000000;stroke-width:0.8;\" x=\"35.304688\" xlink:href=\"#md3019cdfd5\" y=\"224.64\"/>\n      </g>\n     </g>\n     <g id=\"text_1\">\n      <!-- Jan -->\n      <g transform=\"translate(27.596875 239.238438)scale(0.1 -0.1)\">\n       <defs>\n        <path d=\"M 9.8125 72.90625 \nL 19.671875 72.90625 \nL 19.671875 5.078125 \nQ 19.671875 -8.109375 14.671875 -14.0625 \nQ 9.671875 -20.015625 -1.421875 -20.015625 \nL -5.171875 -20.015625 \nL -5.171875 -11.71875 \nL -2.09375 -11.71875 \nQ 4.4375 -11.71875 7.125 -8.046875 \nQ 9.8125 -4.390625 9.8125 5.078125 \nz\n\" id=\"DejaVuSans-74\"/>\n        <path d=\"M 34.28125 27.484375 \nQ 23.390625 27.484375 19.1875 25 \nQ 14.984375 22.515625 14.984375 16.5 \nQ 14.984375 11.71875 18.140625 8.90625 \nQ 21.296875 6.109375 26.703125 6.109375 \nQ 34.1875 6.109375 38.703125 11.40625 \nQ 43.21875 16.703125 43.21875 25.484375 \nL 43.21875 27.484375 \nz\nM 52.203125 31.203125 \nL 52.203125 0 \nL 43.21875 0 \nL 43.21875 8.296875 \nQ 40.140625 3.328125 35.546875 0.953125 \nQ 30.953125 -1.421875 24.3125 -1.421875 \nQ 15.921875 -1.421875 10.953125 3.296875 \nQ 6 8.015625 6 15.921875 \nQ 6 25.140625 12.171875 29.828125 \nQ 18.359375 34.515625 30.609375 34.515625 \nL 43.21875 34.515625 \nL 43.21875 35.40625 \nQ 43.21875 41.609375 39.140625 45 \nQ 35.0625 48.390625 27.6875 48.390625 \nQ 23 48.390625 18.546875 47.265625 \nQ 14.109375 46.140625 10.015625 43.890625 \nL 10.015625 52.203125 \nQ 14.9375 54.109375 19.578125 55.046875 \nQ 24.21875 56 28.609375 56 \nQ 40.484375 56 46.34375 49.84375 \nQ 52.203125 43.703125 52.203125 31.203125 \nz\n\" id=\"DejaVuSans-97\"/>\n        <path d=\"M 54.890625 33.015625 \nL 54.890625 0 \nL 45.90625 0 \nL 45.90625 32.71875 \nQ 45.90625 40.484375 42.875 44.328125 \nQ 39.84375 48.1875 33.796875 48.1875 \nQ 26.515625 48.1875 22.3125 43.546875 \nQ 18.109375 38.921875 18.109375 30.90625 \nL 18.109375 0 \nL 9.078125 0 \nL 9.078125 54.6875 \nL 18.109375 54.6875 \nL 18.109375 46.1875 \nQ 21.34375 51.125 25.703125 53.5625 \nQ 30.078125 56 35.796875 56 \nQ 45.21875 56 50.046875 50.171875 \nQ 54.890625 44.34375 54.890625 33.015625 \nz\n\" id=\"DejaVuSans-110\"/>\n       </defs>\n       <use xlink:href=\"#DejaVuSans-74\"/>\n       <use x=\"29.492188\" xlink:href=\"#DejaVuSans-97\"/>\n       <use x=\"90.771484\" xlink:href=\"#DejaVuSans-110\"/>\n      </g>\n      <!-- 2000 -->\n      <g transform=\"translate(22.579687 250.43625)scale(0.1 -0.1)\">\n       <defs>\n        <path d=\"M 19.1875 8.296875 \nL 53.609375 8.296875 \nL 53.609375 0 \nL 7.328125 0 \nL 7.328125 8.296875 \nQ 12.9375 14.109375 22.625 23.890625 \nQ 32.328125 33.6875 34.8125 36.53125 \nQ 39.546875 41.84375 41.421875 45.53125 \nQ 43.3125 49.21875 43.3125 52.78125 \nQ 43.3125 58.59375 39.234375 62.25 \nQ 35.15625 65.921875 28.609375 65.921875 \nQ 23.96875 65.921875 18.8125 64.3125 \nQ 13.671875 62.703125 7.8125 59.421875 \nL 7.8125 69.390625 \nQ 13.765625 71.78125 18.9375 73 \nQ 24.125 74.21875 28.421875 74.21875 \nQ 39.75 74.21875 46.484375 68.546875 \nQ 53.21875 62.890625 53.21875 53.421875 \nQ 53.21875 48.921875 51.53125 44.890625 \nQ 49.859375 40.875 45.40625 35.40625 \nQ 44.1875 33.984375 37.640625 27.21875 \nQ 31.109375 20.453125 19.1875 8.296875 \nz\n\" id=\"DejaVuSans-50\"/>\n        <path d=\"M 31.78125 66.40625 \nQ 24.171875 66.40625 20.328125 58.90625 \nQ 16.5 51.421875 16.5 36.375 \nQ 16.5 21.390625 20.328125 13.890625 \nQ 24.171875 6.390625 31.78125 6.390625 \nQ 39.453125 6.390625 43.28125 13.890625 \nQ 47.125 21.390625 47.125 36.375 \nQ 47.125 51.421875 43.28125 58.90625 \nQ 39.453125 66.40625 31.78125 66.40625 \nz\nM 31.78125 74.21875 \nQ 44.046875 74.21875 50.515625 64.515625 \nQ 56.984375 54.828125 56.984375 36.375 \nQ 56.984375 17.96875 50.515625 8.265625 \nQ 44.046875 -1.421875 31.78125 -1.421875 \nQ 19.53125 -1.421875 13.0625 8.265625 \nQ 6.59375 17.96875 6.59375 36.375 \nQ 6.59375 54.828125 13.0625 64.515625 \nQ 19.53125 74.21875 31.78125 74.21875 \nz\n\" id=\"DejaVuSans-48\"/>\n       </defs>\n       <use xlink:href=\"#DejaVuSans-50\"/>\n       <use x=\"63.623047\" xlink:href=\"#DejaVuSans-48\"/>\n       <use x=\"127.246094\" xlink:href=\"#DejaVuSans-48\"/>\n       <use x=\"190.869141\" xlink:href=\"#DejaVuSans-48\"/>\n      </g>\n     </g>\n    </g>\n    <g id=\"xtick_2\">\n     <g id=\"line2d_2\">\n      <g>\n       <use style=\"stroke:#000000;stroke-width:0.8;\" x=\"157.964147\" xlink:href=\"#md3019cdfd5\" y=\"224.64\"/>\n      </g>\n     </g>\n     <g id=\"text_2\">\n      <!-- Jan -->\n      <g transform=\"translate(150.256334 239.238438)scale(0.1 -0.1)\">\n       <use xlink:href=\"#DejaVuSans-74\"/>\n       <use x=\"29.492188\" xlink:href=\"#DejaVuSans-97\"/>\n       <use x=\"90.771484\" xlink:href=\"#DejaVuSans-110\"/>\n      </g>\n      <!-- 2001 -->\n      <g transform=\"translate(145.239147 250.43625)scale(0.1 -0.1)\">\n       <defs>\n        <path d=\"M 12.40625 8.296875 \nL 28.515625 8.296875 \nL 28.515625 63.921875 \nL 10.984375 60.40625 \nL 10.984375 69.390625 \nL 28.421875 72.90625 \nL 38.28125 72.90625 \nL 38.28125 8.296875 \nL 54.390625 8.296875 \nL 54.390625 0 \nL 12.40625 0 \nz\n\" id=\"DejaVuSans-49\"/>\n       </defs>\n       <use xlink:href=\"#DejaVuSans-50\"/>\n       <use x=\"63.623047\" xlink:href=\"#DejaVuSans-48\"/>\n       <use x=\"127.246094\" xlink:href=\"#DejaVuSans-48\"/>\n       <use x=\"190.869141\" xlink:href=\"#DejaVuSans-49\"/>\n      </g>\n     </g>\n    </g>\n    <g id=\"xtick_3\">\n     <g id=\"line2d_3\">\n      <g>\n       <use style=\"stroke:#000000;stroke-width:0.8;\" x=\"280.288471\" xlink:href=\"#md3019cdfd5\" y=\"224.64\"/>\n      </g>\n     </g>\n     <g id=\"text_3\">\n      <!-- Jan -->\n      <g transform=\"translate(272.580659 239.238438)scale(0.1 -0.1)\">\n       <use xlink:href=\"#DejaVuSans-74\"/>\n       <use x=\"29.492188\" xlink:href=\"#DejaVuSans-97\"/>\n       <use x=\"90.771484\" xlink:href=\"#DejaVuSans-110\"/>\n      </g>\n      <!-- 2002 -->\n      <g transform=\"translate(267.563471 250.43625)scale(0.1 -0.1)\">\n       <use xlink:href=\"#DejaVuSans-50\"/>\n       <use x=\"63.623047\" xlink:href=\"#DejaVuSans-48\"/>\n       <use x=\"127.246094\" xlink:href=\"#DejaVuSans-48\"/>\n       <use x=\"190.869141\" xlink:href=\"#DejaVuSans-50\"/>\n      </g>\n     </g>\n    </g>\n    <g id=\"xtick_4\">\n     <g id=\"line2d_4\">\n      <g>\n       <use style=\"stroke:#000000;stroke-width:0.8;\" x=\"370.104688\" xlink:href=\"#md3019cdfd5\" y=\"224.64\"/>\n      </g>\n     </g>\n    </g>\n    <g id=\"xtick_5\">\n     <g id=\"line2d_5\">\n      <defs>\n       <path d=\"M 0 0 \nL 0 2 \n\" id=\"m7140c59f78\" style=\"stroke:#000000;stroke-width:0.6;\"/>\n      </defs>\n      <g>\n       <use style=\"stroke:#000000;stroke-width:0.6;\" x=\"45.693877\" xlink:href=\"#m7140c59f78\" y=\"224.64\"/>\n      </g>\n     </g>\n    </g>\n    <g id=\"xtick_6\">\n     <g id=\"line2d_6\">\n      <g>\n       <use style=\"stroke:#000000;stroke-width:0.6;\" x=\"55.412796\" xlink:href=\"#m7140c59f78\" y=\"224.64\"/>\n      </g>\n     </g>\n    </g>\n    <g id=\"xtick_7\">\n     <g id=\"line2d_7\">\n      <g>\n       <use style=\"stroke:#000000;stroke-width:0.6;\" x=\"65.801985\" xlink:href=\"#m7140c59f78\" y=\"224.64\"/>\n      </g>\n     </g>\n    </g>\n    <g id=\"xtick_8\">\n     <g id=\"line2d_8\">\n      <g>\n       <use style=\"stroke:#000000;stroke-width:0.6;\" x=\"75.856039\" xlink:href=\"#m7140c59f78\" y=\"224.64\"/>\n      </g>\n     </g>\n    </g>\n    <g id=\"xtick_9\">\n     <g id=\"line2d_9\">\n      <g>\n       <use style=\"stroke:#000000;stroke-width:0.6;\" x=\"86.245228\" xlink:href=\"#m7140c59f78\" y=\"224.64\"/>\n      </g>\n     </g>\n    </g>\n    <g id=\"xtick_10\">\n     <g id=\"line2d_10\">\n      <g>\n       <use style=\"stroke:#000000;stroke-width:0.6;\" x=\"96.299282\" xlink:href=\"#m7140c59f78\" y=\"224.64\"/>\n      </g>\n     </g>\n     <g id=\"text_4\">\n      <!-- Jul -->\n      <g transform=\"translate(90.26647 237.638438)scale(0.1 -0.1)\">\n       <defs>\n        <path d=\"M 8.5 21.578125 \nL 8.5 54.6875 \nL 17.484375 54.6875 \nL 17.484375 21.921875 \nQ 17.484375 14.15625 20.5 10.265625 \nQ 23.53125 6.390625 29.59375 6.390625 \nQ 36.859375 6.390625 41.078125 11.03125 \nQ 45.3125 15.671875 45.3125 23.6875 \nL 45.3125 54.6875 \nL 54.296875 54.6875 \nL 54.296875 0 \nL 45.3125 0 \nL 45.3125 8.40625 \nQ 42.046875 3.421875 37.71875 1 \nQ 33.40625 -1.421875 27.6875 -1.421875 \nQ 18.265625 -1.421875 13.375 4.4375 \nQ 8.5 10.296875 8.5 21.578125 \nz\nM 31.109375 56 \nz\n\" id=\"DejaVuSans-117\"/>\n        <path d=\"M 9.421875 75.984375 \nL 18.40625 75.984375 \nL 18.40625 0 \nL 9.421875 0 \nz\n\" id=\"DejaVuSans-108\"/>\n       </defs>\n       <use xlink:href=\"#DejaVuSans-74\"/>\n       <use x=\"29.492188\" xlink:href=\"#DejaVuSans-117\"/>\n       <use x=\"92.871094\" xlink:href=\"#DejaVuSans-108\"/>\n      </g>\n     </g>\n    </g>\n    <g id=\"xtick_11\">\n     <g id=\"line2d_11\">\n      <g>\n       <use style=\"stroke:#000000;stroke-width:0.6;\" x=\"106.688471\" xlink:href=\"#m7140c59f78\" y=\"224.64\"/>\n      </g>\n     </g>\n    </g>\n    <g id=\"xtick_12\">\n     <g id=\"line2d_12\">\n      <g>\n       <use style=\"stroke:#000000;stroke-width:0.6;\" x=\"117.07766\" xlink:href=\"#m7140c59f78\" y=\"224.64\"/>\n      </g>\n     </g>\n    </g>\n    <g id=\"xtick_13\">\n     <g id=\"line2d_13\">\n      <g>\n       <use style=\"stroke:#000000;stroke-width:0.6;\" x=\"127.131715\" xlink:href=\"#m7140c59f78\" y=\"224.64\"/>\n      </g>\n     </g>\n    </g>\n    <g id=\"xtick_14\">\n     <g id=\"line2d_14\">\n      <g>\n       <use style=\"stroke:#000000;stroke-width:0.6;\" x=\"137.520904\" xlink:href=\"#m7140c59f78\" y=\"224.64\"/>\n      </g>\n     </g>\n    </g>\n    <g id=\"xtick_15\">\n     <g id=\"line2d_15\">\n      <g>\n       <use style=\"stroke:#000000;stroke-width:0.6;\" x=\"147.574958\" xlink:href=\"#m7140c59f78\" y=\"224.64\"/>\n      </g>\n     </g>\n    </g>\n    <g id=\"xtick_16\">\n     <g id=\"line2d_16\">\n      <g>\n       <use style=\"stroke:#000000;stroke-width:0.6;\" x=\"168.353336\" xlink:href=\"#m7140c59f78\" y=\"224.64\"/>\n      </g>\n     </g>\n    </g>\n    <g id=\"xtick_17\">\n     <g id=\"line2d_17\">\n      <g>\n       <use style=\"stroke:#000000;stroke-width:0.6;\" x=\"177.73712\" xlink:href=\"#m7140c59f78\" y=\"224.64\"/>\n      </g>\n     </g>\n    </g>\n    <g id=\"xtick_18\">\n     <g id=\"line2d_18\">\n      <g>\n       <use style=\"stroke:#000000;stroke-width:0.6;\" x=\"188.126309\" xlink:href=\"#m7140c59f78\" y=\"224.64\"/>\n      </g>\n     </g>\n    </g>\n    <g id=\"xtick_19\">\n     <g id=\"line2d_19\">\n      <g>\n       <use style=\"stroke:#000000;stroke-width:0.6;\" x=\"198.180363\" xlink:href=\"#m7140c59f78\" y=\"224.64\"/>\n      </g>\n     </g>\n    </g>\n    <g id=\"xtick_20\">\n     <g id=\"line2d_20\">\n      <g>\n       <use style=\"stroke:#000000;stroke-width:0.6;\" x=\"208.569552\" xlink:href=\"#m7140c59f78\" y=\"224.64\"/>\n      </g>\n     </g>\n    </g>\n    <g id=\"xtick_21\">\n     <g id=\"line2d_21\">\n      <g>\n       <use style=\"stroke:#000000;stroke-width:0.6;\" x=\"218.623606\" xlink:href=\"#m7140c59f78\" y=\"224.64\"/>\n      </g>\n     </g>\n     <g id=\"text_5\">\n      <!-- Jul -->\n      <g transform=\"translate(212.590794 237.638438)scale(0.1 -0.1)\">\n       <use xlink:href=\"#DejaVuSans-74\"/>\n       <use x=\"29.492188\" xlink:href=\"#DejaVuSans-117\"/>\n       <use x=\"92.871094\" xlink:href=\"#DejaVuSans-108\"/>\n      </g>\n     </g>\n    </g>\n    <g id=\"xtick_22\">\n     <g id=\"line2d_22\">\n      <g>\n       <use style=\"stroke:#000000;stroke-width:0.6;\" x=\"229.012796\" xlink:href=\"#m7140c59f78\" y=\"224.64\"/>\n      </g>\n     </g>\n    </g>\n    <g id=\"xtick_23\">\n     <g id=\"line2d_23\">\n      <g>\n       <use style=\"stroke:#000000;stroke-width:0.6;\" x=\"239.401985\" xlink:href=\"#m7140c59f78\" y=\"224.64\"/>\n      </g>\n     </g>\n    </g>\n    <g id=\"xtick_24\">\n     <g id=\"line2d_24\">\n      <g>\n       <use style=\"stroke:#000000;stroke-width:0.6;\" x=\"249.456039\" xlink:href=\"#m7140c59f78\" y=\"224.64\"/>\n      </g>\n     </g>\n    </g>\n    <g id=\"xtick_25\">\n     <g id=\"line2d_25\">\n      <g>\n       <use style=\"stroke:#000000;stroke-width:0.6;\" x=\"259.845228\" xlink:href=\"#m7140c59f78\" y=\"224.64\"/>\n      </g>\n     </g>\n    </g>\n    <g id=\"xtick_26\">\n     <g id=\"line2d_26\">\n      <g>\n       <use style=\"stroke:#000000;stroke-width:0.6;\" x=\"269.899282\" xlink:href=\"#m7140c59f78\" y=\"224.64\"/>\n      </g>\n     </g>\n    </g>\n    <g id=\"xtick_27\">\n     <g id=\"line2d_27\">\n      <g>\n       <use style=\"stroke:#000000;stroke-width:0.6;\" x=\"290.67766\" xlink:href=\"#m7140c59f78\" y=\"224.64\"/>\n      </g>\n     </g>\n    </g>\n    <g id=\"xtick_28\">\n     <g id=\"line2d_28\">\n      <g>\n       <use style=\"stroke:#000000;stroke-width:0.6;\" x=\"300.061444\" xlink:href=\"#m7140c59f78\" y=\"224.64\"/>\n      </g>\n     </g>\n    </g>\n    <g id=\"xtick_29\">\n     <g id=\"line2d_29\">\n      <g>\n       <use style=\"stroke:#000000;stroke-width:0.6;\" x=\"310.450633\" xlink:href=\"#m7140c59f78\" y=\"224.64\"/>\n      </g>\n     </g>\n    </g>\n    <g id=\"xtick_30\">\n     <g id=\"line2d_30\">\n      <g>\n       <use style=\"stroke:#000000;stroke-width:0.6;\" x=\"320.504687\" xlink:href=\"#m7140c59f78\" y=\"224.64\"/>\n      </g>\n     </g>\n    </g>\n    <g id=\"xtick_31\">\n     <g id=\"line2d_31\">\n      <g>\n       <use style=\"stroke:#000000;stroke-width:0.6;\" x=\"330.893877\" xlink:href=\"#m7140c59f78\" y=\"224.64\"/>\n      </g>\n     </g>\n    </g>\n    <g id=\"xtick_32\">\n     <g id=\"line2d_32\">\n      <g>\n       <use style=\"stroke:#000000;stroke-width:0.6;\" x=\"340.947931\" xlink:href=\"#m7140c59f78\" y=\"224.64\"/>\n      </g>\n     </g>\n     <g id=\"text_6\">\n      <!-- Jul -->\n      <g transform=\"translate(334.915118 237.638438)scale(0.1 -0.1)\">\n       <use xlink:href=\"#DejaVuSans-74\"/>\n       <use x=\"29.492188\" xlink:href=\"#DejaVuSans-117\"/>\n       <use x=\"92.871094\" xlink:href=\"#DejaVuSans-108\"/>\n      </g>\n     </g>\n    </g>\n    <g id=\"xtick_33\">\n     <g id=\"line2d_33\">\n      <g>\n       <use style=\"stroke:#000000;stroke-width:0.6;\" x=\"351.33712\" xlink:href=\"#m7140c59f78\" y=\"224.64\"/>\n      </g>\n     </g>\n    </g>\n    <g id=\"xtick_34\">\n     <g id=\"line2d_34\">\n      <g>\n       <use style=\"stroke:#000000;stroke-width:0.6;\" x=\"361.726309\" xlink:href=\"#m7140c59f78\" y=\"224.64\"/>\n      </g>\n     </g>\n    </g>\n   </g>\n   <g id=\"matplotlib.axis_2\">\n    <g id=\"ytick_1\">\n     <g id=\"line2d_35\">\n      <defs>\n       <path d=\"M 0 0 \nL -3.5 0 \n\" id=\"mc42e753beb\" style=\"stroke:#000000;stroke-width:0.8;\"/>\n      </defs>\n      <g>\n       <use style=\"stroke:#000000;stroke-width:0.8;\" x=\"35.304688\" xlink:href=\"#mc42e753beb\" y=\"205.253047\"/>\n      </g>\n     </g>\n     <g id=\"text_7\">\n      <!-- −40 -->\n      <g transform=\"translate(7.2 209.052266)scale(0.1 -0.1)\">\n       <defs>\n        <path d=\"M 10.59375 35.5 \nL 73.1875 35.5 \nL 73.1875 27.203125 \nL 10.59375 27.203125 \nz\n\" id=\"DejaVuSans-8722\"/>\n        <path d=\"M 37.796875 64.3125 \nL 12.890625 25.390625 \nL 37.796875 25.390625 \nz\nM 35.203125 72.90625 \nL 47.609375 72.90625 \nL 47.609375 25.390625 \nL 58.015625 25.390625 \nL 58.015625 17.1875 \nL 47.609375 17.1875 \nL 47.609375 0 \nL 37.796875 0 \nL 37.796875 17.1875 \nL 4.890625 17.1875 \nL 4.890625 26.703125 \nz\n\" id=\"DejaVuSans-52\"/>\n       </defs>\n       <use xlink:href=\"#DejaVuSans-8722\"/>\n       <use x=\"83.789062\" xlink:href=\"#DejaVuSans-52\"/>\n       <use x=\"147.412109\" xlink:href=\"#DejaVuSans-48\"/>\n      </g>\n     </g>\n    </g>\n    <g id=\"ytick_2\">\n     <g id=\"line2d_36\">\n      <g>\n       <use style=\"stroke:#000000;stroke-width:0.8;\" x=\"35.304688\" xlink:href=\"#mc42e753beb\" y=\"169.624543\"/>\n      </g>\n     </g>\n     <g id=\"text_8\">\n      <!-- −30 -->\n      <g transform=\"translate(7.2 173.423762)scale(0.1 -0.1)\">\n       <defs>\n        <path d=\"M 40.578125 39.3125 \nQ 47.65625 37.796875 51.625 33 \nQ 55.609375 28.21875 55.609375 21.1875 \nQ 55.609375 10.40625 48.1875 4.484375 \nQ 40.765625 -1.421875 27.09375 -1.421875 \nQ 22.515625 -1.421875 17.65625 -0.515625 \nQ 12.796875 0.390625 7.625 2.203125 \nL 7.625 11.71875 \nQ 11.71875 9.328125 16.59375 8.109375 \nQ 21.484375 6.890625 26.8125 6.890625 \nQ 36.078125 6.890625 40.9375 10.546875 \nQ 45.796875 14.203125 45.796875 21.1875 \nQ 45.796875 27.640625 41.28125 31.265625 \nQ 36.765625 34.90625 28.71875 34.90625 \nL 20.21875 34.90625 \nL 20.21875 43.015625 \nL 29.109375 43.015625 \nQ 36.375 43.015625 40.234375 45.921875 \nQ 44.09375 48.828125 44.09375 54.296875 \nQ 44.09375 59.90625 40.109375 62.90625 \nQ 36.140625 65.921875 28.71875 65.921875 \nQ 24.65625 65.921875 20.015625 65.03125 \nQ 15.375 64.15625 9.8125 62.3125 \nL 9.8125 71.09375 \nQ 15.4375 72.65625 20.34375 73.4375 \nQ 25.25 74.21875 29.59375 74.21875 \nQ 40.828125 74.21875 47.359375 69.109375 \nQ 53.90625 64.015625 53.90625 55.328125 \nQ 53.90625 49.265625 50.4375 45.09375 \nQ 46.96875 40.921875 40.578125 39.3125 \nz\n\" id=\"DejaVuSans-51\"/>\n       </defs>\n       <use xlink:href=\"#DejaVuSans-8722\"/>\n       <use x=\"83.789062\" xlink:href=\"#DejaVuSans-51\"/>\n       <use x=\"147.412109\" xlink:href=\"#DejaVuSans-48\"/>\n      </g>\n     </g>\n    </g>\n    <g id=\"ytick_3\">\n     <g id=\"line2d_37\">\n      <g>\n       <use style=\"stroke:#000000;stroke-width:0.8;\" x=\"35.304688\" xlink:href=\"#mc42e753beb\" y=\"133.996039\"/>\n      </g>\n     </g>\n     <g id=\"text_9\">\n      <!-- −20 -->\n      <g transform=\"translate(7.2 137.795258)scale(0.1 -0.1)\">\n       <use xlink:href=\"#DejaVuSans-8722\"/>\n       <use x=\"83.789062\" xlink:href=\"#DejaVuSans-50\"/>\n       <use x=\"147.412109\" xlink:href=\"#DejaVuSans-48\"/>\n      </g>\n     </g>\n    </g>\n    <g id=\"ytick_4\">\n     <g id=\"line2d_38\">\n      <g>\n       <use style=\"stroke:#000000;stroke-width:0.8;\" x=\"35.304688\" xlink:href=\"#mc42e753beb\" y=\"98.367535\"/>\n      </g>\n     </g>\n     <g id=\"text_10\">\n      <!-- −10 -->\n      <g transform=\"translate(7.2 102.166754)scale(0.1 -0.1)\">\n       <use xlink:href=\"#DejaVuSans-8722\"/>\n       <use x=\"83.789062\" xlink:href=\"#DejaVuSans-49\"/>\n       <use x=\"147.412109\" xlink:href=\"#DejaVuSans-48\"/>\n      </g>\n     </g>\n    </g>\n    <g id=\"ytick_5\">\n     <g id=\"line2d_39\">\n      <g>\n       <use style=\"stroke:#000000;stroke-width:0.8;\" x=\"35.304688\" xlink:href=\"#mc42e753beb\" y=\"62.739031\"/>\n      </g>\n     </g>\n     <g id=\"text_11\">\n      <!-- 0 -->\n      <g transform=\"translate(21.942188 66.538249)scale(0.1 -0.1)\">\n       <use xlink:href=\"#DejaVuSans-48\"/>\n      </g>\n     </g>\n    </g>\n    <g id=\"ytick_6\">\n     <g id=\"line2d_40\">\n      <g>\n       <use style=\"stroke:#000000;stroke-width:0.8;\" x=\"35.304688\" xlink:href=\"#mc42e753beb\" y=\"27.110526\"/>\n      </g>\n     </g>\n     <g id=\"text_12\">\n      <!-- 10 -->\n      <g transform=\"translate(15.579688 30.909745)scale(0.1 -0.1)\">\n       <use xlink:href=\"#DejaVuSans-49\"/>\n       <use x=\"63.623047\" xlink:href=\"#DejaVuSans-48\"/>\n      </g>\n     </g>\n    </g>\n   </g>\n   <g id=\"line2d_41\">\n    <path clip-path=\"url(#p9b21320e2c)\" d=\"M 35.304688 58.773705 \nL 35.639823 60.061862 \nL 35.974958 59.501126 \nL 36.310093 61.984667 \nL 36.645228 60.418183 \nL 36.980363 55.98066 \nL 37.315498 59.333703 \nL 37.650633 58.390765 \nL 37.985769 54.405576 \nL 38.320904 54.163218 \nL 38.656039 56.203474 \nL 38.991174 55.989325 \nL 39.326309 56.75501 \nL 39.661444 53.067166 \nL 39.996579 47.347753 \nL 40.331715 48.935344 \nL 40.66685 46.402096 \nL 41.001985 53.677197 \nL 41.33712 46.919001 \nL 41.672255 48.340765 \nL 42.00739 47.041023 \nL 42.342525 39.958538 \nL 43.012796 47.037991 \nL 43.347931 43.854875 \nL 43.683066 32.965472 \nL 44.018201 38.520425 \nL 44.353336 34.921746 \nL 44.688471 38.794487 \nL 45.023606 41.246632 \nL 45.358742 40.077127 \nL 45.693877 38.379552 \nL 46.029012 44.33643 \nL 46.364147 42.327927 \nL 46.699282 39.04759 \nL 47.034417 33.432725 \nL 47.369552 34.758203 \nL 47.704688 34.448177 \nL 48.039823 28.516643 \nL 48.374958 29.626638 \nL 49.045228 32.523689 \nL 49.380363 36.023471 \nL 49.715498 37.883829 \nL 50.050633 40.688944 \nL 50.385769 39.11099 \nL 50.720904 39.958726 \nL 51.056039 38.383698 \nL 51.391174 41.220241 \nL 52.061444 33.812759 \nL 52.396579 33.249053 \nL 52.731715 31.247851 \nL 53.06685 30.928388 \nL 53.401985 29.932295 \nL 53.73712 28.200029 \nL 54.072255 27.198778 \nL 54.40739 24.424372 \nL 54.742525 23.253068 \nL 55.07766 17.083636 \nL 55.412796 22.473275 \nL 55.747931 31.884931 \nL 56.083066 32.084029 \nL 56.418201 33.348817 \nL 56.753336 30.327106 \nL 57.088471 24.568546 \nL 57.423606 24.682783 \nL 57.758742 29.225255 \nL 58.093877 30.364044 \nL 58.429012 29.471373 \nL 59.099282 36.599076 \nL 59.434417 38.594936 \nL 60.104687 30.831829 \nL 60.439823 28.545653 \nL 60.774958 22.304818 \nL 61.110093 19.506301 \nL 61.780363 23.315933 \nL 62.115498 21.079728 \nL 62.450633 21.536665 \nL 62.785769 19.567803 \nL 63.120904 22.060571 \nL 63.456039 20.788629 \nL 63.791174 22.935615 \nL 64.126309 28.901923 \nL 64.461444 29.028673 \nL 64.796579 29.505762 \nL 65.131715 34.363141 \nL 65.46685 30.880644 \nL 65.801985 31.610286 \nL 66.13712 29.931806 \nL 66.472255 30.838631 \nL 66.80739 29.038002 \nL 67.142525 37.458556 \nL 67.47766 38.722752 \nL 67.812796 48.513298 \nL 68.147931 48.091272 \nL 68.483066 43.183599 \nL 69.153336 51.093897 \nL 69.488471 47.245841 \nL 69.823606 46.720544 \nL 70.158742 45.775951 \nL 70.829012 38.22376 \nL 71.164147 39.182152 \nL 71.499282 31.274917 \nL 72.169552 36.309693 \nL 72.839823 44.112419 \nL 73.174958 45.275342 \nL 73.845228 37.684837 \nL 74.180363 41.125217 \nL 74.515498 33.374817 \nL 74.850633 40.924569 \nL 75.185769 41.059821 \nL 75.520904 40.800084 \nL 75.856039 42.356794 \nL 76.191174 43.118234 \nL 76.861444 49.848725 \nL 77.531715 57.65311 \nL 78.201985 60.551938 \nL 78.872255 50.540532 \nL 79.20739 49.133629 \nL 79.542525 49.797201 \nL 79.87766 46.420306 \nL 80.212796 40.8295 \nL 80.547931 40.506948 \nL 80.883066 42.560561 \nL 81.218201 39.637044 \nL 81.553336 32.099758 \nL 81.888471 34.458927 \nL 82.223606 43.745578 \nL 82.558742 45.052062 \nL 82.893877 45.705216 \nL 83.229012 45.509027 \nL 83.564147 49.77124 \nL 83.899282 49.887363 \nL 84.234417 51.694244 \nL 84.569552 52.31151 \nL 85.239823 47.875882 \nL 85.574958 40.688909 \nL 85.910093 39.272049 \nL 86.245228 42.400414 \nL 86.580363 41.698562 \nL 86.915498 37.354112 \nL 87.250633 40.642653 \nL 87.585769 41.12178 \nL 87.920904 45.69506 \nL 88.256039 46.962475 \nL 88.591174 47.199693 \nL 88.926309 44.483796 \nL 89.261444 45.069239 \nL 89.596579 40.777024 \nL 89.931715 45.638171 \nL 90.26685 47.712502 \nL 90.93712 36.944364 \nL 91.272255 40.075896 \nL 91.60739 40.872452 \nL 91.942525 38.094667 \nL 92.27766 32.47255 \nL 92.612796 33.40581 \nL 92.947931 39.060728 \nL 93.283066 37.425965 \nL 93.618201 34.855931 \nL 93.953336 40.712107 \nL 94.288471 40.725416 \nL 94.623606 41.779634 \nL 94.958742 39.379055 \nL 95.293877 37.898227 \nL 95.629012 39.362285 \nL 95.964147 44.933254 \nL 96.299282 47.581682 \nL 96.969552 50.445696 \nL 97.974958 64.962138 \nL 98.310093 66.746817 \nL 98.645228 67.164318 \nL 98.980363 69.553544 \nL 99.315498 70.745505 \nL 99.650633 67.127896 \nL 99.985769 64.943261 \nL 100.320904 70.093303 \nL 100.656039 68.931764 \nL 100.991174 78.093659 \nL 101.326309 74.602825 \nL 101.661444 67.637458 \nL 101.996579 72.01304 \nL 102.331715 71.722068 \nL 102.66685 78.19324 \nL 103.001985 80.711654 \nL 103.33712 80.223233 \nL 103.672255 81.222911 \nL 104.00739 83.005656 \nL 104.342525 86.265155 \nL 104.67766 85.272907 \nL 105.012796 86.396123 \nL 105.347931 90.001853 \nL 105.683066 88.262692 \nL 106.018201 83.184388 \nL 106.353336 80.549565 \nL 106.688471 83.161182 \nL 107.023606 82.18971 \nL 107.358742 83.682691 \nL 107.693877 82.791689 \nL 108.029012 82.221838 \nL 108.364147 76.977714 \nL 109.369552 90.180565 \nL 109.704688 89.129838 \nL 110.039823 92.811637 \nL 110.374958 92.541955 \nL 110.710093 91.975418 \nL 111.045228 92.018325 \nL 111.380363 82.247802 \nL 111.715498 85.084546 \nL 112.385769 94.324137 \nL 112.720904 95.003913 \nL 113.056039 90.530083 \nL 113.391174 82.457519 \nL 113.726309 79.642581 \nL 114.061444 69.243607 \nL 114.396579 71.486053 \nL 114.731715 67.398513 \nL 115.06685 66.251545 \nL 115.401985 62.261563 \nL 116.072255 66.525928 \nL 116.40739 66.994404 \nL 116.742525 74.262421 \nL 117.07766 71.56828 \nL 117.412796 73.802503 \nL 117.747931 75.035022 \nL 118.083066 72.186051 \nL 118.753336 68.693773 \nL 119.088471 71.013337 \nL 119.423606 71.329977 \nL 119.758742 77.88607 \nL 120.093877 79.014335 \nL 120.429012 79.26531 \nL 121.434417 90.261798 \nL 121.769552 88.786154 \nL 122.104687 90.473585 \nL 122.439823 85.210507 \nL 122.774958 87.541807 \nL 123.110093 85.634686 \nL 123.445228 84.64315 \nL 123.780363 84.625729 \nL 124.115498 77.637102 \nL 124.450633 82.652754 \nL 124.785769 76.324021 \nL 125.120904 80.081643 \nL 125.456039 77.79332 \nL 125.791174 78.035752 \nL 126.126309 80.458174 \nL 126.461444 76.587288 \nL 126.796579 75.919323 \nL 127.131715 71.47247 \nL 127.46685 70.003254 \nL 127.801985 64.658053 \nL 128.13712 67.027818 \nL 128.472255 72.08792 \nL 128.80739 74.353244 \nL 129.142525 81.28032 \nL 129.47766 81.822932 \nL 129.812796 80.700176 \nL 130.147931 78.388157 \nL 130.483066 80.801655 \nL 130.818201 80.271506 \nL 131.153336 84.615891 \nL 131.488471 83.101876 \nL 131.823606 82.782897 \nL 132.158742 90.59386 \nL 132.493877 87.435622 \nL 133.164147 89.809965 \nL 133.499282 89.590981 \nL 133.834417 86.961183 \nL 134.169552 87.120971 \nL 134.504687 81.551226 \nL 134.839823 80.471473 \nL 135.174958 85.376272 \nL 135.510093 84.692419 \nL 135.845228 92.926838 \nL 136.180363 83.005835 \nL 136.515498 80.228499 \nL 136.850633 82.670755 \nL 137.185769 86.282712 \nL 137.520904 84.659467 \nL 137.856039 76.74634 \nL 138.191174 73.322179 \nL 138.526309 75.733701 \nL 138.861444 83.14052 \nL 139.196579 83.107824 \nL 139.531715 86.916819 \nL 139.86685 85.969083 \nL 140.201985 83.446718 \nL 140.53712 89.653679 \nL 140.872255 85.332152 \nL 141.20739 77.074544 \nL 141.542525 80.344145 \nL 141.87766 80.87939 \nL 142.212796 80.79009 \nL 142.547931 78.628759 \nL 142.883066 77.774087 \nL 143.218201 76.595922 \nL 143.553336 71.164648 \nL 144.223606 81.817978 \nL 144.558742 78.637348 \nL 144.893877 78.281789 \nL 145.229012 80.825583 \nL 145.564147 80.186006 \nL 145.899282 81.024605 \nL 146.234417 77.00198 \nL 146.569552 78.695839 \nL 146.904687 84.600684 \nL 147.574958 86.107983 \nL 147.910093 83.549364 \nL 148.245228 88.065108 \nL 148.580363 87.628693 \nL 148.915498 83.36977 \nL 149.250633 83.107361 \nL 149.585769 81.240243 \nL 150.256039 85.856195 \nL 150.591174 82.787873 \nL 151.596579 95.158036 \nL 151.931715 88.585329 \nL 152.26685 87.847751 \nL 152.601985 82.522425 \nL 152.93712 85.520821 \nL 153.272255 79.123451 \nL 153.60739 84.427987 \nL 153.942525 85.815065 \nL 154.27766 84.386619 \nL 154.612796 83.615652 \nL 155.283066 76.432115 \nL 155.618201 81.810129 \nL 155.953336 74.441558 \nL 156.288471 77.106428 \nL 156.623606 74.296273 \nL 156.958742 75.236879 \nL 157.629012 78.643175 \nL 157.964147 75.732424 \nL 158.299282 77.826302 \nL 158.634417 73.683956 \nL 158.969552 77.561703 \nL 159.304688 75.529698 \nL 159.639823 72.366052 \nL 159.974958 64.031823 \nL 160.310093 62.490461 \nL 160.645228 60.085311 \nL 160.980363 60.414686 \nL 161.315498 54.993549 \nL 161.650633 57.217862 \nL 161.985769 54.97834 \nL 162.320904 57.592356 \nL 162.656039 58.383567 \nL 162.991174 59.934648 \nL 163.326309 60.043599 \nL 163.661444 63.270649 \nL 163.996579 64.118136 \nL 164.66685 74.44776 \nL 165.001985 74.725613 \nL 165.33712 69.861571 \nL 165.672255 68.314465 \nL 166.00739 70.663208 \nL 166.342525 71.784263 \nL 166.67766 77.119617 \nL 167.012796 77.213259 \nL 167.347931 76.728342 \nL 167.683066 66.805268 \nL 168.018201 65.799697 \nL 169.023606 70.353024 \nL 169.358742 73.338019 \nL 169.693877 72.976458 \nL 170.029012 69.262955 \nL 170.364147 68.33051 \nL 171.034417 65.196496 \nL 171.704688 66.630604 \nL 172.039823 59.143081 \nL 172.374958 56.224727 \nL 172.710093 50.243184 \nL 173.045228 55.398443 \nL 173.380363 52.415735 \nL 173.715498 54.680215 \nL 174.050633 57.950433 \nL 174.385769 59.721139 \nL 174.720904 51.829745 \nL 175.056039 53.100459 \nL 175.391174 53.606194 \nL 175.726309 53.176975 \nL 176.396579 50.473381 \nL 177.06685 44.343956 \nL 177.401985 44.568442 \nL 177.73712 42.844294 \nL 178.072255 42.231448 \nL 178.40739 40.58481 \nL 178.742525 40.266171 \nL 179.07766 36.969256 \nL 179.412796 35.107882 \nL 179.747931 36.441906 \nL 180.083066 39.468646 \nL 180.418201 46.527347 \nL 180.753336 48.149844 \nL 181.088471 48.871194 \nL 181.423606 48.196111 \nL 181.758742 50.618156 \nL 182.093877 45.466526 \nL 182.429012 45.635505 \nL 182.764147 49.430556 \nL 183.434417 50.074504 \nL 183.769552 57.444596 \nL 184.104687 58.007532 \nL 184.439823 55.692701 \nL 184.774958 59.827859 \nL 185.110093 67.395015 \nL 185.445228 63.181798 \nL 185.780363 63.788425 \nL 186.115498 60.332245 \nL 186.450633 60.046717 \nL 186.785769 53.941535 \nL 187.120904 56.462483 \nL 187.456039 54.718262 \nL 187.791174 57.060339 \nL 188.126309 66.579489 \nL 188.461444 68.372082 \nL 188.796579 68.813245 \nL 189.131715 67.900529 \nL 189.46685 70.365814 \nL 189.801985 67.417387 \nL 190.13712 70.416622 \nL 190.472255 64.303545 \nL 190.80739 64.836442 \nL 191.142525 67.240471 \nL 191.47766 71.827934 \nL 192.483066 66.447177 \nL 193.153336 70.727707 \nL 193.488471 67.068525 \nL 193.823606 64.804905 \nL 194.158742 64.751562 \nL 194.493877 64.137258 \nL 194.829012 59.233154 \nL 195.499282 57.880893 \nL 195.834417 54.766501 \nL 196.169552 53.725285 \nL 196.504687 54.271713 \nL 197.174958 46.47405 \nL 197.510093 49.777132 \nL 197.845228 48.497287 \nL 198.180363 44.94947 \nL 198.515498 52.938917 \nL 198.850633 57.91405 \nL 199.185769 55.879512 \nL 199.520904 57.245429 \nL 199.856039 56.604162 \nL 200.191174 60.280739 \nL 200.526309 61.541198 \nL 200.861444 65.474898 \nL 201.196579 61.480517 \nL 201.531715 64.196788 \nL 201.86685 65.278385 \nL 202.201985 60.804482 \nL 202.53712 59.156819 \nL 202.872255 61.264496 \nL 203.20739 68.423691 \nL 203.542525 72.105059 \nL 203.87766 69.413711 \nL 204.212796 68.591724 \nL 204.547931 68.271765 \nL 204.883066 69.910807 \nL 205.553336 81.671777 \nL 205.888471 80.666751 \nL 206.223606 86.596101 \nL 206.558742 88.682426 \nL 206.893877 83.66633 \nL 207.229012 85.036859 \nL 207.564147 88.45008 \nL 207.899282 89.184711 \nL 208.569552 81.650056 \nL 208.904687 70.045287 \nL 209.239823 64.4576 \nL 209.574958 67.764673 \nL 209.910093 59.285566 \nL 210.245228 62.848511 \nL 210.580363 58.275989 \nL 210.915498 59.686975 \nL 211.585769 49.305179 \nL 211.920904 47.701821 \nL 212.256039 43.63226 \nL 212.591174 45.582279 \nL 212.926309 44.376593 \nL 213.596579 47.266301 \nL 213.931715 46.371669 \nL 214.26685 44.172231 \nL 214.601985 47.638453 \nL 214.93712 43.919899 \nL 215.272255 35.086736 \nL 215.60739 38.987236 \nL 216.27766 32.34885 \nL 216.612796 34.429778 \nL 216.947931 33.461913 \nL 217.618201 39.597425 \nL 217.953336 37.632954 \nL 218.288471 39.743183 \nL 218.623606 38.179637 \nL 218.958742 38.972422 \nL 219.293877 37.725377 \nL 219.629012 32.57356 \nL 219.964147 36.070858 \nL 220.299282 31.685372 \nL 220.634417 33.289508 \nL 220.969552 38.811949 \nL 221.304688 37.048467 \nL 221.639823 41.089102 \nL 221.974958 41.683513 \nL 222.310093 42.520839 \nL 222.645228 42.011549 \nL 222.980363 45.560892 \nL 223.315498 45.738949 \nL 223.650633 51.796229 \nL 223.985769 52.782475 \nL 224.320904 55.054831 \nL 224.656039 55.768518 \nL 224.991174 59.521445 \nL 225.326309 55.456576 \nL 225.996579 57.54402 \nL 226.331715 61.961854 \nL 226.66685 57.154659 \nL 227.001985 61.850699 \nL 227.33712 62.436095 \nL 227.672255 58.924133 \nL 228.342525 62.314294 \nL 228.67766 61.512512 \nL 229.012796 69.749326 \nL 229.683066 73.720614 \nL 230.018201 73.626538 \nL 230.688471 66.871357 \nL 231.023606 71.16014 \nL 231.358742 68.434095 \nL 231.693877 68.154568 \nL 232.029012 69.509171 \nL 232.364147 67.657835 \nL 232.699282 63.662628 \nL 233.034417 63.27557 \nL 233.369552 63.278547 \nL 233.704688 66.876043 \nL 234.039823 65.697816 \nL 234.374958 68.976594 \nL 234.710093 70.8597 \nL 235.715498 81.495325 \nL 236.050633 82.799298 \nL 236.385769 87.507748 \nL 236.720904 84.747394 \nL 237.056039 88.424216 \nL 237.726309 88.596439 \nL 238.061444 87.491815 \nL 238.396579 89.643792 \nL 238.731715 83.011247 \nL 239.06685 85.588791 \nL 239.401985 83.364316 \nL 239.73712 87.07799 \nL 240.072255 84.970292 \nL 240.40739 85.472475 \nL 240.742525 87.332957 \nL 241.07766 87.404807 \nL 241.412796 84.923339 \nL 241.747931 87.166151 \nL 242.083066 90.876168 \nL 242.418201 90.057185 \nL 242.753336 93.697834 \nL 243.088471 85.797336 \nL 243.423606 85.630791 \nL 243.758742 86.958687 \nL 244.093877 87.768987 \nL 244.429012 87.924134 \nL 244.764147 86.968061 \nL 245.099282 87.146995 \nL 245.434417 86.801341 \nL 245.769552 87.46026 \nL 246.104687 86.231203 \nL 246.439823 91.319939 \nL 246.774958 88.867156 \nL 247.110093 88.513177 \nL 247.445228 87.787277 \nL 247.780363 89.750011 \nL 248.115498 86.664052 \nL 248.450633 86.158636 \nL 248.785769 88.328139 \nL 249.120904 88.650353 \nL 249.456039 90.963207 \nL 249.791174 91.093563 \nL 250.461444 87.664868 \nL 250.796579 95.403634 \nL 251.131715 92.625253 \nL 251.46685 91.98298 \nL 251.801985 86.980482 \nL 252.13712 90.996088 \nL 252.472255 90.169271 \nL 252.80739 91.171434 \nL 253.142525 86.740655 \nL 253.47766 85.655942 \nL 253.812796 91.050511 \nL 254.483066 82.752858 \nL 254.818201 85.470528 \nL 255.153336 86.58959 \nL 255.488471 86.941563 \nL 256.158742 84.025418 \nL 256.493877 84.752093 \nL 256.829012 82.623054 \nL 257.164147 78.580357 \nL 257.499282 71.764877 \nL 257.834417 75.643772 \nL 258.169552 72.526853 \nL 258.504687 73.633166 \nL 258.839823 72.424207 \nL 259.174958 75.592437 \nL 259.510093 80.88162 \nL 259.845228 77.584411 \nL 260.180363 79.335877 \nL 260.515498 88.216547 \nL 260.850633 87.258286 \nL 261.185769 93.926225 \nL 261.520904 97.045015 \nL 261.856039 105.975914 \nL 262.191174 107.367216 \nL 262.526309 105.4612 \nL 262.861444 110.648722 \nL 263.196579 113.45892 \nL 263.531715 114.539652 \nL 263.86685 119.326389 \nL 264.201985 115.325616 \nL 264.53712 118.118671 \nL 264.872255 126.328102 \nL 265.20739 128.421177 \nL 265.542525 126.652641 \nL 265.87766 123.94721 \nL 266.212796 126.659358 \nL 266.547931 130.576259 \nL 266.883066 124.6934 \nL 267.218201 124.251153 \nL 267.553336 121.853434 \nL 267.888471 121.384132 \nL 268.558742 133.10649 \nL 268.893877 131.844687 \nL 269.229012 131.236656 \nL 269.564147 134.739195 \nL 269.899282 143.40066 \nL 270.234417 141.545944 \nL 270.569552 138.731281 \nL 270.904687 139.558019 \nL 271.239823 143.071935 \nL 271.574958 145.186197 \nL 271.910093 138.435825 \nL 272.245228 138.580002 \nL 272.580363 136.984321 \nL 272.915498 137.619438 \nL 273.920904 125.45994 \nL 274.256039 126.222773 \nL 274.591174 127.87056 \nL 274.926309 123.995206 \nL 275.261444 126.79452 \nL 275.596579 131.337631 \nL 275.931715 138.417305 \nL 276.26685 133.452321 \nL 276.601985 135.460383 \nL 277.272255 136.386133 \nL 277.60739 135.326252 \nL 277.942525 130.862492 \nL 278.612796 134.753824 \nL 278.947931 135.963475 \nL 279.283066 132.206176 \nL 279.618201 131.07904 \nL 279.953336 130.576274 \nL 280.623606 119.364474 \nL 280.958742 121.343295 \nL 281.293877 120.911374 \nL 281.629012 118.987598 \nL 282.299282 123.715069 \nL 282.634417 125.523748 \nL 282.969552 118.923058 \nL 283.304688 122.968045 \nL 283.639823 121.521304 \nL 283.974958 115.325888 \nL 284.310093 118.330051 \nL 284.645228 124.089662 \nL 284.980363 124.386911 \nL 285.315498 127.018368 \nL 285.650633 131.538259 \nL 285.985769 132.668423 \nL 286.320904 130.382191 \nL 286.656039 129.206526 \nL 286.991174 129.303031 \nL 287.326309 133.517352 \nL 287.661444 131.486013 \nL 287.996579 127.22387 \nL 288.66685 125.493834 \nL 289.001985 128.460386 \nL 289.33712 125.144338 \nL 289.672255 124.821799 \nL 290.00739 130.595661 \nL 290.342525 132.490868 \nL 291.012796 123.188023 \nL 291.347931 124.770768 \nL 291.683066 132.356437 \nL 292.353336 135.164772 \nL 292.688471 135.58405 \nL 293.023606 142.0376 \nL 293.693877 136.385835 \nL 294.029012 138.050121 \nL 294.364147 135.056388 \nL 294.699282 134.454464 \nL 295.034417 141.097731 \nL 296.039823 125.040806 \nL 296.374958 128.175808 \nL 296.710093 133.8036 \nL 297.045228 135.582861 \nL 297.380363 131.716423 \nL 297.715498 130.801542 \nL 298.050633 127.815647 \nL 298.385769 127.884997 \nL 298.720904 132.874096 \nL 299.056039 131.714228 \nL 299.391174 121.305146 \nL 300.061444 116.377714 \nL 300.396579 119.119431 \nL 300.731715 123.469702 \nL 301.06685 117.764123 \nL 301.401985 118.599751 \nL 301.73712 118.165686 \nL 302.40739 119.872892 \nL 302.742525 116.010153 \nL 303.07766 120.868332 \nL 303.412796 117.004608 \nL 303.747931 120.632089 \nL 304.083066 118.297835 \nL 304.418201 112.599151 \nL 304.753336 109.342033 \nL 305.088471 108.289063 \nL 305.423606 105.028507 \nL 306.093877 113.542365 \nL 306.429012 108.335907 \nL 306.764147 110.488944 \nL 307.099282 110.653499 \nL 307.434417 117.545305 \nL 307.769552 119.556435 \nL 308.104688 116.887871 \nL 308.439823 123.868067 \nL 308.774958 126.644138 \nL 309.110093 125.555441 \nL 309.445228 133.808116 \nL 310.115498 144.006185 \nL 310.450633 144.085153 \nL 310.785769 141.509187 \nL 311.120904 142.141681 \nL 311.456039 140.059266 \nL 311.791174 143.146404 \nL 312.796579 147.915024 \nL 313.131715 148.129173 \nL 313.46685 148.040659 \nL 313.801985 147.266013 \nL 314.13712 148.123588 \nL 314.472255 146.594555 \nL 314.80739 144.034604 \nL 315.47766 145.738109 \nL 315.812796 144.636159 \nL 316.147931 139.303949 \nL 316.483066 136.874043 \nL 317.153336 139.830054 \nL 317.488471 134.301553 \nL 317.823606 132.056283 \nL 318.158742 132.252431 \nL 318.493877 129.885738 \nL 318.829012 134.900298 \nL 319.834417 129.612853 \nL 320.169552 133.940308 \nL 320.504687 130.575039 \nL 320.839823 131.18747 \nL 321.174958 131.372365 \nL 322.180363 139.730753 \nL 322.515498 145.395074 \nL 322.850633 146.330645 \nL 323.185769 154.129457 \nL 323.520904 151.441845 \nL 323.856039 152.869562 \nL 324.191174 161.115276 \nL 324.526309 160.888035 \nL 324.861444 164.113099 \nL 325.196579 174.90085 \nL 325.531715 178.121957 \nL 325.86685 171.33503 \nL 326.201985 174.81663 \nL 326.53712 180.350898 \nL 326.872255 181.135204 \nL 327.20739 184.123514 \nL 327.542525 180.816449 \nL 327.87766 180.949816 \nL 328.212796 184.757822 \nL 328.547931 183.229179 \nL 328.883066 180.919147 \nL 329.218201 182.750974 \nL 329.553336 190.003873 \nL 329.888471 189.968765 \nL 330.558742 194.890292 \nL 330.893877 199.254615 \nL 331.229012 194.849376 \nL 331.564147 194.668667 \nL 331.899282 198.066907 \nL 332.234417 205.498728 \nL 332.569552 202.970111 \nL 332.904687 202.873774 \nL 333.574958 201.679854 \nL 333.910093 204.183584 \nL 334.245228 204.361555 \nL 334.580363 201.962056 \nL 334.915498 202.341272 \nL 335.250633 204.965213 \nL 335.585769 204.887221 \nL 335.920904 205.901022 \nL 336.256039 209.532423 \nL 336.591174 211.513037 \nL 336.926309 210.043722 \nL 337.261444 214.756364 \nL 337.596579 207.706602 \nL 337.931715 204.607353 \nL 338.26685 194.925981 \nL 338.601985 191.712707 \nL 338.93712 193.648234 \nL 339.272255 193.475644 \nL 339.60739 200.147 \nL 339.942525 200.669164 \nL 340.612796 205.390167 \nL 340.947931 203.465466 \nL 341.283066 207.026005 \nL 341.618201 207.679828 \nL 341.953336 207.486694 \nL 342.288471 206.706661 \nL 342.623606 212.172252 \nL 342.958742 213.587841 \nL 343.293877 210.638598 \nL 343.629012 209.370777 \nL 343.964147 213.760038 \nL 344.299282 203.787631 \nL 344.634417 202.711331 \nL 344.969552 198.483473 \nL 345.304688 195.74525 \nL 345.639823 191.400472 \nL 345.974958 183.370613 \nL 346.310093 192.434615 \nL 346.645228 193.444287 \nL 346.980363 191.761124 \nL 347.650633 186.805687 \nL 347.985769 186.371066 \nL 348.320904 187.532119 \nL 348.656039 188.278867 \nL 348.991174 184.524127 \nL 349.326309 185.721883 \nL 349.661444 179.598091 \nL 349.996579 178.953419 \nL 350.66685 170.698347 \nL 351.001985 169.201865 \nL 351.33712 170.631954 \nL 351.672255 170.817579 \nL 352.00739 173.740933 \nL 352.342525 170.601726 \nL 352.67766 170.364915 \nL 353.012796 172.5461 \nL 353.347931 169.85866 \nL 353.683066 168.171775 \nL 354.018201 164.882734 \nL 354.353336 166.20094 \nL 354.688471 164.394918 \nL 355.023606 164.237833 \nL 355.358742 164.852242 \nL 355.693877 164.451327 \nL 356.029012 171.516837 \nL 356.364147 175.910966 \nL 356.699282 175.403886 \nL 357.034417 177.613693 \nL 357.369552 171.200937 \nL 357.704688 168.930018 \nL 358.039823 172.301659 \nL 358.374958 168.005609 \nL 358.710093 166.948431 \nL 359.045228 168.124599 \nL 359.380363 168.557739 \nL 359.715498 167.610292 \nL 360.050633 164.321776 \nL 360.385769 162.994342 \nL 360.720904 166.104137 \nL 361.056039 165.536615 \nL 362.061444 152.888783 \nL 362.396579 154.563735 \nL 362.731715 155.122383 \nL 363.06685 162.149909 \nL 363.401985 159.118345 \nL 363.73712 158.816373 \nL 364.742525 168.272555 \nL 365.07766 166.9292 \nL 365.412796 166.531699 \nL 366.083066 164.342575 \nL 366.418201 163.511707 \nL 366.753336 167.369825 \nL 367.088471 168.262846 \nL 367.423606 169.922688 \nL 367.758742 166.796572 \nL 368.093877 168.750278 \nL 368.429012 167.524845 \nL 368.764147 165.645388 \nL 369.099282 160.930432 \nL 369.434417 160.80661 \nL 369.769552 154.988303 \nL 370.104688 146.914742 \nL 370.104688 146.914742 \n\" style=\"fill:none;stroke:#1f77b4;stroke-linecap:square;stroke-width:1.5;\"/>\n   </g>\n   <g id=\"patch_3\">\n    <path d=\"M 35.304688 224.64 \nL 35.304688 7.2 \n\" style=\"fill:none;stroke:#000000;stroke-linecap:square;stroke-linejoin:miter;stroke-width:0.8;\"/>\n   </g>\n   <g id=\"patch_4\">\n    <path d=\"M 370.104688 224.64 \nL 370.104688 7.2 \n\" style=\"fill:none;stroke:#000000;stroke-linecap:square;stroke-linejoin:miter;stroke-width:0.8;\"/>\n   </g>\n   <g id=\"patch_5\">\n    <path d=\"M 35.304688 224.64 \nL 370.104688 224.64 \n\" style=\"fill:none;stroke:#000000;stroke-linecap:square;stroke-linejoin:miter;stroke-width:0.8;\"/>\n   </g>\n   <g id=\"patch_6\">\n    <path d=\"M 35.304688 7.2 \nL 370.104688 7.2 \n\" style=\"fill:none;stroke:#000000;stroke-linecap:square;stroke-linejoin:miter;stroke-width:0.8;\"/>\n   </g>\n  </g>\n </g>\n <defs>\n  <clipPath id=\"p9b21320e2c\">\n   <rect height=\"217.44\" width=\"334.8\" x=\"35.304688\" y=\"7.2\"/>\n  </clipPath>\n </defs>\n</svg>\n",
      "image/png": "[encoded data removed]"
     },
     "metadata": {
      "needs_background": "light"
     }
    }
   ],
   "source": [
    "ts = pd.Series(np.random.randn(1000), index=pd.date_range('1/1/2000', periods=1000))\n",
    "ts.cumsum().plot()"
   ]
  },
  {
   "cell_type": "code",
   "execution_count": 71,
   "metadata": {},
   "outputs": [
    {
     "output_type": "execute_result",
     "data": {
      "text/plain": [
       "<matplotlib.legend.Legend at 0x7f75e816f4f0>"
      ]
     },
     "metadata": {},
     "execution_count": 71
    },
    {
     "output_type": "display_data",
     "data": {
      "text/plain": "<Figure size 432x288 with 0 Axes>"
     },
     "metadata": {}
    },
    {
     "output_type": "display_data",
     "data": {
      "text/plain": "<Figure size 432x288 with 1 Axes>",
      "image/svg+xml": "<?xml version=\"1.0\" encoding=\"utf-8\" standalone=\"no\"?>\n<!DOCTYPE svg PUBLIC \"-//W3C//DTD SVG 1.1//EN\"\n  \"http://www.w3.org/Graphics/SVG/1.1/DTD/svg11.dtd\">\n<!-- Created with matplotlib (https://matplotlib.org/) -->\n<svg height=\"262.628679pt\" version=\"1.1\" viewBox=\"0 0 377.304688 262.628679\" width=\"377.304688pt\" xmlns=\"http://www.w3.org/2000/svg\" xmlns:xlink=\"http://www.w3.org/1999/xlink\">\n <metadata>\n  <rdf:RDF xmlns:cc=\"http://creativecommons.org/ns#\" xmlns:dc=\"http://purl.org/dc/elements/1.1/\" xmlns:rdf=\"http://www.w3.org/1999/02/22-rdf-syntax-ns#\">\n   <cc:Work>\n    <dc:type rdf:resource=\"http://purl.org/dc/dcmitype/StillImage\"/>\n    <dc:date>2020-11-10T15:05:31.541993</dc:date>\n    <dc:format>image/svg+xml</dc:format>\n    <dc:creator>\n     <cc:Agent>\n      <dc:title>Matplotlib v3.3.2, https://matplotlib.org/</dc:title>\n     </cc:Agent>\n    </dc:creator>\n   </cc:Work>\n  </rdf:RDF>\n </metadata>\n <defs>\n  <style type=\"text/css\">*{stroke-linecap:butt;stroke-linejoin:round;}</style>\n </defs>\n <g id=\"figure_1\">\n  <g id=\"patch_1\">\n   <path d=\"M 0 262.628679 \nL 377.304688 262.628679 \nL 377.304688 0 \nL 0 0 \nz\n\" style=\"fill:none;\"/>\n  </g>\n  <g id=\"axes_1\">\n   <g id=\"patch_2\">\n    <path d=\"M 35.304688 227.552742 \nL 370.104688 227.552742 \nL 370.104688 10.112742 \nL 35.304688 10.112742 \nz\n\" style=\"fill:#ffffff;\"/>\n   </g>\n   <g id=\"matplotlib.axis_1\">\n    <g id=\"xtick_1\">\n     <g id=\"line2d_1\">\n      <defs>\n       <path d=\"M 0 0 \nL 0 3.5 \n\" id=\"md94ad58aab\" style=\"stroke:#000000;stroke-width:0.8;\"/>\n      </defs>\n      <g>\n       <use style=\"stroke:#000000;stroke-width:0.8;\" x=\"35.304688\" xlink:href=\"#md94ad58aab\" y=\"227.552742\"/>\n      </g>\n     </g>\n     <g id=\"text_1\">\n      <!-- Jan -->\n      <g transform=\"translate(27.596875 242.151179)scale(0.1 -0.1)\">\n       <defs>\n        <path d=\"M 9.8125 72.90625 \nL 19.671875 72.90625 \nL 19.671875 5.078125 \nQ 19.671875 -8.109375 14.671875 -14.0625 \nQ 9.671875 -20.015625 -1.421875 -20.015625 \nL -5.171875 -20.015625 \nL -5.171875 -11.71875 \nL -2.09375 -11.71875 \nQ 4.4375 -11.71875 7.125 -8.046875 \nQ 9.8125 -4.390625 9.8125 5.078125 \nz\n\" id=\"DejaVuSans-74\"/>\n        <path d=\"M 34.28125 27.484375 \nQ 23.390625 27.484375 19.1875 25 \nQ 14.984375 22.515625 14.984375 16.5 \nQ 14.984375 11.71875 18.140625 8.90625 \nQ 21.296875 6.109375 26.703125 6.109375 \nQ 34.1875 6.109375 38.703125 11.40625 \nQ 43.21875 16.703125 43.21875 25.484375 \nL 43.21875 27.484375 \nz\nM 52.203125 31.203125 \nL 52.203125 0 \nL 43.21875 0 \nL 43.21875 8.296875 \nQ 40.140625 3.328125 35.546875 0.953125 \nQ 30.953125 -1.421875 24.3125 -1.421875 \nQ 15.921875 -1.421875 10.953125 3.296875 \nQ 6 8.015625 6 15.921875 \nQ 6 25.140625 12.171875 29.828125 \nQ 18.359375 34.515625 30.609375 34.515625 \nL 43.21875 34.515625 \nL 43.21875 35.40625 \nQ 43.21875 41.609375 39.140625 45 \nQ 35.0625 48.390625 27.6875 48.390625 \nQ 23 48.390625 18.546875 47.265625 \nQ 14.109375 46.140625 10.015625 43.890625 \nL 10.015625 52.203125 \nQ 14.9375 54.109375 19.578125 55.046875 \nQ 24.21875 56 28.609375 56 \nQ 40.484375 56 46.34375 49.84375 \nQ 52.203125 43.703125 52.203125 31.203125 \nz\n\" id=\"DejaVuSans-97\"/>\n        <path d=\"M 54.890625 33.015625 \nL 54.890625 0 \nL 45.90625 0 \nL 45.90625 32.71875 \nQ 45.90625 40.484375 42.875 44.328125 \nQ 39.84375 48.1875 33.796875 48.1875 \nQ 26.515625 48.1875 22.3125 43.546875 \nQ 18.109375 38.921875 18.109375 30.90625 \nL 18.109375 0 \nL 9.078125 0 \nL 9.078125 54.6875 \nL 18.109375 54.6875 \nL 18.109375 46.1875 \nQ 21.34375 51.125 25.703125 53.5625 \nQ 30.078125 56 35.796875 56 \nQ 45.21875 56 50.046875 50.171875 \nQ 54.890625 44.34375 54.890625 33.015625 \nz\n\" id=\"DejaVuSans-110\"/>\n       </defs>\n       <use xlink:href=\"#DejaVuSans-74\"/>\n       <use x=\"29.492188\" xlink:href=\"#DejaVuSans-97\"/>\n       <use x=\"90.771484\" xlink:href=\"#DejaVuSans-110\"/>\n      </g>\n      <!-- 2000 -->\n      <g transform=\"translate(22.579687 253.348992)scale(0.1 -0.1)\">\n       <defs>\n        <path d=\"M 19.1875 8.296875 \nL 53.609375 8.296875 \nL 53.609375 0 \nL 7.328125 0 \nL 7.328125 8.296875 \nQ 12.9375 14.109375 22.625 23.890625 \nQ 32.328125 33.6875 34.8125 36.53125 \nQ 39.546875 41.84375 41.421875 45.53125 \nQ 43.3125 49.21875 43.3125 52.78125 \nQ 43.3125 58.59375 39.234375 62.25 \nQ 35.15625 65.921875 28.609375 65.921875 \nQ 23.96875 65.921875 18.8125 64.3125 \nQ 13.671875 62.703125 7.8125 59.421875 \nL 7.8125 69.390625 \nQ 13.765625 71.78125 18.9375 73 \nQ 24.125 74.21875 28.421875 74.21875 \nQ 39.75 74.21875 46.484375 68.546875 \nQ 53.21875 62.890625 53.21875 53.421875 \nQ 53.21875 48.921875 51.53125 44.890625 \nQ 49.859375 40.875 45.40625 35.40625 \nQ 44.1875 33.984375 37.640625 27.21875 \nQ 31.109375 20.453125 19.1875 8.296875 \nz\n\" id=\"DejaVuSans-50\"/>\n        <path d=\"M 31.78125 66.40625 \nQ 24.171875 66.40625 20.328125 58.90625 \nQ 16.5 51.421875 16.5 36.375 \nQ 16.5 21.390625 20.328125 13.890625 \nQ 24.171875 6.390625 31.78125 6.390625 \nQ 39.453125 6.390625 43.28125 13.890625 \nQ 47.125 21.390625 47.125 36.375 \nQ 47.125 51.421875 43.28125 58.90625 \nQ 39.453125 66.40625 31.78125 66.40625 \nz\nM 31.78125 74.21875 \nQ 44.046875 74.21875 50.515625 64.515625 \nQ 56.984375 54.828125 56.984375 36.375 \nQ 56.984375 17.96875 50.515625 8.265625 \nQ 44.046875 -1.421875 31.78125 -1.421875 \nQ 19.53125 -1.421875 13.0625 8.265625 \nQ 6.59375 17.96875 6.59375 36.375 \nQ 6.59375 54.828125 13.0625 64.515625 \nQ 19.53125 74.21875 31.78125 74.21875 \nz\n\" id=\"DejaVuSans-48\"/>\n       </defs>\n       <use xlink:href=\"#DejaVuSans-50\"/>\n       <use x=\"63.623047\" xlink:href=\"#DejaVuSans-48\"/>\n       <use x=\"127.246094\" xlink:href=\"#DejaVuSans-48\"/>\n       <use x=\"190.869141\" xlink:href=\"#DejaVuSans-48\"/>\n      </g>\n     </g>\n    </g>\n    <g id=\"xtick_2\">\n     <g id=\"line2d_2\">\n      <g>\n       <use style=\"stroke:#000000;stroke-width:0.8;\" x=\"157.964147\" xlink:href=\"#md94ad58aab\" y=\"227.552742\"/>\n      </g>\n     </g>\n     <g id=\"text_2\">\n      <!-- Jan -->\n      <g transform=\"translate(150.256334 242.151179)scale(0.1 -0.1)\">\n       <use xlink:href=\"#DejaVuSans-74\"/>\n       <use x=\"29.492188\" xlink:href=\"#DejaVuSans-97\"/>\n       <use x=\"90.771484\" xlink:href=\"#DejaVuSans-110\"/>\n      </g>\n      <!-- 2001 -->\n      <g transform=\"translate(145.239147 253.348992)scale(0.1 -0.1)\">\n       <defs>\n        <path d=\"M 12.40625 8.296875 \nL 28.515625 8.296875 \nL 28.515625 63.921875 \nL 10.984375 60.40625 \nL 10.984375 69.390625 \nL 28.421875 72.90625 \nL 38.28125 72.90625 \nL 38.28125 8.296875 \nL 54.390625 8.296875 \nL 54.390625 0 \nL 12.40625 0 \nz\n\" id=\"DejaVuSans-49\"/>\n       </defs>\n       <use xlink:href=\"#DejaVuSans-50\"/>\n       <use x=\"63.623047\" xlink:href=\"#DejaVuSans-48\"/>\n       <use x=\"127.246094\" xlink:href=\"#DejaVuSans-48\"/>\n       <use x=\"190.869141\" xlink:href=\"#DejaVuSans-49\"/>\n      </g>\n     </g>\n    </g>\n    <g id=\"xtick_3\">\n     <g id=\"line2d_3\">\n      <g>\n       <use style=\"stroke:#000000;stroke-width:0.8;\" x=\"280.288471\" xlink:href=\"#md94ad58aab\" y=\"227.552742\"/>\n      </g>\n     </g>\n     <g id=\"text_3\">\n      <!-- Jan -->\n      <g transform=\"translate(272.580659 242.151179)scale(0.1 -0.1)\">\n       <use xlink:href=\"#DejaVuSans-74\"/>\n       <use x=\"29.492188\" xlink:href=\"#DejaVuSans-97\"/>\n       <use x=\"90.771484\" xlink:href=\"#DejaVuSans-110\"/>\n      </g>\n      <!-- 2002 -->\n      <g transform=\"translate(267.563471 253.348992)scale(0.1 -0.1)\">\n       <use xlink:href=\"#DejaVuSans-50\"/>\n       <use x=\"63.623047\" xlink:href=\"#DejaVuSans-48\"/>\n       <use x=\"127.246094\" xlink:href=\"#DejaVuSans-48\"/>\n       <use x=\"190.869141\" xlink:href=\"#DejaVuSans-50\"/>\n      </g>\n     </g>\n    </g>\n    <g id=\"xtick_4\">\n     <g id=\"line2d_4\">\n      <g>\n       <use style=\"stroke:#000000;stroke-width:0.8;\" x=\"370.104688\" xlink:href=\"#md94ad58aab\" y=\"227.552742\"/>\n      </g>\n     </g>\n    </g>\n    <g id=\"xtick_5\">\n     <g id=\"line2d_5\">\n      <defs>\n       <path d=\"M 0 0 \nL 0 2 \n\" id=\"m74317ac68a\" style=\"stroke:#000000;stroke-width:0.6;\"/>\n      </defs>\n      <g>\n       <use style=\"stroke:#000000;stroke-width:0.6;\" x=\"45.693877\" xlink:href=\"#m74317ac68a\" y=\"227.552742\"/>\n      </g>\n     </g>\n    </g>\n    <g id=\"xtick_6\">\n     <g id=\"line2d_6\">\n      <g>\n       <use style=\"stroke:#000000;stroke-width:0.6;\" x=\"55.412796\" xlink:href=\"#m74317ac68a\" y=\"227.552742\"/>\n      </g>\n     </g>\n    </g>\n    <g id=\"xtick_7\">\n     <g id=\"line2d_7\">\n      <g>\n       <use style=\"stroke:#000000;stroke-width:0.6;\" x=\"65.801985\" xlink:href=\"#m74317ac68a\" y=\"227.552742\"/>\n      </g>\n     </g>\n    </g>\n    <g id=\"xtick_8\">\n     <g id=\"line2d_8\">\n      <g>\n       <use style=\"stroke:#000000;stroke-width:0.6;\" x=\"75.856039\" xlink:href=\"#m74317ac68a\" y=\"227.552742\"/>\n      </g>\n     </g>\n    </g>\n    <g id=\"xtick_9\">\n     <g id=\"line2d_9\">\n      <g>\n       <use style=\"stroke:#000000;stroke-width:0.6;\" x=\"86.245228\" xlink:href=\"#m74317ac68a\" y=\"227.552742\"/>\n      </g>\n     </g>\n    </g>\n    <g id=\"xtick_10\">\n     <g id=\"line2d_10\">\n      <g>\n       <use style=\"stroke:#000000;stroke-width:0.6;\" x=\"96.299282\" xlink:href=\"#m74317ac68a\" y=\"227.552742\"/>\n      </g>\n     </g>\n     <g id=\"text_4\">\n      <!-- Jul -->\n      <g transform=\"translate(90.26647 240.551179)scale(0.1 -0.1)\">\n       <defs>\n        <path d=\"M 8.5 21.578125 \nL 8.5 54.6875 \nL 17.484375 54.6875 \nL 17.484375 21.921875 \nQ 17.484375 14.15625 20.5 10.265625 \nQ 23.53125 6.390625 29.59375 6.390625 \nQ 36.859375 6.390625 41.078125 11.03125 \nQ 45.3125 15.671875 45.3125 23.6875 \nL 45.3125 54.6875 \nL 54.296875 54.6875 \nL 54.296875 0 \nL 45.3125 0 \nL 45.3125 8.40625 \nQ 42.046875 3.421875 37.71875 1 \nQ 33.40625 -1.421875 27.6875 -1.421875 \nQ 18.265625 -1.421875 13.375 4.4375 \nQ 8.5 10.296875 8.5 21.578125 \nz\nM 31.109375 56 \nz\n\" id=\"DejaVuSans-117\"/>\n        <path d=\"M 9.421875 75.984375 \nL 18.40625 75.984375 \nL 18.40625 0 \nL 9.421875 0 \nz\n\" id=\"DejaVuSans-108\"/>\n       </defs>\n       <use xlink:href=\"#DejaVuSans-74\"/>\n       <use x=\"29.492188\" xlink:href=\"#DejaVuSans-117\"/>\n       <use x=\"92.871094\" xlink:href=\"#DejaVuSans-108\"/>\n      </g>\n     </g>\n    </g>\n    <g id=\"xtick_11\">\n     <g id=\"line2d_11\">\n      <g>\n       <use style=\"stroke:#000000;stroke-width:0.6;\" x=\"106.688471\" xlink:href=\"#m74317ac68a\" y=\"227.552742\"/>\n      </g>\n     </g>\n    </g>\n    <g id=\"xtick_12\">\n     <g id=\"line2d_12\">\n      <g>\n       <use style=\"stroke:#000000;stroke-width:0.6;\" x=\"117.07766\" xlink:href=\"#m74317ac68a\" y=\"227.552742\"/>\n      </g>\n     </g>\n    </g>\n    <g id=\"xtick_13\">\n     <g id=\"line2d_13\">\n      <g>\n       <use style=\"stroke:#000000;stroke-width:0.6;\" x=\"127.131715\" xlink:href=\"#m74317ac68a\" y=\"227.552742\"/>\n      </g>\n     </g>\n    </g>\n    <g id=\"xtick_14\">\n     <g id=\"line2d_14\">\n      <g>\n       <use style=\"stroke:#000000;stroke-width:0.6;\" x=\"137.520904\" xlink:href=\"#m74317ac68a\" y=\"227.552742\"/>\n      </g>\n     </g>\n    </g>\n    <g id=\"xtick_15\">\n     <g id=\"line2d_15\">\n      <g>\n       <use style=\"stroke:#000000;stroke-width:0.6;\" x=\"147.574958\" xlink:href=\"#m74317ac68a\" y=\"227.552742\"/>\n      </g>\n     </g>\n    </g>\n    <g id=\"xtick_16\">\n     <g id=\"line2d_16\">\n      <g>\n       <use style=\"stroke:#000000;stroke-width:0.6;\" x=\"168.353336\" xlink:href=\"#m74317ac68a\" y=\"227.552742\"/>\n      </g>\n     </g>\n    </g>\n    <g id=\"xtick_17\">\n     <g id=\"line2d_17\">\n      <g>\n       <use style=\"stroke:#000000;stroke-width:0.6;\" x=\"177.73712\" xlink:href=\"#m74317ac68a\" y=\"227.552742\"/>\n      </g>\n     </g>\n    </g>\n    <g id=\"xtick_18\">\n     <g id=\"line2d_18\">\n      <g>\n       <use style=\"stroke:#000000;stroke-width:0.6;\" x=\"188.126309\" xlink:href=\"#m74317ac68a\" y=\"227.552742\"/>\n      </g>\n     </g>\n    </g>\n    <g id=\"xtick_19\">\n     <g id=\"line2d_19\">\n      <g>\n       <use style=\"stroke:#000000;stroke-width:0.6;\" x=\"198.180363\" xlink:href=\"#m74317ac68a\" y=\"227.552742\"/>\n      </g>\n     </g>\n    </g>\n    <g id=\"xtick_20\">\n     <g id=\"line2d_20\">\n      <g>\n       <use style=\"stroke:#000000;stroke-width:0.6;\" x=\"208.569552\" xlink:href=\"#m74317ac68a\" y=\"227.552742\"/>\n      </g>\n     </g>\n    </g>\n    <g id=\"xtick_21\">\n     <g id=\"line2d_21\">\n      <g>\n       <use style=\"stroke:#000000;stroke-width:0.6;\" x=\"218.623606\" xlink:href=\"#m74317ac68a\" y=\"227.552742\"/>\n      </g>\n     </g>\n     <g id=\"text_5\">\n      <!-- Jul -->\n      <g transform=\"translate(212.590794 240.551179)scale(0.1 -0.1)\">\n       <use xlink:href=\"#DejaVuSans-74\"/>\n       <use x=\"29.492188\" xlink:href=\"#DejaVuSans-117\"/>\n       <use x=\"92.871094\" xlink:href=\"#DejaVuSans-108\"/>\n      </g>\n     </g>\n    </g>\n    <g id=\"xtick_22\">\n     <g id=\"line2d_22\">\n      <g>\n       <use style=\"stroke:#000000;stroke-width:0.6;\" x=\"229.012796\" xlink:href=\"#m74317ac68a\" y=\"227.552742\"/>\n      </g>\n     </g>\n    </g>\n    <g id=\"xtick_23\">\n     <g id=\"line2d_23\">\n      <g>\n       <use style=\"stroke:#000000;stroke-width:0.6;\" x=\"239.401985\" xlink:href=\"#m74317ac68a\" y=\"227.552742\"/>\n      </g>\n     </g>\n    </g>\n    <g id=\"xtick_24\">\n     <g id=\"line2d_24\">\n      <g>\n       <use style=\"stroke:#000000;stroke-width:0.6;\" x=\"249.456039\" xlink:href=\"#m74317ac68a\" y=\"227.552742\"/>\n      </g>\n     </g>\n    </g>\n    <g id=\"xtick_25\">\n     <g id=\"line2d_25\">\n      <g>\n       <use style=\"stroke:#000000;stroke-width:0.6;\" x=\"259.845228\" xlink:href=\"#m74317ac68a\" y=\"227.552742\"/>\n      </g>\n     </g>\n    </g>\n    <g id=\"xtick_26\">\n     <g id=\"line2d_26\">\n      <g>\n       <use style=\"stroke:#000000;stroke-width:0.6;\" x=\"269.899282\" xlink:href=\"#m74317ac68a\" y=\"227.552742\"/>\n      </g>\n     </g>\n    </g>\n    <g id=\"xtick_27\">\n     <g id=\"line2d_27\">\n      <g>\n       <use style=\"stroke:#000000;stroke-width:0.6;\" x=\"290.67766\" xlink:href=\"#m74317ac68a\" y=\"227.552742\"/>\n      </g>\n     </g>\n    </g>\n    <g id=\"xtick_28\">\n     <g id=\"line2d_28\">\n      <g>\n       <use style=\"stroke:#000000;stroke-width:0.6;\" x=\"300.061444\" xlink:href=\"#m74317ac68a\" y=\"227.552742\"/>\n      </g>\n     </g>\n    </g>\n    <g id=\"xtick_29\">\n     <g id=\"line2d_29\">\n      <g>\n       <use style=\"stroke:#000000;stroke-width:0.6;\" x=\"310.450633\" xlink:href=\"#m74317ac68a\" y=\"227.552742\"/>\n      </g>\n     </g>\n    </g>\n    <g id=\"xtick_30\">\n     <g id=\"line2d_30\">\n      <g>\n       <use style=\"stroke:#000000;stroke-width:0.6;\" x=\"320.504687\" xlink:href=\"#m74317ac68a\" y=\"227.552742\"/>\n      </g>\n     </g>\n    </g>\n    <g id=\"xtick_31\">\n     <g id=\"line2d_31\">\n      <g>\n       <use style=\"stroke:#000000;stroke-width:0.6;\" x=\"330.893877\" xlink:href=\"#m74317ac68a\" y=\"227.552742\"/>\n      </g>\n     </g>\n    </g>\n    <g id=\"xtick_32\">\n     <g id=\"line2d_32\">\n      <g>\n       <use style=\"stroke:#000000;stroke-width:0.6;\" x=\"340.947931\" xlink:href=\"#m74317ac68a\" y=\"227.552742\"/>\n      </g>\n     </g>\n     <g id=\"text_6\">\n      <!-- Jul -->\n      <g transform=\"translate(334.915118 240.551179)scale(0.1 -0.1)\">\n       <use xlink:href=\"#DejaVuSans-74\"/>\n       <use x=\"29.492188\" xlink:href=\"#DejaVuSans-117\"/>\n       <use x=\"92.871094\" xlink:href=\"#DejaVuSans-108\"/>\n      </g>\n     </g>\n    </g>\n    <g id=\"xtick_33\">\n     <g id=\"line2d_33\">\n      <g>\n       <use style=\"stroke:#000000;stroke-width:0.6;\" x=\"351.33712\" xlink:href=\"#m74317ac68a\" y=\"227.552742\"/>\n      </g>\n     </g>\n    </g>\n    <g id=\"xtick_34\">\n     <g id=\"line2d_34\">\n      <g>\n       <use style=\"stroke:#000000;stroke-width:0.6;\" x=\"361.726309\" xlink:href=\"#m74317ac68a\" y=\"227.552742\"/>\n      </g>\n     </g>\n    </g>\n   </g>\n   <g id=\"matplotlib.axis_2\">\n    <g id=\"ytick_1\">\n     <g id=\"line2d_35\">\n      <defs>\n       <path d=\"M 0 0 \nL -3.5 0 \n\" id=\"m6f26f61585\" style=\"stroke:#000000;stroke-width:0.8;\"/>\n      </defs>\n      <g>\n       <use style=\"stroke:#000000;stroke-width:0.8;\" x=\"35.304688\" xlink:href=\"#m6f26f61585\" y=\"219.894858\"/>\n      </g>\n     </g>\n     <g id=\"text_7\">\n      <!-- −60 -->\n      <g transform=\"translate(7.2 223.694077)scale(0.1 -0.1)\">\n       <defs>\n        <path d=\"M 10.59375 35.5 \nL 73.1875 35.5 \nL 73.1875 27.203125 \nL 10.59375 27.203125 \nz\n\" id=\"DejaVuSans-8722\"/>\n        <path d=\"M 33.015625 40.375 \nQ 26.375 40.375 22.484375 35.828125 \nQ 18.609375 31.296875 18.609375 23.390625 \nQ 18.609375 15.53125 22.484375 10.953125 \nQ 26.375 6.390625 33.015625 6.390625 \nQ 39.65625 6.390625 43.53125 10.953125 \nQ 47.40625 15.53125 47.40625 23.390625 \nQ 47.40625 31.296875 43.53125 35.828125 \nQ 39.65625 40.375 33.015625 40.375 \nz\nM 52.59375 71.296875 \nL 52.59375 62.3125 \nQ 48.875 64.0625 45.09375 64.984375 \nQ 41.3125 65.921875 37.59375 65.921875 \nQ 27.828125 65.921875 22.671875 59.328125 \nQ 17.53125 52.734375 16.796875 39.40625 \nQ 19.671875 43.65625 24.015625 45.921875 \nQ 28.375 48.1875 33.59375 48.1875 \nQ 44.578125 48.1875 50.953125 41.515625 \nQ 57.328125 34.859375 57.328125 23.390625 \nQ 57.328125 12.15625 50.6875 5.359375 \nQ 44.046875 -1.421875 33.015625 -1.421875 \nQ 20.359375 -1.421875 13.671875 8.265625 \nQ 6.984375 17.96875 6.984375 36.375 \nQ 6.984375 53.65625 15.1875 63.9375 \nQ 23.390625 74.21875 37.203125 74.21875 \nQ 40.921875 74.21875 44.703125 73.484375 \nQ 48.484375 72.75 52.59375 71.296875 \nz\n\" id=\"DejaVuSans-54\"/>\n       </defs>\n       <use xlink:href=\"#DejaVuSans-8722\"/>\n       <use x=\"83.789062\" xlink:href=\"#DejaVuSans-54\"/>\n       <use x=\"147.412109\" xlink:href=\"#DejaVuSans-48\"/>\n      </g>\n     </g>\n    </g>\n    <g id=\"ytick_2\">\n     <g id=\"line2d_36\">\n      <g>\n       <use style=\"stroke:#000000;stroke-width:0.8;\" x=\"35.304688\" xlink:href=\"#m6f26f61585\" y=\"178.11573\"/>\n      </g>\n     </g>\n     <g id=\"text_8\">\n      <!-- −40 -->\n      <g transform=\"translate(7.2 181.914949)scale(0.1 -0.1)\">\n       <defs>\n        <path d=\"M 37.796875 64.3125 \nL 12.890625 25.390625 \nL 37.796875 25.390625 \nz\nM 35.203125 72.90625 \nL 47.609375 72.90625 \nL 47.609375 25.390625 \nL 58.015625 25.390625 \nL 58.015625 17.1875 \nL 47.609375 17.1875 \nL 47.609375 0 \nL 37.796875 0 \nL 37.796875 17.1875 \nL 4.890625 17.1875 \nL 4.890625 26.703125 \nz\n\" id=\"DejaVuSans-52\"/>\n       </defs>\n       <use xlink:href=\"#DejaVuSans-8722\"/>\n       <use x=\"83.789062\" xlink:href=\"#DejaVuSans-52\"/>\n       <use x=\"147.412109\" xlink:href=\"#DejaVuSans-48\"/>\n      </g>\n     </g>\n    </g>\n    <g id=\"ytick_3\">\n     <g id=\"line2d_37\">\n      <g>\n       <use style=\"stroke:#000000;stroke-width:0.8;\" x=\"35.304688\" xlink:href=\"#m6f26f61585\" y=\"136.336602\"/>\n      </g>\n     </g>\n     <g id=\"text_9\">\n      <!-- −20 -->\n      <g transform=\"translate(7.2 140.135821)scale(0.1 -0.1)\">\n       <use xlink:href=\"#DejaVuSans-8722\"/>\n       <use x=\"83.789062\" xlink:href=\"#DejaVuSans-50\"/>\n       <use x=\"147.412109\" xlink:href=\"#DejaVuSans-48\"/>\n      </g>\n     </g>\n    </g>\n    <g id=\"ytick_4\">\n     <g id=\"line2d_38\">\n      <g>\n       <use style=\"stroke:#000000;stroke-width:0.8;\" x=\"35.304688\" xlink:href=\"#m6f26f61585\" y=\"94.557474\"/>\n      </g>\n     </g>\n     <g id=\"text_10\">\n      <!-- 0 -->\n      <g transform=\"translate(21.942188 98.356693)scale(0.1 -0.1)\">\n       <use xlink:href=\"#DejaVuSans-48\"/>\n      </g>\n     </g>\n    </g>\n    <g id=\"ytick_5\">\n     <g id=\"line2d_39\">\n      <g>\n       <use style=\"stroke:#000000;stroke-width:0.8;\" x=\"35.304688\" xlink:href=\"#m6f26f61585\" y=\"52.778347\"/>\n      </g>\n     </g>\n     <g id=\"text_11\">\n      <!-- 20 -->\n      <g transform=\"translate(15.579688 56.577565)scale(0.1 -0.1)\">\n       <use xlink:href=\"#DejaVuSans-50\"/>\n       <use x=\"63.623047\" xlink:href=\"#DejaVuSans-48\"/>\n      </g>\n     </g>\n    </g>\n    <g id=\"ytick_6\">\n     <g id=\"line2d_40\">\n      <g>\n       <use style=\"stroke:#000000;stroke-width:0.8;\" x=\"35.304688\" xlink:href=\"#m6f26f61585\" y=\"10.999219\"/>\n      </g>\n     </g>\n     <g id=\"text_12\">\n      <!-- 40 -->\n      <g transform=\"translate(15.579688 14.798437)scale(0.1 -0.1)\">\n       <use xlink:href=\"#DejaVuSans-52\"/>\n       <use x=\"63.623047\" xlink:href=\"#DejaVuSans-48\"/>\n      </g>\n     </g>\n    </g>\n   </g>\n   <g id=\"line2d_41\">\n    <path clip-path=\"url(#pe7e04aeb02)\" d=\"M 35.304688 93.743307 \nL 35.974958 94.963484 \nL 36.310093 97.432313 \nL 36.645228 97.302439 \nL 37.315498 90.20859 \nL 37.650633 87.925497 \nL 37.985769 83.151523 \nL 38.320904 83.700413 \nL 38.656039 82.427018 \nL 38.991174 80.2198 \nL 39.326309 76.966696 \nL 39.661444 79.866375 \nL 39.996579 78.048155 \nL 40.331715 78.934978 \nL 40.66685 78.294247 \nL 41.001985 77.314545 \nL 41.33712 78.619816 \nL 41.672255 77.941568 \nL 42.00739 78.406551 \nL 42.342525 81.880898 \nL 43.012796 83.107772 \nL 43.347931 81.377164 \nL 43.683066 78.617093 \nL 44.018201 78.339884 \nL 44.353336 80.689263 \nL 45.023606 87.953701 \nL 45.358742 87.658062 \nL 45.693877 88.724307 \nL 46.029012 89.361468 \nL 46.364147 92.590964 \nL 46.699282 91.762037 \nL 47.034417 94.927536 \nL 47.369552 95.322133 \nL 47.704688 91.960938 \nL 48.039823 90.577588 \nL 48.374958 91.2229 \nL 48.710093 94.752288 \nL 49.045228 91.182528 \nL 49.380363 93.349609 \nL 49.715498 89.670384 \nL 50.050633 88.541383 \nL 50.385769 89.071189 \nL 50.720904 94.60092 \nL 51.056039 94.538819 \nL 51.391174 95.722646 \nL 51.726309 94.562177 \nL 52.061444 95.329434 \nL 52.396579 93.484233 \nL 52.731715 89.505179 \nL 53.06685 88.96545 \nL 53.401985 87.601903 \nL 53.73712 83.893878 \nL 54.072255 83.919162 \nL 54.742525 88.97078 \nL 55.07766 85.491086 \nL 55.412796 89.272007 \nL 55.747931 87.078215 \nL 56.083066 88.255872 \nL 56.418201 88.406826 \nL 56.753336 94.809171 \nL 57.088471 96.607185 \nL 57.758742 93.379688 \nL 58.093877 97.447303 \nL 58.429012 96.070689 \nL 59.099282 98.125377 \nL 59.434417 100.509372 \nL 59.769552 99.370286 \nL 60.104687 98.906549 \nL 60.439823 98.889197 \nL 61.110093 96.221466 \nL 61.445228 93.839013 \nL 61.780363 95.147002 \nL 62.115498 92.429291 \nL 62.450633 93.1251 \nL 62.785769 92.44765 \nL 63.120904 95.219604 \nL 63.456039 94.389603 \nL 63.791174 98.990653 \nL 64.126309 98.724617 \nL 64.461444 98.257634 \nL 64.796579 94.08666 \nL 65.131715 94.196963 \nL 65.801985 100.523656 \nL 66.472255 94.238105 \nL 66.80739 98.667853 \nL 67.142525 95.050156 \nL 67.47766 94.967379 \nL 67.812796 90.659406 \nL 68.147931 88.115948 \nL 68.483066 88.179526 \nL 68.818201 87.646134 \nL 69.153336 85.591775 \nL 69.488471 84.234072 \nL 69.823606 85.257448 \nL 70.158742 82.595261 \nL 70.493877 84.679824 \nL 70.829012 85.479694 \nL 71.164147 85.414403 \nL 71.499282 84.217224 \nL 71.834417 85.249524 \nL 72.169552 85.056532 \nL 72.504687 81.766573 \nL 72.839823 81.635988 \nL 73.174958 80.721541 \nL 73.510093 81.682672 \nL 73.845228 81.537961 \nL 74.180363 75.923001 \nL 74.515498 76.632862 \nL 74.850633 77.697416 \nL 75.185769 76.423828 \nL 75.520904 75.688902 \nL 75.856039 73.333151 \nL 76.191174 72.264297 \nL 76.526309 70.702527 \nL 76.861444 71.324268 \nL 77.196579 69.334082 \nL 77.531715 69.48357 \nL 78.201985 70.048282 \nL 78.53712 68.865523 \nL 78.872255 65.445303 \nL 79.20739 70.672887 \nL 79.542525 70.796377 \nL 79.87766 70.617415 \nL 80.212796 75.748532 \nL 80.547931 78.191113 \nL 80.883066 83.036699 \nL 81.218201 83.854417 \nL 81.888471 73.006674 \nL 82.223606 73.779525 \nL 82.558742 77.834421 \nL 82.893877 76.653463 \nL 83.229012 74.109668 \nL 83.899282 79.88127 \nL 84.234417 77.837904 \nL 84.569552 76.883207 \nL 84.904687 76.52724 \nL 85.239823 77.118871 \nL 85.574958 74.461235 \nL 86.245228 76.733245 \nL 86.915498 72.576306 \nL 87.250633 72.36145 \nL 87.585769 71.995722 \nL 87.920904 69.433076 \nL 88.256039 72.497461 \nL 88.591174 73.293393 \nL 88.926309 75.459423 \nL 89.261444 72.777114 \nL 89.596579 72.50072 \nL 89.931715 73.615923 \nL 90.601985 71.936621 \nL 90.93712 70.460086 \nL 91.272255 69.992175 \nL 91.60739 71.862365 \nL 91.942525 72.038733 \nL 92.27766 71.972888 \nL 92.612796 72.748862 \nL 92.947931 69.94441 \nL 93.283066 68.734718 \nL 93.618201 68.310135 \nL 93.953336 72.444971 \nL 94.288471 74.524715 \nL 94.623606 72.327842 \nL 94.958742 72.686449 \nL 95.293877 76.209023 \nL 95.629012 75.576692 \nL 95.964147 78.317882 \nL 96.299282 78.602878 \nL 96.634417 76.611123 \nL 96.969552 76.020117 \nL 97.304688 77.357238 \nL 97.639823 77.727655 \nL 97.974958 76.33596 \nL 98.310093 77.928481 \nL 98.645228 76.784728 \nL 99.315498 85.423626 \nL 99.650633 84.030647 \nL 99.985769 84.550509 \nL 100.320904 82.767535 \nL 100.656039 83.56604 \nL 100.991174 85.01451 \nL 101.326309 84.371127 \nL 101.661444 85.229754 \nL 102.66685 81.382167 \nL 103.001985 80.895199 \nL 103.672255 88.215025 \nL 104.00739 89.106016 \nL 104.67766 95.098901 \nL 105.012796 96.111485 \nL 105.347931 94.916012 \nL 105.683066 97.845079 \nL 106.353336 91.853096 \nL 106.688471 95.039283 \nL 107.023606 96.298486 \nL 107.358742 96.809552 \nL 107.693877 94.079439 \nL 108.029012 98.424954 \nL 108.364147 97.858394 \nL 109.034417 102.875716 \nL 109.369552 101.078525 \nL 109.704688 102.996769 \nL 110.039823 103.863189 \nL 110.374958 100.092278 \nL 110.710093 97.73464 \nL 111.045228 100.505113 \nL 111.380363 101.449864 \nL 111.715498 101.756462 \nL 112.050633 104.539775 \nL 112.385769 101.704261 \nL 112.720904 102.112378 \nL 113.056039 102.952863 \nL 113.391174 104.163356 \nL 113.726309 101.97859 \nL 114.061444 103.018693 \nL 114.396579 99.851381 \nL 114.731715 99.784758 \nL 115.06685 97.463699 \nL 115.401985 98.366476 \nL 115.73712 96.863767 \nL 116.072255 96.20711 \nL 117.07766 103.976931 \nL 117.412796 103.596495 \nL 117.747931 103.645124 \nL 118.418201 102.050852 \nL 118.753336 104.15261 \nL 119.088471 104.888557 \nL 119.423606 108.02818 \nL 119.758742 103.607545 \nL 120.093877 105.145804 \nL 120.429012 105.436629 \nL 120.764147 106.716294 \nL 121.099282 105.219452 \nL 121.434417 105.759297 \nL 121.769552 104.930665 \nL 122.104687 105.338062 \nL 122.439823 103.774382 \nL 122.774958 106.799512 \nL 123.110093 106.939478 \nL 123.445228 105.913298 \nL 124.115498 102.203737 \nL 124.450633 101.451865 \nL 124.785769 99.216941 \nL 125.120904 99.886095 \nL 125.456039 103.119843 \nL 125.791174 102.990409 \nL 126.126309 102.479016 \nL 126.461444 101.580952 \nL 126.796579 101.364582 \nL 127.46685 105.846765 \nL 127.801985 105.437935 \nL 128.13712 105.961265 \nL 128.472255 104.938375 \nL 128.80739 101.304527 \nL 129.142525 104.7256 \nL 129.812796 105.346793 \nL 130.147931 103.813911 \nL 130.483066 104.970483 \nL 130.818201 102.860068 \nL 131.153336 105.178531 \nL 131.488471 106.284608 \nL 131.823606 108.031891 \nL 132.158742 110.907642 \nL 132.493877 108.720113 \nL 132.829012 108.885943 \nL 133.164147 106.089344 \nL 133.499282 105.487464 \nL 133.834417 103.781399 \nL 134.169552 101.482829 \nL 134.504687 101.868771 \nL 134.839823 101.883711 \nL 135.174958 103.867722 \nL 135.510093 102.640374 \nL 135.845228 103.702847 \nL 136.515498 108.784115 \nL 136.850633 109.584079 \nL 137.185769 109.056642 \nL 137.520904 108.013906 \nL 137.856039 107.65391 \nL 138.191174 107.943203 \nL 138.526309 107.236376 \nL 138.861444 108.76899 \nL 139.196579 108.693867 \nL 139.531715 106.313235 \nL 139.86685 108.538305 \nL 140.201985 108.936965 \nL 140.53712 107.218736 \nL 140.872255 108.501808 \nL 141.20739 109.042879 \nL 141.542525 111.242758 \nL 141.87766 110.952537 \nL 142.212796 111.813004 \nL 142.547931 110.279915 \nL 142.883066 110.12789 \nL 143.888471 104.184885 \nL 144.223606 103.953646 \nL 144.558742 106.730682 \nL 144.893877 106.370694 \nL 145.229012 107.942016 \nL 145.564147 107.152284 \nL 145.899282 107.439476 \nL 146.234417 108.012597 \nL 146.569552 111.815765 \nL 147.239823 110.912539 \nL 147.574958 109.862396 \nL 147.910093 109.476681 \nL 148.245228 107.570796 \nL 148.580363 110.257063 \nL 148.915498 109.581641 \nL 149.250633 110.298852 \nL 149.585769 107.023005 \nL 149.920904 109.225916 \nL 150.256039 109.936736 \nL 150.926309 116.056852 \nL 151.261444 116.953999 \nL 151.596579 114.145033 \nL 151.931715 117.319973 \nL 152.601985 116.153487 \nL 152.93712 117.373135 \nL 153.272255 117.231426 \nL 153.60739 116.353691 \nL 153.942525 117.395534 \nL 154.27766 120.652911 \nL 154.612796 117.950258 \nL 154.947931 116.151782 \nL 155.283066 116.727081 \nL 155.618201 115.929045 \nL 155.953336 117.575512 \nL 156.288471 116.627834 \nL 156.623606 118.424417 \nL 156.958742 118.213565 \nL 157.629012 112.00752 \nL 158.299282 110.430564 \nL 158.969552 112.1032 \nL 159.304688 112.919163 \nL 159.639823 112.127197 \nL 159.974958 115.292979 \nL 160.310093 115.794983 \nL 160.645228 119.06231 \nL 161.315498 120.116494 \nL 161.650633 121.869694 \nL 161.985769 120.567562 \nL 162.320904 118.055993 \nL 162.656039 121.374288 \nL 162.991174 117.451503 \nL 163.326309 118.058898 \nL 163.661444 116.403703 \nL 164.331715 121.941727 \nL 164.66685 122.443463 \nL 165.001985 119.158652 \nL 165.33712 119.374751 \nL 165.672255 118.618277 \nL 166.00739 118.896697 \nL 166.342525 117.84523 \nL 166.67766 114.713135 \nL 167.012796 114.573843 \nL 167.347931 114.036872 \nL 167.683066 114.775987 \nL 168.018201 114.210293 \nL 168.353336 112.587439 \nL 168.688471 113.67121 \nL 169.023606 113.145825 \nL 169.358742 115.016252 \nL 169.693877 115.677675 \nL 170.029012 117.756603 \nL 170.364147 117.275207 \nL 170.699282 118.408908 \nL 171.034417 118.123031 \nL 171.369552 117.506351 \nL 172.039823 113.695379 \nL 172.374958 111.021852 \nL 172.710093 112.656677 \nL 173.045228 110.319593 \nL 173.380363 110.795499 \nL 173.715498 112.322348 \nL 174.050633 113.039536 \nL 174.385769 112.622958 \nL 175.056039 108.045171 \nL 175.391174 106.226737 \nL 175.726309 102.981917 \nL 176.061444 103.118147 \nL 176.396579 101.266337 \nL 176.731715 105.804835 \nL 177.401985 103.275141 \nL 177.73712 104.718372 \nL 178.072255 104.081015 \nL 178.40739 106.470386 \nL 178.742525 103.722024 \nL 179.412796 101.664247 \nL 179.747931 101.273233 \nL 180.083066 99.07242 \nL 180.753336 97.042939 \nL 181.423606 98.405407 \nL 181.758742 98.490834 \nL 182.093877 98.426324 \nL 182.429012 97.972886 \nL 182.764147 97.111257 \nL 183.099282 99.089059 \nL 183.434417 99.185489 \nL 184.439823 90.451008 \nL 184.774958 89.632356 \nL 185.110093 87.774945 \nL 185.445228 88.071481 \nL 185.780363 85.92493 \nL 186.115498 81.342762 \nL 186.450633 83.550858 \nL 186.785769 80.436778 \nL 187.120904 81.046566 \nL 187.456039 78.994063 \nL 187.791174 77.784053 \nL 188.126309 76.118225 \nL 188.461444 76.722695 \nL 188.796579 74.582244 \nL 189.131715 74.78615 \nL 189.46685 74.103973 \nL 189.801985 72.001341 \nL 190.13712 75.256226 \nL 190.80739 86.872583 \nL 191.142525 84.185424 \nL 191.47766 82.624803 \nL 191.812796 86.608421 \nL 192.147931 86.595516 \nL 192.483066 87.757495 \nL 192.818201 86.088781 \nL 193.488471 79.293927 \nL 193.823606 78.223518 \nL 194.158742 79.574537 \nL 194.493877 82.030259 \nL 195.499282 70.778791 \nL 195.834417 71.008455 \nL 196.169552 69.819687 \nL 196.504687 72.083424 \nL 196.839823 68.733516 \nL 197.174958 69.036966 \nL 197.510093 69.691838 \nL 197.845228 70.694573 \nL 198.180363 70.022349 \nL 198.515498 70.376303 \nL 198.850633 68.753015 \nL 199.185769 70.222474 \nL 199.520904 69.082802 \nL 199.856039 67.289149 \nL 200.191174 64.493941 \nL 200.526309 64.204362 \nL 200.861444 63.417338 \nL 201.196579 62.148491 \nL 201.531715 62.435696 \nL 201.86685 62.197693 \nL 202.53712 63.160046 \nL 202.872255 65.719648 \nL 203.20739 64.112632 \nL 203.542525 66.027576 \nL 203.87766 67.089634 \nL 204.212796 68.567441 \nL 204.547931 64.674108 \nL 204.883066 62.998422 \nL 205.218201 65.042975 \nL 205.553336 62.807065 \nL 205.888471 63.586279 \nL 206.223606 66.294652 \nL 206.558742 66.138372 \nL 207.229012 69.724931 \nL 207.564147 70.264021 \nL 207.899282 67.691035 \nL 208.234417 67.541207 \nL 208.569552 66.813424 \nL 208.904687 64.899693 \nL 209.239823 67.088765 \nL 209.910093 64.545551 \nL 210.245228 65.402002 \nL 210.915498 60.804917 \nL 211.250633 61.929155 \nL 211.585769 64.712571 \nL 212.591174 55.80558 \nL 213.261444 50.489284 \nL 213.596579 52.563959 \nL 213.931715 53.786657 \nL 214.26685 53.395506 \nL 214.601985 53.967269 \nL 215.272255 58.65056 \nL 215.60739 62.121848 \nL 215.942525 64.152589 \nL 216.27766 64.16017 \nL 216.612796 65.545295 \nL 216.947931 64.646849 \nL 217.283066 62.35944 \nL 217.618201 57.257087 \nL 218.288471 62.133473 \nL 218.623606 60.022259 \nL 218.958742 63.327606 \nL 219.629012 61.976909 \nL 219.964147 63.037725 \nL 220.299282 62.175803 \nL 220.634417 59.815315 \nL 220.969552 56.17923 \nL 221.639823 51.275622 \nL 221.974958 55.491619 \nL 222.310093 53.489643 \nL 222.645228 49.668954 \nL 222.980363 49.983494 \nL 223.315498 49.826625 \nL 223.650633 53.701411 \nL 223.985769 50.472017 \nL 225.326309 43.170233 \nL 225.661444 42.089589 \nL 225.996579 42.433453 \nL 226.331715 45.098411 \nL 227.33712 35.787612 \nL 227.672255 40.45118 \nL 228.00739 39.623122 \nL 228.342525 36.878516 \nL 228.67766 39.30016 \nL 229.012796 38.137806 \nL 229.347931 39.827416 \nL 229.683066 42.141913 \nL 230.018201 42.109538 \nL 230.353336 42.488327 \nL 230.688471 45.962582 \nL 231.023606 45.683622 \nL 231.358742 45.213494 \nL 231.693877 47.018301 \nL 232.029012 48.185432 \nL 232.699282 41.443188 \nL 233.369552 46.545012 \nL 233.704688 48.15244 \nL 234.039823 50.762854 \nL 235.045228 41.353805 \nL 235.380363 39.81178 \nL 235.715498 40.318903 \nL 236.050633 43.02833 \nL 236.385769 43.454356 \nL 236.720904 48.398357 \nL 237.056039 47.422251 \nL 237.391174 47.911365 \nL 238.061444 49.770879 \nL 238.396579 49.711058 \nL 238.731715 49.451715 \nL 239.06685 45.709549 \nL 239.401985 45.980874 \nL 239.73712 44.213434 \nL 240.072255 44.838694 \nL 240.40739 46.762222 \nL 240.742525 44.450227 \nL 241.07766 45.982033 \nL 241.412796 50.258514 \nL 241.747931 48.239708 \nL 242.083066 48.889953 \nL 242.418201 46.781183 \nL 242.753336 45.906149 \nL 243.088471 45.852741 \nL 243.758742 42.901975 \nL 244.093877 38.054389 \nL 244.429012 36.366478 \nL 244.764147 38.585408 \nL 245.099282 36.782705 \nL 245.434417 36.350097 \nL 245.769552 34.696276 \nL 246.104687 33.962034 \nL 246.439823 31.680268 \nL 246.774958 30.936342 \nL 247.110093 31.152789 \nL 247.445228 32.713702 \nL 247.780363 35.141999 \nL 248.115498 34.356752 \nL 248.450633 34.160177 \nL 248.785769 30.881357 \nL 249.120904 31.627 \nL 249.456039 35.543738 \nL 249.791174 34.606233 \nL 250.126309 35.585477 \nL 250.461444 32.733559 \nL 250.796579 31.627242 \nL 251.46685 33.539463 \nL 251.801985 33.248079 \nL 252.13712 33.791188 \nL 253.142525 26.663911 \nL 253.47766 26.691135 \nL 253.812796 27.380603 \nL 254.147931 27.12092 \nL 254.818201 36.858876 \nL 255.153336 35.796043 \nL 255.488471 35.35743 \nL 255.823606 32.262775 \nL 256.158742 27.75914 \nL 256.493877 30.856998 \nL 256.829012 31.918582 \nL 257.164147 30.510561 \nL 257.499282 28.361201 \nL 257.834417 27.947795 \nL 258.169552 29.600845 \nL 258.504687 29.487749 \nL 258.839823 27.829432 \nL 259.174958 29.439667 \nL 259.510093 29.500642 \nL 259.845228 29.095788 \nL 260.180363 32.678049 \nL 260.515498 30.230307 \nL 260.850633 28.983804 \nL 261.185769 29.147488 \nL 261.520904 29.620461 \nL 261.856039 30.609146 \nL 262.191174 30.542924 \nL 262.526309 27.910106 \nL 262.861444 30.221469 \nL 263.531715 32.384126 \nL 263.86685 34.776799 \nL 264.201985 34.220485 \nL 264.53712 31.601458 \nL 264.872255 33.473519 \nL 265.20739 32.144037 \nL 265.542525 31.581375 \nL 265.87766 31.503691 \nL 266.212796 32.377165 \nL 266.547931 31.106462 \nL 266.883066 26.958217 \nL 267.218201 29.925052 \nL 267.553336 28.612339 \nL 267.888471 26.216439 \nL 268.223606 21.459682 \nL 268.558742 21.711645 \nL 268.893877 23.597954 \nL 269.229012 21.64237 \nL 269.564147 22.082988 \nL 269.899282 23.037279 \nL 270.234417 23.144739 \nL 270.569552 22.517212 \nL 270.904687 20.722212 \nL 271.239823 20.470156 \nL 271.574958 22.476981 \nL 271.910093 19.996378 \nL 272.245228 22.319816 \nL 272.580363 21.598238 \nL 272.915498 21.713485 \nL 273.250633 24.356991 \nL 273.585769 23.152277 \nL 273.920904 25.435341 \nL 274.591174 33.431878 \nL 275.261444 37.874485 \nL 275.596579 37.087803 \nL 276.26685 33.111827 \nL 276.601985 34.81187 \nL 277.272255 44.241533 \nL 277.60739 45.481872 \nL 277.942525 47.979017 \nL 278.27766 45.989682 \nL 278.612796 42.69996 \nL 278.947931 41.568536 \nL 279.283066 41.941235 \nL 279.618201 40.982998 \nL 279.953336 43.336349 \nL 280.288471 44.837421 \nL 280.623606 44.268544 \nL 280.958742 40.700009 \nL 281.293877 40.829957 \nL 281.629012 42.974603 \nL 281.964147 40.268633 \nL 282.299282 41.153634 \nL 282.634417 42.761861 \nL 282.969552 43.377782 \nL 283.639823 46.95289 \nL 283.974958 49.587566 \nL 284.310093 53.662439 \nL 284.645228 52.994141 \nL 284.980363 55.083635 \nL 285.315498 56.379693 \nL 285.650633 55.666647 \nL 285.985769 56.615487 \nL 286.991174 48.038541 \nL 287.326309 48.543806 \nL 287.661444 46.807158 \nL 287.996579 49.447282 \nL 288.331715 49.77681 \nL 288.66685 52.696122 \nL 289.001985 52.440305 \nL 289.33712 51.965653 \nL 289.672255 49.090424 \nL 290.00739 49.52811 \nL 290.342525 50.320302 \nL 290.67766 46.095306 \nL 291.012796 47.615596 \nL 292.353336 56.250339 \nL 292.688471 55.281617 \nL 293.358742 57.56915 \nL 293.693877 56.007416 \nL 294.364147 54.159691 \nL 294.699282 54.299402 \nL 295.034417 50.102663 \nL 295.369552 49.918929 \nL 295.704688 51.745723 \nL 296.039823 52.608071 \nL 296.374958 50.224656 \nL 296.710093 48.982404 \nL 297.045228 46.113306 \nL 297.380363 49.33592 \nL 297.715498 48.826962 \nL 298.050633 49.406083 \nL 298.385769 47.736247 \nL 298.720904 47.999538 \nL 299.056039 47.815866 \nL 299.391174 44.289342 \nL 299.726309 43.691503 \nL 300.061444 47.842172 \nL 300.731715 50.024353 \nL 301.06685 46.898154 \nL 301.401985 48.543662 \nL 301.73712 52.12339 \nL 302.742525 58.407476 \nL 303.07766 56.465644 \nL 303.412796 56.310223 \nL 303.747931 55.299179 \nL 304.418201 59.306111 \nL 304.753336 61.502679 \nL 305.088471 59.381367 \nL 305.423606 60.126497 \nL 305.758742 61.18713 \nL 306.093877 64.284836 \nL 306.429012 65.245807 \nL 306.764147 67.037422 \nL 307.099282 67.066965 \nL 307.434417 66.952593 \nL 307.769552 66.955725 \nL 308.104688 68.826307 \nL 308.439823 65.65339 \nL 308.774958 68.078658 \nL 309.110093 67.969683 \nL 309.445228 68.030832 \nL 309.780363 68.20697 \nL 310.115498 69.876338 \nL 310.450633 66.056459 \nL 311.120904 67.66652 \nL 311.456039 66.925719 \nL 311.791174 69.488508 \nL 312.126309 70.074077 \nL 312.461444 70.299064 \nL 312.796579 69.937321 \nL 313.131715 70.490833 \nL 313.46685 69.735336 \nL 313.801985 69.554626 \nL 314.13712 70.842244 \nL 314.472255 68.361384 \nL 314.80739 64.949326 \nL 315.47766 63.636275 \nL 315.812796 60.887452 \nL 316.147931 64.746967 \nL 316.483066 64.778182 \nL 316.818201 64.111869 \nL 317.153336 63.87951 \nL 317.488471 64.04826 \nL 317.823606 62.467275 \nL 318.158742 62.419714 \nL 318.493877 58.60034 \nL 318.829012 57.903106 \nL 319.164147 55.39518 \nL 319.499282 54.492504 \nL 319.834417 51.121198 \nL 320.504687 48.047203 \nL 320.839823 52.30234 \nL 321.174958 54.916096 \nL 321.510093 55.813299 \nL 321.845228 57.713474 \nL 322.180363 62.341167 \nL 322.515498 62.290658 \nL 324.191174 55.396785 \nL 324.526309 55.014467 \nL 324.861444 58.473571 \nL 325.196579 58.40556 \nL 325.531715 58.955215 \nL 325.86685 58.846609 \nL 326.201985 61.14034 \nL 326.53712 62.629815 \nL 326.872255 58.552037 \nL 327.20739 56.082982 \nL 327.542525 55.825188 \nL 328.212796 56.011372 \nL 328.547931 57.024383 \nL 328.883066 58.593323 \nL 329.553336 52.436543 \nL 329.888471 51.244695 \nL 330.223606 52.204721 \nL 330.558742 53.863186 \nL 330.893877 51.001684 \nL 331.564147 55.026195 \nL 331.899282 54.375061 \nL 332.569552 56.237071 \nL 332.904687 52.760547 \nL 333.239823 52.693147 \nL 333.574958 53.655968 \nL 333.910093 55.213594 \nL 334.245228 55.894542 \nL 334.580363 55.207303 \nL 334.915498 56.000293 \nL 335.250633 54.689739 \nL 335.585769 54.71081 \nL 335.920904 53.476906 \nL 336.256039 56.270473 \nL 336.591174 52.667555 \nL 336.926309 54.341146 \nL 337.261444 53.008675 \nL 338.601985 62.446444 \nL 338.93712 63.93868 \nL 339.272255 63.235442 \nL 340.27766 58.802886 \nL 340.612796 60.003781 \nL 341.283066 60.874846 \nL 341.618201 60.542705 \nL 341.953336 61.764822 \nL 342.288471 60.211313 \nL 342.958742 64.258571 \nL 343.293877 65.033093 \nL 343.629012 65.262822 \nL 343.964147 66.163409 \nL 344.299282 65.076203 \nL 345.304688 58.394198 \nL 345.639823 59.579018 \nL 345.974958 59.619534 \nL 346.310093 61.371059 \nL 346.645228 60.648935 \nL 346.980363 60.956386 \nL 348.320904 58.275963 \nL 348.656039 58.647326 \nL 348.991174 53.839962 \nL 349.326309 55.062023 \nL 350.331715 46.572487 \nL 350.66685 46.804005 \nL 351.001985 46.843355 \nL 351.33712 46.672221 \nL 351.672255 47.461793 \nL 352.00739 47.447078 \nL 352.342525 49.304888 \nL 352.67766 50.382148 \nL 353.012796 49.87453 \nL 353.347931 54.082384 \nL 353.683066 55.495241 \nL 354.018201 55.945958 \nL 354.353336 57.543842 \nL 354.688471 57.132695 \nL 355.023606 54.716541 \nL 355.358742 54.761265 \nL 355.693877 52.903058 \nL 356.029012 53.842457 \nL 356.364147 51.880847 \nL 356.699282 50.87026 \nL 357.034417 53.583934 \nL 357.369552 49.765079 \nL 357.704688 50.262937 \nL 358.039823 47.955516 \nL 358.374958 51.09141 \nL 358.710093 49.381932 \nL 359.045228 49.019613 \nL 359.380363 47.55249 \nL 359.715498 47.610755 \nL 360.050633 50.100177 \nL 360.385769 49.209559 \nL 360.720904 50.496877 \nL 361.056039 48.829398 \nL 361.391174 52.34334 \nL 361.726309 52.069079 \nL 362.061444 51.036337 \nL 362.396579 51.517355 \nL 362.731715 52.871501 \nL 363.06685 52.319392 \nL 363.401985 53.19272 \nL 363.73712 54.593738 \nL 364.40739 51.529647 \nL 364.742525 53.246246 \nL 365.07766 57.107331 \nL 365.412796 59.340022 \nL 365.747931 58.491018 \nL 366.083066 63.467558 \nL 366.418201 64.654877 \nL 366.753336 61.924492 \nL 367.088471 62.458454 \nL 367.423606 65.805149 \nL 367.758742 64.79815 \nL 368.093877 65.28579 \nL 368.429012 66.415987 \nL 368.764147 67.059759 \nL 369.099282 67.293058 \nL 369.434417 69.618781 \nL 369.769552 68.709476 \nL 370.104688 66.153157 \nL 370.104688 66.153157 \n\" style=\"fill:none;stroke:#1f77b4;stroke-linecap:square;stroke-width:1.5;\"/>\n   </g>\n   <g id=\"line2d_42\">\n    <path clip-path=\"url(#pe7e04aeb02)\" d=\"M 35.304688 92.045088 \nL 35.639823 93.053288 \nL 35.974958 93.226987 \nL 36.310093 89.935693 \nL 36.645228 91.555118 \nL 36.980363 91.555622 \nL 37.315498 93.072493 \nL 37.650633 93.228505 \nL 37.985769 92.009352 \nL 38.320904 91.853167 \nL 38.656039 92.444078 \nL 38.991174 91.752321 \nL 39.326309 92.643457 \nL 39.661444 92.735439 \nL 39.996579 92.453314 \nL 40.331715 94.789293 \nL 40.66685 90.802275 \nL 41.001985 89.639067 \nL 41.33712 92.666152 \nL 41.672255 89.399137 \nL 42.00739 90.136198 \nL 42.342525 89.655967 \nL 42.67766 88.267604 \nL 43.347931 84.698483 \nL 43.683066 86.988959 \nL 44.018201 88.012729 \nL 44.353336 81.141536 \nL 45.023606 81.174134 \nL 45.358742 82.560445 \nL 46.029012 84.347861 \nL 46.364147 85.756452 \nL 46.699282 83.184738 \nL 47.034417 83.699895 \nL 47.369552 86.043591 \nL 47.704688 87.532165 \nL 48.039823 84.487865 \nL 48.374958 83.068666 \nL 48.710093 84.052924 \nL 49.045228 83.303442 \nL 49.380363 86.849986 \nL 49.715498 87.29033 \nL 50.050633 92.946559 \nL 50.385769 95.227505 \nL 51.056039 87.190249 \nL 51.726309 88.321287 \nL 52.061444 88.532177 \nL 52.396579 91.557938 \nL 53.06685 88.543213 \nL 53.401985 88.559873 \nL 53.73712 89.999415 \nL 54.40739 87.295324 \nL 55.07766 93.072945 \nL 55.412796 92.8665 \nL 55.747931 92.090997 \nL 56.083066 90.551692 \nL 56.418201 91.845185 \nL 56.753336 90.868915 \nL 57.088471 88.582603 \nL 57.423606 87.480302 \nL 57.758742 88.601484 \nL 58.093877 87.902978 \nL 58.429012 84.418536 \nL 58.764147 84.859259 \nL 59.099282 81.75792 \nL 59.434417 82.635 \nL 59.769552 82.918282 \nL 60.104687 84.864041 \nL 60.439823 84.398581 \nL 61.110093 82.393613 \nL 61.445228 83.070812 \nL 62.115498 83.168847 \nL 62.450633 83.387315 \nL 62.785769 82.290361 \nL 63.120904 79.938302 \nL 63.456039 80.341644 \nL 64.461444 77.325535 \nL 64.796579 81.680001 \nL 65.131715 81.365701 \nL 65.46685 80.68258 \nL 65.801985 82.337996 \nL 66.13712 82.196836 \nL 66.472255 83.603782 \nL 66.80739 85.721747 \nL 67.142525 85.51328 \nL 67.47766 82.384764 \nL 67.812796 83.165772 \nL 68.147931 84.643467 \nL 68.483066 82.917639 \nL 68.818201 83.003308 \nL 69.153336 85.901581 \nL 69.488471 86.484807 \nL 69.823606 90.262316 \nL 70.158742 89.300297 \nL 70.493877 91.162603 \nL 70.829012 89.495628 \nL 71.164147 90.650646 \nL 71.499282 92.222664 \nL 71.834417 95.182601 \nL 72.169552 96.056043 \nL 72.504687 94.411433 \nL 72.839823 96.378671 \nL 73.174958 94.291445 \nL 73.845228 95.512853 \nL 74.180363 95.357525 \nL 74.515498 97.65436 \nL 74.850633 98.333242 \nL 75.185769 94.188776 \nL 75.520904 93.991375 \nL 75.856039 94.022626 \nL 76.191174 98.435672 \nL 76.526309 96.433696 \nL 76.861444 95.876859 \nL 77.196579 95.59109 \nL 77.531715 95.940518 \nL 77.86685 97.486717 \nL 78.201985 100.801108 \nL 78.53712 99.932338 \nL 79.20739 104.262835 \nL 79.542525 103.500398 \nL 79.87766 100.7321 \nL 80.212796 104.447298 \nL 80.547931 101.979832 \nL 80.883066 103.015886 \nL 81.218201 102.924146 \nL 81.553336 104.825963 \nL 81.888471 101.989758 \nL 82.223606 100.150236 \nL 82.558742 100.345501 \nL 82.893877 100.983546 \nL 83.229012 99.3954 \nL 83.899282 107.098953 \nL 84.234417 102.968384 \nL 84.569552 101.611131 \nL 84.904687 101.056507 \nL 85.239823 99.68822 \nL 85.574958 98.928722 \nL 85.910093 98.661599 \nL 86.245228 101.560694 \nL 86.580363 101.593842 \nL 86.915498 103.292919 \nL 87.250633 103.863316 \nL 87.585769 103.541305 \nL 87.920904 103.557797 \nL 88.256039 105.792367 \nL 88.591174 107.078807 \nL 88.926309 107.506017 \nL 89.261444 105.904399 \nL 89.596579 106.514137 \nL 89.931715 105.477546 \nL 90.26685 107.758912 \nL 90.601985 106.440679 \nL 90.93712 108.152834 \nL 91.272255 112.447982 \nL 91.60739 113.403722 \nL 91.942525 110.366638 \nL 92.27766 111.472095 \nL 92.947931 110.37671 \nL 93.283066 111.351245 \nL 93.618201 111.848868 \nL 93.953336 112.822882 \nL 94.288471 115.280161 \nL 94.623606 115.163998 \nL 94.958742 119.928773 \nL 95.293877 120.834682 \nL 95.964147 125.490441 \nL 96.299282 126.122528 \nL 96.634417 120.671116 \nL 96.969552 120.206835 \nL 97.304688 118.38168 \nL 97.639823 120.478335 \nL 97.974958 121.101998 \nL 98.310093 119.217883 \nL 98.980363 118.408324 \nL 99.315498 116.752248 \nL 99.650633 118.325847 \nL 99.985769 114.174715 \nL 100.656039 121.515018 \nL 100.991174 122.388216 \nL 101.661444 127.636612 \nL 101.996579 126.467283 \nL 102.66685 122.115806 \nL 103.001985 122.633148 \nL 103.33712 121.132401 \nL 104.00739 123.82702 \nL 104.342525 122.529483 \nL 104.67766 123.080867 \nL 105.347931 127.232616 \nL 105.683066 126.675227 \nL 106.018201 126.546709 \nL 106.353336 127.065938 \nL 106.688471 125.368274 \nL 107.023606 126.509204 \nL 107.358742 129.567734 \nL 107.693877 129.129159 \nL 108.029012 130.091405 \nL 108.364147 133.661238 \nL 108.699282 133.91877 \nL 109.034417 133.720671 \nL 109.369552 129.610476 \nL 109.704688 129.065454 \nL 110.039823 125.792483 \nL 110.374958 125.676143 \nL 110.710093 127.737608 \nL 111.045228 123.728758 \nL 111.380363 124.132509 \nL 111.715498 123.928085 \nL 112.050633 121.776882 \nL 112.385769 121.717391 \nL 112.720904 124.860845 \nL 113.391174 123.570686 \nL 113.726309 123.00167 \nL 114.396579 127.773489 \nL 114.731715 128.545959 \nL 115.06685 132.12893 \nL 115.73712 134.129736 \nL 116.072255 133.957788 \nL 116.40739 134.076074 \nL 116.742525 132.186203 \nL 117.07766 132.39924 \nL 117.412796 132.424427 \nL 118.083066 134.760604 \nL 118.418201 136.688156 \nL 118.753336 134.663253 \nL 119.088471 135.767208 \nL 119.423606 137.47872 \nL 119.758742 137.181118 \nL 120.429012 139.736321 \nL 120.764147 142.474818 \nL 121.099282 142.637511 \nL 121.769552 144.675651 \nL 122.104687 145.110625 \nL 122.439823 147.453749 \nL 122.774958 146.660638 \nL 123.110093 147.344859 \nL 123.445228 143.719245 \nL 123.780363 145.12201 \nL 124.115498 148.368801 \nL 124.450633 144.674753 \nL 124.785769 146.679978 \nL 125.120904 146.511566 \nL 125.456039 146.872952 \nL 125.791174 146.632926 \nL 126.126309 145.714454 \nL 126.461444 148.060579 \nL 126.796579 146.150459 \nL 127.131715 148.77396 \nL 127.46685 150.166438 \nL 127.801985 148.913266 \nL 128.13712 150.713939 \nL 128.80739 149.776429 \nL 129.142525 151.474865 \nL 129.47766 145.610728 \nL 129.812796 150.025215 \nL 130.147931 148.132771 \nL 130.483066 151.03941 \nL 130.818201 150.542278 \nL 131.153336 153.062018 \nL 131.488471 152.875915 \nL 132.158742 149.609492 \nL 132.493877 147.90841 \nL 132.829012 147.992923 \nL 133.164147 149.262311 \nL 133.499282 148.752688 \nL 133.834417 145.988238 \nL 134.169552 148.237008 \nL 134.504687 148.316834 \nL 134.839823 151.706561 \nL 135.174958 151.450776 \nL 135.510093 150.625472 \nL 135.845228 148.281347 \nL 136.180363 149.02405 \nL 136.515498 146.618068 \nL 136.850633 147.429616 \nL 137.185769 146.336599 \nL 137.856039 145.015194 \nL 138.191174 144.289512 \nL 138.526309 146.334569 \nL 138.861444 150.252575 \nL 139.196579 147.648817 \nL 139.531715 147.568507 \nL 139.86685 149.6306 \nL 140.201985 148.107892 \nL 140.872255 143.341277 \nL 141.20739 143.604944 \nL 141.542525 140.93769 \nL 141.87766 142.039951 \nL 142.212796 142.448336 \nL 142.547931 143.205404 \nL 143.218201 140.333402 \nL 143.553336 141.436798 \nL 143.888471 145.514477 \nL 144.223606 147.696039 \nL 144.558742 150.629027 \nL 144.893877 149.404648 \nL 145.229012 153.220689 \nL 145.564147 153.995499 \nL 145.899282 153.396137 \nL 146.234417 151.129195 \nL 146.569552 152.50484 \nL 146.904687 153.406525 \nL 147.239823 150.359015 \nL 147.574958 146.248415 \nL 147.910093 143.955583 \nL 148.245228 142.773484 \nL 148.580363 144.475694 \nL 148.915498 145.255028 \nL 149.250633 142.641829 \nL 149.585769 138.852224 \nL 149.920904 142.193425 \nL 150.256039 140.945528 \nL 150.591174 142.130365 \nL 150.926309 142.623051 \nL 151.261444 144.27428 \nL 151.596579 144.041022 \nL 151.931715 141.73846 \nL 152.26685 143.097071 \nL 152.601985 143.255722 \nL 152.93712 143.136131 \nL 153.272255 138.468375 \nL 153.60739 137.555418 \nL 153.942525 142.058567 \nL 154.27766 140.982302 \nL 154.612796 138.70392 \nL 154.947931 143.274394 \nL 155.283066 142.211919 \nL 155.953336 144.827043 \nL 156.288471 141.875956 \nL 156.623606 142.174874 \nL 157.629012 151.107705 \nL 157.964147 150.090528 \nL 158.299282 144.680791 \nL 158.634417 147.408974 \nL 158.969552 148.40972 \nL 159.304688 145.92249 \nL 159.639823 147.053064 \nL 159.974958 146.32541 \nL 160.645228 143.37039 \nL 160.980363 145.160967 \nL 161.315498 144.810206 \nL 161.650633 143.058807 \nL 161.985769 143.244489 \nL 162.320904 149.616646 \nL 162.656039 149.382677 \nL 162.991174 151.145791 \nL 163.326309 151.40923 \nL 163.661444 153.39869 \nL 163.996579 152.475771 \nL 164.331715 152.515855 \nL 164.66685 151.988225 \nL 165.001985 152.036613 \nL 165.33712 153.393202 \nL 165.672255 153.689135 \nL 166.00739 153.360731 \nL 166.342525 156.041504 \nL 167.012796 159.540471 \nL 167.347931 158.566593 \nL 167.683066 160.175043 \nL 168.018201 158.201002 \nL 168.353336 157.423491 \nL 168.688471 158.948427 \nL 169.023606 159.73653 \nL 169.358742 159.391371 \nL 169.693877 158.570697 \nL 170.029012 157.382156 \nL 170.364147 158.15355 \nL 171.034417 157.022423 \nL 171.369552 154.630148 \nL 171.704688 156.13455 \nL 172.374958 153.331701 \nL 172.710093 151.180884 \nL 173.045228 150.35129 \nL 173.380363 153.257543 \nL 173.715498 153.087534 \nL 174.385769 150.87233 \nL 175.056039 156.21281 \nL 175.391174 153.007077 \nL 175.726309 154.056058 \nL 176.061444 149.531563 \nL 176.396579 153.711836 \nL 176.731715 154.03651 \nL 177.401985 150.09944 \nL 177.73712 150.295218 \nL 178.072255 151.832261 \nL 178.40739 150.864154 \nL 178.742525 156.818214 \nL 179.07766 156.4668 \nL 179.412796 155.356502 \nL 180.083066 163.530569 \nL 180.418201 159.491016 \nL 180.753336 162.224654 \nL 181.088471 161.649802 \nL 181.423606 159.019879 \nL 181.758742 161.893651 \nL 182.093877 160.765161 \nL 182.429012 160.429967 \nL 182.764147 159.662113 \nL 183.099282 157.71128 \nL 183.434417 157.440525 \nL 183.769552 158.730054 \nL 184.104687 162.688833 \nL 184.439823 160.74102 \nL 184.774958 161.050652 \nL 185.110093 158.476599 \nL 185.445228 161.231595 \nL 185.780363 161.256931 \nL 186.115498 165.18597 \nL 186.450633 164.795501 \nL 186.785769 165.464538 \nL 187.120904 162.597243 \nL 187.791174 159.849253 \nL 188.126309 159.131766 \nL 188.461444 157.811823 \nL 188.796579 158.927351 \nL 189.131715 155.966673 \nL 189.46685 151.745999 \nL 189.801985 150.734389 \nL 190.13712 153.366618 \nL 190.472255 154.262776 \nL 190.80739 149.663908 \nL 191.142525 149.570058 \nL 191.47766 153.78431 \nL 191.812796 153.05535 \nL 192.147931 152.820403 \nL 192.483066 154.234479 \nL 192.818201 152.796384 \nL 193.153336 153.757197 \nL 193.488471 152.203936 \nL 193.823606 153.227477 \nL 194.158742 153.3852 \nL 194.493877 154.413024 \nL 194.829012 153.856621 \nL 195.164147 153.034511 \nL 195.499282 151.106235 \nL 195.834417 151.153789 \nL 196.169552 149.707476 \nL 196.504687 150.10402 \nL 196.839823 147.77896 \nL 197.510093 149.794046 \nL 197.845228 147.552226 \nL 198.180363 147.810332 \nL 198.515498 148.292089 \nL 198.850633 144.364453 \nL 199.185769 146.587371 \nL 199.520904 145.963032 \nL 200.191174 145.242974 \nL 200.526309 145.563422 \nL 201.196579 148.722349 \nL 201.531715 152.478324 \nL 201.86685 152.354973 \nL 202.53712 164.940219 \nL 202.872255 166.686205 \nL 203.20739 169.199269 \nL 203.542525 168.592507 \nL 203.87766 169.361462 \nL 204.212796 166.08076 \nL 204.547931 165.487667 \nL 204.883066 166.334926 \nL 205.553336 173.071941 \nL 206.223606 170.000102 \nL 206.558742 171.031272 \nL 206.893877 173.351831 \nL 207.229012 177.490261 \nL 207.564147 171.686268 \nL 207.899282 172.418335 \nL 208.234417 175.231665 \nL 208.569552 175.732168 \nL 208.904687 175.461698 \nL 209.239823 177.726948 \nL 209.910093 172.161896 \nL 210.245228 170.94861 \nL 210.580363 168.438827 \nL 210.915498 172.703827 \nL 211.250633 172.736351 \nL 211.585769 171.669161 \nL 211.920904 169.214547 \nL 212.256039 169.455998 \nL 212.591174 169.386145 \nL 212.926309 168.949193 \nL 213.261444 171.932797 \nL 213.596579 170.187881 \nL 213.931715 169.076115 \nL 214.26685 169.775309 \nL 214.601985 168.70554 \nL 214.93712 168.675224 \nL 215.272255 167.186571 \nL 215.60739 166.879987 \nL 215.942525 163.147742 \nL 216.27766 163.056959 \nL 216.612796 161.449712 \nL 216.947931 162.728452 \nL 217.283066 163.013118 \nL 217.618201 163.112449 \nL 217.953336 161.290928 \nL 218.288471 163.475432 \nL 218.623606 164.332858 \nL 218.958742 160.334825 \nL 219.293877 159.234449 \nL 219.629012 160.081724 \nL 219.964147 155.989248 \nL 220.634417 151.25063 \nL 220.969552 155.559452 \nL 221.304688 151.637702 \nL 221.639823 154.40501 \nL 222.310093 156.68647 \nL 222.645228 155.301529 \nL 222.980363 155.536371 \nL 223.315498 156.57887 \nL 223.650633 157.059266 \nL 223.985769 160.049463 \nL 224.320904 158.957109 \nL 224.656039 159.124164 \nL 224.991174 159.799539 \nL 225.326309 159.450636 \nL 225.661444 163.162524 \nL 225.996579 157.556055 \nL 226.331715 157.518536 \nL 226.66685 159.388275 \nL 227.33712 156.405258 \nL 227.672255 155.969304 \nL 228.00739 158.599135 \nL 228.342525 155.631928 \nL 228.67766 155.417781 \nL 229.012796 154.964989 \nL 229.347931 155.685603 \nL 229.683066 153.565748 \nL 230.018201 158.012961 \nL 230.353336 156.587157 \nL 230.688471 155.953546 \nL 231.023606 159.221143 \nL 231.358742 158.167795 \nL 231.693877 158.298746 \nL 232.029012 158.294108 \nL 232.364147 155.745404 \nL 232.699282 155.408267 \nL 233.034417 160.202989 \nL 233.369552 161.116174 \nL 233.704688 166.895575 \nL 234.039823 169.499015 \nL 234.374958 165.389372 \nL 234.710093 165.320489 \nL 235.045228 167.92439 \nL 235.380363 167.103079 \nL 235.715498 165.122593 \nL 236.050633 165.312198 \nL 236.385769 169.233104 \nL 236.720904 170.132275 \nL 237.056039 169.896606 \nL 237.726309 175.465949 \nL 238.061444 173.51379 \nL 238.396579 174.402181 \nL 238.731715 170.721746 \nL 239.06685 168.318144 \nL 239.401985 169.590788 \nL 239.73712 169.206977 \nL 240.072255 173.498682 \nL 240.40739 172.314357 \nL 240.742525 175.337765 \nL 241.07766 174.593207 \nL 241.747931 178.385616 \nL 242.083066 179.678204 \nL 242.418201 182.816822 \nL 242.753336 181.983383 \nL 243.088471 182.452249 \nL 243.423606 182.729019 \nL 243.758742 187.203879 \nL 244.093877 187.591915 \nL 244.429012 187.397628 \nL 245.099282 188.692589 \nL 245.434417 188.172833 \nL 245.769552 189.053576 \nL 246.104687 188.49933 \nL 246.439823 194.343163 \nL 246.774958 192.074662 \nL 247.445228 196.480215 \nL 247.780363 194.934079 \nL 248.115498 198.567715 \nL 248.450633 199.502199 \nL 248.785769 201.276848 \nL 249.456039 200.955829 \nL 249.791174 197.711069 \nL 250.126309 197.341739 \nL 250.461444 192.936156 \nL 250.796579 192.047214 \nL 251.131715 191.684603 \nL 251.46685 185.656988 \nL 251.801985 185.675435 \nL 252.13712 186.194615 \nL 252.472255 186.449587 \nL 252.80739 181.43346 \nL 253.47766 185.677611 \nL 253.812796 186.875543 \nL 254.483066 189.73137 \nL 254.818201 189.606339 \nL 255.153336 194.560049 \nL 255.823606 185.53541 \nL 256.493877 183.198252 \nL 256.829012 186.757499 \nL 257.164147 187.41473 \nL 257.499282 188.576487 \nL 257.834417 186.921746 \nL 258.504687 189.304501 \nL 258.839823 186.528597 \nL 259.174958 186.67078 \nL 259.510093 186.240837 \nL 259.845228 190.9777 \nL 260.180363 192.921672 \nL 260.850633 191.33307 \nL 261.185769 193.016372 \nL 261.520904 191.441115 \nL 261.856039 192.566471 \nL 262.191174 191.769741 \nL 262.526309 194.561356 \nL 262.861444 198.439152 \nL 263.196579 199.853512 \nL 263.531715 198.004983 \nL 263.86685 199.229229 \nL 264.53712 200.274149 \nL 264.872255 198.185072 \nL 265.20739 200.084532 \nL 265.542525 200.077082 \nL 265.87766 196.873214 \nL 266.212796 196.100966 \nL 266.547931 196.845424 \nL 266.883066 195.467694 \nL 267.218201 192.246096 \nL 267.553336 195.696596 \nL 267.888471 196.884494 \nL 268.223606 198.973149 \nL 268.558742 198.328673 \nL 268.893877 199.320824 \nL 269.229012 198.347866 \nL 269.899282 195.395377 \nL 270.234417 195.161678 \nL 270.569552 195.525525 \nL 270.904687 194.749409 \nL 271.239823 193.551951 \nL 272.580363 194.754926 \nL 272.915498 190.405851 \nL 273.250633 189.671417 \nL 273.920904 190.670144 \nL 274.256039 186.68911 \nL 275.261444 188.237042 \nL 275.931715 189.446124 \nL 276.26685 190.629531 \nL 276.601985 192.235174 \nL 276.93712 191.202236 \nL 277.272255 193.182676 \nL 277.60739 192.425398 \nL 278.27766 187.864692 \nL 278.612796 191.519957 \nL 278.947931 189.107087 \nL 279.283066 189.828362 \nL 279.618201 187.978152 \nL 279.953336 192.934454 \nL 280.288471 193.658661 \nL 280.958742 200.370428 \nL 281.629012 194.907252 \nL 281.964147 198.586558 \nL 282.299282 200.671789 \nL 282.634417 200.989465 \nL 282.969552 201.876431 \nL 283.304688 201.316632 \nL 283.639823 199.502647 \nL 283.974958 199.320906 \nL 284.310093 201.922329 \nL 284.645228 203.516041 \nL 284.980363 204.170366 \nL 285.315498 203.116118 \nL 285.650633 203.395491 \nL 285.985769 201.70166 \nL 286.320904 200.654764 \nL 286.656039 196.1274 \nL 286.991174 195.289389 \nL 287.326309 194.939817 \nL 287.661444 198.452181 \nL 287.996579 199.291731 \nL 288.331715 196.867516 \nL 288.66685 195.306397 \nL 289.001985 196.036075 \nL 289.33712 199.764925 \nL 289.672255 199.002021 \nL 290.00739 195.685897 \nL 290.67766 192.64357 \nL 291.347931 197.458599 \nL 292.018201 195.46711 \nL 292.353336 197.233817 \nL 293.023606 202.654756 \nL 293.358742 202.98564 \nL 293.693877 202.241597 \nL 294.029012 205.548833 \nL 294.364147 206.081853 \nL 294.699282 205.124085 \nL 295.034417 204.595843 \nL 295.369552 206.512854 \nL 295.704688 205.563021 \nL 296.039823 205.789274 \nL 296.374958 205.277895 \nL 296.710093 200.387565 \nL 297.045228 199.956051 \nL 297.380363 203.695704 \nL 297.715498 203.009572 \nL 298.385769 200.827955 \nL 298.720904 197.123586 \nL 299.056039 198.190538 \nL 299.391174 198.088548 \nL 299.726309 195.100009 \nL 300.061444 194.791125 \nL 300.396579 197.003463 \nL 300.731715 194.616614 \nL 301.401985 196.621526 \nL 302.072255 192.500493 \nL 302.742525 194.408486 \nL 303.412796 199.15128 \nL 303.747931 197.543782 \nL 304.083066 200.210974 \nL 304.753336 196.218119 \nL 305.088471 197.300003 \nL 305.423606 196.138625 \nL 306.429012 197.920872 \nL 306.764147 199.466689 \nL 307.099282 198.304571 \nL 307.434417 198.114423 \nL 307.769552 201.396118 \nL 308.104688 198.486818 \nL 308.439823 197.126863 \nL 308.774958 196.500345 \nL 309.110093 199.979002 \nL 310.115498 195.644654 \nL 310.450633 193.234961 \nL 310.785769 192.035799 \nL 311.120904 191.489061 \nL 311.456039 195.795409 \nL 311.791174 195.596194 \nL 312.126309 195.91937 \nL 312.461444 194.608226 \nL 313.131715 199.258289 \nL 313.46685 199.123999 \nL 313.801985 200.462571 \nL 314.13712 197.936952 \nL 314.472255 196.307603 \nL 314.80739 192.842347 \nL 315.142525 192.00161 \nL 315.812796 197.830712 \nL 316.147931 197.143486 \nL 316.483066 193.294556 \nL 316.818201 193.181031 \nL 317.488471 195.803157 \nL 317.823606 196.900714 \nL 318.493877 197.756832 \nL 318.829012 197.642283 \nL 319.164147 196.653485 \nL 319.499282 197.265235 \nL 319.834417 199.608451 \nL 320.169552 197.487954 \nL 320.504687 199.325412 \nL 320.839823 197.640075 \nL 321.174958 201.14941 \nL 321.510093 206.857701 \nL 321.845228 207.538165 \nL 322.180363 206.179524 \nL 322.515498 206.220695 \nL 322.850633 204.099638 \nL 323.185769 205.29354 \nL 323.520904 205.027346 \nL 323.856039 208.350526 \nL 324.191174 208.131122 \nL 324.526309 207.191842 \nL 324.861444 205.689168 \nL 325.196579 205.60832 \nL 325.531715 206.53853 \nL 325.86685 202.215106 \nL 326.201985 199.500499 \nL 326.53712 199.741263 \nL 327.20739 196.972084 \nL 327.542525 195.715253 \nL 327.87766 198.744956 \nL 328.212796 196.269977 \nL 328.547931 198.782226 \nL 328.883066 197.741206 \nL 329.553336 199.946656 \nL 329.888471 198.449206 \nL 330.223606 196.125269 \nL 330.558742 196.977662 \nL 330.893877 198.721854 \nL 331.229012 198.127698 \nL 331.564147 195.822592 \nL 331.899282 198.407965 \nL 332.234417 197.396747 \nL 332.569552 197.880384 \nL 332.904687 197.608067 \nL 333.239823 198.822123 \nL 333.574958 201.126573 \nL 333.910093 202.116455 \nL 334.245228 205.520892 \nL 334.580363 206.228422 \nL 334.915498 206.644167 \nL 335.250633 202.318932 \nL 335.585769 201.929052 \nL 335.920904 204.081273 \nL 336.256039 207.524596 \nL 336.591174 208.241877 \nL 336.926309 205.892291 \nL 337.261444 205.847148 \nL 337.596579 203.576562 \nL 337.931715 202.810445 \nL 338.26685 203.633918 \nL 338.601985 203.113665 \nL 338.93712 204.626629 \nL 339.272255 205.319053 \nL 339.60739 207.047889 \nL 339.942525 205.459879 \nL 340.27766 206.926284 \nL 340.612796 207.54668 \nL 340.947931 210.299954 \nL 341.283066 210.218859 \nL 341.618201 205.721942 \nL 341.953336 209.167317 \nL 342.288471 206.231317 \nL 342.958742 209.046482 \nL 343.293877 208.551046 \nL 343.629012 207.118544 \nL 343.964147 211.46747 \nL 344.634417 214.702022 \nL 344.969552 210.969335 \nL 345.304688 209.850388 \nL 345.639823 213.786306 \nL 345.974958 212.712993 \nL 346.310093 208.622514 \nL 346.645228 207.90492 \nL 347.315498 212.265693 \nL 347.650633 213.068271 \nL 348.320904 217.054314 \nL 348.656039 217.669106 \nL 348.991174 216.157953 \nL 349.326309 216.214552 \nL 349.661444 214.97864 \nL 349.996579 214.533773 \nL 350.331715 211.996146 \nL 350.66685 215.141607 \nL 351.001985 216.555469 \nL 351.33712 213.093333 \nL 351.672255 213.327365 \nL 352.00739 211.905372 \nL 352.342525 213.209175 \nL 352.67766 212.455294 \nL 353.012796 208.419697 \nL 353.347931 208.203485 \nL 353.683066 207.749958 \nL 354.353336 202.854916 \nL 354.688471 202.565649 \nL 355.023606 202.850219 \nL 355.358742 203.32101 \nL 355.693877 206.635775 \nL 356.029012 208.640368 \nL 356.699282 214.49959 \nL 357.034417 213.992962 \nL 357.704688 217.622795 \nL 358.039823 217.028885 \nL 358.374958 215.842883 \nL 359.045228 209.899657 \nL 359.380363 207.457564 \nL 359.715498 207.257152 \nL 360.050633 207.368504 \nL 360.385769 208.152099 \nL 360.720904 209.373712 \nL 361.056039 207.153934 \nL 361.391174 207.332354 \nL 361.726309 203.739806 \nL 362.061444 203.965719 \nL 362.396579 204.568483 \nL 362.731715 204.239209 \nL 363.06685 202.47593 \nL 363.401985 201.769434 \nL 363.73712 201.899229 \nL 364.072255 203.393905 \nL 364.40739 201.716078 \nL 365.07766 200.980311 \nL 365.412796 199.138593 \nL 365.747931 201.022735 \nL 366.083066 200.416937 \nL 366.418201 199.194031 \nL 366.753336 196.650089 \nL 367.088471 198.189857 \nL 367.423606 199.06564 \nL 367.758742 199.090956 \nL 368.093877 195.646433 \nL 368.429012 197.458546 \nL 368.764147 197.489242 \nL 369.099282 198.815134 \nL 369.434417 199.104779 \nL 369.769552 198.514731 \nL 370.104688 197.208063 \nL 370.104688 197.208063 \n\" style=\"fill:none;stroke:#ff7f0e;stroke-linecap:square;stroke-width:1.5;\"/>\n   </g>\n   <g id=\"line2d_43\">\n    <path clip-path=\"url(#pe7e04aeb02)\" d=\"M 35.304688 95.211604 \nL 35.639823 98.110902 \nL 35.974958 99.389037 \nL 36.645228 96.810431 \nL 36.980363 97.513059 \nL 37.315498 96.792621 \nL 37.650633 95.065263 \nL 37.985769 91.88847 \nL 38.320904 93.218699 \nL 38.656039 90.965334 \nL 38.991174 95.181632 \nL 39.326309 95.671617 \nL 39.661444 93.527565 \nL 39.996579 93.277159 \nL 40.331715 97.335115 \nL 40.66685 95.360876 \nL 41.001985 89.769937 \nL 41.33712 90.00595 \nL 42.00739 87.335538 \nL 42.342525 87.200459 \nL 42.67766 83.357403 \nL 43.012796 85.165992 \nL 43.347931 88.012725 \nL 43.683066 85.764046 \nL 44.018201 86.721007 \nL 44.353336 83.896182 \nL 44.688471 82.783077 \nL 45.023606 85.450573 \nL 45.358742 81.94349 \nL 45.693877 83.09487 \nL 46.029012 85.186363 \nL 46.364147 86.284222 \nL 46.699282 86.414409 \nL 47.034417 89.750091 \nL 47.369552 90.115122 \nL 47.704688 91.871353 \nL 48.039823 89.307789 \nL 48.374958 89.983036 \nL 49.045228 89.135669 \nL 49.380363 91.92751 \nL 49.715498 91.530567 \nL 50.050633 89.634923 \nL 50.385769 89.992044 \nL 50.720904 91.767023 \nL 51.056039 87.516794 \nL 51.391174 86.854154 \nL 51.726309 85.638098 \nL 52.061444 89.974068 \nL 52.731715 81.623575 \nL 53.06685 82.589775 \nL 53.401985 86.387665 \nL 53.73712 86.040097 \nL 54.072255 89.002517 \nL 54.40739 90.646843 \nL 54.742525 87.103126 \nL 55.07766 90.751654 \nL 55.412796 89.463144 \nL 55.747931 87.074079 \nL 56.083066 89.516777 \nL 56.418201 88.086084 \nL 56.753336 88.074681 \nL 57.088471 90.352901 \nL 57.423606 89.920922 \nL 58.093877 91.319872 \nL 58.429012 93.466373 \nL 58.764147 92.502268 \nL 59.099282 92.396106 \nL 59.434417 88.950037 \nL 59.769552 87.670396 \nL 60.104687 89.316553 \nL 60.774958 85.223643 \nL 61.110093 85.042678 \nL 61.445228 83.073416 \nL 61.780363 82.537928 \nL 62.115498 86.038683 \nL 62.450633 85.528385 \nL 62.785769 87.162349 \nL 63.120904 85.640507 \nL 63.456039 88.121615 \nL 63.791174 88.941747 \nL 64.126309 88.228025 \nL 64.461444 87.82887 \nL 64.796579 90.347794 \nL 65.131715 88.78858 \nL 65.46685 89.512846 \nL 65.801985 88.046194 \nL 66.13712 84.576692 \nL 66.472255 84.074775 \nL 67.142525 87.724979 \nL 67.47766 90.954789 \nL 67.812796 90.853577 \nL 68.147931 89.891299 \nL 68.483066 90.891512 \nL 68.818201 92.680409 \nL 69.153336 96.52491 \nL 69.488471 98.703848 \nL 69.823606 98.168143 \nL 70.158742 94.327019 \nL 70.493877 93.52119 \nL 70.829012 93.291256 \nL 71.164147 92.14252 \nL 71.499282 94.604004 \nL 71.834417 93.459214 \nL 72.169552 90.40563 \nL 72.504687 92.357254 \nL 72.839823 88.291918 \nL 73.174958 89.01745 \nL 73.510093 89.326758 \nL 73.845228 85.321613 \nL 74.180363 82.85142 \nL 74.515498 84.488884 \nL 74.850633 87.080341 \nL 75.185769 87.432806 \nL 75.520904 87.423918 \nL 75.856039 86.929101 \nL 76.191174 83.682738 \nL 76.526309 82.086343 \nL 76.861444 82.091386 \nL 77.531715 78.204489 \nL 77.86685 78.422943 \nL 78.201985 78.265681 \nL 78.53712 76.700245 \nL 78.872255 78.513391 \nL 79.20739 83.022907 \nL 79.542525 80.141832 \nL 80.212796 78.213854 \nL 80.547931 75.991413 \nL 80.883066 76.099676 \nL 81.218201 77.389792 \nL 81.553336 77.33396 \nL 81.888471 75.181248 \nL 82.223606 76.367356 \nL 82.558742 74.132591 \nL 82.893877 72.894634 \nL 83.229012 72.686556 \nL 83.564147 67.404451 \nL 83.899282 67.07406 \nL 84.234417 67.351005 \nL 84.569552 67.913065 \nL 85.239823 64.93598 \nL 85.574958 68.710602 \nL 85.910093 65.07757 \nL 86.245228 63.485863 \nL 86.580363 63.582433 \nL 86.915498 60.231859 \nL 87.250633 59.872093 \nL 87.920904 55.496294 \nL 88.256039 56.725344 \nL 88.591174 56.539219 \nL 88.926309 60.257868 \nL 89.261444 60.570694 \nL 89.931715 57.20715 \nL 90.601985 55.929067 \nL 90.93712 51.030124 \nL 91.272255 53.48257 \nL 91.60739 53.433345 \nL 91.942525 50.192487 \nL 92.27766 49.792192 \nL 92.612796 49.711967 \nL 92.947931 45.691809 \nL 93.283066 44.885734 \nL 93.618201 47.502286 \nL 93.953336 47.154655 \nL 94.288471 49.229997 \nL 94.623606 50.570201 \nL 94.958742 48.571148 \nL 95.629012 52.580241 \nL 95.964147 50.258827 \nL 96.299282 51.01993 \nL 96.634417 50.55179 \nL 96.969552 48.819142 \nL 97.304688 50.967736 \nL 97.639823 51.822532 \nL 97.974958 53.184389 \nL 98.310093 53.452055 \nL 98.645228 56.104857 \nL 98.980363 56.856707 \nL 99.315498 56.746889 \nL 99.650633 59.436044 \nL 99.985769 58.171614 \nL 100.320904 58.492464 \nL 100.656039 57.571977 \nL 100.991174 61.533938 \nL 101.326309 58.620432 \nL 101.996579 62.68902 \nL 102.331715 61.416785 \nL 102.66685 61.65855 \nL 103.001985 57.830877 \nL 103.33712 55.632431 \nL 103.672255 57.322953 \nL 104.00739 57.470415 \nL 104.342525 62.557474 \nL 104.67766 61.208545 \nL 105.012796 64.655111 \nL 105.347931 65.300238 \nL 105.683066 64.859419 \nL 106.018201 66.890602 \nL 106.353336 67.447919 \nL 106.688471 64.700032 \nL 107.023606 60.39777 \nL 107.358742 59.474311 \nL 107.693877 60.306202 \nL 108.029012 61.778831 \nL 108.364147 60.114857 \nL 108.699282 63.572367 \nL 109.034417 65.650481 \nL 109.369552 66.262005 \nL 109.704688 69.465829 \nL 110.039823 71.141027 \nL 110.374958 69.972364 \nL 111.045228 71.830519 \nL 111.380363 73.214979 \nL 111.715498 71.847049 \nL 112.385769 75.977014 \nL 112.720904 73.335139 \nL 113.056039 73.710203 \nL 113.391174 72.493483 \nL 113.726309 74.395731 \nL 114.061444 72.543408 \nL 114.396579 77.47647 \nL 114.731715 74.287878 \nL 115.06685 75.81582 \nL 115.73712 74.185262 \nL 116.40739 68.219572 \nL 116.742525 68.478562 \nL 117.07766 72.187801 \nL 117.412796 69.76311 \nL 117.747931 69.575964 \nL 118.083066 67.634924 \nL 118.418201 67.918392 \nL 118.753336 66.429029 \nL 119.088471 67.551125 \nL 119.758742 66.718659 \nL 120.093877 61.802239 \nL 120.429012 60.604263 \nL 121.099282 55.618438 \nL 121.434417 50.604833 \nL 121.769552 48.771373 \nL 122.104687 48.242693 \nL 122.439823 49.182716 \nL 122.774958 49.486929 \nL 123.445228 47.665081 \nL 123.780363 48.900395 \nL 124.115498 48.960192 \nL 124.450633 49.446362 \nL 124.785769 49.354112 \nL 125.120904 49.682369 \nL 125.456039 50.685311 \nL 125.791174 53.926965 \nL 126.126309 53.375181 \nL 126.796579 53.159118 \nL 127.131715 50.799423 \nL 127.801985 54.113168 \nL 128.13712 53.257317 \nL 128.80739 50.918739 \nL 129.142525 53.021964 \nL 129.47766 50.95559 \nL 129.812796 52.841722 \nL 130.147931 52.908893 \nL 130.818201 56.930193 \nL 131.153336 58.111893 \nL 131.488471 60.885811 \nL 131.823606 62.659922 \nL 132.158742 61.843731 \nL 132.493877 64.692994 \nL 132.829012 63.073302 \nL 133.164147 62.439874 \nL 133.499282 60.07625 \nL 133.834417 61.051121 \nL 134.169552 63.156278 \nL 134.504687 63.231475 \nL 135.174958 66.800905 \nL 135.510093 70.150935 \nL 135.845228 70.292334 \nL 136.180363 67.986161 \nL 136.515498 71.928445 \nL 136.850633 72.693078 \nL 137.185769 70.513011 \nL 137.520904 72.489458 \nL 137.856039 68.974984 \nL 138.191174 67.832255 \nL 138.861444 65.084524 \nL 139.196579 64.357299 \nL 139.531715 65.369324 \nL 139.86685 67.334212 \nL 140.201985 67.727713 \nL 140.53712 65.826183 \nL 140.872255 62.630073 \nL 141.20739 64.341037 \nL 141.542525 66.633472 \nL 141.87766 67.58217 \nL 142.212796 63.310243 \nL 142.547931 60.670307 \nL 142.883066 61.241753 \nL 143.218201 62.240445 \nL 143.553336 56.281283 \nL 143.888471 56.710359 \nL 144.223606 60.991443 \nL 144.558742 60.8009 \nL 144.893877 60.888139 \nL 145.229012 60.059471 \nL 145.564147 57.331839 \nL 145.899282 57.130697 \nL 146.234417 53.563513 \nL 146.569552 54.314144 \nL 146.904687 52.523657 \nL 147.239823 52.6039 \nL 147.574958 49.389481 \nL 147.910093 52.768275 \nL 148.245228 52.370718 \nL 148.580363 53.720111 \nL 148.915498 53.821613 \nL 149.250633 52.018169 \nL 149.585769 53.782341 \nL 149.920904 51.431179 \nL 150.256039 55.6157 \nL 150.591174 56.436423 \nL 150.926309 52.33603 \nL 151.261444 50.197197 \nL 151.596579 49.905737 \nL 152.601985 58.138604 \nL 152.93712 57.246411 \nL 153.272255 59.357471 \nL 153.60739 55.302059 \nL 153.942525 52.889812 \nL 154.27766 53.685455 \nL 154.612796 53.486534 \nL 154.947931 52.900462 \nL 155.283066 53.924996 \nL 155.618201 52.434593 \nL 156.288471 55.9758 \nL 156.623606 52.818976 \nL 156.958742 51.222851 \nL 157.293877 53.203116 \nL 157.629012 56.156778 \nL 157.964147 53.841485 \nL 158.634417 54.859895 \nL 159.304688 52.680128 \nL 159.639823 51.561413 \nL 159.974958 55.090338 \nL 160.310093 52.59695 \nL 160.645228 53.79849 \nL 160.980363 49.669566 \nL 161.315498 50.073799 \nL 161.650633 45.184912 \nL 161.985769 43.762901 \nL 162.320904 43.058371 \nL 162.656039 43.876108 \nL 162.991174 44.397075 \nL 163.326309 43.697443 \nL 163.996579 39.730689 \nL 164.331715 42.451088 \nL 164.66685 39.103201 \nL 165.001985 40.360621 \nL 165.33712 42.073634 \nL 166.00739 40.17504 \nL 166.342525 41.033464 \nL 166.67766 38.636665 \nL 167.012796 40.657258 \nL 167.347931 41.939691 \nL 167.683066 41.008773 \nL 168.018201 42.186511 \nL 168.353336 42.360359 \nL 169.023606 43.005133 \nL 169.358742 44.658719 \nL 170.029012 51.252933 \nL 170.364147 49.645818 \nL 170.699282 51.96908 \nL 171.034417 48.657111 \nL 171.369552 51.497627 \nL 172.039823 48.968573 \nL 172.710093 52.204307 \nL 173.045228 56.412764 \nL 173.380363 57.896323 \nL 173.715498 55.073786 \nL 174.050633 57.642286 \nL 174.385769 58.993348 \nL 174.720904 55.51402 \nL 175.056039 53.82911 \nL 175.391174 57.676975 \nL 175.726309 57.649816 \nL 176.061444 56.754434 \nL 176.396579 59.273328 \nL 176.731715 59.035998 \nL 177.401985 61.076604 \nL 177.73712 59.291167 \nL 178.40739 53.843564 \nL 178.742525 54.02393 \nL 179.07766 54.902832 \nL 179.412796 56.66996 \nL 179.747931 52.951977 \nL 180.083066 54.681047 \nL 180.418201 52.020853 \nL 180.753336 52.998274 \nL 181.088471 53.131337 \nL 181.423606 53.619456 \nL 181.758742 51.473267 \nL 182.093877 52.793186 \nL 182.429012 52.424314 \nL 182.764147 55.293703 \nL 183.099282 50.410796 \nL 183.434417 49.144234 \nL 183.769552 51.033287 \nL 184.104687 49.888181 \nL 184.439823 49.206174 \nL 184.774958 49.133742 \nL 185.780363 43.2479 \nL 186.115498 43.820025 \nL 186.450633 41.37286 \nL 187.456039 44.916271 \nL 187.791174 43.694298 \nL 188.126309 44.250449 \nL 188.461444 43.509376 \nL 188.796579 44.73368 \nL 189.131715 43.370993 \nL 189.801985 47.946125 \nL 190.13712 44.997909 \nL 190.472255 47.088052 \nL 190.80739 47.275518 \nL 191.142525 50.081069 \nL 191.47766 46.903751 \nL 191.812796 46.806005 \nL 192.147931 45.042879 \nL 192.483066 40.879634 \nL 192.818201 42.13159 \nL 193.153336 38.404203 \nL 193.488471 37.33868 \nL 193.823606 41.095758 \nL 194.158742 39.646103 \nL 194.493877 37.698467 \nL 194.829012 42.011674 \nL 195.164147 39.92524 \nL 195.499282 40.539931 \nL 195.834417 42.950624 \nL 196.169552 41.57205 \nL 196.504687 45.638879 \nL 196.839823 47.153263 \nL 197.174958 53.034837 \nL 197.510093 53.648874 \nL 197.845228 52.911846 \nL 198.180363 48.908675 \nL 198.515498 49.38283 \nL 198.850633 48.275267 \nL 199.185769 46.321694 \nL 199.520904 51.992341 \nL 199.856039 51.310004 \nL 200.191174 48.733273 \nL 200.526309 51.897503 \nL 200.861444 50.365102 \nL 201.196579 47.102698 \nL 201.531715 51.095164 \nL 201.86685 50.888047 \nL 202.201985 50.336627 \nL 202.53712 48.994161 \nL 202.872255 52.152211 \nL 203.20739 52.90112 \nL 203.542525 52.597183 \nL 203.87766 51.844449 \nL 204.212796 49.299581 \nL 204.547931 51.267937 \nL 204.883066 49.949005 \nL 205.218201 50.778804 \nL 205.553336 50.529795 \nL 205.888471 50.843885 \nL 206.223606 54.658299 \nL 206.558742 55.551238 \nL 206.893877 54.070258 \nL 207.229012 55.53478 \nL 207.564147 57.930056 \nL 207.899282 56.312893 \nL 208.234417 56.071108 \nL 208.569552 55.267391 \nL 208.904687 54.92763 \nL 209.239823 51.438199 \nL 209.574958 50.578278 \nL 209.910093 51.439569 \nL 210.245228 50.066876 \nL 210.580363 49.792395 \nL 210.915498 53.9994 \nL 211.250633 53.916866 \nL 211.585769 54.288463 \nL 211.920904 53.009355 \nL 212.256039 55.420266 \nL 212.591174 54.341877 \nL 212.926309 59.154294 \nL 213.261444 58.512772 \nL 213.596579 60.077723 \nL 213.931715 60.355802 \nL 214.26685 64.906871 \nL 214.93712 58.787008 \nL 216.27766 64.063838 \nL 216.947931 68.322891 \nL 217.283066 66.682251 \nL 217.618201 67.682837 \nL 217.953336 67.823543 \nL 218.623606 64.766988 \nL 218.958742 61.458672 \nL 219.293877 61.989408 \nL 220.299282 59.029912 \nL 220.634417 63.049606 \nL 220.969552 58.149511 \nL 221.304688 60.551457 \nL 221.639823 58.97997 \nL 221.974958 58.720445 \nL 222.310093 53.829513 \nL 222.645228 54.372343 \nL 222.980363 55.277798 \nL 223.315498 53.019012 \nL 223.650633 53.37831 \nL 223.985769 52.41308 \nL 224.320904 48.108663 \nL 224.656039 47.570677 \nL 224.991174 45.221046 \nL 225.326309 47.382342 \nL 225.661444 43.977188 \nL 225.996579 46.80165 \nL 226.66685 38.895028 \nL 227.001985 39.900968 \nL 227.33712 36.813838 \nL 227.672255 38.96892 \nL 228.00739 39.636833 \nL 228.342525 37.090766 \nL 228.67766 36.689164 \nL 229.012796 35.331049 \nL 229.347931 36.030713 \nL 229.683066 33.892276 \nL 230.018201 32.547022 \nL 230.353336 33.723621 \nL 230.688471 32.923678 \nL 231.023606 33.406196 \nL 231.358742 34.318451 \nL 231.693877 38.55167 \nL 232.029012 36.358103 \nL 232.699282 30.439037 \nL 233.034417 28.89478 \nL 233.369552 30.205752 \nL 233.704688 34.819373 \nL 234.039823 36.687545 \nL 234.374958 33.42379 \nL 234.710093 36.391815 \nL 235.380363 36.24055 \nL 235.715498 33.44679 \nL 236.050633 33.777222 \nL 236.385769 37.770213 \nL 236.720904 35.145942 \nL 237.056039 39.002543 \nL 237.391174 35.707308 \nL 237.726309 34.457807 \nL 238.061444 37.669884 \nL 238.396579 37.880812 \nL 238.731715 37.350517 \nL 239.06685 38.341821 \nL 239.401985 37.975506 \nL 239.73712 36.542014 \nL 240.072255 35.987061 \nL 240.40739 40.204533 \nL 240.742525 39.54606 \nL 241.07766 34.701117 \nL 241.412796 34.012235 \nL 241.747931 32.294554 \nL 242.083066 32.405954 \nL 242.753336 34.066032 \nL 243.088471 30.771312 \nL 243.423606 29.989301 \nL 244.093877 38.796853 \nL 244.429012 38.137893 \nL 244.764147 39.772489 \nL 245.099282 40.53781 \nL 245.434417 42.744103 \nL 245.769552 39.492971 \nL 246.104687 43.273241 \nL 246.439823 43.625156 \nL 246.774958 41.454277 \nL 247.110093 43.6991 \nL 247.445228 47.50931 \nL 247.780363 49.808181 \nL 248.115498 49.416595 \nL 248.450633 49.426607 \nL 248.785769 52.128291 \nL 249.120904 51.560513 \nL 249.456039 51.908699 \nL 249.791174 52.79381 \nL 250.126309 47.564193 \nL 250.461444 45.148801 \nL 250.796579 46.597408 \nL 251.131715 50.210981 \nL 251.46685 48.474933 \nL 251.801985 48.326752 \nL 252.13712 46.691082 \nL 252.472255 47.323953 \nL 252.80739 50.54963 \nL 253.142525 51.438604 \nL 253.47766 56.540048 \nL 253.812796 57.391766 \nL 254.147931 55.489227 \nL 254.483066 59.837334 \nL 254.818201 61.93733 \nL 255.153336 58.762573 \nL 255.488471 57.559455 \nL 255.823606 60.157894 \nL 256.493877 58.313161 \nL 256.829012 58.690673 \nL 257.834417 67.782757 \nL 258.169552 64.725928 \nL 258.504687 65.649692 \nL 258.839823 67.209142 \nL 259.174958 65.583247 \nL 259.510093 65.8009 \nL 259.845228 64.387055 \nL 260.180363 64.604084 \nL 260.515498 66.453798 \nL 261.520904 62.136949 \nL 261.856039 62.962886 \nL 262.191174 62.408734 \nL 262.526309 60.443667 \nL 263.196579 57.892552 \nL 263.531715 55.084696 \nL 263.86685 56.522355 \nL 264.53712 62.704342 \nL 264.872255 64.483081 \nL 265.20739 64.419312 \nL 265.542525 64.238253 \nL 265.87766 60.289945 \nL 266.212796 60.860115 \nL 266.547931 65.482215 \nL 266.883066 67.745849 \nL 267.218201 66.788725 \nL 267.553336 67.833293 \nL 267.888471 70.707417 \nL 268.223606 69.744676 \nL 268.893877 68.893937 \nL 269.229012 68.523593 \nL 269.564147 67.561329 \nL 269.899282 67.619393 \nL 270.234417 66.934874 \nL 270.569552 67.760608 \nL 270.904687 69.95236 \nL 271.239823 74.510831 \nL 271.574958 75.807313 \nL 271.910093 74.746801 \nL 272.245228 74.741096 \nL 272.580363 72.636121 \nL 272.915498 72.474518 \nL 273.250633 74.272836 \nL 273.585769 72.831023 \nL 273.920904 72.453608 \nL 274.256039 73.808774 \nL 274.591174 71.699389 \nL 274.926309 66.357364 \nL 275.261444 64.083295 \nL 275.596579 66.953565 \nL 275.931715 66.212857 \nL 276.26685 67.224535 \nL 276.601985 67.825183 \nL 276.93712 66.993224 \nL 277.942525 62.118224 \nL 278.27766 65.809233 \nL 278.612796 65.645155 \nL 279.618201 61.953151 \nL 279.953336 58.179827 \nL 280.288471 56.349602 \nL 280.623606 57.023474 \nL 280.958742 52.16877 \nL 281.293877 52.040199 \nL 281.629012 50.722536 \nL 282.634417 55.79695 \nL 282.969552 56.752343 \nL 283.304688 54.102272 \nL 283.639823 53.110059 \nL 283.974958 50.479362 \nL 284.310093 49.184479 \nL 284.645228 52.664691 \nL 284.980363 52.858208 \nL 285.315498 51.66642 \nL 285.650633 51.190766 \nL 285.985769 52.243843 \nL 286.320904 51.437744 \nL 286.656039 54.11843 \nL 286.991174 54.740756 \nL 287.326309 56.466562 \nL 287.661444 57.302033 \nL 287.996579 58.625998 \nL 288.331715 54.836215 \nL 288.66685 53.074964 \nL 289.001985 50.507815 \nL 289.33712 50.633439 \nL 289.672255 52.971167 \nL 290.00739 50.811775 \nL 290.342525 50.535553 \nL 290.67766 52.961168 \nL 291.012796 48.479914 \nL 291.347931 45.959954 \nL 291.683066 45.239091 \nL 292.353336 39.263236 \nL 292.688471 39.674844 \nL 293.023606 41.221079 \nL 293.358742 39.988073 \nL 294.029012 43.084748 \nL 294.699282 44.45755 \nL 295.034417 44.524072 \nL 295.369552 42.832405 \nL 295.704688 45.542095 \nL 296.039823 49.687121 \nL 296.710093 49.185193 \nL 297.045228 47.211764 \nL 297.380363 47.944957 \nL 297.715498 50.059493 \nL 298.385769 55.798239 \nL 298.720904 55.753431 \nL 299.056039 55.860885 \nL 299.391174 56.393084 \nL 299.726309 57.172147 \nL 300.061444 56.659056 \nL 300.396579 59.860227 \nL 300.731715 61.130204 \nL 301.06685 65.852819 \nL 301.401985 64.151967 \nL 301.73712 66.438122 \nL 302.072255 67.022366 \nL 302.40739 69.403949 \nL 302.742525 69.658024 \nL 303.07766 73.358405 \nL 303.412796 70.697275 \nL 303.747931 75.119757 \nL 304.418201 72.209234 \nL 304.753336 72.00166 \nL 305.758742 79.312325 \nL 306.093877 78.360747 \nL 306.429012 77.760567 \nL 306.764147 81.377466 \nL 307.099282 81.049304 \nL 307.434417 78.140712 \nL 307.769552 78.965675 \nL 308.104688 80.914224 \nL 308.439823 81.104371 \nL 308.774958 78.915403 \nL 309.110093 81.292861 \nL 309.445228 82.243078 \nL 309.780363 80.318301 \nL 310.115498 85.343821 \nL 310.450633 84.73393 \nL 310.785769 82.285673 \nL 311.120904 82.184908 \nL 311.456039 80.939332 \nL 311.791174 78.663279 \nL 312.126309 75.12205 \nL 312.461444 75.291721 \nL 312.796579 71.141281 \nL 313.131715 69.861761 \nL 313.46685 67.25144 \nL 314.13712 69.376139 \nL 314.472255 70.243993 \nL 314.80739 71.690063 \nL 315.142525 71.081175 \nL 315.47766 65.841258 \nL 315.812796 64.788859 \nL 316.147931 65.86689 \nL 316.818201 69.118576 \nL 317.488471 65.756888 \nL 317.823606 66.092075 \nL 318.158742 64.526925 \nL 318.493877 66.178095 \nL 318.829012 66.159611 \nL 319.164147 64.08239 \nL 319.499282 63.93407 \nL 319.834417 64.022447 \nL 320.169552 66.818591 \nL 320.504687 70.90904 \nL 320.839823 71.081869 \nL 321.174958 76.607485 \nL 322.180363 78.95796 \nL 322.515498 76.414719 \nL 322.850633 77.335027 \nL 323.185769 81.864764 \nL 323.520904 81.410983 \nL 323.856039 83.131552 \nL 324.191174 82.726645 \nL 324.526309 80.398203 \nL 324.861444 81.439123 \nL 325.196579 82.901765 \nL 325.531715 82.077726 \nL 325.86685 77.198657 \nL 326.201985 74.963381 \nL 326.53712 74.85404 \nL 327.20739 70.356145 \nL 327.542525 69.122776 \nL 327.87766 66.865289 \nL 328.212796 66.676325 \nL 328.547931 68.213722 \nL 328.883066 65.092585 \nL 329.218201 64.942403 \nL 329.553336 66.223714 \nL 329.888471 64.327778 \nL 330.223606 67.532657 \nL 330.558742 67.380596 \nL 330.893877 67.086191 \nL 331.229012 67.687084 \nL 331.564147 69.547875 \nL 331.899282 69.831875 \nL 332.234417 71.717909 \nL 332.569552 67.554276 \nL 332.904687 69.114123 \nL 333.239823 68.483557 \nL 333.574958 66.691662 \nL 333.910093 66.845724 \nL 334.245228 66.426516 \nL 334.580363 66.624599 \nL 334.915498 68.02299 \nL 335.250633 68.744041 \nL 335.585769 67.948451 \nL 335.920904 65.994257 \nL 336.591174 70.603187 \nL 336.926309 67.634552 \nL 337.261444 67.711873 \nL 337.596579 68.409874 \nL 337.931715 70.655134 \nL 338.26685 71.364572 \nL 338.601985 71.216828 \nL 338.93712 71.911932 \nL 339.272255 74.309554 \nL 339.60739 74.142494 \nL 339.942525 75.995584 \nL 340.27766 75.634829 \nL 340.612796 78.112074 \nL 340.947931 77.479545 \nL 341.283066 80.683876 \nL 341.618201 78.349483 \nL 341.953336 81.843382 \nL 342.288471 79.797389 \nL 342.623606 79.083473 \nL 342.958742 77.617482 \nL 343.293877 79.004237 \nL 343.629012 74.800606 \nL 344.299282 81.88365 \nL 344.634417 81.125697 \nL 344.969552 83.140307 \nL 345.304688 82.358495 \nL 345.639823 85.223164 \nL 345.974958 86.753066 \nL 346.310093 87.00149 \nL 346.645228 86.849669 \nL 346.980363 88.144302 \nL 347.315498 84.677991 \nL 347.650633 85.954441 \nL 348.320904 81.016301 \nL 348.656039 81.367776 \nL 348.991174 83.361576 \nL 349.326309 89.986806 \nL 349.661444 88.607219 \nL 349.996579 88.753566 \nL 350.331715 91.257446 \nL 350.66685 92.628157 \nL 351.001985 89.541959 \nL 351.33712 89.13152 \nL 351.672255 89.572107 \nL 352.00739 92.130184 \nL 352.342525 87.146064 \nL 352.67766 86.757275 \nL 353.012796 87.791307 \nL 353.347931 89.678436 \nL 353.683066 88.685399 \nL 354.018201 88.732355 \nL 354.353336 91.509222 \nL 354.688471 90.34239 \nL 355.023606 88.313695 \nL 355.358742 89.552744 \nL 355.693877 87.213935 \nL 356.029012 89.064131 \nL 356.364147 86.048691 \nL 356.699282 86.929921 \nL 357.034417 87.050424 \nL 357.369552 86.908826 \nL 357.704688 87.507799 \nL 358.039823 86.254767 \nL 358.374958 84.392752 \nL 358.710093 81.751533 \nL 359.045228 81.76804 \nL 359.380363 81.993314 \nL 359.715498 80.958186 \nL 360.050633 78.748763 \nL 360.385769 73.5597 \nL 360.720904 74.991741 \nL 361.056039 75.124611 \nL 361.726309 76.358934 \nL 362.061444 73.96964 \nL 362.396579 66.28971 \nL 362.731715 65.467166 \nL 363.06685 62.763159 \nL 363.401985 61.345654 \nL 363.73712 60.820458 \nL 364.072255 60.937304 \nL 364.40739 58.270056 \nL 364.742525 58.349301 \nL 365.07766 62.083059 \nL 365.412796 60.964305 \nL 365.747931 62.219687 \nL 366.083066 61.874779 \nL 366.418201 61.326057 \nL 366.753336 57.404566 \nL 367.088471 57.875479 \nL 367.423606 59.536222 \nL 367.758742 53.352651 \nL 368.093877 51.093135 \nL 368.429012 49.644391 \nL 369.099282 54.223305 \nL 369.434417 52.36318 \nL 369.769552 52.543201 \nL 370.104688 52.464923 \nL 370.104688 52.464923 \n\" style=\"fill:none;stroke:#2ca02c;stroke-linecap:square;stroke-width:1.5;\"/>\n   </g>\n   <g id=\"line2d_44\">\n    <path clip-path=\"url(#pe7e04aeb02)\" d=\"M 35.304688 91.507704 \nL 35.639823 92.700733 \nL 35.974958 92.246764 \nL 36.310093 92.523598 \nL 36.645228 89.212432 \nL 36.980363 94.09193 \nL 37.315498 91.626778 \nL 37.650633 91.627187 \nL 37.985769 94.037214 \nL 38.320904 94.293085 \nL 38.656039 93.508413 \nL 38.991174 96.852766 \nL 39.326309 96.491384 \nL 39.661444 93.839976 \nL 39.996579 93.564016 \nL 40.331715 93.690695 \nL 41.001985 94.10953 \nL 41.33712 92.843502 \nL 41.672255 92.100901 \nL 42.00739 92.693424 \nL 42.342525 96.501976 \nL 42.67766 93.74587 \nL 43.012796 92.312465 \nL 43.683066 90.918765 \nL 44.018201 92.21699 \nL 44.353336 91.176992 \nL 44.688471 93.420805 \nL 45.023606 94.142108 \nL 45.358742 93.139199 \nL 45.693877 91.69129 \nL 46.029012 94.503528 \nL 46.364147 92.982429 \nL 46.699282 90.769984 \nL 47.034417 92.343588 \nL 47.369552 91.752659 \nL 47.704688 91.682573 \nL 48.039823 87.750393 \nL 48.374958 89.962745 \nL 48.710093 88.703118 \nL 49.045228 91.196536 \nL 49.380363 92.401425 \nL 49.715498 88.396315 \nL 50.050633 90.521172 \nL 50.385769 91.675012 \nL 50.720904 91.307 \nL 51.056039 87.224936 \nL 51.391174 88.077291 \nL 51.726309 90.877513 \nL 52.061444 89.462014 \nL 52.396579 91.236756 \nL 52.731715 87.67222 \nL 53.06685 87.192621 \nL 53.401985 88.283347 \nL 53.73712 88.74895 \nL 54.072255 89.489933 \nL 54.40739 91.371108 \nL 54.742525 89.459624 \nL 55.07766 89.240274 \nL 55.412796 90.623744 \nL 55.747931 91.295294 \nL 56.083066 88.870632 \nL 56.753336 93.568294 \nL 57.088471 91.418021 \nL 57.423606 93.095496 \nL 57.758742 91.280583 \nL 58.093877 93.537533 \nL 58.429012 93.54325 \nL 58.764147 93.98661 \nL 59.434417 93.369146 \nL 59.769552 92.629899 \nL 60.439823 87.777851 \nL 61.110093 82.76572 \nL 61.445228 83.012907 \nL 61.780363 85.726423 \nL 62.115498 84.884639 \nL 62.450633 87.549152 \nL 62.785769 87.063535 \nL 63.120904 89.057361 \nL 63.456039 87.554403 \nL 63.791174 89.215952 \nL 64.126309 84.220115 \nL 64.461444 81.51999 \nL 64.796579 81.357731 \nL 65.131715 79.87698 \nL 65.46685 81.170985 \nL 65.801985 81.933261 \nL 66.13712 82.157875 \nL 66.472255 82.12881 \nL 66.80739 81.443016 \nL 67.142525 79.141173 \nL 67.47766 75.684806 \nL 67.812796 77.149302 \nL 68.147931 77.882261 \nL 68.483066 83.43058 \nL 68.818201 81.4934 \nL 69.153336 81.869896 \nL 69.488471 82.935459 \nL 69.823606 85.952533 \nL 70.158742 90.069329 \nL 70.493877 89.295441 \nL 70.829012 90.913143 \nL 71.164147 90.832055 \nL 71.499282 91.951766 \nL 71.834417 92.50232 \nL 72.169552 89.852854 \nL 72.504687 90.366195 \nL 72.839823 88.966241 \nL 73.174958 85.337824 \nL 73.845228 88.934441 \nL 74.180363 88.074399 \nL 74.515498 84.871063 \nL 75.185769 85.220222 \nL 75.520904 84.983683 \nL 75.856039 82.985096 \nL 76.526309 87.613777 \nL 76.861444 92.464217 \nL 77.531715 88.689824 \nL 77.86685 92.159233 \nL 78.201985 94.191129 \nL 78.53712 93.326902 \nL 78.872255 92.887589 \nL 79.20739 93.981087 \nL 79.87766 89.265344 \nL 80.212796 91.252111 \nL 80.547931 87.481864 \nL 80.883066 87.522239 \nL 81.218201 85.959585 \nL 81.553336 87.846469 \nL 81.888471 92.748672 \nL 82.223606 91.344929 \nL 82.558742 92.172293 \nL 82.893877 91.772853 \nL 83.229012 86.650899 \nL 83.564147 86.064092 \nL 83.899282 85.172628 \nL 84.569552 82.507672 \nL 84.904687 82.072484 \nL 85.239823 79.13819 \nL 85.574958 81.810449 \nL 85.910093 81.434184 \nL 86.245228 79.611688 \nL 86.580363 78.760038 \nL 86.915498 81.309293 \nL 87.920904 76.948611 \nL 88.256039 75.61446 \nL 88.591174 75.718673 \nL 88.926309 79.707641 \nL 89.261444 78.974259 \nL 89.596579 77.753458 \nL 90.26685 80.407023 \nL 90.601985 78.923053 \nL 90.93712 81.512124 \nL 91.272255 86.061983 \nL 91.60739 85.244561 \nL 91.942525 87.064848 \nL 92.27766 86.984533 \nL 92.612796 83.231707 \nL 92.947931 82.749994 \nL 93.283066 80.627452 \nL 93.618201 79.342981 \nL 93.953336 77.32533 \nL 94.288471 78.680224 \nL 94.623606 77.013382 \nL 95.293877 72.734978 \nL 95.629012 68.48158 \nL 95.964147 66.310693 \nL 96.634417 69.705156 \nL 97.639823 60.197322 \nL 97.974958 59.720155 \nL 98.310093 59.817959 \nL 98.645228 61.240716 \nL 99.315498 68.341186 \nL 99.650633 69.535273 \nL 99.985769 72.759626 \nL 100.320904 73.332408 \nL 100.656039 70.660863 \nL 100.991174 72.730642 \nL 101.661444 72.792878 \nL 101.996579 75.183789 \nL 102.331715 75.516564 \nL 102.66685 76.244639 \nL 103.001985 77.802381 \nL 104.00739 73.174496 \nL 104.67766 68.477417 \nL 105.012796 71.78318 \nL 105.683066 70.527934 \nL 106.018201 73.884327 \nL 106.353336 71.721084 \nL 106.688471 71.880211 \nL 107.023606 75.277647 \nL 107.358742 75.285747 \nL 108.029012 76.927988 \nL 108.699282 77.095323 \nL 109.034417 76.002858 \nL 109.369552 79.659471 \nL 109.704688 79.530827 \nL 110.039823 79.107828 \nL 110.374958 76.898301 \nL 111.045228 81.653114 \nL 111.380363 81.488086 \nL 111.715498 83.88276 \nL 112.050633 85.396172 \nL 112.385769 83.885602 \nL 112.720904 83.104908 \nL 113.056039 83.014665 \nL 113.391174 80.044855 \nL 113.726309 80.589948 \nL 114.396579 76.886858 \nL 115.06685 80.788963 \nL 115.401985 78.382874 \nL 115.73712 82.203885 \nL 116.40739 76.437768 \nL 116.742525 75.469098 \nL 117.07766 76.739076 \nL 117.412796 78.909838 \nL 117.747931 80.321364 \nL 118.083066 79.515818 \nL 118.418201 80.374677 \nL 118.753336 79.120006 \nL 119.088471 76.536074 \nL 119.423606 77.989073 \nL 119.758742 76.631112 \nL 120.093877 76.420373 \nL 120.429012 72.619526 \nL 120.764147 78.222444 \nL 121.099282 81.024411 \nL 121.769552 88.087354 \nL 122.104687 87.512351 \nL 122.439823 83.813928 \nL 122.774958 82.509943 \nL 123.110093 82.406081 \nL 123.780363 87.091211 \nL 124.115498 87.521693 \nL 124.450633 91.144584 \nL 124.785769 89.5968 \nL 125.120904 89.694943 \nL 125.456039 90.65052 \nL 126.126309 93.595424 \nL 126.461444 94.772317 \nL 126.796579 95.073404 \nL 127.131715 97.130329 \nL 127.46685 94.716191 \nL 127.801985 97.2657 \nL 128.13712 98.600232 \nL 128.80739 94.539467 \nL 129.142525 95.468675 \nL 129.47766 94.939299 \nL 130.147931 90.455546 \nL 130.483066 89.523972 \nL 130.818201 87.196047 \nL 131.488471 84.703076 \nL 131.823606 84.731165 \nL 132.158742 84.962658 \nL 132.493877 84.884578 \nL 132.829012 86.111624 \nL 133.164147 89.561116 \nL 133.499282 86.581983 \nL 133.834417 86.312564 \nL 134.169552 86.226562 \nL 134.504687 86.564611 \nL 134.839823 88.541266 \nL 135.174958 87.516792 \nL 135.510093 84.586298 \nL 135.845228 86.526501 \nL 136.180363 83.416377 \nL 136.515498 86.027369 \nL 136.850633 87.389654 \nL 137.185769 87.431311 \nL 137.520904 88.444119 \nL 137.856039 91.252818 \nL 138.191174 92.203088 \nL 138.526309 91.685822 \nL 138.861444 92.403942 \nL 139.196579 93.891077 \nL 139.531715 94.387792 \nL 139.86685 92.422076 \nL 140.201985 97.718727 \nL 140.53712 97.176581 \nL 140.872255 95.640444 \nL 141.20739 88.773342 \nL 141.542525 87.28596 \nL 141.87766 87.324058 \nL 142.212796 87.090837 \nL 142.547931 83.380653 \nL 142.883066 82.044427 \nL 143.218201 86.051473 \nL 143.553336 84.821522 \nL 143.888471 84.996582 \nL 144.223606 81.34176 \nL 144.558742 80.647798 \nL 144.893877 78.734342 \nL 145.229012 78.255235 \nL 145.564147 78.474045 \nL 145.899282 80.468119 \nL 146.234417 79.660987 \nL 146.569552 79.626839 \nL 146.904687 80.24235 \nL 147.574958 82.881473 \nL 147.910093 81.35902 \nL 148.580363 85.967192 \nL 148.915498 90.37885 \nL 149.585769 93.461338 \nL 149.920904 92.402621 \nL 150.256039 90.523323 \nL 150.591174 92.217457 \nL 150.926309 91.673069 \nL 151.261444 89.680179 \nL 151.596579 89.174864 \nL 151.931715 92.373724 \nL 152.26685 93.26777 \nL 152.93712 99.001748 \nL 153.272255 98.16291 \nL 153.60739 99.266356 \nL 153.942525 101.876319 \nL 154.27766 98.835003 \nL 154.612796 98.524942 \nL 154.947931 96.998802 \nL 155.283066 99.074114 \nL 155.618201 99.404484 \nL 155.953336 102.252038 \nL 156.288471 101.715098 \nL 156.958742 97.903684 \nL 157.293877 98.500706 \nL 157.629012 94.69975 \nL 157.964147 92.440293 \nL 158.634417 89.19729 \nL 158.969552 91.179337 \nL 159.304688 92.219813 \nL 159.974958 95.419091 \nL 160.310093 92.236272 \nL 160.645228 93.365548 \nL 160.980363 92.280074 \nL 161.315498 92.077092 \nL 161.650633 92.041205 \nL 161.985769 93.741758 \nL 162.320904 94.554484 \nL 162.656039 94.44771 \nL 162.991174 95.394199 \nL 163.326309 92.822411 \nL 163.661444 97.053642 \nL 163.996579 92.628147 \nL 164.66685 94.209086 \nL 165.001985 93.945379 \nL 165.33712 92.165847 \nL 165.672255 93.726199 \nL 166.00739 91.495498 \nL 166.342525 92.708331 \nL 166.67766 97.604483 \nL 167.012796 93.182233 \nL 167.683066 92.861265 \nL 168.018201 97.121591 \nL 168.353336 92.173081 \nL 168.688471 92.51186 \nL 169.023606 95.12206 \nL 169.358742 95.179675 \nL 169.693877 97.375662 \nL 170.029012 95.315847 \nL 170.364147 94.734812 \nL 171.034417 98.16159 \nL 171.704688 100.233545 \nL 172.039823 100.46102 \nL 172.374958 100.851693 \nL 172.710093 98.663455 \nL 173.045228 101.643339 \nL 173.380363 96.053116 \nL 173.715498 97.289126 \nL 174.050633 95.473093 \nL 174.385769 95.25378 \nL 174.720904 97.803022 \nL 175.056039 96.893072 \nL 175.391174 97.031348 \nL 175.726309 93.985367 \nL 176.061444 96.833343 \nL 176.396579 96.164261 \nL 176.731715 97.054967 \nL 177.401985 96.364279 \nL 177.73712 98.246709 \nL 178.072255 98.780905 \nL 178.40739 97.735137 \nL 178.742525 99.827562 \nL 179.07766 101.046272 \nL 179.747931 97.611357 \nL 180.083066 96.837948 \nL 180.418201 96.603313 \nL 180.753336 97.39493 \nL 181.088471 102.818787 \nL 181.423606 102.893943 \nL 181.758742 108.583171 \nL 182.093877 105.70256 \nL 182.429012 106.293068 \nL 182.764147 102.992235 \nL 183.099282 101.922344 \nL 183.434417 101.288796 \nL 183.769552 101.337651 \nL 184.104687 102.411784 \nL 184.439823 98.719306 \nL 184.774958 103.098577 \nL 185.110093 102.103983 \nL 185.445228 103.159026 \nL 185.780363 100.220134 \nL 186.115498 101.711088 \nL 186.450633 102.395752 \nL 186.785769 106.545417 \nL 187.120904 108.123831 \nL 187.456039 109.000887 \nL 187.791174 107.874436 \nL 188.461444 101.339811 \nL 188.796579 99.435863 \nL 189.131715 102.347861 \nL 189.46685 103.048516 \nL 189.801985 105.03025 \nL 190.13712 104.318927 \nL 190.80739 107.011974 \nL 191.142525 105.29657 \nL 191.812796 106.661444 \nL 192.483066 109.257942 \nL 192.818201 107.13183 \nL 193.153336 107.095899 \nL 193.823606 109.395158 \nL 194.158742 108.671921 \nL 194.493877 110.888558 \nL 194.829012 109.188332 \nL 195.164147 108.548822 \nL 195.499282 108.524165 \nL 195.834417 109.263172 \nL 196.169552 109.50616 \nL 196.504687 111.253594 \nL 196.839823 108.654288 \nL 197.174958 110.401181 \nL 197.510093 111.369753 \nL 197.845228 110.388145 \nL 198.515498 113.588643 \nL 198.850633 110.892533 \nL 199.185769 110.89065 \nL 199.520904 108.396158 \nL 199.856039 109.974702 \nL 200.526309 107.263106 \nL 200.861444 108.582127 \nL 201.196579 105.668062 \nL 201.531715 106.946128 \nL 201.86685 105.988366 \nL 202.201985 105.807227 \nL 202.53712 107.132457 \nL 202.872255 110.139158 \nL 203.20739 114.861895 \nL 203.542525 117.159688 \nL 203.87766 115.459425 \nL 204.212796 114.563802 \nL 204.547931 117.390618 \nL 204.883066 115.271025 \nL 205.553336 119.799543 \nL 205.888471 119.649287 \nL 206.223606 119.868906 \nL 206.558742 116.749567 \nL 206.893877 119.697115 \nL 207.229012 117.495905 \nL 207.564147 118.08266 \nL 207.899282 119.637002 \nL 208.234417 119.895974 \nL 208.569552 122.313319 \nL 208.904687 117.904651 \nL 209.239823 119.05996 \nL 209.574958 119.157313 \nL 209.910093 117.926561 \nL 210.245228 119.202499 \nL 210.915498 114.83779 \nL 211.585769 117.353395 \nL 211.920904 117.636103 \nL 212.591174 116.556326 \nL 212.926309 118.670921 \nL 213.261444 116.901958 \nL 213.596579 116.49457 \nL 213.931715 112.400987 \nL 214.26685 115.737162 \nL 214.601985 115.181217 \nL 214.93712 113.964903 \nL 215.60739 112.545186 \nL 215.942525 114.593464 \nL 216.27766 112.443218 \nL 216.612796 115.889537 \nL 216.947931 116.279218 \nL 217.618201 113.916215 \nL 217.953336 113.325263 \nL 218.288471 112.329198 \nL 218.623606 115.690426 \nL 218.958742 117.567215 \nL 219.293877 114.474567 \nL 219.629012 113.547701 \nL 219.964147 114.645531 \nL 220.299282 116.832183 \nL 220.634417 117.270676 \nL 220.969552 116.282113 \nL 221.304688 114.364977 \nL 221.639823 115.004894 \nL 221.974958 114.301481 \nL 222.310093 112.703564 \nL 222.645228 112.046428 \nL 222.980363 111.877644 \nL 223.315498 111.442217 \nL 223.650633 113.934273 \nL 223.985769 113.807811 \nL 224.320904 110.301504 \nL 224.656039 114.295031 \nL 224.991174 115.139572 \nL 225.326309 118.589786 \nL 225.661444 118.654675 \nL 225.996579 120.501402 \nL 226.331715 120.799094 \nL 226.66685 119.773757 \nL 227.001985 119.206118 \nL 227.33712 119.143876 \nL 227.672255 118.565357 \nL 228.00739 118.269901 \nL 228.342525 118.953971 \nL 228.67766 119.352277 \nL 229.012796 118.807902 \nL 229.347931 116.039258 \nL 229.683066 116.78654 \nL 230.018201 114.201117 \nL 230.353336 116.441016 \nL 230.688471 113.556405 \nL 231.023606 111.822083 \nL 231.358742 113.256681 \nL 231.693877 110.832852 \nL 232.029012 111.042588 \nL 232.364147 110.031545 \nL 232.699282 109.910508 \nL 233.034417 111.445591 \nL 233.369552 107.44282 \nL 233.704688 109.032776 \nL 234.039823 108.143018 \nL 234.374958 109.430769 \nL 234.710093 109.517729 \nL 235.380363 105.914956 \nL 235.715498 105.283483 \nL 236.050633 105.031671 \nL 236.385769 105.614569 \nL 236.720904 107.483521 \nL 237.056039 105.478003 \nL 237.391174 105.603885 \nL 237.726309 103.846496 \nL 238.061444 100.087678 \nL 238.396579 98.4373 \nL 238.731715 101.175225 \nL 239.06685 97.00154 \nL 239.401985 95.658527 \nL 239.73712 91.862075 \nL 240.072255 92.019213 \nL 240.40739 88.458635 \nL 240.742525 89.243642 \nL 241.07766 87.450358 \nL 241.412796 83.250098 \nL 241.747931 84.96198 \nL 242.083066 89.467648 \nL 242.418201 86.810564 \nL 242.753336 89.974342 \nL 243.088471 90.330146 \nL 243.423606 90.49204 \nL 243.758742 93.417426 \nL 244.093877 92.328427 \nL 244.429012 93.697666 \nL 244.764147 93.386892 \nL 245.434417 92.09159 \nL 245.769552 88.67163 \nL 246.439823 95.215962 \nL 246.774958 99.496874 \nL 247.110093 96.849168 \nL 247.445228 96.810756 \nL 247.780363 95.922897 \nL 248.115498 97.150735 \nL 248.450633 95.473159 \nL 248.785769 96.310829 \nL 249.120904 95.167312 \nL 249.456039 91.279561 \nL 249.791174 90.564468 \nL 250.126309 93.353837 \nL 250.461444 94.356231 \nL 251.131715 92.374183 \nL 251.46685 93.524942 \nL 251.801985 97.407303 \nL 252.13712 97.778628 \nL 252.472255 99.375554 \nL 252.80739 98.254823 \nL 253.142525 97.651233 \nL 253.47766 98.543493 \nL 253.812796 96.488358 \nL 254.147931 95.376022 \nL 254.483066 98.507901 \nL 254.818201 96.845379 \nL 255.153336 98.14402 \nL 255.823606 102.317773 \nL 256.158742 99.623658 \nL 256.493877 99.504684 \nL 256.829012 98.461149 \nL 257.164147 101.565122 \nL 257.499282 100.836546 \nL 258.169552 101.669755 \nL 258.504687 102.493117 \nL 258.839823 100.755963 \nL 259.174958 102.658169 \nL 259.510093 101.025975 \nL 259.845228 103.871283 \nL 260.180363 103.717789 \nL 260.515498 102.185061 \nL 260.850633 101.926305 \nL 261.185769 98.891771 \nL 261.520904 99.7771 \nL 261.856039 96.849633 \nL 262.526309 98.005243 \nL 262.861444 99.346364 \nL 263.196579 96.728517 \nL 263.531715 95.699399 \nL 263.86685 97.082115 \nL 264.201985 97.231997 \nL 264.53712 96.983149 \nL 264.872255 94.988725 \nL 265.20739 95.234841 \nL 265.542525 93.507258 \nL 265.87766 90.768754 \nL 266.212796 91.417762 \nL 266.547931 89.041682 \nL 266.883066 89.266152 \nL 267.218201 90.525208 \nL 267.553336 87.511967 \nL 267.888471 91.384913 \nL 268.223606 88.281328 \nL 268.558742 91.048289 \nL 268.893877 86.771069 \nL 269.229012 86.354784 \nL 269.564147 84.550251 \nL 269.899282 84.421215 \nL 270.569552 83.273275 \nL 270.904687 79.843241 \nL 271.574958 79.343434 \nL 271.910093 80.577459 \nL 272.245228 79.587579 \nL 272.580363 80.757599 \nL 272.915498 78.944594 \nL 273.250633 78.176156 \nL 273.585769 79.893088 \nL 273.920904 77.469555 \nL 274.256039 79.688138 \nL 274.591174 82.744921 \nL 274.926309 82.196213 \nL 275.261444 83.168917 \nL 275.596579 85.030118 \nL 275.931715 85.539419 \nL 276.26685 84.953215 \nL 276.601985 83.949168 \nL 276.93712 84.012489 \nL 277.272255 85.938068 \nL 277.60739 83.721244 \nL 277.942525 83.281558 \nL 278.27766 83.944589 \nL 278.612796 80.753716 \nL 278.947931 80.669634 \nL 279.618201 89.123317 \nL 279.953336 87.435589 \nL 280.288471 84.601915 \nL 280.623606 80.295521 \nL 280.958742 79.131132 \nL 281.293877 82.305091 \nL 281.964147 83.257516 \nL 282.299282 80.47196 \nL 282.634417 81.720418 \nL 282.969552 79.947364 \nL 283.304688 80.891618 \nL 283.639823 82.493259 \nL 283.974958 81.640645 \nL 284.310093 83.573297 \nL 284.645228 81.432716 \nL 284.980363 82.623306 \nL 285.315498 82.489351 \nL 285.650633 83.160802 \nL 285.985769 81.707888 \nL 286.320904 79.347119 \nL 286.656039 79.370279 \nL 287.326309 75.498814 \nL 287.661444 78.832232 \nL 287.996579 78.120357 \nL 288.66685 85.486548 \nL 289.001985 85.267683 \nL 289.33712 87.197121 \nL 289.672255 86.236537 \nL 290.00739 87.150862 \nL 290.67766 90.998612 \nL 291.012796 90.929876 \nL 291.347931 92.294008 \nL 291.683066 88.598492 \nL 292.018201 91.593807 \nL 292.353336 91.91156 \nL 293.023606 96.195263 \nL 293.358742 97.428849 \nL 293.693877 101.091505 \nL 294.029012 101.610253 \nL 294.364147 100.471321 \nL 294.699282 98.612947 \nL 296.039823 107.210614 \nL 296.374958 107.875509 \nL 296.710093 110.486928 \nL 297.045228 107.958213 \nL 297.380363 108.982531 \nL 298.050633 107.496364 \nL 298.385769 109.79589 \nL 299.056039 103.009287 \nL 299.391174 106.809068 \nL 299.726309 107.225415 \nL 300.731715 114.55439 \nL 301.06685 111.610215 \nL 301.401985 112.402145 \nL 301.73712 110.978206 \nL 302.072255 118.488047 \nL 302.40739 120.122147 \nL 303.07766 121.175893 \nL 303.412796 121.272949 \nL 304.083066 117.855365 \nL 304.418201 117.909549 \nL 304.753336 116.511542 \nL 305.088471 116.420144 \nL 305.423606 114.052716 \nL 305.758742 116.933487 \nL 306.429012 117.63888 \nL 306.764147 116.471351 \nL 307.099282 115.936211 \nL 307.434417 114.384128 \nL 307.769552 114.665743 \nL 308.439823 113.722505 \nL 309.110093 113.236659 \nL 309.445228 113.912943 \nL 309.780363 110.700341 \nL 310.115498 108.567609 \nL 310.450633 109.517385 \nL 310.785769 109.034708 \nL 311.120904 110.244539 \nL 311.456039 107.711033 \nL 312.126309 105.240561 \nL 312.461444 104.402615 \nL 312.796579 107.660033 \nL 313.131715 108.942906 \nL 313.46685 110.956043 \nL 313.801985 110.077583 \nL 314.13712 110.950001 \nL 314.472255 108.005485 \nL 314.80739 110.184405 \nL 315.142525 106.936431 \nL 315.47766 105.631144 \nL 315.812796 109.553246 \nL 316.147931 110.563972 \nL 316.483066 110.405271 \nL 316.818201 110.683391 \nL 317.153336 109.831438 \nL 317.488471 109.973334 \nL 317.823606 110.689876 \nL 318.158742 113.746795 \nL 318.493877 115.055982 \nL 318.829012 115.671741 \nL 319.164147 118.032208 \nL 319.499282 118.830983 \nL 319.834417 120.979677 \nL 320.169552 121.707084 \nL 320.504687 121.139271 \nL 320.839823 123.741354 \nL 321.174958 123.228955 \nL 321.510093 121.3749 \nL 321.845228 123.24906 \nL 322.180363 120.446844 \nL 322.515498 119.044948 \nL 323.185769 107.579912 \nL 323.520904 107.598028 \nL 323.856039 108.521787 \nL 324.191174 108.088146 \nL 324.526309 105.684767 \nL 324.861444 106.140484 \nL 325.196579 105.111126 \nL 325.531715 106.364692 \nL 325.86685 105.092466 \nL 326.201985 102.909946 \nL 326.53712 103.576918 \nL 326.872255 102.05598 \nL 327.20739 101.899459 \nL 327.542525 102.855051 \nL 327.87766 104.294311 \nL 328.212796 106.974944 \nL 328.547931 104.004819 \nL 328.883066 104.680076 \nL 329.218201 106.849754 \nL 330.223606 103.791379 \nL 330.558742 105.580413 \nL 330.893877 106.245233 \nL 331.229012 105.137241 \nL 331.564147 102.573376 \nL 331.899282 100.994268 \nL 332.234417 105.092603 \nL 332.569552 106.722622 \nL 332.904687 110.982797 \nL 333.239823 110.14847 \nL 333.574958 113.206834 \nL 333.910093 117.768359 \nL 334.915498 124.042767 \nL 335.585769 126.830615 \nL 335.920904 131.156679 \nL 336.256039 131.496835 \nL 336.591174 132.571218 \nL 336.926309 136.668454 \nL 337.261444 137.584572 \nL 337.596579 134.739895 \nL 337.931715 133.720207 \nL 338.601985 141.255887 \nL 338.93712 141.150226 \nL 339.272255 138.606325 \nL 339.60739 138.06369 \nL 339.942525 139.278279 \nL 340.27766 143.804815 \nL 341.283066 138.131877 \nL 341.618201 138.538432 \nL 341.953336 138.30749 \nL 342.288471 137.371094 \nL 342.623606 138.700076 \nL 342.958742 137.01465 \nL 343.293877 135.89975 \nL 343.964147 136.495511 \nL 344.299282 137.131406 \nL 344.969552 133.099843 \nL 345.304688 129.34812 \nL 345.639823 130.555665 \nL 345.974958 130.473931 \nL 346.310093 130.02088 \nL 347.315498 134.952326 \nL 347.650633 134.459752 \nL 347.985769 138.079043 \nL 348.320904 137.864679 \nL 348.656039 141.521402 \nL 348.991174 140.207351 \nL 349.326309 139.61817 \nL 349.661444 139.687209 \nL 349.996579 140.252884 \nL 350.331715 142.871128 \nL 350.66685 142.99355 \nL 351.33712 143.558276 \nL 351.672255 144.40664 \nL 352.00739 144.366368 \nL 352.342525 144.144204 \nL 352.67766 142.934386 \nL 353.012796 144.249142 \nL 353.347931 144.485478 \nL 353.683066 142.923947 \nL 354.018201 143.930109 \nL 354.353336 145.608441 \nL 355.023606 147.412133 \nL 355.693877 150.581214 \nL 356.029012 150.853654 \nL 356.364147 152.38432 \nL 356.699282 154.938061 \nL 357.034417 151.329921 \nL 357.704688 149.784891 \nL 358.039823 149.491035 \nL 358.374958 149.527193 \nL 358.710093 147.641515 \nL 359.045228 150.42913 \nL 359.715498 153.546823 \nL 360.050633 153.743779 \nL 360.385769 154.953529 \nL 360.720904 152.796832 \nL 361.056039 156.721795 \nL 361.391174 155.858229 \nL 361.726309 153.039068 \nL 362.061444 151.600801 \nL 362.396579 149.119198 \nL 362.731715 149.347838 \nL 363.06685 150.961536 \nL 363.73712 152.317063 \nL 364.072255 147.596411 \nL 364.40739 145.882631 \nL 364.742525 147.789506 \nL 365.07766 145.053682 \nL 365.412796 145.055341 \nL 365.747931 146.522759 \nL 366.083066 148.512087 \nL 366.418201 146.664742 \nL 366.753336 147.44484 \nL 367.088471 142.925773 \nL 367.758742 147.555313 \nL 368.764147 144.271225 \nL 369.099282 142.745502 \nL 369.434417 145.288667 \nL 369.769552 142.056905 \nL 370.104688 141.843028 \nL 370.104688 141.843028 \n\" style=\"fill:none;stroke:#d62728;stroke-linecap:square;stroke-width:1.5;\"/>\n   </g>\n   <g id=\"patch_3\">\n    <path d=\"M 35.304688 227.552742 \nL 35.304688 10.112742 \n\" style=\"fill:none;stroke:#000000;stroke-linecap:square;stroke-linejoin:miter;stroke-width:0.8;\"/>\n   </g>\n   <g id=\"patch_4\">\n    <path d=\"M 370.104688 227.552742 \nL 370.104688 10.112742 \n\" style=\"fill:none;stroke:#000000;stroke-linecap:square;stroke-linejoin:miter;stroke-width:0.8;\"/>\n   </g>\n   <g id=\"patch_5\">\n    <path d=\"M 35.304688 227.552742 \nL 370.104688 227.552742 \n\" style=\"fill:none;stroke:#000000;stroke-linecap:square;stroke-linejoin:miter;stroke-width:0.8;\"/>\n   </g>\n   <g id=\"patch_6\">\n    <path d=\"M 35.304688 10.112742 \nL 370.104688 10.112742 \n\" style=\"fill:none;stroke:#000000;stroke-linecap:square;stroke-linejoin:miter;stroke-width:0.8;\"/>\n   </g>\n   <g id=\"legend_1\">\n    <g id=\"patch_7\">\n     <path d=\"M 42.304688 222.552742 \nL 82.004688 222.552742 \nQ 84.004688 222.552742 84.004688 220.552742 \nL 84.004688 162.840242 \nQ 84.004688 160.840242 82.004688 160.840242 \nL 42.304688 160.840242 \nQ 40.304688 160.840242 40.304688 162.840242 \nL 40.304688 220.552742 \nQ 40.304688 222.552742 42.304688 222.552742 \nz\n\" style=\"fill:#ffffff;opacity:0.8;stroke:#cccccc;stroke-linejoin:miter;\"/>\n    </g>\n    <g id=\"line2d_45\">\n     <path d=\"M 44.304688 168.938679 \nL 64.304688 168.938679 \n\" style=\"fill:none;stroke:#1f77b4;stroke-linecap:square;stroke-width:1.5;\"/>\n    </g>\n    <g id=\"line2d_46\"/>\n    <g id=\"text_13\">\n     <!-- A -->\n     <g transform=\"translate(72.304688 172.438679)scale(0.1 -0.1)\">\n      <defs>\n       <path d=\"M 34.1875 63.1875 \nL 20.796875 26.90625 \nL 47.609375 26.90625 \nz\nM 28.609375 72.90625 \nL 39.796875 72.90625 \nL 67.578125 0 \nL 57.328125 0 \nL 50.6875 18.703125 \nL 17.828125 18.703125 \nL 11.1875 0 \nL 0.78125 0 \nz\n\" id=\"DejaVuSans-65\"/>\n      </defs>\n      <use xlink:href=\"#DejaVuSans-65\"/>\n     </g>\n    </g>\n    <g id=\"line2d_47\">\n     <path d=\"M 44.304688 183.616804 \nL 64.304688 183.616804 \n\" style=\"fill:none;stroke:#ff7f0e;stroke-linecap:square;stroke-width:1.5;\"/>\n    </g>\n    <g id=\"line2d_48\"/>\n    <g id=\"text_14\">\n     <!-- B -->\n     <g transform=\"translate(72.304688 187.116804)scale(0.1 -0.1)\">\n      <defs>\n       <path d=\"M 19.671875 34.8125 \nL 19.671875 8.109375 \nL 35.5 8.109375 \nQ 43.453125 8.109375 47.28125 11.40625 \nQ 51.125 14.703125 51.125 21.484375 \nQ 51.125 28.328125 47.28125 31.5625 \nQ 43.453125 34.8125 35.5 34.8125 \nz\nM 19.671875 64.796875 \nL 19.671875 42.828125 \nL 34.28125 42.828125 \nQ 41.5 42.828125 45.03125 45.53125 \nQ 48.578125 48.25 48.578125 53.8125 \nQ 48.578125 59.328125 45.03125 62.0625 \nQ 41.5 64.796875 34.28125 64.796875 \nz\nM 9.8125 72.90625 \nL 35.015625 72.90625 \nQ 46.296875 72.90625 52.390625 68.21875 \nQ 58.5 63.53125 58.5 54.890625 \nQ 58.5 48.1875 55.375 44.234375 \nQ 52.25 40.28125 46.1875 39.3125 \nQ 53.46875 37.75 57.5 32.78125 \nQ 61.53125 27.828125 61.53125 20.40625 \nQ 61.53125 10.640625 54.890625 5.3125 \nQ 48.25 0 35.984375 0 \nL 9.8125 0 \nz\n\" id=\"DejaVuSans-66\"/>\n      </defs>\n      <use xlink:href=\"#DejaVuSans-66\"/>\n     </g>\n    </g>\n    <g id=\"line2d_49\">\n     <path d=\"M 44.304688 198.294929 \nL 64.304688 198.294929 \n\" style=\"fill:none;stroke:#2ca02c;stroke-linecap:square;stroke-width:1.5;\"/>\n    </g>\n    <g id=\"line2d_50\"/>\n    <g id=\"text_15\">\n     <!-- C -->\n     <g transform=\"translate(72.304688 201.794929)scale(0.1 -0.1)\">\n      <defs>\n       <path d=\"M 64.40625 67.28125 \nL 64.40625 56.890625 \nQ 59.421875 61.53125 53.78125 63.8125 \nQ 48.140625 66.109375 41.796875 66.109375 \nQ 29.296875 66.109375 22.65625 58.46875 \nQ 16.015625 50.828125 16.015625 36.375 \nQ 16.015625 21.96875 22.65625 14.328125 \nQ 29.296875 6.6875 41.796875 6.6875 \nQ 48.140625 6.6875 53.78125 8.984375 \nQ 59.421875 11.28125 64.40625 15.921875 \nL 64.40625 5.609375 \nQ 59.234375 2.09375 53.4375 0.328125 \nQ 47.65625 -1.421875 41.21875 -1.421875 \nQ 24.65625 -1.421875 15.125 8.703125 \nQ 5.609375 18.84375 5.609375 36.375 \nQ 5.609375 53.953125 15.125 64.078125 \nQ 24.65625 74.21875 41.21875 74.21875 \nQ 47.75 74.21875 53.53125 72.484375 \nQ 59.328125 70.75 64.40625 67.28125 \nz\n\" id=\"DejaVuSans-67\"/>\n      </defs>\n      <use xlink:href=\"#DejaVuSans-67\"/>\n     </g>\n    </g>\n    <g id=\"line2d_51\">\n     <path d=\"M 44.304688 212.973054 \nL 64.304688 212.973054 \n\" style=\"fill:none;stroke:#d62728;stroke-linecap:square;stroke-width:1.5;\"/>\n    </g>\n    <g id=\"line2d_52\"/>\n    <g id=\"text_16\">\n     <!-- D -->\n     <g transform=\"translate(72.304688 216.473054)scale(0.1 -0.1)\">\n      <defs>\n       <path d=\"M 19.671875 64.796875 \nL 19.671875 8.109375 \nL 31.59375 8.109375 \nQ 46.6875 8.109375 53.6875 14.9375 \nQ 60.6875 21.78125 60.6875 36.53125 \nQ 60.6875 51.171875 53.6875 57.984375 \nQ 46.6875 64.796875 31.59375 64.796875 \nz\nM 9.8125 72.90625 \nL 30.078125 72.90625 \nQ 51.265625 72.90625 61.171875 64.09375 \nQ 71.09375 55.28125 71.09375 36.53125 \nQ 71.09375 17.671875 61.125 8.828125 \nQ 51.171875 0 30.078125 0 \nL 9.8125 0 \nz\n\" id=\"DejaVuSans-68\"/>\n      </defs>\n      <use xlink:href=\"#DejaVuSans-68\"/>\n     </g>\n    </g>\n   </g>\n  </g>\n </g>\n <defs>\n  <clipPath id=\"pe7e04aeb02\">\n   <rect height=\"217.44\" width=\"334.8\" x=\"35.304688\" y=\"10.112742\"/>\n  </clipPath>\n </defs>\n</svg>\n",
      "image/png": "[encoded data removed]"
     },
     "metadata": {
      "needs_background": "light"
     }
    }
   ],
   "source": [
    "import matplotlib.pyplot as plt\n",
    "\n",
    "pdf=pd.DataFrame(np.random.randn(1000, 4), index=ts.index,columns=['A', 'B', 'C', 'D'])\n",
    "pdf = pdf.cumsum()\n",
    "plt.figure(); df.plot(); plt.legend(loc='best')\n"
   ]
  },
  {
   "cell_type": "code",
   "execution_count": null,
   "metadata": {},
   "outputs": [],
   "source": []
  }
 ],
 "metadata": {
  "kernelspec": {
   "display_name": "Python 3",
   "language": "python",
   "name": "python3"
  },
  "language_info": {
   "codemirror_mode": {
    "name": "ipython",
    "version": 3
   },
   "file_extension": ".py",
   "mimetype": "text/x-python",
   "name": "python",
   "nbconvert_exporter": "python",
   "pygments_lexer": "ipython3",
   "version": "3.8.5-final"
  }
 },
 "nbformat": 4,
 "nbformat_minor": 2
}
