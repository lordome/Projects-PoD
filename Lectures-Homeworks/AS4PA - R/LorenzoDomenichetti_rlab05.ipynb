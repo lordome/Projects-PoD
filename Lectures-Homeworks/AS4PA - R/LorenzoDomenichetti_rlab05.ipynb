{
 "cells": [
  {
   "cell_type": "markdown",
   "metadata": {},
   "source": [
    "## Fifth Assignment\n",
    "\n",
    "Lorenzo Domenichetti 2011653\n",
    "\n",
    "\n",
    "due 16-05"
   ]
  },
  {
   "cell_type": "code",
   "execution_count": 1,
   "metadata": {},
   "outputs": [
    {
     "name": "stderr",
     "output_type": "stream",
     "text": [
      "-- \u001b[1mAttaching packages\u001b[22m ------------------------------------------------------------------------------- tidyverse 1.3.0 --\n",
      "\n",
      "\u001b[32mv\u001b[39m \u001b[34mggplot2\u001b[39m 3.3.3     \u001b[32mv\u001b[39m \u001b[34mpurrr  \u001b[39m 0.3.4\n",
      "\u001b[32mv\u001b[39m \u001b[34mtibble \u001b[39m 3.1.0     \u001b[32mv\u001b[39m \u001b[34mdplyr  \u001b[39m 1.0.5\n",
      "\u001b[32mv\u001b[39m \u001b[34mtidyr  \u001b[39m 1.1.3     \u001b[32mv\u001b[39m \u001b[34mstringr\u001b[39m 1.4.0\n",
      "\u001b[32mv\u001b[39m \u001b[34mreadr  \u001b[39m 1.4.0     \u001b[32mv\u001b[39m \u001b[34mforcats\u001b[39m 0.5.1\n",
      "\n",
      "Warning message:\n",
      "\"package 'ggplot2' was built under R version 4.0.5\"\n",
      "-- \u001b[1mConflicts\u001b[22m ---------------------------------------------------------------------------------- tidyverse_conflicts() --\n",
      "\u001b[31mx\u001b[39m \u001b[34mdplyr\u001b[39m::\u001b[32mfilter()\u001b[39m masks \u001b[34mstats\u001b[39m::filter()\n",
      "\u001b[31mx\u001b[39m \u001b[34mdplyr\u001b[39m::\u001b[32mlag()\u001b[39m    masks \u001b[34mstats\u001b[39m::lag()\n",
      "\n",
      "\n",
      "Attaching package: 'lubridate'\n",
      "\n",
      "\n",
      "The following objects are masked from 'package:base':\n",
      "\n",
      "    date, intersect, setdiff, union\n",
      "\n",
      "\n",
      "Warning message:\n",
      "\"package 'gridExtra' was built under R version 4.0.5\"\n",
      "\n",
      "Attaching package: 'gridExtra'\n",
      "\n",
      "\n",
      "The following object is masked from 'package:dplyr':\n",
      "\n",
      "    combine\n",
      "\n",
      "\n",
      "Warning message:\n",
      "\"package 'lattice' was built under R version 4.0.5\"\n"
     ]
    }
   ],
   "source": [
    "library(tidyverse)\n",
    "library(lubridate)\n",
    "library(gridExtra)\n",
    "library(grid)\n",
    "library(ggplot2)\n",
    "library(lattice)"
   ]
  },
  {
   "cell_type": "markdown",
   "metadata": {},
   "source": [
    "### Exercise 1\n",
    "\n",
    "• A publishing company has recently launched a new journal. \n",
    "\n",
    "In order to determine how effective it is in reaching its possible audience, a market survey company selects a random sample of people from a possible target audience and interviews them. Out of 150 interviewed people, 29 have read the last issue of the journal.\n",
    "\n",
    "a) What kind of distribution would you assume for y, the number of people that have seen the last issue of the journal ?\n",
    "\n",
    "b) Assuming a uniform prior, what is the posterior distribution for y ?\n",
    "\n",
    "c) Plot both posterior and likelihood ditributions functions"
   ]
  },
  {
   "cell_type": "markdown",
   "metadata": {},
   "source": [
    "a) As no information are provided on the samples, I would assume an uniform prior. But, as known, correlations may be present in a dataset, linking for example age or groupe of people with common interest. Also a beta distribution, drawn from the 29/150 positive responses collected.\n",
    "\n",
    "b) The posterior probability in the case of a uniform is proportional to the likelihood. The likelihood follows a binomial distribution. We have in this case n = 150, r = 29. \n",
    "\n",
    "$$P(p | r, n, M) = \\frac{1}{Z} p^r(1-p)^{n-r}$$\n",
    "\n",
    "Where Z = P(r | n, M) is the normalization factor - does not depend on p.\n",
    "\n",
    "We will plot in the following cell the posterior - for p. The posterior for y follows multiplying the x-axis."
   ]
  },
  {
   "cell_type": "code",
   "execution_count": 2,
   "metadata": {},
   "outputs": [
    {
     "data": {
      "image/png": "[encoded data removed]",
      "text/plain": [
       "Plot with title \"Posterior distribution (normalized)\""
      ]
     },
     "metadata": {
      "image/png": {
       "height": 420,
       "width": 900
      }
     },
     "output_type": "display_data"
    }
   ],
   "source": [
    "n <- 150\n",
    "r <- 29\n",
    "p <- seq(0, 1, length.out = 201)\n",
    "p.post <- dbinom(x=r, size=n, prob=p)\n",
    "\n",
    "to_int <- function(p){\n",
    "    dbinom(x = 29, size = 150, prob = p)\n",
    "}\n",
    "\n",
    "options(repr.plot.width=15, repr.plot.height=7)\n",
    "\n",
    "Z = integrate(to_int , 0, 1)\n",
    "p.norm <- p.post/Z$value\n",
    "par(mfrow = c(1,2))\n",
    "plot(p, p.post, xaxs='i', yaxs='i',  type='l', lty=1, col = 'navy', lwd = 3, ylim=c(0,0.09), xlab=\"p\", ylab=expression(paste(\"P(p | r,n,M)\")), main =  \"Likelihood\")\n",
    "plot(p, p.norm, xaxs='i', yaxs='i',  type='l', lty=1, col = 'firebrick', lwd = 3, ylim=c(0,13), xlab=\"p\", ylab=expression(paste(\"P(p | r,n,M)\")), main =  \"Posterior distribution (normalized)\")\n"
   ]
  },
  {
   "cell_type": "markdown",
   "metadata": {},
   "source": [
    "### Exercise 2\n",
    "• Three students want to construct their prior probability about the proportion of residents that\n",
    "support the building of a new concert hall in their small town.\n",
    "\n",
    "• Anna thinks that her prior is a beta distribution with mean 0.2 and a standard deviation of 0.08.\n",
    "\n",
    "• Benny moved only recently to this new town and therefore he does non have the slightest idea about\n",
    "it. Therefore he decides to use a uniform prior.\n",
    "\n",
    "• Chris believes that his prior should have a trapezoidal shape\n",
    "\n",
    "\\begin{equation}\n",
    "f(x) = \n",
    "    \\begin{cases}\n",
    "     20x   \\,\\,\\,\\,\\,  0 ≤ x < 0.1  \\\\\n",
    "     2 \\,\\,\\,\\,\\   0.1 ≤ x ≤ 0.3 \\\\\n",
    "     5-10x \\,\\, 0.3 ≤ x ≤ 0.5 \\\\\n",
    "     0  \\,\\,\\, x > 0.5\n",
    "    \\end{cases}\\,\n",
    "\\end{equation}\n",
    "\n",
    "a) Draw and compare the three prior distributions.\n",
    "\n",
    "• The next day the three students decide to interview a sample of 100 citizens of the small town,\n",
    "asking for their opinion. Out of the interviewed sample, 26 support the building of the new concert\n",
    "hall.\n",
    "\n",
    "b) Evaluate and draw the three posterior distributions.\n",
    "\n",
    "c) Give an estimate of the most probable value and the 95% credibility interval."
   ]
  },
  {
   "cell_type": "code",
   "execution_count": 3,
   "metadata": {},
   "outputs": [
    {
     "data": {
      "image/png": "[encoded data removed]",
      "text/plain": [
       "Plot with title \"Priors\""
      ]
     },
     "metadata": {
      "image/png": {
       "height": 420,
       "width": 900
      }
     },
     "output_type": "display_data"
    }
   ],
   "source": [
    "p <- seq(0, 1, length.out = 201)\n",
    "\n",
    "mu = 0.2\n",
    "var = 0.08^2\n",
    "alpha <- ((1 - mu) / var - 1 / mu) * mu ^ 2\n",
    "beta <- alpha * (1 / mu - 1)\n",
    "\n",
    "anna.prior <- dbeta(p, shape1 = alpha, shape2 = beta)\n",
    "\n",
    "chris <- function(x){\n",
    "    if( x > 0 & x < 0.1){\n",
    "        return(20*x)\n",
    "    } else if ( x >= 0.1 & x <= 0.3 ){\n",
    "        return(2)\n",
    "    } else if ( x >= 0.3 & x <= 0.5 ){\n",
    "        return(5-10*x)\n",
    "    } else if ( x >= 0.5 & x <= 1 ){\n",
    "        return(0)\n",
    "    } else {\n",
    "        return(0)\n",
    "    }\n",
    "}\n",
    "\n",
    "norm_chris <- function(x){\n",
    "    return(x/0.7)\n",
    "}\n",
    "\n",
    "chris.prior <- lapply(p, chris)\n",
    "chris.prior <- lapply(chris.prior, norm_chris)\n",
    "\n",
    "\n",
    "plot(p, anna.prior , xaxs='i', yaxs='i', col='navy', type='l', lty=1, lwd = 3, ylim=c(0,5.5), xlab=\"p\", ylab=paste(\"P(p | M)\"), main=\"Priors\")\n",
    "lines(p, rep(1,length(p)), col='orange', type='l', lty=1, lwd = 3)\n",
    "lines(p, chris.prior, col='firebrick', type='l', lty=1, lwd = 3)\n",
    "text(x=0.22, y=4.5, pos=4, labels='Anna\\'s Prior')\n",
    "text(x=0.8, y=1.1, pos=4, labels='Benny\\'s Prior')\n",
    "text(x=0.36, y=2, pos=4, labels='Chris\\' Prior')\n"
   ]
  },
  {
   "cell_type": "code",
   "execution_count": 4,
   "metadata": {},
   "outputs": [
    {
     "data": {
      "image/png": "[encoded data removed]",
      "text/plain": [
       "Plot with title \"Posterior distributions\""
      ]
     },
     "metadata": {
      "image/png": {
       "height": 420,
       "width": 900
      }
     },
     "output_type": "display_data"
    }
   ],
   "source": [
    "mu = 0.2\n",
    "var = 0.08^2\n",
    "alpha <- ((1 - mu) / var - 1 / mu) * mu ^ 2\n",
    "beta <- alpha * (1 / mu - 1)\n",
    "\n",
    "ret_anna <- function(probab, a = alpha, b = beta){\n",
    "    dbinom(x=26, size=100, prob=probab) * dbeta(probab, shape1 = a, shape2 = b)/0.02995416\n",
    "}\n",
    "\n",
    "ret_benny <- function(probab){\n",
    "    dbinom(x=26, size=100, prob=probab) /0.00990099\n",
    "}\n",
    "\n",
    "ret_chris <- function(probab){\n",
    "    dbinom(x=26, size=100, prob=probab) * unlist(lapply(probab, chris)) / 0.02751473 /0.7\n",
    "}\n",
    "\n",
    "anna.posterior <- ret_anna(p)\n",
    "chris.posterior <- ret_chris(p)\n",
    "benny.posterior <- ret_benny(p)\n",
    "\n",
    "\n",
    "par(mfrow = c(1,2))\n",
    "\n",
    "plot(p, anna.prior , xaxs='i', yaxs='i', col='navy', type='l', lty=1, lwd = 3, ylim=c(0,5.5), xlab=\"p\", ylab=paste(\"P(p)\"), main=\"Prior distributions\")\n",
    "lines(p, rep(1,length(p)), col='orange', type='l', lty=1, lwd = 3)\n",
    "lines(p, chris.prior, col='firebrick', type='l', lty=1, lwd = 3)\n",
    "text(x=0.22, y=4.5, pos=4, labels='Anna\\'s Prior')\n",
    "text(x=0.8, y=1.1, pos=4, labels='Benny\\'s Prior')\n",
    "text(x=0.36, y=2, pos=4, labels='Chris\\' Prior')\n",
    "\n",
    "plot(p, anna.posterior , xaxs='i', yaxs='i', col='navy', type='l', lty=1, main = 'Posterior distributions', lwd = 3, ylim=c(0,12), xlab=\"p\", ylab=paste(\"P(p | D)\"))\n",
    "lines(p, chris.posterior, col='firebrick', type='l', lty=1, lwd = 3)\n",
    "lines(p, benny.posterior, col='orange', type='l', lty=1, lwd = 3)"
   ]
  },
  {
   "cell_type": "code",
   "execution_count": 5,
   "metadata": {},
   "outputs": [
    {
     "name": "stderr",
     "output_type": "stream",
     "text": [
      "95% CI for Anna  - [0.1689, 0.3211]\n",
      "\n",
      "95% CI for Benny - [0.1739, 0.3461]\n",
      "\n",
      "95% CI for Chris - [0.1779, 0.3421]\n",
      "\n"
     ]
    }
   ],
   "source": [
    "moves = seq(0.0001,1,0.001)\n",
    "\n",
    "pchris = p[which.max(chris.posterior)]\n",
    "prob_chris = 0\n",
    "i = 1\n",
    "while(prob_chris < 0.95){\n",
    "    i = i+1\n",
    "    inte = integrate(ret_chris, lower = pchris-moves[i], upper = pchris+moves[i])\n",
    "    prob_chris = inte$value\n",
    "}\n",
    "ichris <- i\n",
    "\n",
    "\n",
    "panna = p[which.max(anna.posterior)]\n",
    "prob_anna = 0\n",
    "i = 1\n",
    "while(prob_anna < 0.95){\n",
    "    i = i+1\n",
    "    inte = integrate(ret_anna, lower = panna-moves[i], upper = panna+moves[i])\n",
    "    prob_anna = inte$value\n",
    "\n",
    "}\n",
    "ianna <- i\n",
    "\n",
    "pbenny = p[which.max(benny.posterior)]\n",
    "prob_benny = 0\n",
    "i = 1\n",
    "while(prob_benny < 0.95){\n",
    "    i = i+1\n",
    "    inte = integrate(ret_benny, lower = pbenny-moves[i], upper = pbenny+moves[i])\n",
    "    prob_benny = inte$value\n",
    "}\n",
    "ibenny <- i\n",
    "\n",
    "message(\"95% CI for Anna  - [\", panna-moves[ianna], \", \",  panna+moves[ianna], \"]\")\n",
    "message(\"95% CI for Benny - [\", pbenny-moves[ibenny], \", \", pbenny+moves[ibenny], \"]\")\n",
    "message(\"95% CI for Chris - [\", pchris-moves[ichris], \", \", pchris+moves[ichris], \"]\")"
   ]
  },
  {
   "cell_type": "markdown",
   "metadata": {},
   "source": [
    "### Exercise 3\n",
    "• A coin is flipped n = 30 times with the following outcomes: \n",
    "T, T, T, T, T, H, T, T, H, H, T, T, H, H, H, T, H, T, H, T, H, H, T, H, T, H, T, H, H, H (15T, 15H)\n",
    "\n",
    "a) Assuming a flat prior, and a beta prior, plot the likelihood, prior and posterior distributions for the\n",
    "data set.\n",
    "\n"
   ]
  },
  {
   "cell_type": "code",
   "execution_count": 6,
   "metadata": {},
   "outputs": [
    {
     "data": {
      "image/png": "[encoded data removed]",
      "text/plain": [
       "plot without title"
      ]
     },
     "metadata": {
      "image/png": {
       "height": 420,
       "width": 900
      }
     },
     "output_type": "display_data"
    }
   ],
   "source": [
    "results = c(T, T, T, T, T, F, T, T, F, F, T, T, F, F, F, T, F, T, F, T, F, F, T, F, T, F, T, F, F, F)\n",
    "p <- seq(0, 1, length.out = 201)\n",
    "\n",
    "mu = 0.5\n",
    "var = 0.08^2\n",
    "alpha_2 <- ((1 - mu) / var - 1 / mu) * mu ^ 2\n",
    "beta_2 <- alpha_2 * (1 / mu - 1)\n",
    "\n",
    "beta.prior <- dbeta(p, shape1 = alpha_2, shape2 = beta_2)\n",
    "unif.prior <- dunif(p)\n",
    "likelihood <- dbinom(x = 15, size = 30, prob = p)\n",
    "\n",
    "\n",
    "ret_beta <- function(probab, a = alpha_2, b = beta_2, heads = 15, throws = 30){\n",
    "    dbinom(x=heads, size=throws, prob=probab) * dbeta(probab, shape1 = a, shape2 = b) / 0.1077206 \n",
    "}\n",
    "\n",
    "ret_unif <- function(probab, heads = 15, throws = 30){\n",
    "     dbinom(x=heads, size=throws, prob=probab)/0.03225806\n",
    "}\n",
    "\n",
    "\n",
    "pr_li_post = data.frame(prob = p, bprior = beta.prior, uprior = unif.prior, likel = likelihood, bpost = ret_beta(p), upost = ret_unif(p))\n",
    "\n",
    "\n",
    "p1 <- ggplot() + geom_line(data = pr_li_post, aes(x = prob, y = bprior, group = \"BetaPrior\", color =\"BetaPrior\" ), size = 1.2) +\n",
    "            geom_line(data = pr_li_post, aes(x = prob, y = uprior, group = \"UnifromPrior\", color = \"UnifromPrior\"), size = 1.2) + \n",
    "            theme_classic() +    scale_color_manual(values=c('#FF0000','#0000FF'))\n",
    "\n",
    "p2 <- ggplot() + geom_line(data = pr_li_post, aes(x = prob, y = likel, group = \"Likelihood\", color =\"Likelihood\" ), size = 1.2) + \n",
    "    theme_classic() +    scale_color_manual(values=c('#FF0000','#0000FF'))\n",
    "\n",
    "p3 <- ggplot() + geom_line(data = pr_li_post, aes(x = prob, y = bpost, group = \"BetaPosterior\", color =\"BetaPosterior\" ), size = 1.2) +\n",
    "            geom_line(data = pr_li_post, aes(x = prob, y = upost, group = \"UnifromPosterior\", color = \"UnifromPosterior\"), size = 1.2) + \n",
    "            theme_classic() +    scale_color_manual(values=c('#FF0000','#0000FF'))\n",
    "\n",
    "options(repr.plot.width=15, repr.plot.height=7)\n",
    "\n",
    "grid.arrange(p1,p2,p3, ncol = 3, nrow = 1)"
   ]
  },
  {
   "cell_type": "markdown",
   "metadata": {},
   "source": [
    "b) Evaluate the most probable value for the coin probability p and, integrating the posterior probability\n",
    "distribution, give an estimate for a 95% credibility interval.\n"
   ]
  },
  {
   "cell_type": "code",
   "execution_count": 7,
   "metadata": {},
   "outputs": [
    {
     "name": "stderr",
     "output_type": "stream",
     "text": [
      "95% CI for Beta Prior    - [0.3819, 0.6181]\n",
      "\n",
      "95% CI for Uniform Prior - [0.3299, 0.6701]\n",
      "\n"
     ]
    }
   ],
   "source": [
    "moves = seq(0.0001,1,0.001)\n",
    "\n",
    "pbeta = p[which.max(ret_beta(p, ))]\n",
    "prob_beta = 0\n",
    "i = 1\n",
    "while(prob_beta < 0.95){\n",
    "    i = i+1\n",
    "    inte = integrate(ret_beta, lower = pbeta-moves[i], upper = pbeta+moves[i])\n",
    "    prob_beta = inte$value\n",
    "}\n",
    "ibeta <- i\n",
    "\n",
    "punif = p[which.max(ret_unif(p))]\n",
    "prob_unif = 0\n",
    "i = 1\n",
    "while(prob_unif < 0.95){\n",
    "    i = i+1\n",
    "    inte = integrate(ret_unif, lower = punif-moves[i], upper = punif+moves[i])\n",
    "    prob_unif = inte$value\n",
    "}\n",
    "iunif <- i\n",
    "\n",
    "\n",
    "message(\"95% CI for Beta Prior    - [\", pbeta-moves[ibeta], \", \", pbeta+moves[ibeta], \"]\")\n",
    "message(\"95% CI for Uniform Prior - [\", punif-moves[iunif], \", \", punif+moves[iunif], \"]\")"
   ]
  },
  {
   "cell_type": "markdown",
   "metadata": {},
   "source": [
    "\n",
    "c) Repeat the same analysis assuming a sequential analysis of the data. Show how the most probable\n",
    "value and the credibility interval change as a function of the number of coin tosses (i.e. from 1 to\n",
    "30).\n",
    "\n"
   ]
  },
  {
   "cell_type": "code",
   "execution_count": 8,
   "metadata": {},
   "outputs": [],
   "source": [
    "count_H <- c()\n",
    "counter <- 0\n",
    "for (i in results){\n",
    "    if(!i){\n",
    "        counter <- counter + 1\n",
    "    }\n",
    "    count_H <- c(count_H, counter)\n",
    "}"
   ]
  },
  {
   "cell_type": "code",
   "execution_count": 9,
   "metadata": {},
   "outputs": [],
   "source": [
    "moves = seq(0,1,0.001)\n",
    "\n",
    "beta_results <- matrix(NA, nrow=0, ncol=4)\n",
    "unif_results <- matrix(NA, nrow=0, ncol=4)\n",
    "\n",
    "\n",
    "tws = 1\n",
    "i <- 1\n",
    "for (hds in count_H){\n",
    "    pbeta = p[which.max(ret_beta(p, heads = hds, throws = tws))]\n",
    "    prob_beta = 0\n",
    "    i = 1\n",
    "    int_tot_beta = integrate(ret_beta, lower = 0, upper = 1, heads = hds, throws = tws)\n",
    "\n",
    "    while(prob_beta < 0.95){\n",
    "        i = i+1\n",
    "        inte = integrate(ret_beta, lower = pbeta-moves[i], upper = pbeta+moves[i], heads = hds, throws = tws)\n",
    "        prob_beta = inte$value/int_tot_beta$value\n",
    "    }\n",
    "    ibeta <- i\n",
    "\n",
    "    punif = p[which.max(ret_unif(p, heads = hds, throws = tws))]\n",
    "    prob_unif = 0\n",
    "    i = 1\n",
    "    int_tot_unif = integrate(ret_unif, lower = 0, upper = 1, heads = hds, throws = tws)\n",
    "\n",
    "    while(prob_unif < 0.95){\n",
    "        i = i+1\n",
    "        inf = ifelse(punif-moves[i]>0, punif-moves[i], 0)\n",
    "        sup = ifelse(punif+moves[i]<1, punif+moves[i], 1)\n",
    "\n",
    "        inte = integrate(ret_unif, lower = inf, upper =sup, heads = hds, throws = tws)\n",
    "        prob_unif = inte$value/int_tot_unif$value\n",
    "    }\n",
    "    iunif <- i\n",
    "    inf_unif = ifelse(punif-moves[iunif]>0, punif-moves[iunif], 0)\n",
    "    \n",
    "    beta_results <- rbind(beta_results, c(tws, pbeta, pbeta-moves[ibeta], pbeta+moves[ibeta]))\n",
    "    unif_results <- rbind(unif_results, c(tws, punif, inf_unif, punif+moves[iunif]))\n",
    "    \n",
    "    tws <- tws+1\n",
    "    i <- i+1\n",
    "   \n",
    "}"
   ]
  },
  {
   "cell_type": "code",
   "execution_count": 10,
   "metadata": {},
   "outputs": [
    {
     "data": {
      "image/png": "[encoded data removed]",
      "text/plain": [
       "plot without title"
      ]
     },
     "metadata": {
      "image/png": {
       "height": 480,
       "width": 900
      }
     },
     "output_type": "display_data"
    }
   ],
   "source": [
    "beta_results = as.data.frame(beta_results)\n",
    "unif_results = as.data.frame(unif_results)\n",
    "\n",
    "p1 <- ggplot(beta_results, aes(x=V1, y=V2, group = 1, color = 'Errorbars - 95% CL')) +\n",
    "    geom_line() +\n",
    "    geom_errorbar(width=.1, aes(ymin=V3, ymax=V4)) +\n",
    "    geom_point(shape=21, size=3, fill=\"white\") +\n",
    "    ylim(0,1) +\n",
    "    labs(title=\"Posterior from beta prior\", x =\"# throws\", y = \"Probability\") +\n",
    "    theme_classic() +\n",
    "    scale_color_manual(values=c('#E69F00','#999999')) + theme(plot.title = element_text(hjust = 0.5))\n",
    "\n",
    "p2 <- ggplot(unif_results, aes(x=V1, y=V2, group = 1,  color = 'Errorbars - 95% CL')) +\n",
    "    geom_line() +\n",
    "    geom_errorbar(width=.1, aes(ymin=V3, ymax=V4)) +\n",
    "    geom_point(shape=21, size=3, fill=\"white\") +\n",
    "    ylim(0,1) +\n",
    "    labs(title=\"Posterior from uniform prior\", x =\"# throws\", y = \"Probability\") +\n",
    "    theme_classic() + \n",
    "    scale_color_manual(values=c('#999999','#E69F00')) + theme(plot.title = element_text(hjust = 0.5))\n",
    "\n",
    "options(repr.plot.width=15, repr.plot.height=8)\n",
    "\n",
    "grid.arrange(p1,p2, ncol = 2, nrow = 1)"
   ]
  },
  {
   "cell_type": "markdown",
   "metadata": {},
   "source": [
    "d) Do you get a different result, by analyzing the data sequentially with respect to a one-step analysis\n",
    "(i.e. considering all the data as a whole) ?"
   ]
  },
  {
   "cell_type": "markdown",
   "metadata": {},
   "source": [
    "The two different graphs have quite a different shape. In the first throws, the presence of a strong prior deeply influences the output. \n",
    "\n",
    "Having all first throws tails, in the case of a uniform distribution, sends the uniform prediction down to zero. \n",
    "\n",
    "So, it's always preferrable or to run an adequate number of trials, or to select the best prior possible in order to get meaningful results even in the case of low statistics.\n",
    "\n",
    "It's also worth noticing that the 95% confidence interval shrinks as the number of iteration grows. That is linked to the fact that the posterior gets more and more precise as more measures are analyzed, as expected."
   ]
  },
  {
   "cell_type": "code",
   "execution_count": null,
   "metadata": {},
   "outputs": [],
   "source": []
  }
 ],
 "metadata": {
  "kernelspec": {
   "display_name": "R",
   "language": "R",
   "name": "ir"
  },
  "language_info": {
   "codemirror_mode": "r",
   "file_extension": ".r",
   "mimetype": "text/x-r-source",
   "name": "R",
   "pygments_lexer": "r",
   "version": "4.0.4"
  }
 },
 "nbformat": 4,
 "nbformat_minor": 4
}
