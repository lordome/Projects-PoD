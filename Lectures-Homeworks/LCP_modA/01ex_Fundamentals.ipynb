{
 "cells": [
  {
   "cell_type": "markdown",
   "metadata": {},
   "source": [
    "1\\. Write the following as a list comprehension"
   ]
  },
  {
   "cell_type": "code",
   "execution_count": 1,
   "metadata": {},
   "outputs": [
    {
     "output_type": "stream",
     "name": "stdout",
     "text": [
      "List comprehension: [(0, 0), (0, 1), (0, 2), (0, 3), (1, 0), (1, 1), (1, 2), (1, 3), (2, 0), (2, 1), (2, 2), (2, 3)]\nfor loop          : [(0, 0), (0, 1), (0, 2), (0, 3), (1, 0), (1, 1), (1, 2), (1, 3), (2, 0), (2, 1), (2, 2), (2, 3)]\nList comprehension: [0, 4, 16]\nmap+lambda+filter:  [0, 4, 16]\n"
     ]
    }
   ],
   "source": [
    "# 1\n",
    "ans = [ (i,j) for i in range(3) for j in range(4)]\n",
    "print(f\"List comprehension: {ans}\")\n",
    "ans = []\n",
    "for i in range(3):\n",
    "   for j in range(4):\n",
    "      ans.append((i, j))\n",
    "print(f\"for loop          : {ans}\")\n",
    "\n",
    "# 2\n",
    "ans = [x*x for x in range(5) if x%2 == 0 ]\n",
    "print(f\"List comprehension: {ans}\")\n",
    "ans = map(lambda x: x*x, filter(lambda x: x%2 == 0, range(5)))\n",
    "print(f\"map+lambda+filter:  {list(ans)}\")\n",
    "\n"
   ]
  },
  {
   "cell_type": "markdown",
   "metadata": {},
   "source": [
    "2\\. Convert the following function into a pure function with no global variables or side effects"
   ]
  },
  {
   "cell_type": "code",
   "execution_count": 2,
   "metadata": {},
   "outputs": [
    {
     "output_type": "stream",
     "name": "stdout",
     "text": [
      "##Side effects##\n[1, 2, 3, 0, 1, 2, 3, 4]\n[1, 2, 3, 0, 1, 2, 3, 4]  alist has been changed!\n##No more side effects##\n[1, 2, 3, 0, 1, 2, 3, 4]\n[1, 2, 3]  alist has not been changed!\n"
     ]
    }
   ],
   "source": [
    "x = 5\n",
    "def f(alist):\n",
    "    for i in range(x):\n",
    "         alist.append(i)\n",
    "    return alist\n",
    "\n",
    "alist = [1,2,3]\n",
    "ans = f(alist)\n",
    "print(\"##Side effects##\")\n",
    "print (ans)\n",
    "print (f\"{alist}  alist has been changed!\") # alist has not been changed anymore!\n",
    "\n",
    "def f2(alist,y):\n",
    "    ans = alist.copy()  \n",
    "    for i in range(y):\n",
    "         ans.append(i)\n",
    "    return ans\n",
    "\n",
    "alist = [1,2,3]\n",
    "ans = f2(alist, x)\n",
    "print(\"##No more side effects##\")\n",
    "print (ans)\n",
    "print (f\"{alist}  alist has not been changed!\") # alist has not been changed anymore!"
   ]
  },
  {
   "cell_type": "markdown",
   "metadata": {},
   "source": [
    "3\\. Write a `decorator` hello that makes every wrapped function print “Hello!”, i.e. something like:\n",
    "\n",
    "```python\n",
    "@hello\n",
    "def square(x):\n",
    "    return x*x\n",
    "```\n",
    "\n"
   ]
  },
  {
   "cell_type": "code",
   "execution_count": 3,
   "metadata": {},
   "outputs": [
    {
     "output_type": "stream",
     "name": "stdout",
     "text": [
      "Printing square(z) with the decorator: \n\nHello!\n9\n"
     ]
    }
   ],
   "source": [
    "def hello(sq):\n",
    "    def deco(z):\n",
    "        print(\"Hello!\")\n",
    "        print( sq(z) )\n",
    "    return deco\n",
    "\n",
    "@hello\n",
    "def square(x):\n",
    "    return x*x\n",
    "\n",
    "z = 3\n",
    "print(\"Printing square(z) with the decorator: \\n\")\n",
    "x = square(z) "
   ]
  },
  {
   "cell_type": "markdown",
   "metadata": {},
   "source": [
    "4\\. Write the factorial function so that it a) does and b) does not use recursion."
   ]
  },
  {
   "cell_type": "code",
   "execution_count": 4,
   "metadata": {},
   "outputs": [
    {
     "output_type": "stream",
     "name": "stdout",
     "text": [
      "Factorial function with recursion: 720\nFactorial function with recursion: 720\n"
     ]
    }
   ],
   "source": [
    "x = 6\n",
    "def fact(x):\n",
    "    if x == 0 or x == 1: return 1\n",
    "    else: return x*fact( x-1 )\n",
    "    \n",
    "print (f\"Factorial function with recursion: {fact(x)}\")\n",
    "\n",
    "#f = 1\n",
    "def fact2(x):\n",
    "    f=1\n",
    "    for i in range(x): \n",
    "        f*=i+1\n",
    "    return f\n",
    "\n",
    "print (f\"Factorial function with recursion: {fact2(x)}\")\n"
   ]
  },
  {
   "cell_type": "markdown",
   "metadata": {},
   "source": [
    "5\\. Use HOFs (zip in particular) to compute the weight of a circle, a disk and a sphere, assuming different radii and different densities:\n",
    "\n",
    "```python\n",
    "densities = {\"Al\":[0.5,1,2],\"Fe\":[3,4,5],\"Pb\": [15,20,30]}\n",
    "radii = [1,2,3]\n",
    "```\n",
    "\n",
    "where the entries of the dictionary's values are the linear, superficial and volumetric densities of the materials respectively.\n",
    "\n",
    "In particular define a list of three lambda functions using a comprehension that computes the circumference, the area and the volume for a given radius.\n"
   ]
  },
  {
   "cell_type": "code",
   "execution_count": 8,
   "metadata": {},
   "outputs": [
    {
     "output_type": "stream",
     "name": "stdout",
     "text": [
      "Material = Al\nLenght = 3.141592653589793; Radius = 1\nArea = 12.566370614359172; Radius = 2\nVolume = 226.1946710584651; Radius = 3\nMaterial = Fe\nLenght = 18.84955592153876; Radius = 1\nArea = 50.26548245743669; Radius = 2\nVolume = 565.4866776461628; Radius = 3\nMaterial = Pb\nLenght = 94.24777960769379; Radius = 1\nArea = 251.32741228718345; Radius = 2\nVolume = 3392.9200658769764; Radius = 3\n"
     ]
    }
   ],
   "source": [
    "from math import pi\n",
    "densities = {\"Al\":[0.5,1,2],\"Fe\":[3,4,5],\"Pb\": [15,20,30]}\n",
    "radii = [1,2,3]\n",
    "alist = [\n",
    "    lambda x : 2*pi*x,\n",
    "    lambda x : pi*x*x,\n",
    "    lambda x : 4*pi*x*x*x/3\n",
    "]\n",
    "\n",
    "for i in densities:\n",
    "    print( f\"Material = {i}\" )\n",
    "    for x, y, z, l in zip ( densities[i], radii , alist, [\"Lenght\", \"Area\", \"Volume\"]):\n",
    "        print( f\"{l} = {x*z(y)}; Radius = {y}\" )"
   ]
  },
  {
   "cell_type": "markdown",
   "metadata": {},
   "source": [
    "6\\. Edit the class defintion to add an instance attribute of is_hungry = True to the Dog class. Then add a method called eat() which changes the value of is_hungry to False when called. Figure out the best way to feed each dog and then output “My dogs are hungry.” if all are hungry or “My dogs are not hungry.” if all are not hungry. The final output should look like this:\n",
    "\n",
    "`I have 3 dogs. \n",
    "Tom is 6. \n",
    "Fletcher is 7. \n",
    "Larry is 9. \n",
    "And they're all mammals, of course. \n",
    "My dogs are not hungry.\n",
    "`"
   ]
  },
  {
   "cell_type": "code",
   "execution_count": 18,
   "metadata": {},
   "outputs": [
    {
     "output_type": "stream",
     "name": "stdout",
     "text": [
      "I have 3 dogs\nLuca is 22 years old\nMauro is 3 years old\nAlessio is 100 years old\nAnd they are all dogs, of course\nMy dogs are hungry\nNow feeding Luca\nNow feeding Alessio\nNo more hungry dogs\n"
     ]
    }
   ],
   "source": [
    "# Parent class\n",
    "class Dog:\n",
    "\n",
    "    # Class attribute\n",
    "    species = 'dogs'\n",
    "    is_hungry = True\n",
    "\n",
    "    # Initializer / Instance attributes\n",
    "    def __init__(self, name, age):\n",
    "        self.name = name\n",
    "        self.age = age\n",
    "\n",
    "    # instance method\n",
    "    def description(self):\n",
    "        return \"{} is {} years old\".format(self.name, self.age)\n",
    "\n",
    "    # instance method\n",
    "    def speak(self, sound):\n",
    "        return \"{} says {}\".format(self.name, sound)\n",
    "    \n",
    "    #instance method\n",
    "    def set_species(self, string):\n",
    "        species = string\n",
    "        \n",
    "    #instance method\n",
    "    def eat( self ):\n",
    "        self.is_hungry = False\n",
    "\n",
    "# Child class (inherits from Dog class)\n",
    "class RussellTerrier(Dog):\n",
    "    def run(self, speed):\n",
    "        return \"{} runs {}\".format(self.name, speed)\n",
    "\n",
    "# Child class (inherits from Dog class)\n",
    "class Bulldog(Dog):\n",
    "    def run(self, speed):\n",
    "        return \"{} runs {}\".format(self.name, speed)\n",
    "    \n",
    "\n",
    "idontlikedogs = [ Dog( \"Luca\" , 22 ), RussellTerrier( \"Mauro\", 3 ), Bulldog( \"Alessio\", 100) ]\n",
    "print( \"I have {} dogs\".format( len(idontlikedogs) )  )\n",
    "for i in idontlikedogs: \n",
    "    print ( i.description() )\n",
    "    i.set_species( \"dogs\" )\n",
    "    #i.eat()\n",
    "    \n",
    "idontlikedogs[1].eat()\n",
    "\n",
    "print( \"And they are all {}, of course\".format( Dog.species ) )\n",
    "\n",
    "def ishungry( i ): return i.is_hungry\n",
    "\n",
    "def checkHungryandFeed(dogs):\n",
    "    if(list(filter( ishungry, dogs)) == []) :\n",
    "        print( \"My dogs are not hungry\")\n",
    "    else: \n",
    "        print(\"My dogs are hungry\")\n",
    "        for j in dogs: \n",
    "            if ( ishungry(j) ): \n",
    "                j.eat()\n",
    "                print( \"Now feeding\" , j.name)\n",
    "        print( \"No more hungry dogs\")\n",
    "    return dogs\n",
    "\n",
    "idontlikedogs=checkHungryandFeed(idontlikedogs)\n",
    "\n",
    "\n"
   ]
  }
 ],
 "metadata": {
  "kernelspec": {
   "display_name": "Python 3",
   "language": "python",
   "name": "python3"
  },
  "language_info": {
   "codemirror_mode": {
    "name": "ipython",
    "version": 3
   },
   "file_extension": ".py",
   "mimetype": "text/x-python",
   "name": "python",
   "nbconvert_exporter": "python",
   "pygments_lexer": "ipython3",
   "version": "3.8.5-final"
  }
 },
 "nbformat": 4,
 "nbformat_minor": 2
}