{
 "cells": [
  {
   "cell_type": "markdown",
   "metadata": {},
   "source": [
    "## How does this work?\n",
    "Modern machine learning algorithms employ a wide variety of techniques. Scaling these requires a similarly wide variety of different approaches. Generally solutions fall into the following three categories"
   ]
  },
  {
   "cell_type": "markdown",
   "metadata": {},
   "source": [
    "### Parallelize Scikit-Learn Directly\n",
    "Scikit-Learn already provides parallel computing on a single machine with Joblib. Dask extends this parallelism to many machines in a cluster. This works well for modest data sizes but large computations, such as random forests, hyper-parameter optimization, and more."
   ]
  },
  {
   "cell_type": "code",
   "execution_count": 1,
   "metadata": {},
   "outputs": [
    {
     "ename": "SyntaxError",
     "evalue": "unexpected EOF while parsing (<ipython-input-1-cbab69a5626e>, line 7)",
     "output_type": "error",
     "traceback": [
      "\u001b[0;36m  File \u001b[0;32m\"<ipython-input-1-cbab69a5626e>\"\u001b[0;36m, line \u001b[0;32m7\u001b[0m\n\u001b[0;31m    # Your normal scikit-learn code here\u001b[0m\n\u001b[0m                                        ^\u001b[0m\n\u001b[0;31mSyntaxError\u001b[0m\u001b[0;31m:\u001b[0m unexpected EOF while parsing\n"
     ]
    }
   ],
   "source": [
    "from dask.distributed import Client\n",
    "from sklearn.externals.joblib import parallel_backend\n",
    "\n",
    "client = Client()  # Connect to a Dask Cluster\n",
    "\n",
    "with parallel_backend('dask'):\n",
    "    # Your normal scikit-learn code here"
   ]
  },
  {
   "cell_type": "markdown",
   "metadata": {},
   "source": [
    "### Reimplement Scalable Algorithms with Dask Array\n",
    "Some machine learning algorithms are easy to write down as Numpy algorithms. In these cases we can replace Numpy arrays with Dask arrays to achieve scalable algorithms easily. This is employed for linear models, pre-processing, and clustering.\n",
    "\n",
    "\n"
   ]
  },
  {
   "cell_type": "markdown",
   "metadata": {},
   "source": [
    "### Train Models on Large Datasets\n",
    "Most estimators in scikit-learn are designed to work with NumPy arrays or scipy sparse matricies. These data structures must fit in the RAM on a single machine.\n",
    "\n",
    "Estimators implemented in Dask-ML work well with Dask Arrays and DataFrames. This can be much larger than a single machine’s RAM. They can be distributed in memory on a cluster of machines."
   ]
  },
  {
   "cell_type": "code",
   "execution_count": 3,
   "metadata": {},
   "outputs": [],
   "source": [
    "%matplotlib inline\n"
   ]
  },
  {
   "cell_type": "code",
   "execution_count": 4,
   "metadata": {},
   "outputs": [
    {
     "data": {
      "text/html": [
       "<table style=\"border: 2px solid white;\">\n",
       "<tr>\n",
       "<td style=\"vertical-align: top; border: 0px solid white\">\n",
       "<h3 style=\"text-align: left;\">Client</h3>\n",
       "<ul style=\"text-align: left; list-style: none; margin: 0; padding: 0;\">\n",
       "  <li><b>Scheduler: </b>tcp://127.0.0.1:44489</li>\n",
       "  <li><b>Dashboard: </b><a href='http://127.0.0.1:8787/status' target='_blank'>http://127.0.0.1:8787/status</a></li>\n",
       "</ul>\n",
       "</td>\n",
       "<td style=\"vertical-align: top; border: 0px solid white\">\n",
       "<h3 style=\"text-align: left;\">Cluster</h3>\n",
       "<ul style=\"text-align: left; list-style:none; margin: 0; padding: 0;\">\n",
       "  <li><b>Workers: </b>4</li>\n",
       "  <li><b>Cores: </b>8</li>\n",
       "  <li><b>Memory: </b>7.56 GiB</li>\n",
       "</ul>\n",
       "</td>\n",
       "</tr>\n",
       "</table>"
      ],
      "text/plain": [
       "<Client: 'tcp://127.0.0.1:44489' processes=4 threads=8, memory=7.56 GiB>"
      ]
     },
     "execution_count": 4,
     "metadata": {},
     "output_type": "execute_result"
    }
   ],
   "source": [
    "from dask.distributed import Client\n",
    "\n",
    "# Scale up: connect to your own cluster with more resources\n",
    "# see http://dask.pydata.org/en/latest/setup.html\n",
    "client = Client()\n",
    "client"
   ]
  },
  {
   "cell_type": "code",
   "execution_count": 5,
   "metadata": {},
   "outputs": [],
   "source": [
    "import dask_ml.datasets\n",
    "import dask_ml.cluster\n",
    "import matplotlib.pyplot as plt"
   ]
  },
  {
   "cell_type": "code",
   "execution_count": 6,
   "metadata": {},
   "outputs": [
    {
     "data": {
      "text/html": [
       "<table>\n",
       "<tr>\n",
       "<td>\n",
       "<table>\n",
       "  <thead>\n",
       "    <tr><td> </td><th> Array </th><th> Chunk </th></tr>\n",
       "  </thead>\n",
       "  <tbody>\n",
       "    <tr><th> Bytes </th><td> 15.26 MiB </td> <td> 1.53 MiB </td></tr>\n",
       "    <tr><th> Shape </th><td> (1000000, 2) </td> <td> (100000, 2) </td></tr>\n",
       "    <tr><th> Count </th><td> 10 Tasks </td><td> 10 Chunks </td></tr>\n",
       "    <tr><th> Type </th><td> float64 </td><td> numpy.ndarray </td></tr>\n",
       "  </tbody>\n",
       "</table>\n",
       "</td>\n",
       "<td>\n",
       "<svg width=\"75\" height=\"170\" style=\"stroke:rgb(0,0,0);stroke-width:1\" >\n",
       "\n",
       "  <!-- Horizontal lines -->\n",
       "  <line x1=\"0\" y1=\"0\" x2=\"25\" y2=\"0\" style=\"stroke-width:2\" />\n",
       "  <line x1=\"0\" y1=\"12\" x2=\"25\" y2=\"12\" />\n",
       "  <line x1=\"0\" y1=\"24\" x2=\"25\" y2=\"24\" />\n",
       "  <line x1=\"0\" y1=\"36\" x2=\"25\" y2=\"36\" />\n",
       "  <line x1=\"0\" y1=\"48\" x2=\"25\" y2=\"48\" />\n",
       "  <line x1=\"0\" y1=\"60\" x2=\"25\" y2=\"60\" />\n",
       "  <line x1=\"0\" y1=\"72\" x2=\"25\" y2=\"72\" />\n",
       "  <line x1=\"0\" y1=\"84\" x2=\"25\" y2=\"84\" />\n",
       "  <line x1=\"0\" y1=\"96\" x2=\"25\" y2=\"96\" />\n",
       "  <line x1=\"0\" y1=\"108\" x2=\"25\" y2=\"108\" />\n",
       "  <line x1=\"0\" y1=\"120\" x2=\"25\" y2=\"120\" style=\"stroke-width:2\" />\n",
       "\n",
       "  <!-- Vertical lines -->\n",
       "  <line x1=\"0\" y1=\"0\" x2=\"0\" y2=\"120\" style=\"stroke-width:2\" />\n",
       "  <line x1=\"25\" y1=\"0\" x2=\"25\" y2=\"120\" style=\"stroke-width:2\" />\n",
       "\n",
       "  <!-- Colored Rectangle -->\n",
       "  <polygon points=\"0.0,0.0 25.412616514582485,0.0 25.412616514582485,120.0 0.0,120.0\" style=\"fill:#ECB172A0;stroke-width:0\"/>\n",
       "\n",
       "  <!-- Text -->\n",
       "  <text x=\"12.706308\" y=\"140.000000\" font-size=\"1.0rem\" font-weight=\"100\" text-anchor=\"middle\" >2</text>\n",
       "  <text x=\"45.412617\" y=\"60.000000\" font-size=\"1.0rem\" font-weight=\"100\" text-anchor=\"middle\" transform=\"rotate(-90,45.412617,60.000000)\">1000000</text>\n",
       "</svg>\n",
       "</td>\n",
       "</tr>\n",
       "</table>"
      ],
      "text/plain": [
       "dask.array<concatenate, shape=(1000000, 2), dtype=float64, chunksize=(100000, 2), chunktype=numpy.ndarray>"
      ]
     },
     "execution_count": 6,
     "metadata": {},
     "output_type": "execute_result"
    }
   ],
   "source": [
    "# Scale up: increase n_samples or n_features\n",
    "X, y = dask_ml.datasets.make_blobs(n_samples=1000000,\n",
    "                                   chunks=100000,\n",
    "                                   random_state=0,\n",
    "                                   centers=3)\n",
    "X = X.persist()\n",
    "X"
   ]
  },
  {
   "cell_type": "code",
   "execution_count": null,
   "metadata": {},
   "outputs": [],
   "source": []
  },
  {
   "cell_type": "code",
   "execution_count": null,
   "metadata": {},
   "outputs": [],
   "source": []
  },
  {
   "cell_type": "code",
   "execution_count": 6,
   "metadata": {},
   "outputs": [
    {
     "data": {
      "text/plain": [
       "KMeans(init_max_iter=2, n_clusters=3, oversampling_factor=10)"
      ]
     },
     "execution_count": 6,
     "metadata": {},
     "output_type": "execute_result"
    }
   ],
   "source": [
    "km = dask_ml.cluster.KMeans(n_clusters=3, init_max_iter=2, oversampling_factor=10)\n",
    "km.fit(X)"
   ]
  },
  {
   "cell_type": "code",
   "execution_count": 7,
   "metadata": {},
   "outputs": [
    {
     "data": {
      "image/png": "[encoded data removed]",
      "text/plain": [
       "<Figure size 432x288 with 1 Axes>"
      ]
     },
     "metadata": {
      "needs_background": "light"
     },
     "output_type": "display_data"
    }
   ],
   "source": [
    "fig, ax = plt.subplots()\n",
    "ax.scatter(X[::1000, 0], X[::1000, 1], marker='.', c=km.labels_[::1000],\n",
    "           cmap='viridis', alpha=0.25);"
   ]
  },
  {
   "cell_type": "code",
   "execution_count": null,
   "metadata": {},
   "outputs": [
    {
     "name": "stdout",
     "output_type": "stream",
     "text": [
      "Accuracy sklearn (exact): 0.5105\n",
      "Accuracy dask-ml (approximate): 0.5315\n",
      "\n",
      "Accuracy sklearn (exact): 0.5054166666666666\n",
      "Accuracy dask-ml (approximate): 0.5583333333333333\n",
      "\n"
     ]
    }
   ],
   "source": [
    "from sklearn.datasets import make_circles\n",
    "from sklearn.utils import shuffle\n",
    "import pandas as pd\n",
    "\n",
    "from timeit import default_timer as tic\n",
    "import sklearn.cluster\n",
    "import dask_ml.cluster\n",
    "import numpy as np\n",
    "from dask_ml.model_selection import train_test_split\n",
    "#import seaborn as sns\n",
    "\n",
    "Ns = [10000, 12000, 20000, 30000]\n",
    "\n",
    "\n",
    "timings = []\n",
    "for n in Ns:\n",
    "    X, y = make_circles(n_samples=n, random_state=n, noise=0.5, factor=0.5)\n",
    "    X[np.isnan(X)]=1\n",
    "    X_train, X_test, y_train, y_test = train_test_split(X, y, random_state=0, test_size=0.2)\n",
    "    \n",
    "    \n",
    "    client.scatter(X_train)\n",
    "    client.scatter(y_train)\n",
    "    client.scatter(X_test)\n",
    "    client.scatter(y_test)\n",
    "    \n",
    "    t1 = tic()\n",
    "    try:\n",
    "        clf = sklearn.cluster.SpectralClustering(n_clusters=2,n_jobs=-1).fit(X_train)\n",
    "        timings.append(('Scikit-Learn (exact)', n, tic() - t1))\n",
    "        print(\"Accuracy sklearn (exact): \"+str(sklearn.metrics.accuracy_score(y_test, clf.fit_predict(X_test))))\n",
    "    except MemoryError as error:\n",
    "        timings.append(('Scikit-Learn (exact)', n, np.nan))\n",
    "        print(\"Accuracy sklearn (exact): \"+str(np.nan))\n",
    "    \n",
    "    \n",
    "    t1 = tic()\n",
    "    try:\n",
    "        clf = dask_ml.cluster.SpectralClustering(n_clusters=2, n_components=6, n_jobs=-1).fit(X_train) ##number of cluster workers\n",
    "        timings.append(('dask-ml (approximate)', n, tic() - t1))\n",
    "        print(\"Accuracy dask-ml (approximate): \"+str(sklearn.metrics.accuracy_score(y_test, clf.fit_predict(X_test))))\n",
    "    except ValueError as error:\n",
    "        timings.append(('dask-ml (approximate)', n, tic() - t1))\n",
    "        print(\"Accuracy dask-ml (approximate): \"+str(np.nan))\n",
    "    print()\n",
    "    \n",
    "\n",
    "\n"
   ]
  },
  {
   "cell_type": "markdown",
   "metadata": {},
   "source": [
    "Let's talk about a paramter of the algorithm. From Dask docs [Dask-ml](https://dask-ml.readthedocs.io/en/latest/modules/generated/dask_ml.cluster.SpectralClustering.html)\n",
    "n_components parameter is a necessary parameter in order tu distributed-parallelize some clsutering algorithm as SpectralClustering. It corresponds to the number of rows from X to use for the Nyström approximation. \n",
    "Larger n_components will improve the accuracy of the approximation, at the cost of a longer training time.\n",
    "\n",
    "Let's back to the previuos step and take a look to the  accuracy scores. \n",
    "\n",
    "Even though cluster takes less time than standard approach and even though in some cases it can give a result while standard approach can't, looking the scores, seems that cluster's results are slightly different from standard approach. \n",
    "\n",
    "This is due to the approximations that are necessary when you work on cluster. Sometimes this approximation may improve the final results, but in general it makes them worse.\n",
    "\n",
    "Many ML algorithms, in order to work properly with distributed computation needs to make some approximations.\n",
    "\n",
    "In other words, when you have to choose between distributed and standard approach, you have to take in consideration this aspect.\n",
    "\n",
    "N.B: this is an open field in research. Working with Big-data and distributed algorithms is never easy, but if you want to give your contribution to the research you're welcome!"
   ]
  },
  {
   "cell_type": "code",
   "execution_count": null,
   "metadata": {},
   "outputs": [],
   "source": [
    "import pandas as pd\n",
    "df = pd.DataFrame(timings, columns=['method', 'Number of Samples', 'Fit Time'])\n",
    "df.head()\n",
    "\n",
    "sk = df[df['method']=='Scikit-Learn (exact)']\n",
    "dk = df[df['method']=='dask-ml (approximate)']\n",
    "print(sk.head())\n",
    "print(dk.head())\n",
    "\n",
    "plt.figure(figsize=(20,5))\n",
    "plt.plot( dk['Number of Samples'].values, dk['Fit Time'].values, color='green')\n",
    "plt.plot(sk['Number of Samples'].values,sk['Fit Time'].values, color='blue')\n",
    "plt.xlabel('Number of elements')\n",
    "plt.ylabel('Time')\n",
    "plt.show()"
   ]
  },
  {
   "cell_type": "markdown",
   "metadata": {},
   "source": [
    "### What is it happened?"
   ]
  },
  {
   "cell_type": "markdown",
   "metadata": {},
   "source": [
    "While the cluster implementation has solved each task, the non-distributed cluster computation has increased the computation time of a factor ~10. Probably in some machines, with a number of elements greater than 12000 the process will be killed due to memory usage\n",
    "\n"
   ]
  },
  {
   "cell_type": "markdown",
   "metadata": {},
   "source": [
    "### Incremental Learning\n",
    "\n",
    "The incremental learning is a strategy in order to work with Big Data and distributed computation. The main idea is based on the fact that some estimators can be trained incrementally – without seeing the entire dataset at once. Scikit-Learn provdes the partial_fit API to stream batches of data to an estimator that can be fit in batches. Unfortunately, not all algorithms can be trained in this way.\n",
    "\n",
    "Normally, if you pass a Dask Array to an estimator expecting a NumPy array, the Dask Array will be converted to a single, large NumPy array. On a single machine, you’ll likely run out of RAM and crash the program. On a distributed cluster, all the workers will send their data to a single machine and crash it.\n",
    "\n",
    "```dask_ml.wrappers.Incremental``` provides a bridge between Dask and Scikit-Learn estimators supporting the ```partial_fit``` API. You wrap the underlying estimator in ```Incremental```. Dask-ML will sequentially pass each block of a Dask Array to the underlying estimator’s partial_fit method.\n",
    "\n",
    "#### Hint:\n",
    "```dask_ml.wrappers.Incremetnal``` currently does not work well with hyper-parameter optimization like ```sklearn.model_selection.GridSearchCV```\n",
    "\n",
    "### Wath are the Sklearn algorithms that support distributed computing with partial_fit?\n",
    "\n",
    "As you can find at this [link](https://scikit-learn.org/stable/modules/computing.html), the algorithms that support ```partial_fit``` are:\n",
    "\n",
    "+ Classification\n",
    "    - sklearn.naive_bayes.MultinomialNB\n",
    "    - sklearn.naive_bayes.BernoulliNB\n",
    "    - sklearn.linear_model.Perceptron\n",
    "    - sklearn.linear_model.SGDClassifier\n",
    "    - sklearn.linear_model.PassiveAggressiveClassifier\n",
    "    - sklearn.neural_network.MLPClassifier\n",
    "+ Regression\n",
    "    - sklearn.linear_model.SGDRegressor\n",
    "    - sklearn.linear_model.PassiveAggressiveRegressor\n",
    "    - sklearn.neural_network.MLPRegressor\n",
    "+ Clustering\n",
    "    - sklearn.cluster.MiniBatchKMeans\n",
    "    - sklearn.cluster.Birch\n",
    "+ Decomposition / feature Extraction\n",
    "    - sklearn.decomposition.MiniBatchDictionaryLearning\n",
    "    - sklearn.decomposition.IncrementalPCA\n",
    "    - sklearn.decomposition.LatentDirichletAllocation\n",
    "+ Preprocessing\n",
    "    - sklearn.preprocessing.StandardScaler\n",
    "    - sklearn.preprocessing.MinMaxScaler\n",
    "    - sklearn.preprocessing.MaxAbsScaler\n",
    "\n"
   ]
  },
  {
   "cell_type": "markdown",
   "metadata": {},
   "source": [
    "Let's try to do something with MLPClassifier"
   ]
  },
  {
   "cell_type": "code",
   "execution_count": 7,
   "metadata": {},
   "outputs": [],
   "source": [
    "from dask_ml.model_selection import train_test_split\n",
    "from dask_ml.datasets import make_classification\n",
    "from timeit import default_timer as tic\n",
    "\n",
    "X, y = make_classification(n_samples=5000000,  n_features=20, chunks=100000, random_state=42, class_sep=10)\n",
    "\n",
    "X_train, X_test, y_train, y_test = train_test_split(X, y, random_state=0, test_size=0.2)\n"
   ]
  },
  {
   "cell_type": "markdown",
   "metadata": {},
   "source": [
    "Let's try a simple neural network on the whole dataset:"
   ]
  },
  {
   "cell_type": "code",
   "execution_count": 8,
   "metadata": {},
   "outputs": [
    {
     "name": "stderr",
     "output_type": "stream",
     "text": [
      "/home/lorenzo/.local/lib/python3.8/site-packages/sklearn/neural_network/_multilayer_perceptron.py:587: UserWarning: Training interrupted by user.\n",
      "  warnings.warn(\"Training interrupted by user.\")\n",
      "distributed.nanny - WARNING - Restarting worker\n",
      "distributed.nanny - WARNING - Restarting worker\n",
      "distributed.nanny - WARNING - Restarting worker\n",
      "distributed.nanny - WARNING - Restarting worker\n"
     ]
    },
    {
     "name": "stdout",
     "output_type": "stream",
     "text": [
      "Accuracy: 0.634135\n",
      "Time: 59.17804875999991s\n"
     ]
    }
   ],
   "source": [
    "# If you are a hero, brave and fearless try to launch this process with 2000 iterations. \n",
    "# When you're done tell us how much time you've spent, \n",
    "# unless you've become too old to read!\n",
    "from dask.distributed import Client\n",
    "from sklearn.metrics import accuracy_score\n",
    "\n",
    "\n",
    "from sklearn.neural_network import MLPClassifier\n",
    "\n",
    "estimator = MLPClassifier(random_state=42, \n",
    "                          max_iter=1, \n",
    "                          hidden_layer_sizes=(200, 200 ), \n",
    "                          activation='relu', \n",
    "                          solver='adam', alpha=0.0001, \n",
    "                          batch_size='auto', \n",
    "                          learning_rate_init=0.001, \n",
    "                          shuffle=True, \n",
    "                          tol=0.0001, \n",
    "                          validation_fraction=0.1)\n",
    "t1 = tic()\n",
    "try:\n",
    "    estimator.fit(X, y)\n",
    "    t2 = tic()\n",
    "    print(\"Accuracy: \"+str(accuracy_score(y_test, estimator.predict(X_test))))\n",
    "    print(\"Time: \"+str(t2-t1)+\"s\")\n",
    "except MemoryError as error:\n",
    "    print(\"Memory error!!!\")"
   ]
  },
  {
   "cell_type": "markdown",
   "metadata": {},
   "source": [
    "For those that are mere mortals and are not heroes, let's see how much it uses the distributed training of a neural network!"
   ]
  },
  {
   "cell_type": "code",
   "execution_count": 10,
   "metadata": {},
   "outputs": [
    {
     "name": "stderr",
     "output_type": "stream",
     "text": [
      "/home/lorenzo/.local/lib/python3.8/site-packages/distributed/node.py:151: UserWarning: Port 8787 is already in use.\n",
      "Perhaps you already have a cluster running?\n",
      "Hosting the HTTP server on port 46471 instead\n",
      "  warnings.warn(\n"
     ]
    },
    {
     "ename": "KeyboardInterrupt",
     "evalue": "",
     "output_type": "error",
     "traceback": [
      "\u001b[0;31m---------------------------------------------------------------------------\u001b[0m",
      "\u001b[0;31mKeyboardInterrupt\u001b[0m                         Traceback (most recent call last)",
      "\u001b[0;32m<ipython-input-10-38d1ba5fd9e1>\u001b[0m in \u001b[0;36m<module>\u001b[0;34m\u001b[0m\n\u001b[1;32m     23\u001b[0m \u001b[0mt1\u001b[0m \u001b[0;34m=\u001b[0m \u001b[0mtic\u001b[0m\u001b[0;34m(\u001b[0m\u001b[0;34m)\u001b[0m\u001b[0;34m\u001b[0m\u001b[0;34m\u001b[0m\u001b[0m\n\u001b[1;32m     24\u001b[0m \u001b[0mclf\u001b[0m \u001b[0;34m=\u001b[0m \u001b[0mIncremental\u001b[0m\u001b[0;34m(\u001b[0m\u001b[0mestimator\u001b[0m\u001b[0;34m)\u001b[0m\u001b[0;34m\u001b[0m\u001b[0;34m\u001b[0m\u001b[0m\n\u001b[0;32m---> 25\u001b[0;31m \u001b[0mclf\u001b[0m\u001b[0;34m.\u001b[0m\u001b[0mfit\u001b[0m\u001b[0;34m(\u001b[0m\u001b[0mX\u001b[0m\u001b[0;34m,\u001b[0m \u001b[0my\u001b[0m\u001b[0;34m,\u001b[0m \u001b[0mclasses\u001b[0m\u001b[0;34m=\u001b[0m\u001b[0;34m[\u001b[0m\u001b[0;36m0\u001b[0m\u001b[0;34m,\u001b[0m \u001b[0;36m1\u001b[0m\u001b[0;34m]\u001b[0m\u001b[0;34m)\u001b[0m\u001b[0;34m\u001b[0m\u001b[0;34m\u001b[0m\u001b[0m\n\u001b[0m\u001b[1;32m     26\u001b[0m \u001b[0mt2\u001b[0m \u001b[0;34m=\u001b[0m \u001b[0mtic\u001b[0m\u001b[0;34m(\u001b[0m\u001b[0;34m)\u001b[0m\u001b[0;34m\u001b[0m\u001b[0;34m\u001b[0m\u001b[0m\n\u001b[1;32m     27\u001b[0m \u001b[0mprint\u001b[0m\u001b[0;34m(\u001b[0m\u001b[0;34m\"Accuracy: \"\u001b[0m\u001b[0;34m+\u001b[0m\u001b[0mstr\u001b[0m\u001b[0;34m(\u001b[0m\u001b[0msklearn\u001b[0m\u001b[0;34m.\u001b[0m\u001b[0mmetrics\u001b[0m\u001b[0;34m.\u001b[0m\u001b[0maccuracy_score\u001b[0m\u001b[0;34m(\u001b[0m\u001b[0my_test\u001b[0m\u001b[0;34m,\u001b[0m \u001b[0mclf\u001b[0m\u001b[0;34m.\u001b[0m\u001b[0mpredict\u001b[0m\u001b[0;34m(\u001b[0m\u001b[0mX_test\u001b[0m\u001b[0;34m)\u001b[0m\u001b[0;34m)\u001b[0m\u001b[0;34m)\u001b[0m\u001b[0;34m)\u001b[0m\u001b[0;34m\u001b[0m\u001b[0;34m\u001b[0m\u001b[0m\n",
      "\u001b[0;32m~/.local/lib/python3.8/site-packages/dask_ml/wrappers.py\u001b[0m in \u001b[0;36mfit\u001b[0;34m(self, X, y, **fit_kwargs)\u001b[0m\n\u001b[1;32m    493\u001b[0m     \u001b[0;32mdef\u001b[0m \u001b[0mfit\u001b[0m\u001b[0;34m(\u001b[0m\u001b[0mself\u001b[0m\u001b[0;34m,\u001b[0m \u001b[0mX\u001b[0m\u001b[0;34m,\u001b[0m \u001b[0my\u001b[0m\u001b[0;34m=\u001b[0m\u001b[0;32mNone\u001b[0m\u001b[0;34m,\u001b[0m \u001b[0;34m**\u001b[0m\u001b[0mfit_kwargs\u001b[0m\u001b[0;34m)\u001b[0m\u001b[0;34m:\u001b[0m\u001b[0;34m\u001b[0m\u001b[0;34m\u001b[0m\u001b[0m\n\u001b[1;32m    494\u001b[0m         \u001b[0mestimator\u001b[0m \u001b[0;34m=\u001b[0m \u001b[0msklearn\u001b[0m\u001b[0;34m.\u001b[0m\u001b[0mbase\u001b[0m\u001b[0;34m.\u001b[0m\u001b[0mclone\u001b[0m\u001b[0;34m(\u001b[0m\u001b[0mself\u001b[0m\u001b[0;34m.\u001b[0m\u001b[0mestimator\u001b[0m\u001b[0;34m)\u001b[0m\u001b[0;34m\u001b[0m\u001b[0;34m\u001b[0m\u001b[0m\n\u001b[0;32m--> 495\u001b[0;31m         \u001b[0mself\u001b[0m\u001b[0;34m.\u001b[0m\u001b[0m_fit_for_estimator\u001b[0m\u001b[0;34m(\u001b[0m\u001b[0mestimator\u001b[0m\u001b[0;34m,\u001b[0m \u001b[0mX\u001b[0m\u001b[0;34m,\u001b[0m \u001b[0my\u001b[0m\u001b[0;34m,\u001b[0m \u001b[0;34m**\u001b[0m\u001b[0mfit_kwargs\u001b[0m\u001b[0;34m)\u001b[0m\u001b[0;34m\u001b[0m\u001b[0;34m\u001b[0m\u001b[0m\n\u001b[0m\u001b[1;32m    496\u001b[0m         \u001b[0;32mreturn\u001b[0m \u001b[0mself\u001b[0m\u001b[0;34m\u001b[0m\u001b[0;34m\u001b[0m\u001b[0m\n\u001b[1;32m    497\u001b[0m \u001b[0;34m\u001b[0m\u001b[0m\n",
      "\u001b[0;32m~/.local/lib/python3.8/site-packages/dask_ml/wrappers.py\u001b[0m in \u001b[0;36m_fit_for_estimator\u001b[0;34m(self, estimator, X, y, **fit_kwargs)\u001b[0m\n\u001b[1;32m    477\u001b[0m             \u001b[0mresult\u001b[0m \u001b[0;34m=\u001b[0m \u001b[0mestimator\u001b[0m\u001b[0;34m.\u001b[0m\u001b[0mpartial_fit\u001b[0m\u001b[0;34m(\u001b[0m\u001b[0mX\u001b[0m\u001b[0;34m=\u001b[0m\u001b[0mX\u001b[0m\u001b[0;34m,\u001b[0m \u001b[0my\u001b[0m\u001b[0;34m=\u001b[0m\u001b[0my\u001b[0m\u001b[0;34m,\u001b[0m \u001b[0;34m**\u001b[0m\u001b[0mfit_kwargs\u001b[0m\u001b[0;34m)\u001b[0m\u001b[0;34m\u001b[0m\u001b[0;34m\u001b[0m\u001b[0m\n\u001b[1;32m    478\u001b[0m         \u001b[0;32melse\u001b[0m\u001b[0;34m:\u001b[0m\u001b[0;34m\u001b[0m\u001b[0;34m\u001b[0m\u001b[0m\n\u001b[0;32m--> 479\u001b[0;31m             result = fit(\n\u001b[0m\u001b[1;32m    480\u001b[0m                 \u001b[0mestimator\u001b[0m\u001b[0;34m,\u001b[0m\u001b[0;34m\u001b[0m\u001b[0;34m\u001b[0m\u001b[0m\n\u001b[1;32m    481\u001b[0m                 \u001b[0mX\u001b[0m\u001b[0;34m,\u001b[0m\u001b[0;34m\u001b[0m\u001b[0;34m\u001b[0m\u001b[0m\n",
      "\u001b[0;32m~/.local/lib/python3.8/site-packages/dask_ml/_partial.py\u001b[0m in \u001b[0;36mfit\u001b[0;34m(model, x, y, compute, shuffle_blocks, random_state, assume_equal_chunks, **kwargs)\u001b[0m\n\u001b[1;32m    137\u001b[0m \u001b[0;34m\u001b[0m\u001b[0m\n\u001b[1;32m    138\u001b[0m     \u001b[0;32mif\u001b[0m \u001b[0mcompute\u001b[0m\u001b[0;34m:\u001b[0m\u001b[0;34m\u001b[0m\u001b[0;34m\u001b[0m\u001b[0m\n\u001b[0;32m--> 139\u001b[0;31m         \u001b[0;32mreturn\u001b[0m \u001b[0mvalue\u001b[0m\u001b[0;34m.\u001b[0m\u001b[0mcompute\u001b[0m\u001b[0;34m(\u001b[0m\u001b[0;34m)\u001b[0m\u001b[0;34m\u001b[0m\u001b[0;34m\u001b[0m\u001b[0m\n\u001b[0m\u001b[1;32m    140\u001b[0m     \u001b[0;32melse\u001b[0m\u001b[0;34m:\u001b[0m\u001b[0;34m\u001b[0m\u001b[0;34m\u001b[0m\u001b[0m\n\u001b[1;32m    141\u001b[0m         \u001b[0;32mreturn\u001b[0m \u001b[0mvalue\u001b[0m\u001b[0;34m\u001b[0m\u001b[0;34m\u001b[0m\u001b[0m\n",
      "\u001b[0;32m~/.local/lib/python3.8/site-packages/dask/base.py\u001b[0m in \u001b[0;36mcompute\u001b[0;34m(self, **kwargs)\u001b[0m\n\u001b[1;32m    283\u001b[0m         \u001b[0mdask\u001b[0m\u001b[0;34m.\u001b[0m\u001b[0mbase\u001b[0m\u001b[0;34m.\u001b[0m\u001b[0mcompute\u001b[0m\u001b[0;34m\u001b[0m\u001b[0;34m\u001b[0m\u001b[0m\n\u001b[1;32m    284\u001b[0m         \"\"\"\n\u001b[0;32m--> 285\u001b[0;31m         \u001b[0;34m(\u001b[0m\u001b[0mresult\u001b[0m\u001b[0;34m,\u001b[0m\u001b[0;34m)\u001b[0m \u001b[0;34m=\u001b[0m \u001b[0mcompute\u001b[0m\u001b[0;34m(\u001b[0m\u001b[0mself\u001b[0m\u001b[0;34m,\u001b[0m \u001b[0mtraverse\u001b[0m\u001b[0;34m=\u001b[0m\u001b[0;32mFalse\u001b[0m\u001b[0;34m,\u001b[0m \u001b[0;34m**\u001b[0m\u001b[0mkwargs\u001b[0m\u001b[0;34m)\u001b[0m\u001b[0;34m\u001b[0m\u001b[0;34m\u001b[0m\u001b[0m\n\u001b[0m\u001b[1;32m    286\u001b[0m         \u001b[0;32mreturn\u001b[0m \u001b[0mresult\u001b[0m\u001b[0;34m\u001b[0m\u001b[0;34m\u001b[0m\u001b[0m\n\u001b[1;32m    287\u001b[0m \u001b[0;34m\u001b[0m\u001b[0m\n",
      "\u001b[0;32m~/.local/lib/python3.8/site-packages/dask/base.py\u001b[0m in \u001b[0;36mcompute\u001b[0;34m(*args, **kwargs)\u001b[0m\n\u001b[1;32m    565\u001b[0m         \u001b[0mpostcomputes\u001b[0m\u001b[0;34m.\u001b[0m\u001b[0mappend\u001b[0m\u001b[0;34m(\u001b[0m\u001b[0mx\u001b[0m\u001b[0;34m.\u001b[0m\u001b[0m__dask_postcompute__\u001b[0m\u001b[0;34m(\u001b[0m\u001b[0;34m)\u001b[0m\u001b[0;34m)\u001b[0m\u001b[0;34m\u001b[0m\u001b[0;34m\u001b[0m\u001b[0m\n\u001b[1;32m    566\u001b[0m \u001b[0;34m\u001b[0m\u001b[0m\n\u001b[0;32m--> 567\u001b[0;31m     \u001b[0mresults\u001b[0m \u001b[0;34m=\u001b[0m \u001b[0mschedule\u001b[0m\u001b[0;34m(\u001b[0m\u001b[0mdsk\u001b[0m\u001b[0;34m,\u001b[0m \u001b[0mkeys\u001b[0m\u001b[0;34m,\u001b[0m \u001b[0;34m**\u001b[0m\u001b[0mkwargs\u001b[0m\u001b[0;34m)\u001b[0m\u001b[0;34m\u001b[0m\u001b[0;34m\u001b[0m\u001b[0m\n\u001b[0m\u001b[1;32m    568\u001b[0m     \u001b[0;32mreturn\u001b[0m \u001b[0mrepack\u001b[0m\u001b[0;34m(\u001b[0m\u001b[0;34m[\u001b[0m\u001b[0mf\u001b[0m\u001b[0;34m(\u001b[0m\u001b[0mr\u001b[0m\u001b[0;34m,\u001b[0m \u001b[0;34m*\u001b[0m\u001b[0ma\u001b[0m\u001b[0;34m)\u001b[0m \u001b[0;32mfor\u001b[0m \u001b[0mr\u001b[0m\u001b[0;34m,\u001b[0m \u001b[0;34m(\u001b[0m\u001b[0mf\u001b[0m\u001b[0;34m,\u001b[0m \u001b[0ma\u001b[0m\u001b[0;34m)\u001b[0m \u001b[0;32min\u001b[0m \u001b[0mzip\u001b[0m\u001b[0;34m(\u001b[0m\u001b[0mresults\u001b[0m\u001b[0;34m,\u001b[0m \u001b[0mpostcomputes\u001b[0m\u001b[0;34m)\u001b[0m\u001b[0;34m]\u001b[0m\u001b[0;34m)\u001b[0m\u001b[0;34m\u001b[0m\u001b[0;34m\u001b[0m\u001b[0m\n\u001b[1;32m    569\u001b[0m \u001b[0;34m\u001b[0m\u001b[0m\n",
      "\u001b[0;32m~/.local/lib/python3.8/site-packages/distributed/client.py\u001b[0m in \u001b[0;36mget\u001b[0;34m(self, dsk, keys, workers, allow_other_workers, resources, sync, asynchronous, direct, retries, priority, fifo_timeout, actors, **kwargs)\u001b[0m\n\u001b[1;32m   2664\u001b[0m                     \u001b[0mshould_rejoin\u001b[0m \u001b[0;34m=\u001b[0m \u001b[0;32mFalse\u001b[0m\u001b[0;34m\u001b[0m\u001b[0;34m\u001b[0m\u001b[0m\n\u001b[1;32m   2665\u001b[0m             \u001b[0;32mtry\u001b[0m\u001b[0;34m:\u001b[0m\u001b[0;34m\u001b[0m\u001b[0;34m\u001b[0m\u001b[0m\n\u001b[0;32m-> 2666\u001b[0;31m                 \u001b[0mresults\u001b[0m \u001b[0;34m=\u001b[0m \u001b[0mself\u001b[0m\u001b[0;34m.\u001b[0m\u001b[0mgather\u001b[0m\u001b[0;34m(\u001b[0m\u001b[0mpacked\u001b[0m\u001b[0;34m,\u001b[0m \u001b[0masynchronous\u001b[0m\u001b[0;34m=\u001b[0m\u001b[0masynchronous\u001b[0m\u001b[0;34m,\u001b[0m \u001b[0mdirect\u001b[0m\u001b[0;34m=\u001b[0m\u001b[0mdirect\u001b[0m\u001b[0;34m)\u001b[0m\u001b[0;34m\u001b[0m\u001b[0;34m\u001b[0m\u001b[0m\n\u001b[0m\u001b[1;32m   2667\u001b[0m             \u001b[0;32mfinally\u001b[0m\u001b[0;34m:\u001b[0m\u001b[0;34m\u001b[0m\u001b[0;34m\u001b[0m\u001b[0m\n\u001b[1;32m   2668\u001b[0m                 \u001b[0;32mfor\u001b[0m \u001b[0mf\u001b[0m \u001b[0;32min\u001b[0m \u001b[0mfutures\u001b[0m\u001b[0;34m.\u001b[0m\u001b[0mvalues\u001b[0m\u001b[0;34m(\u001b[0m\u001b[0;34m)\u001b[0m\u001b[0;34m:\u001b[0m\u001b[0;34m\u001b[0m\u001b[0;34m\u001b[0m\u001b[0m\n",
      "\u001b[0;32m~/.local/lib/python3.8/site-packages/distributed/client.py\u001b[0m in \u001b[0;36mgather\u001b[0;34m(self, futures, errors, direct, asynchronous)\u001b[0m\n\u001b[1;32m   1973\u001b[0m             \u001b[0;32melse\u001b[0m\u001b[0;34m:\u001b[0m\u001b[0;34m\u001b[0m\u001b[0;34m\u001b[0m\u001b[0m\n\u001b[1;32m   1974\u001b[0m                 \u001b[0mlocal_worker\u001b[0m \u001b[0;34m=\u001b[0m \u001b[0;32mNone\u001b[0m\u001b[0;34m\u001b[0m\u001b[0;34m\u001b[0m\u001b[0m\n\u001b[0;32m-> 1975\u001b[0;31m             return self.sync(\n\u001b[0m\u001b[1;32m   1976\u001b[0m                 \u001b[0mself\u001b[0m\u001b[0;34m.\u001b[0m\u001b[0m_gather\u001b[0m\u001b[0;34m,\u001b[0m\u001b[0;34m\u001b[0m\u001b[0;34m\u001b[0m\u001b[0m\n\u001b[1;32m   1977\u001b[0m                 \u001b[0mfutures\u001b[0m\u001b[0;34m,\u001b[0m\u001b[0;34m\u001b[0m\u001b[0;34m\u001b[0m\u001b[0m\n",
      "\u001b[0;32m~/.local/lib/python3.8/site-packages/distributed/client.py\u001b[0m in \u001b[0;36msync\u001b[0;34m(self, func, asynchronous, callback_timeout, *args, **kwargs)\u001b[0m\n\u001b[1;32m    841\u001b[0m             \u001b[0;32mreturn\u001b[0m \u001b[0mfuture\u001b[0m\u001b[0;34m\u001b[0m\u001b[0;34m\u001b[0m\u001b[0m\n\u001b[1;32m    842\u001b[0m         \u001b[0;32melse\u001b[0m\u001b[0;34m:\u001b[0m\u001b[0;34m\u001b[0m\u001b[0;34m\u001b[0m\u001b[0m\n\u001b[0;32m--> 843\u001b[0;31m             return sync(\n\u001b[0m\u001b[1;32m    844\u001b[0m                 \u001b[0mself\u001b[0m\u001b[0;34m.\u001b[0m\u001b[0mloop\u001b[0m\u001b[0;34m,\u001b[0m \u001b[0mfunc\u001b[0m\u001b[0;34m,\u001b[0m \u001b[0;34m*\u001b[0m\u001b[0margs\u001b[0m\u001b[0;34m,\u001b[0m \u001b[0mcallback_timeout\u001b[0m\u001b[0;34m=\u001b[0m\u001b[0mcallback_timeout\u001b[0m\u001b[0;34m,\u001b[0m \u001b[0;34m**\u001b[0m\u001b[0mkwargs\u001b[0m\u001b[0;34m\u001b[0m\u001b[0;34m\u001b[0m\u001b[0m\n\u001b[1;32m    845\u001b[0m             )\n",
      "\u001b[0;32m~/.local/lib/python3.8/site-packages/distributed/utils.py\u001b[0m in \u001b[0;36msync\u001b[0;34m(loop, func, callback_timeout, *args, **kwargs)\u001b[0m\n\u001b[1;32m    348\u001b[0m     \u001b[0;32melse\u001b[0m\u001b[0;34m:\u001b[0m\u001b[0;34m\u001b[0m\u001b[0;34m\u001b[0m\u001b[0m\n\u001b[1;32m    349\u001b[0m         \u001b[0;32mwhile\u001b[0m \u001b[0;32mnot\u001b[0m \u001b[0me\u001b[0m\u001b[0;34m.\u001b[0m\u001b[0mis_set\u001b[0m\u001b[0;34m(\u001b[0m\u001b[0;34m)\u001b[0m\u001b[0;34m:\u001b[0m\u001b[0;34m\u001b[0m\u001b[0;34m\u001b[0m\u001b[0m\n\u001b[0;32m--> 350\u001b[0;31m             \u001b[0me\u001b[0m\u001b[0;34m.\u001b[0m\u001b[0mwait\u001b[0m\u001b[0;34m(\u001b[0m\u001b[0;36m10\u001b[0m\u001b[0;34m)\u001b[0m\u001b[0;34m\u001b[0m\u001b[0;34m\u001b[0m\u001b[0m\n\u001b[0m\u001b[1;32m    351\u001b[0m     \u001b[0;32mif\u001b[0m \u001b[0merror\u001b[0m\u001b[0;34m[\u001b[0m\u001b[0;36m0\u001b[0m\u001b[0;34m]\u001b[0m\u001b[0;34m:\u001b[0m\u001b[0;34m\u001b[0m\u001b[0;34m\u001b[0m\u001b[0m\n\u001b[1;32m    352\u001b[0m         \u001b[0mtyp\u001b[0m\u001b[0;34m,\u001b[0m \u001b[0mexc\u001b[0m\u001b[0;34m,\u001b[0m \u001b[0mtb\u001b[0m \u001b[0;34m=\u001b[0m \u001b[0merror\u001b[0m\u001b[0;34m[\u001b[0m\u001b[0;36m0\u001b[0m\u001b[0;34m]\u001b[0m\u001b[0;34m\u001b[0m\u001b[0;34m\u001b[0m\u001b[0m\n",
      "\u001b[0;32m/usr/lib/python3.8/threading.py\u001b[0m in \u001b[0;36mwait\u001b[0;34m(self, timeout)\u001b[0m\n\u001b[1;32m    556\u001b[0m             \u001b[0msignaled\u001b[0m \u001b[0;34m=\u001b[0m \u001b[0mself\u001b[0m\u001b[0;34m.\u001b[0m\u001b[0m_flag\u001b[0m\u001b[0;34m\u001b[0m\u001b[0;34m\u001b[0m\u001b[0m\n\u001b[1;32m    557\u001b[0m             \u001b[0;32mif\u001b[0m \u001b[0;32mnot\u001b[0m \u001b[0msignaled\u001b[0m\u001b[0;34m:\u001b[0m\u001b[0;34m\u001b[0m\u001b[0;34m\u001b[0m\u001b[0m\n\u001b[0;32m--> 558\u001b[0;31m                 \u001b[0msignaled\u001b[0m \u001b[0;34m=\u001b[0m \u001b[0mself\u001b[0m\u001b[0;34m.\u001b[0m\u001b[0m_cond\u001b[0m\u001b[0;34m.\u001b[0m\u001b[0mwait\u001b[0m\u001b[0;34m(\u001b[0m\u001b[0mtimeout\u001b[0m\u001b[0;34m)\u001b[0m\u001b[0;34m\u001b[0m\u001b[0;34m\u001b[0m\u001b[0m\n\u001b[0m\u001b[1;32m    559\u001b[0m             \u001b[0;32mreturn\u001b[0m \u001b[0msignaled\u001b[0m\u001b[0;34m\u001b[0m\u001b[0;34m\u001b[0m\u001b[0m\n\u001b[1;32m    560\u001b[0m \u001b[0;34m\u001b[0m\u001b[0m\n",
      "\u001b[0;32m/usr/lib/python3.8/threading.py\u001b[0m in \u001b[0;36mwait\u001b[0;34m(self, timeout)\u001b[0m\n\u001b[1;32m    304\u001b[0m             \u001b[0;32melse\u001b[0m\u001b[0;34m:\u001b[0m\u001b[0;34m\u001b[0m\u001b[0;34m\u001b[0m\u001b[0m\n\u001b[1;32m    305\u001b[0m                 \u001b[0;32mif\u001b[0m \u001b[0mtimeout\u001b[0m \u001b[0;34m>\u001b[0m \u001b[0;36m0\u001b[0m\u001b[0;34m:\u001b[0m\u001b[0;34m\u001b[0m\u001b[0;34m\u001b[0m\u001b[0m\n\u001b[0;32m--> 306\u001b[0;31m                     \u001b[0mgotit\u001b[0m \u001b[0;34m=\u001b[0m \u001b[0mwaiter\u001b[0m\u001b[0;34m.\u001b[0m\u001b[0macquire\u001b[0m\u001b[0;34m(\u001b[0m\u001b[0;32mTrue\u001b[0m\u001b[0;34m,\u001b[0m \u001b[0mtimeout\u001b[0m\u001b[0;34m)\u001b[0m\u001b[0;34m\u001b[0m\u001b[0;34m\u001b[0m\u001b[0m\n\u001b[0m\u001b[1;32m    307\u001b[0m                 \u001b[0;32melse\u001b[0m\u001b[0;34m:\u001b[0m\u001b[0;34m\u001b[0m\u001b[0;34m\u001b[0m\u001b[0m\n\u001b[1;32m    308\u001b[0m                     \u001b[0mgotit\u001b[0m \u001b[0;34m=\u001b[0m \u001b[0mwaiter\u001b[0m\u001b[0;34m.\u001b[0m\u001b[0macquire\u001b[0m\u001b[0;34m(\u001b[0m\u001b[0;32mFalse\u001b[0m\u001b[0;34m)\u001b[0m\u001b[0;34m\u001b[0m\u001b[0;34m\u001b[0m\u001b[0m\n",
      "\u001b[0;31mKeyboardInterrupt\u001b[0m: "
     ]
    }
   ],
   "source": [
    "from sklearn.neural_network import MLPClassifier\n",
    "import sklearn.cluster\n",
    "import dask_ml.cluster\n",
    "from dask.distributed import Client\n",
    "\n",
    "from dask_ml.wrappers import Incremental\n",
    "client = Client()\n",
    "client\n",
    "\n",
    "\n",
    "\n",
    "estimator = MLPClassifier(random_state=42, \n",
    "                          max_iter=2000, \n",
    "                          hidden_layer_sizes=(200, 200 ), \n",
    "                          activation='relu', \n",
    "                          solver='adam', alpha=0.0001, \n",
    "                          batch_size='auto', \n",
    "                          learning_rate_init=0.001, \n",
    "                          shuffle=True, \n",
    "                          tol=0.0001, \n",
    "                          validation_fraction=0.1)\n",
    "\n",
    "t1 = tic()\n",
    "clf = Incremental(estimator)\n",
    "clf.fit(X, y, classes=[0, 1])\n",
    "t2 = tic()\n",
    "print(\"Accuracy: \"+str(sklearn.metrics.accuracy_score(y_test, clf.predict(X_test))))\n",
    "print(\"Time: \"+str(t2-t1)+\"s\")\n"
   ]
  },
  {
   "cell_type": "markdown",
   "metadata": {},
   "source": [
    "## Parallel and distributed Learning with JobLib\n",
    "\n",
    "Due to Sklearn implement multithreaded algorithms like the RandomForest one, it's possible to distribute the computation across the cluster in order to speedup the training.\n",
    "Attention! This is a differnt approach, this approach is intended to improve the speed performances not to deal with big data!\n",
    "\n",
    "Let's see an example:\n"
   ]
  },
  {
   "cell_type": "code",
   "execution_count": null,
   "metadata": {},
   "outputs": [],
   "source": [
    "from dask_ml.model_selection import train_test_split\n",
    "from dask_ml.datasets import make_classification\n",
    "from timeit import default_timer as tic\n",
    "from dask.distributed import Client\n",
    "client = Client('dask-scheduler:8786')\n",
    "client\n",
    "X, y = make_classification(n_samples=60000,  n_features=10, chunks=10000, random_state=42)\n",
    "\n",
    "X_train, X_test, y_train, y_test = train_test_split(X, y, random_state=0, test_size=0.2)\n",
    "\n",
    "client.persist(X_train)\n",
    "client.persist(y_train)"
   ]
  },
  {
   "cell_type": "code",
   "execution_count": null,
   "metadata": {},
   "outputs": [],
   "source": [
    "from joblib import parallel_backend\n",
    "from sklearn.ensemble import RandomForestClassifier\n",
    "from sklearn.metrics import accuracy_score\n",
    "from dask.distributed import Client\n",
    "try:\n",
    "    t1 = tic()\n",
    "    clf = RandomForestClassifier(n_estimators=1000, max_depth=10, n_jobs=2,  random_state=0)\n",
    "    clf.fit(X_train, y_train)\n",
    "    t2 = tic()\n",
    "    print(\"Accuracy: \"+str(accuracy_score(y_test, clf.predict(X_test))))\n",
    "    print(\"Time: \"+str(t2-t1)+\"s\") \n",
    "except MemoryError as error:\n",
    "    print(\"Memory error!!!\")\n",
    "    \n",
    "client = Client('dask-scheduler:8786')\n",
    "client\n",
    "## n_jobs = -1 means that the algorithm may use all the CPU resources available.\n",
    "## By using dask scheduler all the CPU resources become \"all the Cluster resources\"!\n",
    "with parallel_backend('dask'):\n",
    "    t1 = tic()\n",
    "    clf = RandomForestClassifier(n_jobs=-1, n_estimators=1000, max_depth=10,   random_state=0)\n",
    "    clf.fit(X_train, y_train)\n",
    "    t2 = tic()\n",
    "    print(\"Accuracy: \"+str(accuracy_score(y_test, clf.predict(X_test))))\n",
    "    print(\"Time: \"+str(t2-t1)+\"s\") "
   ]
  },
  {
   "cell_type": "markdown",
   "metadata": {},
   "source": [
    "Another Algorithm that can be distriuted in this way is the KNeighborsClassifier (more info [here](https://scikit-learn.org/stable/modules/generated/sklearn.neighbors.KNeighborsClassifier.html#sklearn.neighbors.KNeighborsClassifier)).\n",
    "\n",
    "Let's see an exmaple"
   ]
  },
  {
   "cell_type": "code",
   "execution_count": null,
   "metadata": {},
   "outputs": [],
   "source": [
    "from dask_ml.model_selection import train_test_split\n",
    "from dask_ml.datasets import make_classification\n",
    "from timeit import default_timer as tic\n",
    "\n",
    "X, y = make_classification(n_samples=60000,  n_features=10, chunks=10000, random_state=42)\n",
    "\n",
    "X_train, X_test, y_train, y_test = train_test_split(X, y, random_state=0, test_size=0.2)\n",
    "\n",
    "client.persist(X_train)\n",
    "client.persist(y_train)"
   ]
  },
  {
   "cell_type": "code",
   "execution_count": null,
   "metadata": {},
   "outputs": [],
   "source": [
    "from joblib import parallel_backend\n",
    "from sklearn.neighbors import KNeighborsClassifier\n",
    "\n",
    "try:\n",
    "    t1 = tic()\n",
    "    clf = KNeighborsClassifier(n_jobs=1, n_neighbors=6, leaf_size=40, algorithm='auto')\n",
    "    clf.fit(X_train, y_train)\n",
    "    t2 = tic()\n",
    "    print(\"Accuracy: \"+str(sklearn.metrics.accuracy_score(y_test, clf.predict(X_test))))\n",
    "    print(\"Time: \"+str(t2-t1)+\"s\") \n",
    "except MemoryError as error:\n",
    "    print(\"Memory error!!!\")\n",
    "    \n",
    "client = Client('dask-scheduler:8786')\n",
    "client\n",
    "## n_jobs = -1 means that the algorithm may use all the CPU resources available.\n",
    "## By using dask scheduler all the CPU resources become \"all the Cluster resources\"!\n",
    "with parallel_backend('dask'):\n",
    "    t1 = tic()\n",
    "    clf = KNeighborsClassifier(n_jobs=-1, n_neighbors=6, leaf_size=40, algorithm='auto')\n",
    "    clf.fit(X_train, y_train)\n",
    "    t2 = tic()\n",
    "    print(\"Accuracy: \"+str(sklearn.metrics.accuracy_score(y_test, clf.predict(X_test))))\n",
    "    print(\"Time: \"+str(t2-t1)+\"s\") "
   ]
  },
  {
   "cell_type": "markdown",
   "metadata": {},
   "source": [
    "## Transformers\n",
    "\n",
    "Machine learning algorithms often need to rescale/transform the features of your dataset elements. Especially when you have a dataset with different features that have different magnitudes. Sklearn contains a lot of transformers (aka Scaler) in order to solve these tasks. Anyway, even though the transformations are easy and in the majority of cases perform simple statistical operations, with Big data this become a huge problem.\n",
    "\n",
    "Similar to the pure ML Algorithms, even for those transformers are not completely supported. At the time of writing this lectures the available distributed transformer are:\n",
    "+ [StandardScaler](https://scikit-learn.org/stable/modules/generated/sklearn.preprocessing.StandardScaler.html)\n",
    "+ [MinMaxScaler](https://scikit-learn.org/stable/modules/generated/sklearn.preprocessing.MinMaxScaler.html)\n",
    "+ [MaxAbsScaler](https://scikit-learn.org/stable/modules/generated/sklearn.preprocessing.MaxAbsScaler.html)\n",
    "+ [RobustScaler](https://scikit-learn.org/stable/modules/generated/sklearn.preprocessing.RobustScaler.html)\n",
    "\n",
    "Let's try with MinMaxScaler. As reported in [SklearnDocs](https://scikit-learn.org/stable/modules/generated/sklearn.preprocessing.MinMaxScaler.html), MinMaxScaler transforms features by scaling each feature to a given range. e.g. between zero and one. The default range is 0 and 1.\n"
   ]
  },
  {
   "cell_type": "code",
   "execution_count": null,
   "metadata": {},
   "outputs": [],
   "source": [
    "\n",
    "t1 = tic()\n",
    "transformer = sklearn.preprocessing.MinMaxScaler(feature_range=(0, 1), copy=True)\n",
    "X_train = transformer.fit_transform(X_train)\n",
    "t2 = tic()\n",
    "print(\"Time: \"+str(t2-t1)+\"s\")\n",
    "X_train"
   ]
  },
  {
   "cell_type": "markdown",
   "metadata": {},
   "source": [
    "Let's try with distributed computation"
   ]
  },
  {
   "cell_type": "code",
   "execution_count": null,
   "metadata": {},
   "outputs": [],
   "source": [
    "from dask_ml.preprocessing import MinMaxScaler\n",
    "t1 = tic()\n",
    "transformer = MinMaxScaler(feature_range=(0, 1), copy=True)\n",
    "X_train = transformer.fit_transform(X_train)\n",
    "t2 = tic()\n",
    "print(\"Time: \"+str(t2-t1)+\"s\")\n",
    "X_train"
   ]
  },
  {
   "cell_type": "markdown",
   "metadata": {},
   "source": [
    "The distributed variant have took 1/10 of the inital time!!\n",
    "Attention! Even thought those scaler implement the ```partial_fit``` method, they cannot be used with IncreamentalLerning, let's see why:"
   ]
  },
  {
   "cell_type": "code",
   "execution_count": null,
   "metadata": {},
   "outputs": [],
   "source": [
    "from dask_ml.wrappers import Incremental\n",
    "t1 = tic()\n",
    "transformer = sklearn.preprocessing.MinMaxScaler(feature_range=(0, 1), copy=True)\n",
    "estimator = Incremental(transformer).fit(X_train)\n",
    "X_train_inc = estimator.transform(X_train)\n",
    "t2 = tic()\n",
    "print(\"Time: \"+str(t2-t1)+\"s\")\n",
    "X_train_inc"
   ]
  },
  {
   "cell_type": "markdown",
   "metadata": {},
   "source": [
    "Ok, now that we have understand how work the distributed machine learning training and the transformation processes, let's try to merge them together an see the differences in terms of time:"
   ]
  },
  {
   "cell_type": "code",
   "execution_count": null,
   "metadata": {},
   "outputs": [],
   "source": [
    "from dask_ml.model_selection import train_test_split\n",
    "from dask_ml.datasets import make_classification\n",
    "from timeit import default_timer as tic\n",
    "\n",
    "X, y = make_classification(n_samples=5000000,  n_features=20, chunks=100000, random_state=42)\n",
    "\n",
    "X_train, X_test, y_train, y_test = train_test_split(X, y, random_state=0, test_size=0.2)"
   ]
  },
  {
   "cell_type": "code",
   "execution_count": null,
   "metadata": {},
   "outputs": [],
   "source": [
    "from sklearn.neural_network import MLPClassifier\n",
    "\n",
    "transformer = sklearn.preprocessing.MinMaxScaler(feature_range=(0, 1), copy=True)\n",
    "transformer.fit(X_train)\n",
    "\n",
    "X_train = transformer.transform(X_train)\n",
    "X_test = transformer.transform(X_test)\n",
    "\n",
    "estimator = MLPClassifier(random_state=42, \n",
    "                          max_iter=1, \n",
    "                          hidden_layer_sizes=(200, 200 ), \n",
    "                          activation='relu', \n",
    "                          solver='adam', alpha=0.0001, \n",
    "                          batch_size='auto', \n",
    "                          learning_rate_init=0.001, \n",
    "                          shuffle=True, \n",
    "                          tol=0.0001, \n",
    "                          validation_fraction=0.1)\n",
    "t1 = tic()\n",
    "try:\n",
    "    estimator.fit(X, y)\n",
    "    t2 = tic()\n",
    "    print(\"Accuracy: \"+str(sklearn.metrics.accuracy_score(y_test, estimator.predict(X_test))))\n",
    "    print(\"Time: \"+str(t2-t1)+\"s\")\n",
    "except MemoryError as error:\n",
    "    print(\"Memory error!!!\")"
   ]
  },
  {
   "cell_type": "markdown",
   "metadata": {},
   "source": [
    "Let's see what change with distributed computation:"
   ]
  },
  {
   "cell_type": "code",
   "execution_count": null,
   "metadata": {},
   "outputs": [],
   "source": [
    "from dask_ml.model_selection import train_test_split\n",
    "from dask_ml.datasets import make_classification\n",
    "from timeit import default_timer as tic\n",
    "\n",
    "X, y = make_classification(n_samples=5000000,  n_features=20, chunks=100000, random_state=42)\n",
    "\n",
    "X_train, X_test, y_train, y_test = train_test_split(X, y, random_state=0, test_size=0.2)"
   ]
  },
  {
   "cell_type": "code",
   "execution_count": null,
   "metadata": {},
   "outputs": [],
   "source": [
    "from sklearn.neural_network import MLPClassifier\n",
    "from dask_ml.preprocessing import MinMaxScaler\n",
    "transformer = MinMaxScaler(feature_range=(0, 1), copy=True)\n",
    "transformer.fit(X_train)\n",
    "\n",
    "X_train = transformer.transform(X_train)\n",
    "X_test = transformer.transform(X_test)\n",
    "\n",
    "estimator = MLPClassifier(random_state=42, \n",
    "                          max_iter=10, \n",
    "                          hidden_layer_sizes=(200, 200 ), \n",
    "                          activation='relu', \n",
    "                          solver='adam', alpha=0.0001, \n",
    "                          batch_size='auto', \n",
    "                          learning_rate_init=0.001, \n",
    "                          shuffle=True, \n",
    "                          tol=0.0001, \n",
    "                          validation_fraction=0.1)\n",
    "t1 = tic()\n",
    "try:\n",
    "    clf = Incremental(estimator)\n",
    "    clf.fit(X, y, classes=[0, 1])\n",
    "    t2 = tic()\n",
    "    print(\"Accuracy: \"+str(sklearn.metrics.accuracy_score(y_test, clf.predict(X_test))))\n",
    "    print(\"Time: \"+str(t2-t1)+\"s\")\n",
    "except MemoryError as error:\n",
    "    print(\"Memory error!!!\")"
   ]
  },
  {
   "cell_type": "markdown",
   "metadata": {},
   "source": [
    "### Parallel Prediction and Transformation\n",
    "\n",
    "In a real-world environment, there are some cases where you already have a trained model, but you have to predict/classify a large dataset.\n",
    "\n",
    "Dask-ml provides some meta-estimators that parallelize and scaling out certain tasks that may not be parallelized within scikit-learn itself. For example, ParallelPostFit will parallelize the ```predict```, ```predict_proba```, and ```transform``` methods, enabling them to work on large (possibly larger-than memory) datasets.\n",
    "\n",
    "Note that many scikit-learn estimators already predict and transform in parallel. This meta-estimator may still be useful in those cases when your dataset is larger than memory, as the distributed scheduler will ensure the data isn’t all read into memory at once.\n",
    "\n",
    "*Attention! This class is not appropriate for parallel or distributed training on large datasets!!*\n",
    "\n",
    "In other words, tanks to Dask you can predict and transform large sets of data. Let's try an example:"
   ]
  },
  {
   "cell_type": "code",
   "execution_count": null,
   "metadata": {},
   "outputs": [],
   "source": [
    "from dask_ml.wrappers import ParallelPostFit\n",
    "X, y = sklearn.datasets.make_classification(n_samples=1000, random_state=0)\n",
    "\n",
    "estimator = MLPClassifier(random_state=42, \n",
    "                          max_iter=100, \n",
    "                          hidden_layer_sizes=(200, 200 ), \n",
    "                          activation='relu', \n",
    "                          solver='adam', alpha=0.0001, \n",
    "                          batch_size='auto', \n",
    "                          learning_rate_init=0.001, \n",
    "                          shuffle=True, \n",
    "                          tol=0.0001, \n",
    "                          validation_fraction=0.1)\n",
    "estimator = estimator.fit(X, y)\n",
    "\n",
    "clf = ParallelPostFit(estimator=estimator,scoring='accuracy')\n",
    "\n",
    "X_big, y_big = dask_ml.datasets.make_classification(n_samples=100000, chunks=1000)\n",
    "\n",
    "print(\"Accuracy: \"+str(sklearn.metrics.accuracy_score(y_big, clf.predict(X_big))))"
   ]
  },
  {
   "cell_type": "markdown",
   "metadata": {},
   "source": [
    "## Let's merge what we have learn together:\n",
    "\n",
    "+ Get big dataset\n",
    "+ Scale a big dataset\n",
    "+ Split the dataset in train and test\n",
    "+ Train algorithm on a big train set\n",
    "+ Predict a big test set"
   ]
  },
  {
   "cell_type": "code",
   "execution_count": null,
   "metadata": {},
   "outputs": [],
   "source": [
    "from dask_ml.model_selection import train_test_split\n",
    "from dask_ml.datasets import make_classification\n",
    "from timeit import default_timer as tic\n",
    "\n",
    "X, y = make_classification(n_samples=10000000,  n_features=20, chunks=1000000, random_state=42)\n",
    "\n"
   ]
  },
  {
   "cell_type": "code",
   "execution_count": null,
   "metadata": {},
   "outputs": [],
   "source": [
    "\n",
    "from sklearn.neural_network import MLPClassifier\n",
    "from dask_ml.preprocessing import MinMaxScaler\n",
    "transformer = MinMaxScaler(feature_range=(0, 1), copy=True)\n",
    "X = transformer.fit_transform(X)\n"
   ]
  },
  {
   "cell_type": "code",
   "execution_count": null,
   "metadata": {},
   "outputs": [],
   "source": [
    "X_train, X_test, y_train, y_test = train_test_split(X, y, random_state=0, test_size=0.5)"
   ]
  },
  {
   "cell_type": "code",
   "execution_count": null,
   "metadata": {},
   "outputs": [],
   "source": [
    "X_test.shape"
   ]
  },
  {
   "cell_type": "code",
   "execution_count": null,
   "metadata": {},
   "outputs": [],
   "source": [
    "X_train.shape"
   ]
  },
  {
   "cell_type": "code",
   "execution_count": null,
   "metadata": {},
   "outputs": [],
   "source": [
    "estimator = MLPClassifier(random_state=42, \n",
    "                          max_iter=1000, \n",
    "                          hidden_layer_sizes=(200, 200 ), \n",
    "                          activation='relu', \n",
    "                          solver='adam', alpha=0.0001, \n",
    "                          batch_size='auto', \n",
    "                          learning_rate_init=0.001, \n",
    "                          shuffle=True, \n",
    "                          tol=0.0001, \n",
    "                          validation_fraction=0.1)\n",
    "t1 = tic()\n",
    "clf = Incremental(estimator)\n",
    "clf.fit(X, y, classes=[0, 1])\n",
    "clf = ParallelPostFit(estimator=clf.estimator_,scoring='accuracy')\n",
    "t2 = tic()\n",
    "print(\"Accuracy: \"+str(dask_ml.metrics.accuracy_score(y_test, clf.predict(X_test))))\n",
    "print(\"Time: \"+str(t2-t1)+\"s\")"
   ]
  },
  {
   "cell_type": "markdown",
   "metadata": {},
   "source": [
    "### Exercise 1\n",
    "\n",
    "Try to classify hand-written digist on the datasets. Classify the number 5 and number 9. Load the remote dataset available here: [https://www.dropbox.com/s/366wxe7458yixl4/numbers.csv?dl=1](https://www.dropbox.com/s/366wxe7458yixl4/numbers.csv?dl=1)\n",
    "\n",
    "You have to use **MLPClassifier and Incremental learning and Parallel post fit**"
   ]
  },
  {
   "cell_type": "code",
   "execution_count": null,
   "metadata": {},
   "outputs": [],
   "source": [
    "import dask.dataframe as dd\n",
    "from sklearn.neural_network import MLPClassifier\n",
    "import sklearn.cluster\n",
    "import dask_ml.cluster\n",
    "from dask.distributed import Client\n",
    "from dask_ml.model_selection import train_test_split\n",
    "from dask_ml.datasets import make_classification\n",
    "from timeit import default_timer as tic\n",
    "from dask_ml.wrappers import ParallelPostFit\n",
    "from dask_ml.wrappers import Incremental\n",
    "client =  #put your code\n",
    "client\n",
    "\n",
    "df =  #put your code\n",
    "\n",
    "numbers = df[df['label'].isin([5, 9])]\n",
    "\n",
    "\n",
    "y = numbers['label'].to_dask_array(lengths=True)\n",
    "X = numbers[numbers.columns.difference(['label'])].to_dask_array(lengths=True)\n",
    "\n",
    "X_train, X_test, y_train, y_test =  #put your code\n",
    "\n",
    "estimator =  #put your code\n",
    "\n",
    "clf =  #put your code\n",
    "clf.fit(X, y, classes=[5, 9])\n",
    "clf =  #put your code\n",
    "\n",
    "print(\"Accuracy: \"+str(dask_ml.metrics.accuracy_score(y_test, clf.predict(X_test))))\n"
   ]
  },
  {
   "cell_type": "markdown",
   "metadata": {},
   "source": [
    "### Exercise 2\n",
    "Similar to the exercise 1, try to classify hand-written digist 5 and 9 on the datasets. Before the training Scale the features by using the StandardScaler."
   ]
  },
  {
   "cell_type": "code",
   "execution_count": null,
   "metadata": {},
   "outputs": [],
   "source": [
    "import dask.dataframe as dd\n",
    "from sklearn.neural_network import MLPClassifier\n",
    "import sklearn.cluster\n",
    "import dask_ml.cluster\n",
    "from dask.distributed import Client\n",
    "from dask_ml.model_selection import train_test_split\n",
    "from dask_ml.datasets import make_classification\n",
    "from timeit import default_timer as tic\n",
    "from dask_ml.wrappers import ParallelPostFit\n",
    "from dask_ml.wrappers import Incremental\n",
    "from dask_ml.preprocessing import StandardScaler\n",
    " #put your code\n",
    "client\n",
    "\n",
    "df =  #put your code\n",
    "\n",
    "numbers = df[df['label'].isin([5, 9])]\n",
    "numbers.head()\n",
    "\n",
    "y = numbers['label'].to_dask_array(lengths=True)\n",
    "X = numbers[numbers.columns.difference(['label'])].to_dask_array(lengths=True)\n",
    "\n",
    "X_train, X_test, y_train, y_test = #put your code\n",
    "\n",
    "transformer =  #put your code\n",
    " #put your code\n",
    "\n",
    "X_train =  #put your code\n",
    "X_test =  #put your code\n",
    "\n",
    "\n",
    "estimator =  #put your code\n",
    "\n",
    "clf =  #put your code\n",
    "clf.fit(X, y, classes=[5, 9])\n",
    "clf =  #put your code\n",
    "\n",
    "print(\"Accuracy: \"+str(dask_ml.metrics.accuracy_score(y_test, clf.predict(X_test))))\n"
   ]
  },
  {
   "cell_type": "markdown",
   "metadata": {},
   "source": [
    "### Exercise 3\n",
    "Similar to the exercise 2, try to classify hand-written 1 and 8 digist on the datasets. Before the training Scale the features by using the RobustScaler.\n",
    "Use the SGDClassifier, [here](https://scikit-learn.org/stable/modules/generated/sklearn.linear_model.SGDClassifier.html) you can find how to use it"
   ]
  },
  {
   "cell_type": "code",
   "execution_count": null,
   "metadata": {},
   "outputs": [],
   "source": [
    "import dask.dataframe as dd\n",
    "from sklearn.linear_model import SGDClassifier\n",
    "import sklearn.cluster\n",
    "import dask_ml.cluster\n",
    "from dask.distributed import Client\n",
    "from dask_ml.model_selection import train_test_split\n",
    "from dask_ml.datasets import make_classification\n",
    "from timeit import default_timer as tic\n",
    "from dask_ml.wrappers import ParallelPostFit\n",
    "from dask_ml.wrappers import Incremental\n",
    "from dask_ml.preprocessing import RobustScaler\n",
    "client = #put your code\n",
    "client\n",
    "\n",
    "df = #put your code\n",
    "\n",
    "numbers = df[df['label'].isin([1, 8])]\n",
    "numbers.head()\n",
    "\n",
    "y = numbers['label'].to_dask_array(lengths=True)\n",
    "X = numbers[numbers.columns.difference(['label'])].to_dask_array(lengths=True)\n",
    "\n",
    "X_train, X_test, y_train, y_test = #put your code\n",
    "\n",
    "transformer = #put your code\n",
    "#put your code\n",
    "\n",
    "X_train = #put your code\n",
    "X_test = #put your code\n",
    "\n",
    "\n",
    "estimator = #put your code\n",
    "\n",
    "clf = #put your code\n",
    "clf.fit(X, y, classes=[1, 8])\n",
    "clf = #put your code\n",
    "\n",
    "print(\"Accuracy: \"+str(dask_ml.metrics.accuracy_score(y_test, clf.predict(X_test))))\n"
   ]
  },
  {
   "cell_type": "markdown",
   "metadata": {},
   "source": [
    "### Exercise 4\n",
    "\n",
    "Try to separate dogs from cats on the datasets by using the ```parallel_backend('dask')``` and the ```RandomForestClasifier```. Load the remote dataset available here: [https://www.dropbox.com/s/lo8hmhczoo6c7yo/dogs_and_cats.csv?dl=1](https://www.dropbox.com/s/lo8hmhczoo6c7yo/dogs_and_cats.csv?dl=1)\n",
    "\n",
    "Before to train use the MinMaxScaler."
   ]
  },
  {
   "cell_type": "code",
   "execution_count": null,
   "metadata": {},
   "outputs": [],
   "source": [
    "from sklearn.externals.joblib import parallel_backend\n",
    "from sklearn.ensemble import RandomForestClassifier\n",
    "from dask_ml.preprocessing import MinMaxScaler\n",
    "\n",
    "df = #put your code\n",
    "client = #put your code\n",
    "client\n",
    "\n",
    "y = df['label'].to_dask_array(lengths=True)\n",
    "X = df[df.columns.difference(['label'])].to_dask_array(lengths=True)\n",
    "\n",
    "X_train, X_test, y_train, y_test = train_test_split(X, y, random_state=0, test_size=0.5)\n",
    "\n",
    "transformer = #put your code\n",
    "#put your code\n",
    "\n",
    "X_train = #put your code\n",
    "X_test = #put your code\n",
    "\n",
    "\n",
    "## n_jobs = -1 means that the algorithm may use all the CPU resources available.\n",
    "## By using dask scheduler all the CPU resources become \"all the Cluster resources\"!\n",
    "with parallel_backend('dask'):\n",
    "   \n",
    "    #put your code\n",
    "    #put your code\n",
    "\n",
    "print(\"Accuracy: \"+str(sklearn.metrics.accuracy_score(y_test, clf.predict(X_test))))\n",
    " "
   ]
  },
  {
   "cell_type": "markdown",
   "metadata": {},
   "source": [
    "### Exercise 5\n",
    "Similar to previous exercise, try to seprate cats from dogs, by using ```MLPClassifier``` and Incremental learning and Parallel post fit"
   ]
  },
  {
   "cell_type": "code",
   "execution_count": null,
   "metadata": {},
   "outputs": [],
   "source": [
    "import dask.dataframe as dd\n",
    "from sklearn.neural_network import MLPClassifier\n",
    "import sklearn.cluster\n",
    "import dask_ml.cluster\n",
    "from dask.distributed import Client\n",
    "from dask_ml.model_selection import train_test_split\n",
    "from dask_ml.datasets import make_classification\n",
    "from timeit import default_timer as tic\n",
    "from dask_ml.wrappers import ParallelPostFit\n",
    "from dask_ml.wrappers import Incremental\n",
    "from dask_ml.preprocessing import StandardScaler\n",
    "client = #put your code\n",
    "client\n",
    "\n",
    "df = #put your code\n",
    "\n",
    "\n",
    "y = df['label'].to_dask_array(lengths=True)\n",
    "X = df[df.columns.difference(['label'])].to_dask_array(lengths=True)\n",
    "\n",
    "X_train, X_test, y_train, y_test = #put your code\n",
    "\n",
    "\n",
    "\n",
    "transformer = #put your code\n",
    "transformer = #put your code\n",
    "\n",
    "X_train = #put your code\n",
    "X_test = #put your code\n",
    "\n",
    "\n",
    "estimator = #put your code\n",
    "\n",
    "\n",
    "clf = #put your code\n",
    "#put your code\n",
    "clf = #put your code\n",
    "\n",
    "print(\"Accuracy: \"+str(dask_ml.metrics.accuracy_score(y_test, clf.predict(X_test))))\n"
   ]
  },
  {
   "cell_type": "markdown",
   "metadata": {},
   "source": [
    "### Wath is regression?\n"
   ]
  },
  {
   "cell_type": "markdown",
   "metadata": {},
   "source": [
    "A technique for determining the statistical relationship between two or more variables where a change in a dependent variable is associated with, and depends on, a change in one or more independent variables.\n",
    "\n",
    "In a narrower sense, regression may refer specifically to the estimation of continuous response (dependent) variables, as opposed to the discrete response variables used in classification. The case of a continuous dependent variable may be more specifically referred to as metric regression to distinguish it from related problems.\n",
    "\n",
    "Not all algorithms can be used for regression problems. The most commonly used algorithms are:\n",
    "+ RandomForesRegressor\n",
    "+ LinearRegression\n",
    "+ Ridge/Lasso Regression\n",
    "+ NeuralNetwork and Deep NeuralNetwork regression\n",
    "+ Support Vector Regressor (aka SVM regressor/SVR)\n",
    "\n",
    "Pay attention, some algorithm are used for ```linear model``` problems (LinearRegression/Ridge/Lasso/SVR). Other algorithm like RandomForest and NeuralNetwork are used mainly for ```non-linear``` models.\n",
    "\n",
    "So, let's start with a simple LinearRegression example"
   ]
  },
  {
   "cell_type": "code",
   "execution_count": null,
   "metadata": {},
   "outputs": [],
   "source": [
    "from dask.distributed import Client\n",
    "c = Client('dask-scheduler:8786')\n",
    "\n",
    "import dask.dataframe as dd\n",
    "df = dd.read_csv('https://www.dropbox.com/s/vkl89yce7xjdq4n/regression_generated.csv?dl=1')"
   ]
  },
  {
   "cell_type": "code",
   "execution_count": null,
   "metadata": {},
   "outputs": [],
   "source": [
    "\n",
    "# Split into training and testing data\n",
    "train, test = df.random_split([0.8, 0.2])\n",
    "\n",
    "# Separate labels from data\n",
    "\n",
    "y_train = train['label'].values\n",
    "y_test = test['label'].values\n",
    "del train['label']  # remove informative column from data\n",
    "del test['label']  # remove informative column from data\n",
    "\n",
    "X_train = train.values\n",
    "X_test = test.values"
   ]
  },
  {
   "cell_type": "code",
   "execution_count": null,
   "metadata": {},
   "outputs": [],
   "source": [
    "from dask_ml.preprocessing import MinMaxScaler\n",
    "sc = MinMaxScaler()\n",
    "sc.fit(X_train)\n",
    "X_train = sc.transform(X_train)\n",
    "X_test = sc.transform(X_test)"
   ]
  },
  {
   "cell_type": "code",
   "execution_count": null,
   "metadata": {},
   "outputs": [],
   "source": [
    "from dask_ml.linear_model import LinearRegression\n",
    "from sklearn.metrics import mean_squared_error\n",
    "## let's train and test the regression model\n",
    "## the metrics for regression model are different from classification ones\n",
    "## for regression models R^2 or MSE are the most used. \n",
    "## Dask allows to use RMSE in distributed mode, so we use it!\n",
    "\n",
    "lr = LinearRegression(fit_intercept=True)\n",
    "\n",
    "lr.fit(X_train.compute_chunk_sizes(), y_train)\n",
    "\n",
    "y_pred = lr.predict(X_test.compute_chunk_sizes())\n",
    "\n",
    "print(\"MSE: \"+str(mean_squared_error(y_test.compute(), y_pred.compute())))"
   ]
  },
  {
   "cell_type": "code",
   "execution_count": null,
   "metadata": {},
   "outputs": [],
   "source": [
    "import matplotlib.pyplot as plt\n",
    "import numpy as np\n",
    "%matplotlib inline\n",
    "\n",
    "\n",
    "figsize = (12, 7)\n",
    "import matplotlib.pyplot as plt\n",
    "plt.figure(2, figsize=figsize)\n",
    "plt.subplot(211)\n",
    "plt.plot(y_train.compute(), label='Train data', color='blue')\n",
    "plt.plot(np.concatenate([[np.nan for i in range(len(y_train.compute()))],y_test.compute()]), label='Test data', color='orange')\n",
    "plt.legend(loc='upper right')\n",
    "plt.subplot(212)\n",
    "plt.plot(y_train.compute(), label='Train data', color='blue')\n",
    "plt.plot(np.concatenate([[np.nan for i in range(len(y_train.compute()))],y_pred.compute()]), label='Predicted data', color='green')\n",
    "plt.legend(loc='upper right')\n",
    "\n",
    "plt.show()"
   ]
  },
  {
   "cell_type": "markdown",
   "metadata": {},
   "source": [
    "### Exercise 1\n",
    "Let's try to do the same, but using [```RandomForestRegressor```](https://scikit-learn.org/stable/modules/generated/sklearn.ensemble.RandomForestRegressor.html) (it is similar to RandomForestClassifier) with ```parallel_backend('dask')```\n",
    "**Hints:** for MSE metric use ```sklearn.metrics.mean_squared_error```"
   ]
  },
  {
   "cell_type": "code",
   "execution_count": null,
   "metadata": {},
   "outputs": [],
   "source": [
    "from sklearn.externals.joblib import parallel_backend\n",
    "from sklearn.ensemble import RandomForestRegressor\n",
    "from dask_ml.preprocessing import MinMaxScaler\n",
    "from sklearn.metrics import mean_squared_error \n",
    "\n",
    "\n",
    "## n_jobs = -1 means that the algorithm may use all the CPU resources available.\n",
    "## By using dask scheduler all the CPU resources become \"all the Cluster resources\"!\n",
    "## put your code here\n",
    "print(\"MSE: \"+str(mean_squared_error(y_test.compute(), clf.predict(X_test))))"
   ]
  },
  {
   "cell_type": "markdown",
   "metadata": {},
   "source": [
    "Now plot the chart and compare it with the example plot.\n",
    "Try to change parameters of RandomForest, such as the ```depth``` param and see what happens."
   ]
  },
  {
   "cell_type": "code",
   "execution_count": null,
   "metadata": {},
   "outputs": [],
   "source": [
    "import matplotlib.pyplot as plt\n",
    "import numpy as np\n",
    "%matplotlib inline\n",
    "\n",
    "#put your code here"
   ]
  },
  {
   "cell_type": "code",
   "execution_count": null,
   "metadata": {},
   "outputs": [],
   "source": []
  }
 ],
 "metadata": {
  "kernelspec": {
   "display_name": "Python 3",
   "language": "python",
   "name": "python3"
  },
  "language_info": {
   "codemirror_mode": {
    "name": "ipython",
    "version": 3
   },
   "file_extension": ".py",
   "mimetype": "text/x-python",
   "name": "python",
   "nbconvert_exporter": "python",
   "pygments_lexer": "ipython3",
   "version": "3.8.5"
  }
 },
 "nbformat": 4,
 "nbformat_minor": 4
}
