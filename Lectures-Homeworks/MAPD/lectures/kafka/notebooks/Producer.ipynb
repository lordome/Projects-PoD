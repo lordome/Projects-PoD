{
 "cells": [
  {
   "cell_type": "markdown",
   "metadata": {},
   "source": [
    "# Kafka Producer"
   ]
  },
  {
   "cell_type": "code",
   "execution_count": 1,
   "metadata": {},
   "outputs": [],
   "source": [
    "# set this variable with one of the following values\n",
    "# -> 'local'\n",
    "# -> 'docker_cluster'\n",
    "CLUSTER_TYPE ='local'"
   ]
  },
  {
   "cell_type": "code",
   "execution_count": null,
   "metadata": {},
   "outputs": [],
   "source": [
    "import os\n",
    "\n",
    "KAFKA_BOOTSTRAP_SERVERS = ''\n",
    "\n",
    "if CLUSTER_TYPE == 'local':\n",
    "\n",
    "    KAFKA_HOME = '/home/lorenzo/Downloads/kafka_2.13-2.7.0'\n",
    "    KAFKA_BOOTSTRAP_SERVERS = ['localhost:9092']\n",
    "    \n",
    "    # Start Zookeeper    \n",
    "    os.system('{0}/bin/zookeeper-server-start.sh {0}/config/zookeeper.properties'.format(KAFKA_HOME)) \n",
    "    \n",
    "    # Start one Kafka Broker\n",
    "    os.system('{0}/bin/kafka-server-start.sh {0}/config/server.properties'.format(KAFKA_HOME)) \n",
    "    \n",
    "elif CLUSTER_TYPE == 'docker_cluster':\n",
    "\n",
    "    KAFKA_BOOTSTRAP_SERVERS = ['kafka-broker:9092']"
   ]
  },
  {
   "cell_type": "markdown",
   "metadata": {},
   "source": [
    "## Interacting with Kafka Producer from shell\n",
    "\n",
    "Apache Kafka provides a set of bash scripts to interact and operate with the cluster for basic operations and testing such as:\n",
    "- topics creation, configuration and inspection\n",
    "- shell-based message producer \n",
    "- shell-based message consumer\n",
    "- shell-based performance testing\n",
    "- ...\n",
    "\n",
    "Let's first operate with the kafka cluster from shell by connecting to the broker and issuing a shell commands:"
   ]
  },
  {
   "cell_type": "markdown",
   "metadata": {},
   "source": [
    "#### For docker_cluster users\n",
    "```console\n",
    "$ docker ps\n",
    "\n",
    "!!! replace your_kafka-broker_procid with your own kafka-broker process id\n",
    "!!!                          ||| \n",
    "!!!                          vvv  \n",
    "$ docker exec -it <your_kafka-broker_procid> /bin/sh \n",
    "\n",
    "# ./bin/bash\n",
    "# cd /usr/bin/kafka_2.13-2.7.0/bin\n",
    "# ls\n",
    "# ./kafka-topics.sh --create --topic my_awesome_topic --bootstrap-server kafka-broker:9092                \n",
    "# ./kafka-topics.sh --list --bootstrap-server kafka-broker:9092\n",
    "# ./kafka-topics.sh --describe --topic my_awesome_topic --bootstrap-server kafka-broker:9092\n",
    "# ./kafka-console-producer.sh --topic my_awesome_topic --bootstrap-server kafka-broker:9092\n",
    "```\n",
    "\n",
    "#### For local/VBox users\n",
    "```console\n",
    "\n",
    "!!! replace KAFKA_HOME with your own path to kafka_2.13-2.7.0 folder\n",
    "!!!     ||| \n",
    "!!!     vvv  \n",
    "$ cd KAFKA_HOME/bin \n",
    "\n",
    "$ ls \n",
    "$ ./kafka-topics.sh --create --topic my_awesome_topic --bootstrap-server localhost:9092                \n",
    "$ ./kafka-topics.sh --list --bootstrap-server localhost:9092\n",
    "$ ./kafka-topics.sh --describe --topic my_awesome_topic --bootstrap-server localhost:9092\n",
    "$ ./kafka-console-producer.sh --topic my_awesome_topic --bootstrap-server localhost:9092\n",
    "```"
   ]
  }
 ],
 "metadata": {
  "kernelspec": {
   "display_name": "Python 3",
   "language": "python",
   "name": "python3"
  },
  "language_info": {
   "codemirror_mode": {
    "name": "ipython",
    "version": 3
   },
   "file_extension": ".py",
   "mimetype": "text/x-python",
   "name": "python",
   "nbconvert_exporter": "python",
   "pygments_lexer": "ipython3",
   "version": "3.8.5"
  }
 },
 "nbformat": 4,
 "nbformat_minor": 5
}
