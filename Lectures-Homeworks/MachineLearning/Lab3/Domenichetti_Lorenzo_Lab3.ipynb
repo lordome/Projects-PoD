{
 "cells": [
  {
   "cell_type": "markdown",
   "metadata": {},
   "source": [
    "# Clothes Classification with Neural Networks\n",
    "\n",
    "In this notebook we are going to use the Neural Networks for image classification. We are going to use the same dataset of Lab 2 on SVM: Fashion MNIST (https://pravarmahajan.github.io/fashion/), a dataset of small images of clothes and accessories.\n",
    "\n",
    "The dataset labels are the following:\n",
    "\n",
    "| Label | Description |\n",
    "| --- | --- |\n",
    "| 0 | T-shirt/top |\n",
    "| 1 | Trouser |\n",
    "| 2 | Pullover |\n",
    "| 3 | Dress |\n",
    "| 4 | Coat |\n",
    "| 5 | Sandal |\n",
    "| 6 | Shirt |\n",
    "| 7 | Sneaker |\n",
    "| 8 | Bag |\n",
    "| 9 | Ankle boot |\n",
    "\n",
    "\n",
    "Student surname: Domenichetti\n",
    "\n",
    "Student name: Lorenzo\n",
    "\n",
    "ID: 2011653\n",
    "\n",
    "# Mind the n_jobs = 3 param. in GridSearch"
   ]
  },
  {
   "cell_type": "code",
   "execution_count": 1,
   "metadata": {},
   "outputs": [
    {
     "data": {
      "text/html": [
       "<style>.container { width:85% !important; }</style>"
      ],
      "text/plain": [
       "<IPython.core.display.HTML object>"
      ]
     },
     "metadata": {},
     "output_type": "display_data"
    },
    {
     "name": "stdout",
     "output_type": "stream",
     "text": [
      "scikit-learn version:  0.23.2\n"
     ]
    }
   ],
   "source": [
    "#load the required packages and check Scikit-learn version\n",
    "%matplotlib inline  \n",
    "\n",
    "import numpy as np\n",
    "import scipy as sp\n",
    "import matplotlib.pyplot as plt\n",
    "import pandas as pd\n",
    "from IPython.display import display, HTML\n",
    "\n",
    "from IPython.core.display import display, HTML\n",
    "display(HTML(\"<style>.container { width:85% !important; }</style>\"))\n",
    "\n",
    "import sklearn\n",
    "print ('scikit-learn version: ', sklearn.__version__)\n",
    "from sklearn.neural_network import MLPClassifier\n",
    "from sklearn.model_selection import GridSearchCV\n",
    "from sklearn.svm import SVC"
   ]
  },
  {
   "cell_type": "code",
   "execution_count": 2,
   "metadata": {},
   "outputs": [],
   "source": [
    "# helper function to load Fashion MNIST dataset from disk\n",
    "def load_mnist(path, kind='train'):\n",
    "    import os\n",
    "    import gzip\n",
    "    import numpy as np\n",
    "    labels_path = os.path.join(path, '%s-labels-idx1-ubyte.gz' % kind)\n",
    "    images_path = os.path.join(path, '%s-images-idx3-ubyte.gz' % kind)\n",
    "    with gzip.open(labels_path, 'rb') as lbpath:\n",
    "        labels = np.frombuffer(lbpath.read(), dtype=np.uint8,offset=8)\n",
    "    with gzip.open(images_path, 'rb') as imgpath:\n",
    "        images = np.frombuffer(imgpath.read(), dtype=np.uint8,offset=16).reshape(len(labels), 784)\n",
    "    return images, labels"
   ]
  },
  {
   "cell_type": "markdown",
   "metadata": {},
   "source": [
    "# TODO \n",
    "Place a seed for the random generatoryour (you can use your \"numero di matricola\"). Try to change the seed to see the impact of the randomization."
   ]
  },
  {
   "cell_type": "code",
   "execution_count": 3,
   "metadata": {},
   "outputs": [],
   "source": [
    "ID = 987654321\n",
    "np.random.seed(ID)"
   ]
  },
  {
   "cell_type": "code",
   "execution_count": 4,
   "metadata": {},
   "outputs": [
    {
     "name": "stdout",
     "output_type": "stream",
     "text": [
      "Number of samples in the MNIST dataset: 60000\n"
     ]
    }
   ],
   "source": [
    "#load the MNIST dataset and let's normalize the features so that each value is in [0,1]\n",
    "X, y = load_mnist(\"data\")\n",
    "print(\"Number of samples in the MNIST dataset:\", X.shape[0])\n",
    "# rescale the data\n",
    "X = X / 255.0"
   ]
  },
  {
   "cell_type": "markdown",
   "metadata": {},
   "source": [
    "Now split into training and test. We start with a small training set of 600 samples to reduce computation time while 4000 samples will be used for testing. Make sure that each label is present at least 10 times in train and test set frequencies."
   ]
  },
  {
   "cell_type": "code",
   "execution_count": 5,
   "metadata": {},
   "outputs": [
    {
     "name": "stdout",
     "output_type": "stream",
     "text": [
      "Labels in training dataset:  [0 1 2 3 4 5 6 7 8 9]\n",
      "Frequencies in training dataset:  [55 56 62 61 51 57 68 67 65 58]\n",
      "Labels in test set:  [0 1 2 3 4 5 6 7 8 9]\n",
      "Frequencies in test set:  [55 56 62 61 51 57 68 67 65 58]\n"
     ]
    }
   ],
   "source": [
    "#random permute the data and split into training and test taking the first 600\n",
    "#data samples as training and 4000 as test set\n",
    "permutation = np.random.permutation(X.shape[0])\n",
    "\n",
    "X = X[permutation]\n",
    "y = y[permutation]\n",
    "\n",
    "m_training = 600\n",
    "m_test = 4000\n",
    "\n",
    "X_train, X_test = X[:m_training], X[m_training:m_training+m_test]\n",
    "y_train, y_test = y[:m_training], y[m_training:m_training+m_test]\n",
    "\n",
    "labels, freqs = np.unique(y_train, return_counts=True)\n",
    "print(\"Labels in training dataset: \", labels)\n",
    "print(\"Frequencies in training dataset: \", freqs)\n",
    "\n",
    "labelsT, freqsT = np.unique(y_test, return_counts=True)\n",
    "print(\"Labels in test set: \", labels)\n",
    "print(\"Frequencies in test set: \", freqs)\n"
   ]
  },
  {
   "cell_type": "code",
   "execution_count": 6,
   "metadata": {},
   "outputs": [],
   "source": [
    "#function for plotting a image and printing the corresponding label\n",
    "def plot_input(X_matrix, labels, index):\n",
    "    print(\"INPUT:\")\n",
    "    plt.imshow(\n",
    "        X_matrix[index].reshape(28,28),\n",
    "        cmap          = plt.cm.gray_r,\n",
    "        interpolation = \"nearest\"\n",
    "    )\n",
    "    plt.show()\n",
    "    print(\"LABEL: %i\"%labels[index])\n",
    "    return"
   ]
  },
  {
   "cell_type": "code",
   "execution_count": 7,
   "metadata": {},
   "outputs": [
    {
     "name": "stdout",
     "output_type": "stream",
     "text": [
      "INPUT:\n"
     ]
    },
    {
     "data": {
      "image/png": "[encoded data removed]",
      "text/plain": [
       "<Figure size 432x288 with 1 Axes>"
      ]
     },
     "metadata": {
      "needs_background": "light"
     },
     "output_type": "display_data"
    },
    {
     "name": "stdout",
     "output_type": "stream",
     "text": [
      "LABEL: 8\n",
      "INPUT:\n"
     ]
    },
    {
     "data": {
      "image/png": "[encoded data removed]",
      "text/plain": [
       "<Figure size 432x288 with 1 Axes>"
      ]
     },
     "metadata": {
      "needs_background": "light"
     },
     "output_type": "display_data"
    },
    {
     "name": "stdout",
     "output_type": "stream",
     "text": [
      "LABEL: 4\n",
      "INPUT:\n"
     ]
    },
    {
     "data": {
      "image/png": "[encoded data removed]",
      "text/plain": [
       "<Figure size 432x288 with 1 Axes>"
      ]
     },
     "metadata": {
      "needs_background": "light"
     },
     "output_type": "display_data"
    },
    {
     "name": "stdout",
     "output_type": "stream",
     "text": [
      "LABEL: 7\n"
     ]
    }
   ],
   "source": [
    "#let's try the plotting function\n",
    "plot_input(X_train,y_train,10)\n",
    "plot_input(X_test,y_test,100)\n",
    "plot_input(X_test,y_test,1000)"
   ]
  },
  {
   "cell_type": "markdown",
   "metadata": {},
   "source": [
    "### TO DO 1\n",
    "\n",
    "Now use a feed-forward Neural Network for prediction. Use the multi-layer perceptron classifier, with the following parameters: max_iter=250, alpha=1e-4, solver='sgd', tol=1e-4, learning_rate_init=.1, random_state=ID (this last parameter ensures the run is the same even if you run it more than once). The alpha parameter is the regularization term.\n",
    "\n",
    "Then, using the default activation function, pick four or five architectures to consider, with different numbers of hidden layers and different sizes. It is not necessary to create huge neural networks, you can limit to 3 layers and, for each layer, its maximum size can be of 50. Evaluate the architectures you chose using GridSearchCV with cv=5.\n",
    "\n",
    "You can reduce the number of iterations if the running time is too long on your computer.\n"
   ]
  },
  {
   "cell_type": "code",
   "execution_count": 8,
   "metadata": {},
   "outputs": [
    {
     "name": "stdout",
     "output_type": "stream",
     "text": [
      "Check 5 fold validation: True\n",
      "\n",
      "RESULTS FOR NN\n",
      "\n"
     ]
    },
    {
     "data": {
      "text/html": [
       "<table border=\"1\" class=\"dataframe\">\n",
       "  <thead>\n",
       "    <tr style=\"text-align: right;\">\n",
       "      <th></th>\n",
       "      <th>mean_fit_time</th>\n",
       "      <th>std_fit_time</th>\n",
       "      <th>mean_score_time</th>\n",
       "      <th>std_score_time</th>\n",
       "      <th>param_hidden_layer_sizes</th>\n",
       "      <th>params</th>\n",
       "      <th>split0_test_score</th>\n",
       "      <th>split1_test_score</th>\n",
       "      <th>split2_test_score</th>\n",
       "      <th>split3_test_score</th>\n",
       "      <th>split4_test_score</th>\n",
       "      <th>mean_test_score</th>\n",
       "      <th>std_test_score</th>\n",
       "      <th>rank_test_score</th>\n",
       "      <th>split0_train_score</th>\n",
       "      <th>split1_train_score</th>\n",
       "      <th>split2_train_score</th>\n",
       "      <th>split3_train_score</th>\n",
       "      <th>split4_train_score</th>\n",
       "      <th>mean_train_score</th>\n",
       "      <th>std_train_score</th>\n",
       "    </tr>\n",
       "  </thead>\n",
       "  <tbody>\n",
       "    <tr>\n",
       "      <th>0</th>\n",
       "      <td>1.659916</td>\n",
       "      <td>0.509332</td>\n",
       "      <td>0.001480</td>\n",
       "      <td>0.000364</td>\n",
       "      <td>(10,)</td>\n",
       "      <td>{'hidden_layer_sizes': (10,)}</td>\n",
       "      <td>0.408333</td>\n",
       "      <td>0.333333</td>\n",
       "      <td>0.608333</td>\n",
       "      <td>0.775000</td>\n",
       "      <td>0.791667</td>\n",
       "      <td>0.583333</td>\n",
       "      <td>0.186488</td>\n",
       "      <td>10</td>\n",
       "      <td>0.462500</td>\n",
       "      <td>0.406250</td>\n",
       "      <td>0.822917</td>\n",
       "      <td>1.000000</td>\n",
       "      <td>0.993750</td>\n",
       "      <td>0.737083</td>\n",
       "      <td>0.255819</td>\n",
       "    </tr>\n",
       "    <tr>\n",
       "      <th>1</th>\n",
       "      <td>1.970819</td>\n",
       "      <td>0.310414</td>\n",
       "      <td>0.002345</td>\n",
       "      <td>0.001002</td>\n",
       "      <td>(20,)</td>\n",
       "      <td>{'hidden_layer_sizes': (20,)}</td>\n",
       "      <td>0.758333</td>\n",
       "      <td>0.758333</td>\n",
       "      <td>0.758333</td>\n",
       "      <td>0.775000</td>\n",
       "      <td>0.841667</td>\n",
       "      <td>0.778333</td>\n",
       "      <td>0.032318</td>\n",
       "      <td>5</td>\n",
       "      <td>1.000000</td>\n",
       "      <td>1.000000</td>\n",
       "      <td>1.000000</td>\n",
       "      <td>1.000000</td>\n",
       "      <td>0.997917</td>\n",
       "      <td>0.999583</td>\n",
       "      <td>0.000833</td>\n",
       "    </tr>\n",
       "    <tr>\n",
       "      <th>2</th>\n",
       "      <td>2.306370</td>\n",
       "      <td>0.136827</td>\n",
       "      <td>0.003853</td>\n",
       "      <td>0.001061</td>\n",
       "      <td>(30,)</td>\n",
       "      <td>{'hidden_layer_sizes': (30,)}</td>\n",
       "      <td>0.766667</td>\n",
       "      <td>0.716667</td>\n",
       "      <td>0.800000</td>\n",
       "      <td>0.775000</td>\n",
       "      <td>0.858333</td>\n",
       "      <td>0.783333</td>\n",
       "      <td>0.046248</td>\n",
       "      <td>3</td>\n",
       "      <td>1.000000</td>\n",
       "      <td>1.000000</td>\n",
       "      <td>1.000000</td>\n",
       "      <td>1.000000</td>\n",
       "      <td>1.000000</td>\n",
       "      <td>1.000000</td>\n",
       "      <td>0.000000</td>\n",
       "    </tr>\n",
       "    <tr>\n",
       "      <th>3</th>\n",
       "      <td>2.635495</td>\n",
       "      <td>0.282042</td>\n",
       "      <td>0.003110</td>\n",
       "      <td>0.001123</td>\n",
       "      <td>(50,)</td>\n",
       "      <td>{'hidden_layer_sizes': (50,)}</td>\n",
       "      <td>0.775000</td>\n",
       "      <td>0.691667</td>\n",
       "      <td>0.783333</td>\n",
       "      <td>0.775000</td>\n",
       "      <td>0.825000</td>\n",
       "      <td>0.770000</td>\n",
       "      <td>0.043333</td>\n",
       "      <td>6</td>\n",
       "      <td>1.000000</td>\n",
       "      <td>1.000000</td>\n",
       "      <td>1.000000</td>\n",
       "      <td>1.000000</td>\n",
       "      <td>1.000000</td>\n",
       "      <td>1.000000</td>\n",
       "      <td>0.000000</td>\n",
       "    </tr>\n",
       "    <tr>\n",
       "      <th>4</th>\n",
       "      <td>2.818016</td>\n",
       "      <td>0.342716</td>\n",
       "      <td>0.002590</td>\n",
       "      <td>0.001125</td>\n",
       "      <td>(60,)</td>\n",
       "      <td>{'hidden_layer_sizes': (60,)}</td>\n",
       "      <td>0.808333</td>\n",
       "      <td>0.716667</td>\n",
       "      <td>0.775000</td>\n",
       "      <td>0.775000</td>\n",
       "      <td>0.841667</td>\n",
       "      <td>0.783333</td>\n",
       "      <td>0.041500</td>\n",
       "      <td>3</td>\n",
       "      <td>1.000000</td>\n",
       "      <td>1.000000</td>\n",
       "      <td>1.000000</td>\n",
       "      <td>1.000000</td>\n",
       "      <td>1.000000</td>\n",
       "      <td>1.000000</td>\n",
       "      <td>0.000000</td>\n",
       "    </tr>\n",
       "    <tr>\n",
       "      <th>5</th>\n",
       "      <td>4.163805</td>\n",
       "      <td>0.429532</td>\n",
       "      <td>0.004543</td>\n",
       "      <td>0.001648</td>\n",
       "      <td>(100,)</td>\n",
       "      <td>{'hidden_layer_sizes': (100,)}</td>\n",
       "      <td>0.816667</td>\n",
       "      <td>0.700000</td>\n",
       "      <td>0.791667</td>\n",
       "      <td>0.791667</td>\n",
       "      <td>0.883333</td>\n",
       "      <td>0.796667</td>\n",
       "      <td>0.058831</td>\n",
       "      <td>1</td>\n",
       "      <td>1.000000</td>\n",
       "      <td>1.000000</td>\n",
       "      <td>1.000000</td>\n",
       "      <td>1.000000</td>\n",
       "      <td>1.000000</td>\n",
       "      <td>1.000000</td>\n",
       "      <td>0.000000</td>\n",
       "    </tr>\n",
       "    <tr>\n",
       "      <th>6</th>\n",
       "      <td>0.940050</td>\n",
       "      <td>0.170598</td>\n",
       "      <td>0.003073</td>\n",
       "      <td>0.001697</td>\n",
       "      <td>(20, 20)</td>\n",
       "      <td>{'hidden_layer_sizes': (20, 20)}</td>\n",
       "      <td>0.775000</td>\n",
       "      <td>0.475000</td>\n",
       "      <td>0.675000</td>\n",
       "      <td>0.716667</td>\n",
       "      <td>0.808333</td>\n",
       "      <td>0.690000</td>\n",
       "      <td>0.116952</td>\n",
       "      <td>9</td>\n",
       "      <td>0.939583</td>\n",
       "      <td>0.520833</td>\n",
       "      <td>0.808333</td>\n",
       "      <td>0.900000</td>\n",
       "      <td>0.883333</td>\n",
       "      <td>0.810417</td>\n",
       "      <td>0.150923</td>\n",
       "    </tr>\n",
       "    <tr>\n",
       "      <th>7</th>\n",
       "      <td>1.798896</td>\n",
       "      <td>0.526366</td>\n",
       "      <td>0.003027</td>\n",
       "      <td>0.001161</td>\n",
       "      <td>(50, 50)</td>\n",
       "      <td>{'hidden_layer_sizes': (50, 50)}</td>\n",
       "      <td>0.766667</td>\n",
       "      <td>0.716667</td>\n",
       "      <td>0.750000</td>\n",
       "      <td>0.766667</td>\n",
       "      <td>0.816667</td>\n",
       "      <td>0.763333</td>\n",
       "      <td>0.032318</td>\n",
       "      <td>7</td>\n",
       "      <td>1.000000</td>\n",
       "      <td>1.000000</td>\n",
       "      <td>0.960417</td>\n",
       "      <td>0.979167</td>\n",
       "      <td>1.000000</td>\n",
       "      <td>0.987917</td>\n",
       "      <td>0.015943</td>\n",
       "    </tr>\n",
       "    <tr>\n",
       "      <th>8</th>\n",
       "      <td>2.806123</td>\n",
       "      <td>1.016745</td>\n",
       "      <td>0.003890</td>\n",
       "      <td>0.001262</td>\n",
       "      <td>(100, 100)</td>\n",
       "      <td>{'hidden_layer_sizes': (100, 100)}</td>\n",
       "      <td>0.783333</td>\n",
       "      <td>0.783333</td>\n",
       "      <td>0.800000</td>\n",
       "      <td>0.791667</td>\n",
       "      <td>0.825000</td>\n",
       "      <td>0.796667</td>\n",
       "      <td>0.015456</td>\n",
       "      <td>1</td>\n",
       "      <td>1.000000</td>\n",
       "      <td>0.914583</td>\n",
       "      <td>0.981250</td>\n",
       "      <td>1.000000</td>\n",
       "      <td>0.952083</td>\n",
       "      <td>0.969583</td>\n",
       "      <td>0.032612</td>\n",
       "    </tr>\n",
       "    <tr>\n",
       "      <th>9</th>\n",
       "      <td>2.262271</td>\n",
       "      <td>0.536226</td>\n",
       "      <td>0.003855</td>\n",
       "      <td>0.001990</td>\n",
       "      <td>(100, 100, 100)</td>\n",
       "      <td>{'hidden_layer_sizes': (100, 100, 100)}</td>\n",
       "      <td>0.708333</td>\n",
       "      <td>0.583333</td>\n",
       "      <td>0.700000</td>\n",
       "      <td>0.741667</td>\n",
       "      <td>0.841667</td>\n",
       "      <td>0.715000</td>\n",
       "      <td>0.082899</td>\n",
       "      <td>8</td>\n",
       "      <td>0.881250</td>\n",
       "      <td>0.631250</td>\n",
       "      <td>0.802083</td>\n",
       "      <td>0.900000</td>\n",
       "      <td>0.897917</td>\n",
       "      <td>0.822500</td>\n",
       "      <td>0.102116</td>\n",
       "    </tr>\n",
       "  </tbody>\n",
       "</table>"
      ],
      "text/plain": [
       "<IPython.core.display.HTML object>"
      ]
     },
     "metadata": {},
     "output_type": "display_data"
    },
    {
     "name": "stdout",
     "output_type": "stream",
     "text": [
      "None\n",
      "\n",
      "Best parameters set found: {'hidden_layer_sizes': (100,)}\n",
      "\n",
      "Score with best parameters: 0.7966666666666666\n",
      "\n",
      "All scores on the grid:\n",
      "\n",
      "  param_hidden_layer_sizes  mean_test_score\n",
      "0                    (10,)         0.583333\n",
      "1                    (20,)         0.778333\n",
      "2                    (30,)         0.783333\n",
      "3                    (50,)         0.770000\n",
      "4                    (60,)         0.783333\n",
      "5                   (100,)         0.796667\n",
      "6                 (20, 20)         0.690000\n",
      "7                 (50, 50)         0.763333\n",
      "8               (100, 100)         0.796667\n",
      "9          (100, 100, 100)         0.715000\n"
     ]
    }
   ],
   "source": [
    "# these are sample values but feel free to change them as you like, try to experiment with different sizes!!\n",
    "parameters = {'hidden_layer_sizes': [(10,), (20,), (30,),(50,), (60,), (100,), (20,20,), (50,50), (100,100), (100,100,100) ]}\n",
    "\n",
    "mlp = MLPClassifier(max_iter=250, alpha=1e-4, solver='sgd',\n",
    "                    tol=1e-4, random_state=ID,\n",
    "                    learning_rate_init=.1)\n",
    "\n",
    "grd = GridSearchCV( estimator = mlp, param_grid=parameters, cv = 5, n_jobs = 3, return_train_score = True) \n",
    "grd.fit(X_train, y_train)\n",
    "\n",
    "print(f\"Check 5 fold validation: {grd.n_splits_ == 5}\\n\")\n",
    "\n",
    "print ('RESULTS FOR NN\\n')\n",
    "\n",
    "res = pd.DataFrame(grd.cv_results_)\n",
    "print (f'{display(HTML(res.to_html()))}\\n')\n",
    "\n",
    "print(f\"Best parameters set found: {grd.best_params_}\\n\")\n",
    "\n",
    "print(f\"Score with best parameters: {grd.best_score_}\\n\")\n",
    "\n",
    "print(\"All scores on the grid:\\n\")\n",
    "print(f\"{res[['param_hidden_layer_sizes', 'mean_test_score']]}\")"
   ]
  },
  {
   "cell_type": "markdown",
   "metadata": {},
   "source": [
    "### TO DO 2\n",
    "\n",
    "Now try also different batch sizes, while keeping the best NN architecture you have found above. Remember that the batch size was previously set to the default value, i.e., min(200, n_samples). \n",
    "Recall that a batch size of 1 corresponds to baseline SGD, while using all the 480 training samples (there are 600 samples but in cross validation with 5 folders we use 1/5 of them for validation at each round) corresponds to standard GD and using a different mini-batch size lies in the middle between the two extreme cases."
   ]
  },
  {
   "cell_type": "code",
   "execution_count": 9,
   "metadata": {},
   "outputs": [
    {
     "name": "stdout",
     "output_type": "stream",
     "text": [
      "RESULTS FOR BATCH_TEST NN\n",
      "\n"
     ]
    },
    {
     "data": {
      "text/html": [
       "<table border=\"1\" class=\"dataframe\">\n",
       "  <thead>\n",
       "    <tr style=\"text-align: right;\">\n",
       "      <th></th>\n",
       "      <th>mean_fit_time</th>\n",
       "      <th>std_fit_time</th>\n",
       "      <th>mean_score_time</th>\n",
       "      <th>std_score_time</th>\n",
       "      <th>param_batch_size</th>\n",
       "      <th>params</th>\n",
       "      <th>split0_test_score</th>\n",
       "      <th>split1_test_score</th>\n",
       "      <th>split2_test_score</th>\n",
       "      <th>split3_test_score</th>\n",
       "      <th>split4_test_score</th>\n",
       "      <th>mean_test_score</th>\n",
       "      <th>std_test_score</th>\n",
       "      <th>rank_test_score</th>\n",
       "      <th>split0_train_score</th>\n",
       "      <th>split1_train_score</th>\n",
       "      <th>split2_train_score</th>\n",
       "      <th>split3_train_score</th>\n",
       "      <th>split4_train_score</th>\n",
       "      <th>mean_train_score</th>\n",
       "      <th>std_train_score</th>\n",
       "    </tr>\n",
       "  </thead>\n",
       "  <tbody>\n",
       "    <tr>\n",
       "      <th>0</th>\n",
       "      <td>146.348069</td>\n",
       "      <td>24.026274</td>\n",
       "      <td>0.002655</td>\n",
       "      <td>0.000799</td>\n",
       "      <td>1</td>\n",
       "      <td>{'batch_size': 1}</td>\n",
       "      <td>0.091667</td>\n",
       "      <td>0.075000</td>\n",
       "      <td>0.075000</td>\n",
       "      <td>0.116667</td>\n",
       "      <td>0.091667</td>\n",
       "      <td>0.090000</td>\n",
       "      <td>0.015275</td>\n",
       "      <td>6</td>\n",
       "      <td>0.116667</td>\n",
       "      <td>0.087500</td>\n",
       "      <td>0.095833</td>\n",
       "      <td>0.106250</td>\n",
       "      <td>0.09375</td>\n",
       "      <td>0.100000</td>\n",
       "      <td>0.010291</td>\n",
       "    </tr>\n",
       "    <tr>\n",
       "      <th>1</th>\n",
       "      <td>4.974347</td>\n",
       "      <td>1.379116</td>\n",
       "      <td>0.003656</td>\n",
       "      <td>0.001101</td>\n",
       "      <td>32</td>\n",
       "      <td>{'batch_size': 32}</td>\n",
       "      <td>0.758333</td>\n",
       "      <td>0.758333</td>\n",
       "      <td>0.741667</td>\n",
       "      <td>0.766667</td>\n",
       "      <td>0.825000</td>\n",
       "      <td>0.770000</td>\n",
       "      <td>0.028674</td>\n",
       "      <td>5</td>\n",
       "      <td>1.000000</td>\n",
       "      <td>0.945833</td>\n",
       "      <td>1.000000</td>\n",
       "      <td>0.983333</td>\n",
       "      <td>0.95000</td>\n",
       "      <td>0.975833</td>\n",
       "      <td>0.023629</td>\n",
       "    </tr>\n",
       "    <tr>\n",
       "      <th>2</th>\n",
       "      <td>4.810463</td>\n",
       "      <td>0.249620</td>\n",
       "      <td>0.006007</td>\n",
       "      <td>0.003339</td>\n",
       "      <td>64</td>\n",
       "      <td>{'batch_size': 64}</td>\n",
       "      <td>0.800000</td>\n",
       "      <td>0.800000</td>\n",
       "      <td>0.733333</td>\n",
       "      <td>0.775000</td>\n",
       "      <td>0.808333</td>\n",
       "      <td>0.783333</td>\n",
       "      <td>0.027386</td>\n",
       "      <td>2</td>\n",
       "      <td>1.000000</td>\n",
       "      <td>1.000000</td>\n",
       "      <td>1.000000</td>\n",
       "      <td>1.000000</td>\n",
       "      <td>1.00000</td>\n",
       "      <td>1.000000</td>\n",
       "      <td>0.000000</td>\n",
       "    </tr>\n",
       "    <tr>\n",
       "      <th>3</th>\n",
       "      <td>4.084707</td>\n",
       "      <td>0.153919</td>\n",
       "      <td>0.002557</td>\n",
       "      <td>0.000446</td>\n",
       "      <td>128</td>\n",
       "      <td>{'batch_size': 128}</td>\n",
       "      <td>0.808333</td>\n",
       "      <td>0.783333</td>\n",
       "      <td>0.741667</td>\n",
       "      <td>0.775000</td>\n",
       "      <td>0.841667</td>\n",
       "      <td>0.790000</td>\n",
       "      <td>0.033500</td>\n",
       "      <td>1</td>\n",
       "      <td>1.000000</td>\n",
       "      <td>1.000000</td>\n",
       "      <td>1.000000</td>\n",
       "      <td>1.000000</td>\n",
       "      <td>1.00000</td>\n",
       "      <td>1.000000</td>\n",
       "      <td>0.000000</td>\n",
       "    </tr>\n",
       "    <tr>\n",
       "      <th>4</th>\n",
       "      <td>4.312297</td>\n",
       "      <td>0.362280</td>\n",
       "      <td>0.003862</td>\n",
       "      <td>0.001433</td>\n",
       "      <td>256</td>\n",
       "      <td>{'batch_size': 256}</td>\n",
       "      <td>0.766667</td>\n",
       "      <td>0.783333</td>\n",
       "      <td>0.741667</td>\n",
       "      <td>0.775000</td>\n",
       "      <td>0.841667</td>\n",
       "      <td>0.781667</td>\n",
       "      <td>0.033082</td>\n",
       "      <td>3</td>\n",
       "      <td>1.000000</td>\n",
       "      <td>1.000000</td>\n",
       "      <td>1.000000</td>\n",
       "      <td>1.000000</td>\n",
       "      <td>1.00000</td>\n",
       "      <td>1.000000</td>\n",
       "      <td>0.000000</td>\n",
       "    </tr>\n",
       "    <tr>\n",
       "      <th>5</th>\n",
       "      <td>4.575489</td>\n",
       "      <td>0.495163</td>\n",
       "      <td>0.003530</td>\n",
       "      <td>0.001706</td>\n",
       "      <td>480</td>\n",
       "      <td>{'batch_size': 480}</td>\n",
       "      <td>0.750000</td>\n",
       "      <td>0.783333</td>\n",
       "      <td>0.725000</td>\n",
       "      <td>0.766667</td>\n",
       "      <td>0.841667</td>\n",
       "      <td>0.773333</td>\n",
       "      <td>0.039229</td>\n",
       "      <td>4</td>\n",
       "      <td>1.000000</td>\n",
       "      <td>1.000000</td>\n",
       "      <td>1.000000</td>\n",
       "      <td>1.000000</td>\n",
       "      <td>1.00000</td>\n",
       "      <td>1.000000</td>\n",
       "      <td>0.000000</td>\n",
       "    </tr>\n",
       "  </tbody>\n",
       "</table>"
      ],
      "text/plain": [
       "<IPython.core.display.HTML object>"
      ]
     },
     "metadata": {},
     "output_type": "display_data"
    },
    {
     "name": "stdout",
     "output_type": "stream",
     "text": [
      "None\n",
      "\n",
      "Best parameters set found: {'batch_size': 128}\n",
      "\n",
      "Score with best parameters: 0.79\n",
      "\n",
      "All scores on the grid:\n",
      "\n",
      "  param_batch_size  mean_test_score\n",
      "0                1         0.090000\n",
      "1               32         0.770000\n",
      "2               64         0.783333\n",
      "3              128         0.790000\n",
      "4              256         0.781667\n",
      "5              480         0.773333\n"
     ]
    }
   ],
   "source": [
    "# these are sample values corresponding to baseline SGD, a reasonable mini-batch size and standard GD\n",
    "\n",
    "parameters = {'batch_size': [1, 32, 64, 128, 256, 480]}\n",
    "\n",
    "#### --- best hiddel_layer_size = (100) --- ####\n",
    "\n",
    "# need to specify that you would like to use the standard k-fold split otherwise sklearn create splits of different sizes\n",
    "kf = sklearn.model_selection.KFold(n_splits=5)\n",
    "\n",
    "mlp_batch = MLPClassifier(max_iter=250, hidden_layer_sizes=(100,), alpha=1e-4, solver='sgd', tol=1e-4, random_state=ID, learning_rate_init=.1)\n",
    "\n",
    "grd_batch = GridSearchCV(estimator = mlp_batch, param_grid=parameters, cv = kf, n_jobs = 3, return_train_score = True) \n",
    "grd_batch.fit(X_train, y_train)\n",
    "\n",
    "print ('RESULTS FOR BATCH_TEST NN\\n')\n",
    "\n",
    "res_batch = pd.DataFrame(grd_batch.cv_results_)\n",
    "print (f'{display(HTML(res_batch.to_html()))}\\n')\n",
    "\n",
    "print(f\"Best parameters set found: {grd_batch.best_params_}\\n\")\n",
    "\n",
    "print(f\"Score with best parameters: {grd_batch.best_score_}\\n\")\n",
    "\n",
    "print(\"All scores on the grid:\\n\")\n",
    "print(f\"{res_batch[['param_batch_size', 'mean_test_score']]}\")"
   ]
  },
  {
   "cell_type": "markdown",
   "metadata": {},
   "source": [
    "### QUESTION 1\n",
    "\n",
    "What do you observe for different architectures and batch sizes? How do the number of layers and their sizes affect the performances? What do you observe for different batch sizes, in particular what happens to the training convergence for different batch sizes (notice that the algorithm could not converge for some batch sizes)?"
   ]
  },
  {
   "cell_type": "markdown",
   "metadata": {},
   "source": [
    "## [ANSWER TO QUESTION 1]\n",
    "If the architecture becomes too complicated, the test error decreses as the network starts overfitting. On the other hand, too simple networks do not manage to get the best results. It is then important to choose the right network in relation to the training sample used. Maybe, having more training data, more complex networks would perform better than simpler ones.\n",
    "Batch size affects mainly the computation time and the stablity of the loss over training. In particular, we get quite constant results for different batches, apart from the classical GD which has probably an unstable behaviour. We will then prefer smaller batches (64-128) to bigger ones, because the latter either won't converge or will have slower loss convergence."
   ]
  },
  {
   "cell_type": "markdown",
   "metadata": {},
   "source": [
    "### TODO 3:\n",
    "\n",
    "Plot the train and test accuracies as a function of the number of learnable parameters in your neural network. Print also the computation time for the various configurations you try (the code for getting the computation time is already provided). You can use 300 iterations (if you get a warning on convergence not reached it is not an issue for this lab)"
   ]
  },
  {
   "cell_type": "code",
   "execution_count": 10,
   "metadata": {},
   "outputs": [
    {
     "name": "stdout",
     "output_type": "stream",
     "text": [
      "Training MLP of size (10,) with 7960 parameters \n",
      "Done! Training time: 3.83 sec\n",
      "\n",
      "Training MLP of size (20,) with 15910 parameters \n",
      "Done! Training time: 2.87 sec\n",
      "\n",
      "Training MLP of size (30,) with 23860 parameters \n",
      "Done! Training time: 3.27 sec\n",
      "\n",
      "Training MLP of size (60,) with 47710 parameters \n",
      "Done! Training time: 3.74 sec\n",
      "\n",
      "Training MLP of size (70,) with 55660 parameters \n",
      "Done! Training time: 4.27 sec\n",
      "\n",
      "Training MLP of size (90,) with 71560 parameters \n",
      "Done! Training time: 4.80 sec\n",
      "\n",
      "Training MLP of size (100,) with 79510 parameters \n",
      "Done! Training time: 5.05 sec\n",
      "\n",
      "Training MLP of size (50, 50) with 42310 parameters \n",
      "Done! Training time: 2.56 sec\n",
      "\n",
      "Training MLP of size (80, 80) with 70090 parameters \n",
      "Done! Training time: 2.55 sec\n",
      "\n",
      "Training MLP of size (100, 100) with 89610 parameters \n",
      "Done! Training time: 4.67 sec\n",
      "\n",
      "Training MLP of size (30, 20) with 24380 parameters \n",
      "Done! Training time: 2.31 sec\n",
      "\n",
      "Training MLP of size (30, 30, 20) with 25310 parameters \n",
      "Done! Training time: 1.52 sec\n",
      "\n",
      "Training MLP of size (100, 100, 100) with 99710 parameters \n",
      "Done! Training time: 3.52 sec\n",
      "\n"
     ]
    },
    {
     "data": {
      "image/png": "[encoded data removed]",
      "text/plain": [
       "<Figure size 1080x360 with 2 Axes>"
      ]
     },
     "metadata": {
      "needs_background": "light"
     },
     "output_type": "display_data"
    }
   ],
   "source": [
    "import time\n",
    "from functools import reduce\n",
    "\n",
    "# Function to compute the number of learnable parameters of a mlp given the size of its hidden layers\n",
    "def param_count(hl_size):\n",
    "    tot = 0\n",
    "    input_size, output_size = X_train.shape[1], len(labels)\n",
    "    tot += (input_size+1)*hl_size[0]\n",
    "    for i in range(1,len(hl_size)):\n",
    "        tot += (hl_size[i-1]+1)*hl_size[i]\n",
    "    tot += (hl_size[-1]+1)*output_size\n",
    "    return tot\n",
    "\n",
    "hl_sizes = [(10,), (20,), (30,), (60,), (70,), (90,), (100,), (50,50), (80,80), (100,100),(30,20,), (30,30,20), (100,100,100)]\n",
    "hl_labels = [param_count(t) for t in hl_sizes]\n",
    "\n",
    "ti = time.time()\n",
    "#train, test accuracies. Time and params used for creating a dataframe with some results.\n",
    "train_acc_list, test_acc_list, times, params_n = [], [], [], []\n",
    "for hl_size in hl_sizes:\n",
    "    print(f\"Training MLP of size {hl_size} with {param_count(hl_size)} parameters \")\n",
    "    mlp = MLPClassifier(hidden_layer_sizes = hl_size, max_iter=300,\n",
    "                        alpha=1e-4, solver='sgd', tol=1e-4, random_state=ID, learning_rate_init=.1)\n",
    "    mlp.fit(X_train, y_train)\n",
    "    \n",
    "    train_acc_list.append(mlp.score(X_train, y_train))\n",
    "    test_acc_list.append(mlp.score(X_test, y_test))\n",
    "    times.append(time.time()-ti)\n",
    "    params_n.append(param_count(hl_size))\n",
    "    print('Done! Training time: {:.2f} sec\\n'.format(time.time()-ti))\n",
    "    ti = time.time()\n",
    "\n",
    "fig1, ax = plt.subplots(1,2, figsize=(15,5))\n",
    "\n",
    "df = pd.DataFrame()\n",
    "df[\"params\"] = params_n\n",
    "df[\"train_acc\"] = train_acc_list\n",
    "df[\"test_acc\"] = test_acc_list\n",
    "df[\"Net Sizes\"] = hl_sizes\n",
    "df[\"times\"] = times\n",
    "df.sort_values(by = \"params\")\n",
    "\n",
    "ax[0].scatter(df.params, df.train_acc)\n",
    "ax[0].set_xlabel('Number of learnable params')\n",
    "ax[0].set_title('Train accuracy')\n",
    "ax[0].grid(True)\n",
    "\n",
    "ax[1].scatter(df.params, df[\"test_acc\"])\n",
    "ax[1].set_xlabel('Number of learnable params')\n",
    "ax[1].set_title('Test accuracy')\n",
    "ax[1].grid(True)\n"
   ]
  },
  {
   "cell_type": "code",
   "execution_count": 11,
   "metadata": {},
   "outputs": [
    {
     "data": {
      "text/html": [
       "<table border=\"1\" class=\"dataframe\">\n",
       "  <thead>\n",
       "    <tr style=\"text-align: right;\">\n",
       "      <th></th>\n",
       "      <th>params</th>\n",
       "      <th>train_acc</th>\n",
       "      <th>test_acc</th>\n",
       "      <th>Net Sizes</th>\n",
       "      <th>times</th>\n",
       "    </tr>\n",
       "  </thead>\n",
       "  <tbody>\n",
       "    <tr>\n",
       "      <th>0</th>\n",
       "      <td>7960</td>\n",
       "      <td>0.998333</td>\n",
       "      <td>0.74275</td>\n",
       "      <td>(10,)</td>\n",
       "      <td>3.825714</td>\n",
       "    </tr>\n",
       "    <tr>\n",
       "      <th>1</th>\n",
       "      <td>15910</td>\n",
       "      <td>1.000000</td>\n",
       "      <td>0.78750</td>\n",
       "      <td>(20,)</td>\n",
       "      <td>2.871385</td>\n",
       "    </tr>\n",
       "    <tr>\n",
       "      <th>2</th>\n",
       "      <td>23860</td>\n",
       "      <td>1.000000</td>\n",
       "      <td>0.79450</td>\n",
       "      <td>(30,)</td>\n",
       "      <td>3.270474</td>\n",
       "    </tr>\n",
       "    <tr>\n",
       "      <th>3</th>\n",
       "      <td>47710</td>\n",
       "      <td>1.000000</td>\n",
       "      <td>0.80275</td>\n",
       "      <td>(60,)</td>\n",
       "      <td>3.737715</td>\n",
       "    </tr>\n",
       "    <tr>\n",
       "      <th>4</th>\n",
       "      <td>55660</td>\n",
       "      <td>1.000000</td>\n",
       "      <td>0.79875</td>\n",
       "      <td>(70,)</td>\n",
       "      <td>4.270495</td>\n",
       "    </tr>\n",
       "    <tr>\n",
       "      <th>5</th>\n",
       "      <td>71560</td>\n",
       "      <td>1.000000</td>\n",
       "      <td>0.80000</td>\n",
       "      <td>(90,)</td>\n",
       "      <td>4.795549</td>\n",
       "    </tr>\n",
       "    <tr>\n",
       "      <th>6</th>\n",
       "      <td>79510</td>\n",
       "      <td>1.000000</td>\n",
       "      <td>0.80050</td>\n",
       "      <td>(100,)</td>\n",
       "      <td>5.050663</td>\n",
       "    </tr>\n",
       "    <tr>\n",
       "      <th>7</th>\n",
       "      <td>42310</td>\n",
       "      <td>1.000000</td>\n",
       "      <td>0.79850</td>\n",
       "      <td>(50, 50)</td>\n",
       "      <td>2.563725</td>\n",
       "    </tr>\n",
       "    <tr>\n",
       "      <th>8</th>\n",
       "      <td>70090</td>\n",
       "      <td>0.843333</td>\n",
       "      <td>0.74025</td>\n",
       "      <td>(80, 80)</td>\n",
       "      <td>2.549270</td>\n",
       "    </tr>\n",
       "    <tr>\n",
       "      <th>9</th>\n",
       "      <td>89610</td>\n",
       "      <td>1.000000</td>\n",
       "      <td>0.80475</td>\n",
       "      <td>(100, 100)</td>\n",
       "      <td>4.665665</td>\n",
       "    </tr>\n",
       "    <tr>\n",
       "      <th>10</th>\n",
       "      <td>24380</td>\n",
       "      <td>1.000000</td>\n",
       "      <td>0.79025</td>\n",
       "      <td>(30, 20)</td>\n",
       "      <td>2.308757</td>\n",
       "    </tr>\n",
       "    <tr>\n",
       "      <th>11</th>\n",
       "      <td>25310</td>\n",
       "      <td>0.900000</td>\n",
       "      <td>0.73500</td>\n",
       "      <td>(30, 30, 20)</td>\n",
       "      <td>1.516121</td>\n",
       "    </tr>\n",
       "    <tr>\n",
       "      <th>12</th>\n",
       "      <td>99710</td>\n",
       "      <td>0.938333</td>\n",
       "      <td>0.78650</td>\n",
       "      <td>(100, 100, 100)</td>\n",
       "      <td>3.519390</td>\n",
       "    </tr>\n",
       "  </tbody>\n",
       "</table>"
      ],
      "text/plain": [
       "<IPython.core.display.HTML object>"
      ]
     },
     "metadata": {},
     "output_type": "display_data"
    },
    {
     "name": "stdout",
     "output_type": "stream",
     "text": [
      "### ---Printing Results--- ### \n",
      "None\n"
     ]
    }
   ],
   "source": [
    "print(f\"### ---Printing Results--- ### \\n{display(HTML(df.to_html()))}\")"
   ]
  },
  {
   "cell_type": "markdown",
   "metadata": {},
   "source": [
    "## Question 2:\n",
    "\n",
    "Comment about the training and test accuracies referring to the discussion on underfitting and overfitting we did in the course"
   ]
  },
  {
   "cell_type": "markdown",
   "metadata": {},
   "source": [
    "## [ANSWER TO QUESTION 2]\n",
    "\n",
    "In this case, we can see that increasing the complexity of the network, we do not get better and better results. This result can be linked also to the small size of the training set: from a certain point on, once reached the perfect classification on train samples, our network does not increase its accuracy. \n",
    "So, an increased number of neurons does not always lead to more precise results on the test set.\n",
    "From the graphs just plotted there are no signs of neither over nor underfitting."
   ]
  },
  {
   "cell_type": "markdown",
   "metadata": {},
   "source": [
    "### TO DO 4\n",
    "\n",
    "Now try also to use different learning rates, while keeping the best NN architecture and batch size you have found above. Plot the learning curves (i.e., the variation of the loss over the steps, you can get it from the loss_curve_ object of sklearn) for the different values of the learning rate. Try to run each training for 600 iterations. "
   ]
  },
  {
   "cell_type": "code",
   "execution_count": 12,
   "metadata": {},
   "outputs": [
    {
     "name": "stdout",
     "output_type": "stream",
     "text": [
      "Training MLP with lr: 0.001\n"
     ]
    },
    {
     "name": "stderr",
     "output_type": "stream",
     "text": [
      "/home/lorenzo/.local/lib/python3.8/site-packages/sklearn/neural_network/_multilayer_perceptron.py:582: ConvergenceWarning: Stochastic Optimizer: Maximum iterations (600) reached and the optimization hasn't converged yet.\n",
      "  warnings.warn(\n"
     ]
    },
    {
     "name": "stdout",
     "output_type": "stream",
     "text": [
      "Done! Training, appending and plotting time: 50.51 sec\n",
      "\n",
      "Training MLP with lr: 0.01\n",
      "Done! Training, appending and plotting time: 22.96 sec\n",
      "\n",
      "Training MLP with lr: 0.1\n",
      "Done! Training, appending and plotting time: 6.26 sec\n",
      "\n"
     ]
    },
    {
     "data": {
      "image/png": "[encoded data removed]",
      "text/plain": [
       "<Figure size 432x288 with 1 Axes>"
      ]
     },
     "metadata": {
      "needs_background": "light"
     },
     "output_type": "display_data"
    },
    {
     "name": "stdout",
     "output_type": "stream",
     "text": [
      "RESULTS FOR different Learning Rates:\n",
      "\n"
     ]
    },
    {
     "data": {
      "text/html": [
       "<table border=\"1\" class=\"dataframe\">\n",
       "  <thead>\n",
       "    <tr style=\"text-align: right;\">\n",
       "      <th></th>\n",
       "      <th>lr_param</th>\n",
       "      <th>train_scores</th>\n",
       "      <th>test_scores</th>\n",
       "      <th>times</th>\n",
       "    </tr>\n",
       "  </thead>\n",
       "  <tbody>\n",
       "    <tr>\n",
       "      <th>0</th>\n",
       "      <td>0.001</td>\n",
       "      <td>0.996667</td>\n",
       "      <td>0.79400</td>\n",
       "      <td>50.453041</td>\n",
       "    </tr>\n",
       "    <tr>\n",
       "      <th>1</th>\n",
       "      <td>0.010</td>\n",
       "      <td>1.000000</td>\n",
       "      <td>0.79475</td>\n",
       "      <td>22.954479</td>\n",
       "    </tr>\n",
       "    <tr>\n",
       "      <th>2</th>\n",
       "      <td>0.100</td>\n",
       "      <td>1.000000</td>\n",
       "      <td>0.80375</td>\n",
       "      <td>6.257921</td>\n",
       "    </tr>\n",
       "  </tbody>\n",
       "</table>"
      ],
      "text/plain": [
       "<IPython.core.display.HTML object>"
      ]
     },
     "metadata": {},
     "output_type": "display_data"
    },
    {
     "name": "stdout",
     "output_type": "stream",
     "text": [
      "None\n",
      "Best parameters set found:\n",
      "   lr_param  train_scores  test_scores     times\n",
      "2       0.1           1.0      0.80375  6.257921\n",
      "Score with best parameters:\n",
      "0.80375\n"
     ]
    }
   ],
   "source": [
    "import matplotlib.pyplot as plt\n",
    "import operator\n",
    "\n",
    "#### --- best hiddel_layer_size = (100,), batch_size = (64) --- ####\n",
    "\n",
    "#lr_list = [0.001, 0.01, 0.1]\n",
    "lr_list = [10**exp for exp in range(-3,0)]\n",
    "scores = {}\n",
    "\n",
    "ti = time.time()\n",
    "lr_train, lr_test, lr_times= [], [], []\n",
    "for lr in lr_list:\n",
    "    print(f\"Training MLP with lr: {lr}\")\n",
    "    mlp = MLPClassifier(hidden_layer_sizes = (100,), batch_size=64, max_iter=600, alpha=1e-4, solver='sgd',       \n",
    "                        tol=1e-4, random_state=ID, learning_rate_init=lr)\n",
    "    mlp.fit(X_train, y_train)\n",
    "    \n",
    "    lr_train.append(mlp.score(X_train, y_train))\n",
    "    lr_test.append(mlp.score(X_test, y_test))\n",
    "    lr_times.append(time.time()-ti)\n",
    "    params_n.append(param_count(hl_size))\n",
    "    plt.plot(mlp.loss_curve_, label = \"lr:{}\".format(lr))\n",
    "    print('Done! Training, appending and plotting time: {:.2f} sec\\n'.format(time.time()-ti))\n",
    "    ti = time.time()\n",
    "\n",
    "plt.legend(loc = 'best')\n",
    "plt.show()\n",
    "print ('RESULTS FOR different Learning Rates:\\n')\n",
    "\n",
    "lr_df = pd.DataFrame({'lr_param': lr_list, 'train_scores': lr_train, 'test_scores': lr_test,\n",
    "                      'times': lr_times})\n",
    "print(f\"{display(HTML(lr_df.to_html()))}\")\n",
    "print(\"Best parameters set found:\")\n",
    "print(lr_df.loc[lr_df['test_scores']==lr_df['test_scores'].max(),:])\n",
    "\n",
    "print(\"Score with best parameters:\")\n",
    "print(lr_df[\"test_scores\"].max())\n"
   ]
  },
  {
   "cell_type": "markdown",
   "metadata": {},
   "source": [
    "### QUESTION 3\n",
    "\n",
    "Comment about the learning curves (i.e. the variation of the loss over the steps). How does the curve changes for different learning rates in terms of stability and speed of convergence ?"
   ]
  },
  {
   "cell_type": "markdown",
   "metadata": {},
   "source": [
    "## [ANSWER TO QUESTION 3]\n",
    "As shown, the learning curves have different trends. While the curve with the biggest learning rate converges rapidly, but also quite noisily, the one with the smallest learning rate does not manage to converge within the given number of iterations. The best solution is represented, in this case, by the middle line - its loss function shows a reasonably fast but smooth fall. Even if the final result is slightly better in the case of the biggest learning rate, I'd choose 0.01 as the best parameter - as said, the former leads to a noisy solution, that may not lead in other cases to the optimal solution."
   ]
  },
  {
   "cell_type": "markdown",
   "metadata": {},
   "source": [
    "### TO DO 5\n",
    "\n",
    "Now get training and test error for a NN with best parameters (architecture, batch size and learning rate) from above. Plot the learning curve also for this case."
   ]
  },
  {
   "cell_type": "code",
   "execution_count": 13,
   "metadata": {
    "scrolled": true
   },
   "outputs": [
    {
     "name": "stdout",
     "output_type": "stream",
     "text": [
      "\n",
      "RESULTS FOR BEST NN\n",
      "\n",
      "Best NN training error: 0.000000\n",
      "Best NN test error: 0.205250\n"
     ]
    },
    {
     "data": {
      "image/png": "[encoded data removed]",
      "text/plain": [
       "<Figure size 432x288 with 1 Axes>"
      ]
     },
     "metadata": {
      "needs_background": "light"
     },
     "output_type": "display_data"
    }
   ],
   "source": [
    "#get training and test error for the best NN model from CV\n",
    "lr = 0.01\n",
    "best_mlp = MLPClassifier(hidden_layer_sizes = (100,), batch_size=64, max_iter=600, alpha=1e-4,\n",
    "                         solver='sgd', tol=1e-4, random_state=ID, learning_rate_init=lr)\n",
    "best_mlp.fit(X_train, y_train)\n",
    "\n",
    "best_train = 1. - best_mlp.score(X_train, y_train)\n",
    "best_test  = 1. - best_mlp.score(X_test , y_test ) \n",
    "print ('\\nRESULTS FOR BEST NN\\n')\n",
    "\n",
    "print (\"Best NN training error: %f\" % best_train)\n",
    "print (\"Best NN test error: %f\" % best_test)\n",
    "\n",
    "plt.plot(best_mlp.loss_curve_)\n",
    "plt.show()"
   ]
  },
  {
   "cell_type": "markdown",
   "metadata": {},
   "source": [
    "## More data \n",
    "Now let's do the same but using 4000 (or less if it takes too long on your machine) data points for training. Use the same NN architecture as before, but you can try more if you like and have a powerful computer!!"
   ]
  },
  {
   "cell_type": "code",
   "execution_count": 14,
   "metadata": {},
   "outputs": [
    {
     "name": "stdout",
     "output_type": "stream",
     "text": [
      "Labels in training dataset:  [0 1 2 3 4 5 6 7 8 9]\n",
      "Frequencies in training dataset:  [416 388 397 414 403 409 397 388 401 387]\n"
     ]
    }
   ],
   "source": [
    "X = X[permutation]\n",
    "y = y[permutation]\n",
    "\n",
    "m_training = 4000\n",
    "\n",
    "X_train, X_test = X[:m_training], X[m_training:]\n",
    "y_train, y_test = y[:m_training], y[m_training:]\n",
    "\n",
    "labels, freqs = np.unique(y_train, return_counts=True)\n",
    "print(\"Labels in training dataset: \", labels)\n",
    "print(\"Frequencies in training dataset: \", freqs)"
   ]
  },
  {
   "cell_type": "markdown",
   "metadata": {},
   "source": [
    "### TO DO 6\n",
    "\n",
    "Now train the NNs with the added data points using the optimum parameters found above. Eventually, feel free to try different architectures if you like. We suggest that you use 'verbose=True' so have an idea of how long it takes to run 1 iteration (eventually reduce also the number of iterations to 50)."
   ]
  },
  {
   "cell_type": "code",
   "execution_count": 15,
   "metadata": {},
   "outputs": [
    {
     "name": "stdout",
     "output_type": "stream",
     "text": [
      "\n",
      "RESULTS FOR BEST NN, 4000 training points\n",
      "\n",
      "Best NN training error: 0.000000\n",
      "Best NN test error: 0.167393\n"
     ]
    },
    {
     "data": {
      "image/png": "[encoded data removed]",
      "text/plain": [
       "<Figure size 432x288 with 1 Axes>"
      ]
     },
     "metadata": {
      "needs_background": "light"
     },
     "output_type": "display_data"
    }
   ],
   "source": [
    "# same MLP parameters as before\n",
    "largeTS_best_mlp = MLPClassifier(hidden_layer_sizes = (100,), batch_size=128, max_iter=600,\n",
    "                         alpha=1e-4, solver='sgd', tol=1e-4, random_state=ID, learning_rate_init=0.01)\n",
    "largeTS_best_mlp.fit(X_train, y_train)\n",
    "\n",
    "best_train = 1. - largeTS_best_mlp.score(X_train, y_train)\n",
    "best_test  = 1. - largeTS_best_mlp.score(X_test , y_test ) \n",
    "print ('\\nRESULTS FOR BEST NN, 4000 training points\\n')\n",
    "\n",
    "print (\"Best NN training error: %f\" % best_train)\n",
    "print (\"Best NN test error: %f\" % best_test)\n",
    "\n",
    "plt.plot(largeTS_best_mlp.loss_curve_, label = 'loss curve')\n",
    "plt.show()"
   ]
  },
  {
   "cell_type": "markdown",
   "metadata": {},
   "source": [
    "## QUESTION 4\n",
    "Compare the train and test error you got with a large number of samples with the best one you obtained with only 600 data points. Comment about the results you obtained."
   ]
  },
  {
   "cell_type": "markdown",
   "metadata": {},
   "source": [
    "#### [ANSWER TO QUESTION 4]\n",
    "As long as the network manages to learn more from the training set in the case of a bigger training set we get a more robust predictor, and we have a smaller final test error. In both cases I get a 0 train error, but I would not have been surprised for a non-zero training error in the larger train set case (as happens in the SVM case)."
   ]
  },
  {
   "cell_type": "markdown",
   "metadata": {},
   "source": [
    "### TO DO 7\n",
    "\n",
    "Plot an example that was missclassified by NN with m=600 training data points and it is now instead correctly classified by NN with m=4000 training data points."
   ]
  },
  {
   "cell_type": "code",
   "execution_count": 16,
   "metadata": {},
   "outputs": [
    {
     "name": "stdout",
     "output_type": "stream",
     "text": [
      "INPUT:\n"
     ]
    },
    {
     "data": {
      "image/png": "[encoded data removed]",
      "text/plain": [
       "<Figure size 432x288 with 1 Axes>"
      ]
     },
     "metadata": {
      "needs_background": "light"
     },
     "output_type": "display_data"
    },
    {
     "name": "stdout",
     "output_type": "stream",
     "text": [
      "LABEL: 6\n",
      "NN_label = 2\n",
      "largeTS_NN_label = 6\n",
      "Real_label = 6\n"
     ]
    }
   ],
   "source": [
    "NN_prediction = best_mlp.predict(X_test)\n",
    "largeTS_NN_prediction = largeTS_best_mlp.predict(X_test)\n",
    "\n",
    "index = 0\n",
    "for i in range(len(y_test)):\n",
    "    if (NN_prediction[i]!=largeTS_NN_prediction[i]):\n",
    "        if (largeTS_NN_prediction[i]==y_test[i]):\n",
    "            index = i\n",
    "            break\n",
    "\n",
    "plot_input(X_test, y_test, index)\n",
    "print(f\"NN_label = {NN_prediction[i]}\" )\n",
    "print(f\"largeTS_NN_label = {largeTS_NN_prediction[i]}\" )\n",
    "print(f\"Real_label = {y_test[i]}\")"
   ]
  },
  {
   "cell_type": "markdown",
   "metadata": {},
   "source": [
    "### TO DO 8\n",
    "\n",
    "Let's plot the weigths of the multi-layer perceptron classifier, for the best NN we get with 600 data points and with 4000 data points. The code is already provided, just fix variable names (e.g., replace mlp , mlp_large with your estimators) in order to have it working with your implementation\n",
    "\n"
   ]
  },
  {
   "cell_type": "code",
   "execution_count": 17,
   "metadata": {},
   "outputs": [
    {
     "name": "stdout",
     "output_type": "stream",
     "text": [
      "Weights with 600 data points:\n"
     ]
    },
    {
     "data": {
      "image/png": "[encoded data removed]",
      "text/plain": [
       "<Figure size 432x288 with 16 Axes>"
      ]
     },
     "metadata": {},
     "output_type": "display_data"
    },
    {
     "name": "stdout",
     "output_type": "stream",
     "text": [
      "Weights with 4000 data points:\n"
     ]
    },
    {
     "data": {
      "image/png": "[encoded data removed]",
      "text/plain": [
       "<Figure size 432x288 with 16 Axes>"
      ]
     },
     "metadata": {},
     "output_type": "display_data"
    }
   ],
   "source": [
    "print(\"Weights with 600 data points:\")\n",
    "\n",
    "fig, axes = plt.subplots(4, 4)\n",
    "vmin, vmax = best_mlp.coefs_[0].min(), mlp.coefs_[0].max()\n",
    "for coef, ax in zip(best_mlp.coefs_[0].T, axes.ravel()):\n",
    "    ax.matshow(coef.reshape(28, 28), cmap=plt.cm.gray, vmin=.5 * vmin,\n",
    "               vmax=.5 * vmax)\n",
    "    ax.set_xticks(())\n",
    "    ax.set_yticks(())\n",
    "\n",
    "plt.show()\n",
    "\n",
    "print(\"Weights with 4000 data points:\")\n",
    "\n",
    "fig, axes = plt.subplots(4, 4)\n",
    "vmin, vmax = largeTS_best_mlp.coefs_[0].min(), best_mlp.coefs_[0].max()\n",
    "for coef, ax in zip(largeTS_best_mlp.coefs_[0].T, axes.ravel()):\n",
    "    ax.matshow(coef.reshape(28, 28), cmap=plt.cm.gray, vmin=.5 * vmin,\n",
    "               vmax=.5 * vmax)\n",
    "    ax.set_xticks(())\n",
    "    ax.set_yticks(())\n",
    "plt.show()"
   ]
  },
  {
   "cell_type": "markdown",
   "metadata": {},
   "source": [
    "## QUESTION 5\n",
    "\n",
    "Describe what do you observe by looking at the weights."
   ]
  },
  {
   "cell_type": "markdown",
   "metadata": {},
   "source": [
    "##### [ANSWER TO QUESTION 5]\n",
    "\n",
    "Some weights actually resemble input data and have a shape similar to actual clothes. Anyway, our NN uses both these kind of weights and the other ones where we can just see \"random noise\". But also the latter are actual weights, used for a classification that overall works fine. Neural networks are, in a certain sense, black boxes: it is quite hard to correct their behaviour just by looking at the used weights. We do need to \"trust\" their results.\n"
   ]
  },
  {
   "cell_type": "markdown",
   "metadata": {},
   "source": [
    "### TO DO 9\n",
    "\n",
    "Take the best SVM model and its parameters, you found in the last notebook. Fit it on a few data points and compute its training and test scores. Then fit also a logistic regression model with C=1. "
   ]
  },
  {
   "cell_type": "code",
   "execution_count": 18,
   "metadata": {},
   "outputs": [
    {
     "name": "stdout",
     "output_type": "stream",
     "text": [
      "RESULTS FOR SVM\n",
      "Training score SVM:\n",
      "0.0036000000000000476\n",
      "Test score SVM:\n",
      "0.14789090909090907\n"
     ]
    }
   ],
   "source": [
    "m_training = 5000\n",
    "\n",
    "X_train, X_test = X[:m_training], X[m_training:]\n",
    "y_train, y_test = y[:m_training], y[m_training:]\n",
    "\n",
    "best_SVM = SVC(kernel = 'rbf', C = 50, gamma = 0.005 )\n",
    "\n",
    "best_SVM.fit(X_train, y_train)\n",
    "\n",
    "SVM_training_error = 1-best_SVM.score(X_train, y_train)\n",
    "SVM_test_error = 1-best_SVM.score(X_test, y_test)\n",
    "\n",
    "print ('RESULTS FOR SVM')\n",
    "\n",
    "print(\"Training score SVM:\")\n",
    "print(SVM_training_error)\n",
    "\n",
    "print(\"Test score SVM:\")\n",
    "print(SVM_test_error)"
   ]
  },
  {
   "cell_type": "code",
   "execution_count": 19,
   "metadata": {},
   "outputs": [
    {
     "name": "stderr",
     "output_type": "stream",
     "text": [
      "/home/lorenzo/.local/lib/python3.8/site-packages/sklearn/linear_model/_logistic.py:762: ConvergenceWarning: lbfgs failed to converge (status=1):\n",
      "STOP: TOTAL NO. of ITERATIONS REACHED LIMIT.\n",
      "\n",
      "Increase the number of iterations (max_iter) or scale the data as shown in:\n",
      "    https://scikit-learn.org/stable/modules/preprocessing.html\n",
      "Please also refer to the documentation for alternative solver options:\n",
      "    https://scikit-learn.org/stable/modules/linear_model.html#logistic-regression\n",
      "  n_iter_i = _check_optimize_result(\n"
     ]
    },
    {
     "name": "stdout",
     "output_type": "stream",
     "text": [
      "\n",
      "RESULTS FOR LOGISTIC REGRESSION WITH REGULARIZATION\n",
      "Training error (reg): 0.079000\n",
      "Test error (reg): 0.169509\n"
     ]
    }
   ],
   "source": [
    "from sklearn import linear_model\n",
    "\n",
    "lrm = linear_model.LogisticRegression(C=1)\n",
    "\n",
    "lrm.fit(X_train, y_train)\n",
    "\n",
    "LR_training_error = 1-lrm.score(X_train, y_train)\n",
    "LR_test_error = 1-lrm.score(X_test, y_test)\n",
    "\n",
    "print ('\\nRESULTS FOR LOGISTIC REGRESSION WITH REGULARIZATION')\n",
    "\n",
    "print (\"Training error (reg): %f\" % LR_training_error)\n",
    "print (\"Test error (reg): %f\" % LR_test_error)"
   ]
  },
  {
   "cell_type": "markdown",
   "metadata": {
    "collapsed": true
   },
   "source": [
    "## QUESTION 6\n",
    "Compare the results of Logistic Regression, SVM and NN. Which one achieve the best results? "
   ]
  },
  {
   "cell_type": "markdown",
   "metadata": {},
   "source": [
    "## [ANSWER TO QUESTION 6]\n",
    "The SVM achieves the best result. As seen, also historically NN managed to outperform \"classical\" approaches only after the introduction of deep networks and advanced techniques. \n",
    "\n",
    "Also Logistic Regression, even if is much simpler than NNs, does not perform too badly when compared to the NN themselfs. This result suggests us to use in general complex NN architechtures when needed, and to rely on more \"traditional\" algorithms patterns, which still today work just fine on many dataset."
   ]
  }
 ],
 "metadata": {
  "kernelspec": {
   "display_name": "Python 3",
   "language": "python",
   "name": "python3"
  },
  "language_info": {
   "codemirror_mode": {
    "name": "ipython",
    "version": 3
   },
   "file_extension": ".py",
   "mimetype": "text/x-python",
   "name": "python",
   "nbconvert_exporter": "python",
   "pygments_lexer": "ipython3",
   "version": "3.8.5"
  }
 },
 "nbformat": 4,
 "nbformat_minor": 2
}
