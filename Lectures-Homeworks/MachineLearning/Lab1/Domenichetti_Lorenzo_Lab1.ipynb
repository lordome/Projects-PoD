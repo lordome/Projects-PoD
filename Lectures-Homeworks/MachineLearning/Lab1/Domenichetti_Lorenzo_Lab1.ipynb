{
 "cells": [
  {
   "cell_type": "markdown",
   "metadata": {},
   "source": [
    " # Machine Learning LAB 1 (course 2020/21, P. Zanuttigh, M. Toldo) \n",
    "\n",
    "The notebook contains some simple tasks to be performed about classification and regression. Complete all the required code sections and answer to all the questions."
   ]
  },
  {
   "cell_type": "markdown",
   "metadata": {},
   "source": [
    "## 1) Classification of NBA players role\n",
    "\n",
    "## IMPORTANT: make sure to rerun all the code from the beginning to obtain the results for the final version of your notebook, since this is the way we will do it before evaluating your notebook!"
   ]
  },
  {
   "cell_type": "markdown",
   "metadata": {},
   "source": [
    "### Place your name and ID number. Also recall to save the file as Surname_Name_LAB1.ipynb\n",
    "\n",
    "Student name: Lorenzo Domenichetti <br>\n",
    "ID Number: 2011653"
   ]
  },
  {
   "cell_type": "markdown",
   "metadata": {},
   "source": [
    "### Dataset description\n",
    "\n",
    "We will be working with a dataset of NBA basketball players data (you can get from https://www.kaggle.com/jacobbaruch/nba-player-of-the-week the full dataset).\n",
    "\n",
    "The provided data is a subset of the Kaggle dataset containing the players that have the role of Center and of Point Guard. For each player the dataset contains 3 features, the height, the weight and the age.\n",
    "\n",
    "From Wikipedia (if you are not a basketball fan!!):\n",
    "\n",
    "The Center (C), also known as the five, or the big man, is one of the five positions in a regular basketball game. The center is normally the tallest player on the team, and often has a great deal of strength and body mass as well. In the NBA, the center is usually 6' 10\" (2.08 m) or taller and usually weighs 240 lbs (109 kg) or more. \n",
    "\n",
    "Point Guards (PG, a.k.a. as \"play maker\") are expected to run the team's offense by controlling the ball and making sure that it gets to the right players at the right time. In the NBA, point guards are usually about 6' 3\" (1.93 m) or shorter, and average about 6' 2\" (1.88 m). Having above-average size (height, muscle) is considered advantageous, although size is secondary to situational awareness, speed, quickness, and ball handling skills. Shorter players tend to be better dribblers since they are closer to the floor, and thus have better control of the ball while dribbling. \n",
    "\n",
    "\n",
    "As it is clear from the description, the height and weight of the player are good hints to predict their role and in this lab we will exploit this features to estimate the role.\n",
    "\n",
    "\n",
    "### Three features are considered for this dataset:\n",
    "\n",
    "\n",
    "1) Height in cm\n",
    "\n",
    "2) Weight in kg\n",
    "\n",
    "3) Age in years"
   ]
  },
  {
   "cell_type": "markdown",
   "metadata": {},
   "source": [
    "We first import all the packages that are needed."
   ]
  },
  {
   "cell_type": "code",
   "execution_count": 1,
   "metadata": {},
   "outputs": [],
   "source": [
    "%matplotlib inline\n",
    "import matplotlib.pyplot as plt\n",
    "import csv\n",
    "\n",
    "import numpy as np\n",
    "import scipy as sp\n",
    "import sklearn as sl\n",
    "from scipy import stats\n",
    "from sklearn import datasets\n",
    "from sklearn import linear_model"
   ]
  },
  {
   "cell_type": "markdown",
   "metadata": {},
   "source": [
    "# Perceptron\n",
    "Firstly we will implement the perceptron algorithm and use it to learn a halfspace."
   ]
  },
  {
   "cell_type": "markdown",
   "metadata": {},
   "source": [
    "**TO DO** Set the random seed (you can use your ID (matricola) or any other number!)."
   ]
  },
  {
   "cell_type": "code",
   "execution_count": 2,
   "metadata": {},
   "outputs": [],
   "source": [
    "IDnumber = 2011653\n",
    "\n",
    "np.random.seed(IDnumber)"
   ]
  },
  {
   "cell_type": "markdown",
   "metadata": {},
   "source": [
    "Load the dataset and then split in training set and test set (the training set is typically larger, you can use a 70% training 30% test split) after applying a random permutation to the datset."
   ]
  },
  {
   "cell_type": "markdown",
   "metadata": {},
   "source": [
    "A) Load dataset and perform permutation"
   ]
  },
  {
   "cell_type": "code",
   "execution_count": 3,
   "metadata": {},
   "outputs": [
    {
     "name": "stdout",
     "output_type": "stream",
     "text": [
      "Dataset size: 260\n",
      "Dataset shape: (260, 4)\n"
     ]
    }
   ],
   "source": [
    "####  ---LOADING THE DATASET AS A NP.ARRAY---  ####\n",
    "filename = 'data/NBA.csv'\n",
    "NBA = csv.reader(open(filename, newline=''), delimiter=',')\n",
    "\n",
    "header = next(NBA) #skip first line = header\n",
    "#print(header)\n",
    "\n",
    "dataset = list(NBA)\n",
    "for i in range(len(dataset)):\n",
    "    dataset[i] = [int(x) for x in dataset[i]]  \n",
    "dataset = np.array(dataset)\n",
    "\n",
    "X = dataset[:,1:4] #columns 1,2,3 contain the features\n",
    "Y = dataset[:,0]  # column 0: labels\n",
    "\n",
    "\n",
    "####  ---SETTING LABELS TO -1,1 (PERCEPTRON IMPLEMENTATION REQUEST)--  ####\n",
    "Y = Y*2-1 \n",
    "m = dataset.shape[0]\n",
    "print(f\"Dataset size: {m}\")\n",
    "\n",
    "\n",
    "####  ---SHUFFLING THE DATASET---  ####\n",
    "permutation = np.random.permutation(m) # random permurtation\n",
    "\n",
    "X = X[permutation]\n",
    "Y = Y[permutation]\n",
    "\n",
    "print(f\"Dataset shape: {dataset.shape}\")"
   ]
  },
  {
   "cell_type": "markdown",
   "metadata": {},
   "source": [
    "We are going to classify class \"1\" (Center) vs class \"-1\" (Point Guard)"
   ]
  },
  {
   "cell_type": "markdown",
   "metadata": {},
   "source": [
    "B) **TO DO** Divide the data into training set and test set (70% of the data in the first set, 30% in the second one)"
   ]
  },
  {
   "cell_type": "code",
   "execution_count": 4,
   "metadata": {},
   "outputs": [
    {
     "name": "stdout",
     "output_type": "stream",
     "text": [
      "Training labels: \n",
      " [ 1 -1  1  1  1  1  1  1 -1  1 -1  1 -1  1  1  1  1 -1 -1  1  1 -1  1 -1\n",
      "  1 -1  1  1  1  1  1  1 -1  1  1  1  1  1 -1 -1  1  1 -1 -1 -1  1  1 -1\n",
      " -1  1 -1  1  1 -1  1  1  1 -1 -1 -1  1  1 -1 -1 -1  1 -1 -1  1  1  1 -1\n",
      "  1 -1 -1 -1 -1 -1 -1  1  1  1  1 -1  1 -1  1 -1  1  1  1 -1 -1  1  1  1\n",
      " -1 -1  1  1 -1  1 -1 -1  1  1  1  1 -1  1 -1  1 -1 -1 -1  1  1  1  1  1\n",
      "  1  1  1 -1 -1 -1 -1  1  1 -1  1 -1  1 -1  1  1  1 -1 -1 -1  1 -1 -1  1\n",
      " -1  1  1  1  1  1 -1  1  1 -1 -1  1 -1  1 -1 -1  1 -1 -1  1  1  1 -1 -1\n",
      "  1  1  1 -1  1 -1  1  1  1  1  1 -1 -1 -1]\n",
      "Number of element in test set: 78\n",
      "Shape of training set: (182, 3)\n",
      "Shape of test set: (78, 3)\n"
     ]
    }
   ],
   "source": [
    "#Divide in training and test: make sure that your training set\n",
    "#contains at least 10 elements from class 1 and at least 10 elements\n",
    "#from class -1! If it does not, modify the code so to apply more random\n",
    "#permutations (or the same permutation multiple times) until this happens.\n",
    "#IMPORTANT: do not change the random seed.\n",
    "\n",
    "\n",
    "####  ---DIVIDING DATA INTO TRAINING AND TEST SET---  ####\n",
    "#m_training needs to be the number of samples in the training set\n",
    "m_training = int(X.shape[0]*0.7)\n",
    "\n",
    "#m_test needs to be the number of samples in the test set\n",
    "m_test = int(X.shape[0]*0.3)\n",
    "\n",
    "\n",
    "####  ---DEFINING A STANDARD FUNCTION FOR SPLITTING DATA IN TEST AND TRAIN SET---  ####\n",
    "####  ---DEFAULT VALUES ARE SET AT 0.7 AND 10, AS REQUIRED---  ####\n",
    "def split(X,Y, frac = 0.7, leastNum = 10): #X: train data\n",
    "                                           #Y: labels (MUST be -1,1)\n",
    "                                           #frac: train fraction of dataset\n",
    "                                           #leastNum: min number of -1/1 in train/test set\n",
    "    do = True\n",
    "    m = int(X.shape[0]*frac) \n",
    "    k = dataset.shape[0]\n",
    "    while(do):\n",
    "        permutation = np.random.permutation(k) # random permurtation\n",
    "        X = X[permutation]\n",
    "        Y = Y[permutation]\n",
    "\n",
    "        X_train=X[:m,:] #PICKING ONLY FIRST m SAMPLES\n",
    "        X_test=X[m:,:]  #PICKING LAST m SAMPLES\n",
    "        Y_train=Y[:m]\n",
    "        Y_test=Y[m:]\n",
    "\n",
    "        x = np.sum(Y_train) #there are m entries in Y_train. In order to have at least \"leastNum\" \n",
    "                            #1 or -1, I need to have a sum which stays in between [-m+10, m-10]\n",
    "                            \n",
    "        if x<(m-leastNum) and x>(leastNum-m):\n",
    "            do = False\n",
    "        else:\n",
    "            do = True\n",
    "    return X_train, Y_train, X_test, Y_test #returning 4 arrays with the desired properties.\n",
    "\n",
    "\n",
    "X_training, Y_training, X_test, Y_test = split(X,Y) #X_training = instances for training set\n",
    "                                                    #Y_training = labels for the training set\n",
    "                                                    #X_test = instances for test set\n",
    "                                                    #Y_test = labels for the test set\n",
    "\n",
    "           \n",
    "####  ---CHECKING OUTPUT RESULTS---  ####\n",
    "print(f\"Training labels: \\n {Y_training}\") #to make sure that Y_training contains both 1 and -1\n",
    "print(f\"Number of element in test set: {m_test}\")\n",
    "\n",
    "print(f\"Shape of training set: {X_training.shape}\")\n",
    "print(f\"Shape of test set: {X_test.shape}\")"
   ]
  },
  {
   "cell_type": "markdown",
   "metadata": {},
   "source": [
    "We add a 1 in front of each sample so that we can use a vector in homogeneous coordinates to describe all the coefficients of the model. This can be done with the function $hstack$ in $numpy$."
   ]
  },
  {
   "cell_type": "code",
   "execution_count": 5,
   "metadata": {},
   "outputs": [
    {
     "name": "stdout",
     "output_type": "stream",
     "text": [
      "Shape of training set: (182, 4)\n"
     ]
    }
   ],
   "source": [
    "####  ---SHIFTING TO HOMOGENEOUS COORDINATES---  ####\n",
    "X_training = np.hstack((np.ones((m_training,1)),X_training))\n",
    "X_test = np.hstack((np.ones((m_test,1)),X_test))\n",
    "print(f\"Shape of training set: {X_training.shape}\")  #(should be (previous, previous+1))"
   ]
  },
  {
   "cell_type": "markdown",
   "metadata": {},
   "source": [
    "**TO DO** Now complete the function *perceptron*. Since the perceptron does not terminate if the data is not linearly separable, your implementation should return the desired output (see below) if it reached the termination condition seen in class or if a maximum number of iterations have already been run, where one iteration corresponds to one update of the perceptron weights. In case the termination is reached because the maximum number of iterations have been completed, the implementation should return **the best model** seen up to now.\n",
    "\n",
    "The input parameters to pass are:\n",
    "- $X$: the matrix of input features, one row for each sample\n",
    "- $Y$: the vector of labels for the input features matrix X\n",
    "- $max\\_num\\_iterations$: the maximum number of iterations for running the perceptron\n",
    "\n",
    "The output values are:\n",
    "- $best\\_w$: the vector with the coefficients of the best model\n",
    "- $best\\_error$: the *fraction* of misclassified samples for the best model"
   ]
  },
  {
   "cell_type": "code",
   "execution_count": 6,
   "metadata": {},
   "outputs": [],
   "source": [
    "####  ---DEFINING FUNCION TO UPDATE W FOLLOWING PERCEPTRON'S RULE---  ####\n",
    "def perceptron_update(current_w, x, y):\n",
    "    return current_w +y*x\n",
    "\n",
    "####  ---DEFINING FUNCION TO IMPLEMENT PERCEPTRON PATH---  ####\n",
    "def perceptron(X, Y, max_num_iterations):\n",
    "    \n",
    "    #init the algorith with w=0, use a best_w variable to keep track of the best solution\n",
    "    curr_w = np.array([0,0,0,0])\n",
    "    best_w = np.array([0,0,0,0])\n",
    "    num_samples = X.shape[0]\n",
    "    best_error = X.shape[0] #\"high value\". Will be overwritten with the best error during while.\n",
    "    \n",
    "    index_misclassified = 0 #will be overwritten: DO NOT dafault set them at -1 \n",
    "    num_misclassified = 0\n",
    "    \n",
    "    \n",
    "    num_iter = 1\n",
    "    shuf_index = np.arange(num_samples)\n",
    "    #main loop continue until all samples correctly classified or max # iterations reached\n",
    "    while ((index_misclassified != -1) and (num_iter < max_num_iterations)):\n",
    "        index_misclassified = -1\n",
    "        num_misclassified = 0\n",
    "        \n",
    "        #random permutation of the misclassified sample\n",
    "        np.random.shuffle(shuf_index)\n",
    "        \n",
    "        for i in shuf_index:  \n",
    "            if (Y[i]*np.dot(curr_w,X[i])<=0):  #misclassified sample? ->\n",
    "                num_misclassified += 1      #count misclassified samples\n",
    "                index_misclassified = i     #storing one index\n",
    "            \n",
    "        if (best_error>num_misclassified): #keeping track of best solution\n",
    "            best_error = np.copy(num_misclassified)\n",
    "            best_w = np.copy(curr_w)\n",
    "    \n",
    "        num_iter += 1 #adding always 1 at iteration count\n",
    "        \n",
    "        #Updating curr_w using a (random) misclassified sample\n",
    "        curr_w = perceptron_update(curr_w, X[index_misclassified], Y[index_misclassified])\n",
    "    \n",
    "    best_error = best_error/num_samples\n",
    "    \n",
    "    return best_w, best_error"
   ]
  },
  {
   "cell_type": "markdown",
   "metadata": {},
   "source": [
    "Now we use the implementation above of the perceptron to learn a model from the training data using 100 iterations and print the error of the best model we have found."
   ]
  },
  {
   "cell_type": "code",
   "execution_count": 7,
   "metadata": {
    "tags": []
   },
   "outputs": [
    {
     "name": "stdout",
     "output_type": "stream",
     "text": [
      "Training Error of perpceptron (100 iterations): 0.08241758241758242\n",
      "[  -3. -272.  578.  -79.]\n"
     ]
    }
   ],
   "source": [
    "####  ---RUNNING PERCEPTRON FOR 100 ITERATIONS---  ####\n",
    "w_found, error = perceptron(X_training,Y_training, 100)\n",
    "print(\"Training Error of perpceptron (100 iterations): \" + str(error))\n",
    "print(w_found)"
   ]
  },
  {
   "cell_type": "markdown",
   "metadata": {},
   "source": [
    "**TO DO** use the best model $w\\_found$ to predict the labels for the test dataset and print the fraction of misclassified samples in the test set (the test error that is an estimate of the true loss)."
   ]
  },
  {
   "cell_type": "code",
   "execution_count": 8,
   "metadata": {},
   "outputs": [
    {
     "name": "stdout",
     "output_type": "stream",
     "text": [
      "Test Error of perceptron (100 iterations): 0.0641025641025641\n"
     ]
    }
   ],
   "source": [
    "####  ---PREDICTION ON TEST SET WITH w_found---  ####\n",
    "num_errors = 0\n",
    "# Computing errors number\n",
    "for i in np.arange(X_test.shape[0]):  \n",
    "    if (Y_test[i]*np.dot(w_found,X_test[i])<=0): #misclassified sample? ->\n",
    "        num_errors += 1                                \n",
    "\n",
    "true_loss_estimate = num_errors/m_test  # error rate on the test set\n",
    "print(\"Test Error of perceptron (100 iterations): \" + str(true_loss_estimate))"
   ]
  },
  {
   "cell_type": "markdown",
   "metadata": {},
   "source": [
    "**TO DO**\n",
    "\n",
    " **[Answer the following]** What about the difference betweeen the training error and the test error  in terms of fraction of misclassified samples? Explain what you observe.\n",
    " \n",
    " \n",
    "The train error is smaller than the test one (at least, at first run). It may let us think to some underfitting error, but I would rather address this to some points considerable as outliers that belong (randomly) to one set or the other. In fact, running multiple times the algorithm (so reshuffling the dataset), we can see both errors fluctuate a bit and switch their positions ( i.e. test error both smaller and bigger than train one). The true error we get, anyway, is an estimate of how well out predictor works on a sample taken from the same distribution as the training ones.\n"
   ]
  },
  {
   "cell_type": "markdown",
   "metadata": {},
   "source": [
    "**TO DO** \n",
    "\n",
    "Copy the code from the last 2 cells above in the cell below and repeat the training with 3000 iterations. Then print the error in the training set and the estimate of the true loss obtained from the test set."
   ]
  },
  {
   "cell_type": "code",
   "execution_count": 9,
   "metadata": {
    "scrolled": true
   },
   "outputs": [
    {
     "name": "stdout",
     "output_type": "stream",
     "text": [
      "Training Error of perpceptron (3000 iterations): 0.08241758241758242\n",
      "Test Error of perpceptron (3000 iterations): 0.0641025641025641\n",
      "[  -4. -266.  559.  -76.]\n",
      "[  -3. -272.  578.  -79.]\n"
     ]
    }
   ],
   "source": [
    "####  ---RUNNING PERCEPTRON FOR 3000 ITERATIONS---  ####\n",
    "w_3000, error_3000 = perceptron(X_training,Y_training, 3000)\n",
    "print(\"Training Error of perpceptron (3000 iterations): \" + str(error_3000))\n",
    "\n",
    "num_errors_3000 = 0\n",
    "# Computing errors number\n",
    "for i in np.arange(X_test.shape[0]):  \n",
    "    if (Y_test[i]*np.dot(w_3000,X_test[i])<=0):  #misclassified sample? ->\n",
    "        num_errors_3000 += 1                                \n",
    "\n",
    "true_loss_estimate_3000 = num_errors_3000/m_test  # error rate on the test set\n",
    "print(\"Test Error of perpceptron (3000 iterations): \" + str(true_loss_estimate_3000))\n",
    "\n",
    "print(w_3000)\n",
    "print(w_found) #actually, different vectors provide the same error on the test set/training set. "
   ]
  },
  {
   "cell_type": "markdown",
   "metadata": {},
   "source": [
    "**TO DO** \n",
    "\n",
    "**[Answer the following]** What about the difference betweeen the training error and the test error  in terms of fraction of misclassified samples) when running for a larger number of iterations ? Explain what you observe and compare with the previous case. [Write the answer in this cell]\n",
    "\n",
    "**ANSWER QUESTION 2**\n",
    "\n",
    "The result after 3000 iterations is stable, while the error on the previous run varied between different values. Anyway, it seems like the perceptron in both cases does not manage to reach the perfect result, and reaches 12 as the minimum number of misclassified samples after \"n_iter\" iterations. \n",
    "\n",
    "Anyway, running the perceptron for 3000 iterations instead of just 100 gives us a better solutions overall. While the former solution, as said, is quite stable, the latter ones ranges between 0.15 and 0.06 (few iterations checked), providing very different predictors.\n",
    "Moreover, the algorithm in some cases outputs the same results. This fact could be linked to the small number of samples in both sets."
   ]
  },
  {
   "cell_type": "markdown",
   "metadata": {},
   "source": [
    "# Logistic Regression\n",
    "Now we use logistic regression, exploiting the implementation in Scikit-learn, to predict labels. We will also plot the decision region of logistic regression.\n",
    "\n",
    "We first load the dataset again."
   ]
  },
  {
   "cell_type": "code",
   "execution_count": 10,
   "metadata": {},
   "outputs": [
    {
     "name": "stdout",
     "output_type": "stream",
     "text": [
      "['Position', 'Height cm', 'kg', 'Age']\n"
     ]
    }
   ],
   "source": [
    "####  ---IMPORTING AND SHUFFLING DATA. AS BEFORE---  ####\n",
    "filename = 'data/NBA.csv'\n",
    "NBA = csv.reader(open(filename, newline=''), delimiter=',')\n",
    "\n",
    "header = next(NBA)\n",
    "print(header)\n",
    "\n",
    "dataset = list(NBA)\n",
    "for i in range(len(dataset)):\n",
    "    dataset[i] = [int(x) for x in dataset[i]]\n",
    "    \n",
    "dataset = np.asarray(dataset)\n",
    "\n",
    "X = dataset[:,1:]\n",
    "Y = dataset[:,0]\n",
    "\n",
    "Y = Y*2-1  # set labels to -1, 1\n",
    "\n",
    "m = dataset.shape[0]\n",
    "permutation = np.random.permutation(m)\n",
    "\n",
    "X = X[permutation]\n",
    "Y = Y[permutation]"
   ]
  },
  {
   "cell_type": "markdown",
   "metadata": {},
   "source": [
    "**TO DO** As for the previous part, divide the data into training and test (70%-30%) and add a 1 as first component to each sample."
   ]
  },
  {
   "cell_type": "code",
   "execution_count": 11,
   "metadata": {},
   "outputs": [
    {
     "name": "stdout",
     "output_type": "stream",
     "text": [
      "Training labels: \n",
      " [-1 -1 -1  1  1  1  1  1 -1  1  1  1 -1  1  1  1  1 -1 -1 -1  1  1  1 -1\n",
      "  1 -1 -1  1 -1 -1  1 -1  1 -1 -1  1 -1 -1 -1 -1 -1 -1 -1 -1  1 -1 -1  1\n",
      "  1  1  1  1  1  1  1  1  1  1  1  1  1  1  1  1  1 -1 -1  1 -1  1  1  1\n",
      " -1 -1  1  1  1 -1  1  1 -1  1  1  1 -1 -1 -1 -1 -1 -1  1  1 -1 -1 -1  1\n",
      " -1  1 -1 -1  1  1 -1  1 -1  1  1 -1  1  1  1  1  1  1  1 -1  1 -1 -1  1\n",
      "  1  1 -1  1  1 -1 -1  1  1  1  1  1 -1  1 -1  1  1  1  1 -1 -1  1 -1 -1\n",
      " -1  1  1  1 -1 -1 -1 -1  1  1  1  1 -1  1  1 -1  1 -1  1  1  1  1  1  1\n",
      "  1 -1 -1  1  1  1 -1  1 -1 -1 -1  1 -1 -1]\n",
      "Shape of training set: (182, 3)\n",
      "Shape of test set: (78, 3)\n",
      "Shape of training set after stack: (182, 4)\n"
     ]
    }
   ],
   "source": [
    "#Divide in training and test: make sure that your training set\n",
    "#contains at least 10 elements from class 1 and at least 10 elements\n",
    "#from class -1! If it does not, modify the code so to apply more random\n",
    "#permutations (or the same permutation multiple times) until this happens.\n",
    "#IMPORTANT: do not change the random seed. \n",
    "\n",
    "\n",
    "####  ---DIVIDING DATA INTO TRAINING AND TEST SET---  ####\n",
    "m_training = int(X.shape[0]*0.7)\n",
    "#print(m_training)\n",
    "\n",
    "#m_test needs to be the number of samples in the test set\n",
    "m_test = int(X.shape[0]*0.3)\n",
    "#print(m_test)\n",
    "\n",
    "X_training, Y_training, X_test, Y_test = split(X,Y) #X_training = instances for training set\n",
    "                                                    #Y_training = labels for the training set\n",
    "                                                    #X_test = instances for test set\n",
    "                                                    #Y_test = labels for the test set\n",
    "\n",
    "\n",
    "####  ---CHECKING OUTPUT RESULTS---  ####\n",
    "print(f\"Training labels: \\n {Y_training}\") #to make sure that Y_training contains both 1 and -1\n",
    "\n",
    "print(f\"Shape of training set: {X_training.shape}\")\n",
    "print(f\"Shape of test set: {X_test.shape}\")\n",
    "\n",
    "####  ---SHIFTING TO HOMOGENEOUS COORDINATES (np.hstack)---  ####\n",
    "X_training = np.hstack((np.ones((m_training,1)),X_training))\n",
    "X_test = np.hstack((np.ones((m_test,1)),X_test))\n",
    "print(f\"Shape of training set after stack: {X_training.shape}\")"
   ]
  },
  {
   "cell_type": "markdown",
   "metadata": {},
   "source": [
    "To define a logistic regression model in Scikit-learn use the instruction\n",
    "\n",
    "$linear\\_model.LogisticRegression(C=1e5)$\n",
    "\n",
    "($C$ is a parameter related to *regularization*, a technique that\n",
    "we will see later in the course. Setting it to a high value is almost\n",
    "as ignoring regularization, so the instruction above corresponds to the\n",
    "logistic regression you have seen in class.)\n",
    "\n",
    "To learn the model you need to use the $fit(...)$ instruction and to predict you need to use the $predict(...)$ function. See the Scikit-learn documentation for how to use it.\n",
    "\n",
    "**TO DO** \n",
    "\n",
    "Define the logistic regression model, then learn the model using the training set and predict on the test set. Then print the fraction of samples misclassified in the training set and in the test set."
   ]
  },
  {
   "cell_type": "code",
   "execution_count": 12,
   "metadata": {},
   "outputs": [
    {
     "name": "stdout",
     "output_type": "stream",
     "text": [
      "Error rate on training set: 0.06043956043956044\n",
      "Error rate on test set: 0.0641025641025641\n"
     ]
    }
   ],
   "source": [
    "####  ---DEFINING A LOGISTIC REGRESSION MODEL---  ####\n",
    "logreg = linear_model.LogisticRegression(C=1e5) #a large C disables regularization\n",
    "\n",
    "\n",
    "####  ---LEARNING FROM TRAINING SET---  ####\n",
    "logreg.fit(X_training,Y_training)\n",
    "\n",
    "####  --- COUNTING ERRORS ON TRAIN SET PREDICTIONS---  ####\n",
    "error_rate_training = 0\n",
    "\n",
    "for i in np.arange( m_training ): #Counting errors\n",
    "    if (Y_training[i]!=logreg.predict(X_training)[i]): error_rate_training+=1\n",
    "\n",
    "\n",
    "####  --- COUNTING ERRORS ON TEST SET PREDICTIONS---  ####\n",
    "error_rate_test = 0\n",
    "\n",
    "for i in np.arange( m_test ):\n",
    "    if (Y_test[i]!=logreg.predict(X_test)[i]): error_rate_test+=1\n",
    "\n",
    "####  ---CHECKING OUTPUT---  ####\n",
    "error_rate_training/=m_training\n",
    "print(\"Error rate on training set: \"+str(error_rate_training))\n",
    "\n",
    "error_rate_test/=m_test\n",
    "print(\"Error rate on test set: \"+str(error_rate_test))"
   ]
  },
  {
   "cell_type": "markdown",
   "metadata": {},
   "source": [
    "**TO DO** \n",
    "\n",
    "Now pick two features and restrict the dataset to include only two features, whose indices are specified in the $feature$ vector below. Then split into training and test. \n",
    "\n",
    "Which features are you going to select ? \n",
    "\n",
    "Surely height and weight, as long as age does not determine whether a player is a C or a PG"
   ]
  },
  {
   "cell_type": "code",
   "execution_count": 13,
   "metadata": {},
   "outputs": [
    {
     "name": "stdout",
     "output_type": "stream",
     "text": [
      "Shape of reduced set: (260, 2)\n",
      "Training labels: \n",
      " [-1  1 -1 -1  1  1  1  1  1 -1 -1 -1  1  1 -1  1  1 -1  1 -1 -1  1  1  1\n",
      " -1 -1 -1  1 -1  1  1  1 -1  1 -1  1  1 -1  1  1  1  1  1  1 -1 -1 -1  1\n",
      " -1  1  1 -1 -1 -1 -1  1  1  1  1  1  1 -1  1  1  1 -1  1  1  1 -1 -1  1\n",
      "  1  1  1 -1 -1 -1  1  1  1 -1  1 -1  1  1  1 -1 -1  1  1  1 -1  1  1 -1\n",
      " -1 -1  1 -1 -1  1  1 -1 -1  1  1  1 -1 -1  1 -1  1  1  1 -1 -1 -1 -1  1\n",
      " -1  1 -1 -1  1  1  1  1 -1  1  1 -1 -1 -1  1  1 -1  1  1 -1  1  1  1  1\n",
      "  1 -1 -1  1  1 -1 -1  1 -1  1  1  1  1  1 -1  1 -1  1 -1  1 -1 -1  1 -1\n",
      " -1 -1  1 -1  1  1  1 -1  1  1 -1 -1 -1  1]\n",
      "Shape of training set: (182, 2)\n",
      "Shape of test set: (78, 2)\n"
     ]
    }
   ],
   "source": [
    "####  ---REDICING FEATURES TO 2, SO WE ARE ABLE TO PLOT RESULTS---  ####\n",
    "features_list = ['height', 'weight', 'age']\n",
    "labels_list = ['Center', 'Point guard']\n",
    "\n",
    "####  ---SELECTING FEATURES---  ####\n",
    "index_feature1 = 0 #Height\n",
    "index_feature2 = 1 #Weight (age of course is not very meaningful)\n",
    "features = [index_feature1, index_feature2]\n",
    "\n",
    "feature_name0 = features_list[features[0]]\n",
    "feature_name1 = features_list[features[1]]\n",
    "\n",
    "\n",
    "X_reduced = X[:,features] #Picking only features requires\n",
    "print(f\"Shape of reduced set: {X_reduced.shape}\")\n",
    "\n",
    "####  ---SPLITTING--  ####\n",
    "X_training, Y_training, X_test, Y_test = split(X_reduced,Y) #X_training = instances for training set\n",
    "                                                    #Y_training = labels for the training set\n",
    "                                                    #X_test = instances for test set\n",
    "                                                    #Y_test = labels for the test set\n",
    "####  ---CHECKING RESULTS---  ####\n",
    "print(f\"Training labels: \\n {Y_training}\") #to make sure that Y_training contains both 1 and -1\n",
    "\n",
    "print(f\"Shape of training set: {X_training.shape}\")\n",
    "print(f\"Shape of test set: {X_test.shape}\")"
   ]
  },
  {
   "cell_type": "markdown",
   "metadata": {},
   "source": [
    "Now learn a model using the training data and measure the performances."
   ]
  },
  {
   "cell_type": "code",
   "execution_count": 14,
   "metadata": {},
   "outputs": [
    {
     "name": "stdout",
     "output_type": "stream",
     "text": [
      "Error rate on test set: 0.08974358974358974\n"
     ]
    }
   ],
   "source": [
    "####  ---DEFINING AND TRAINING THE MODEL-  ####\n",
    "logreg = linear_model.LogisticRegression(C=1e5) #a large C disables regularization\n",
    "logreg.fit(X_training,Y_training)\n",
    "\n",
    "####  ---COUNTING ERRORS ON TEST SET---  ####\n",
    "error_rate_test = 0\n",
    "for i in np.arange( m_test ):\n",
    "    if (Y_test[i]!=logreg.predict(X_test)[i]):error_rate_test+=1\n",
    "        \n",
    "####  ---CHECKING OUTPUT---  ####\n",
    "error_rate_test/=m_test\n",
    "print(\"Error rate on test set: \" + str(error_rate_test))"
   ]
  },
  {
   "cell_type": "markdown",
   "metadata": {},
   "source": [
    "**TO DO** [Answer the following] Which features did you select and why ? Compare the perfromances with the ones of the case with all the 3 features and comment about the results. [Write the answer in this cell]\n",
    "\n",
    "**ANSWER QUESTION 3**\n",
    "\n",
    "Surely height and weight, as long as age does not determine whether a player is a C or a PG. In fact, while comparing these one I get a 0.06 error, if I compare for exaple height and age I get a 0.28 percentage error ( far larger! ).\n",
    "\n",
    "As expected, the age does not affect the predictors, as I get a similar error as the previous one even without a feature (which we can say it's not relevant)."
   ]
  },
  {
   "cell_type": "markdown",
   "metadata": {},
   "source": [
    "If everything is ok, the code below uses the model in $logreg$ to plot the decision region for the two features chosen above, with colors denoting the predicted value. It also plots the points (with correct labels) in the training set. It makes a similar plot for the test set."
   ]
  },
  {
   "cell_type": "code",
   "execution_count": 15,
   "metadata": {
    "scrolled": true
   },
   "outputs": [
    {
     "data": {
      "image/png": "[encoded data removed]",
      "text/plain": [
       "<Figure size 288x216 with 1 Axes>"
      ]
     },
     "metadata": {},
     "output_type": "display_data"
    },
    {
     "data": {
      "image/png": "[encoded data removed]",
      "text/plain": [
       "<Figure size 288x216 with 1 Axes>"
      ]
     },
     "metadata": {},
     "output_type": "display_data"
    }
   ],
   "source": [
    "# Plot the decision boundary. For that, we will assign a color to each\n",
    "# point in the mesh [x_min, x_max]x[y_min, y_max].\n",
    "\n",
    "# NOTICE: This visualization code has been developed for a \"standard\" solution of the notebook, \n",
    "# it could be necessary to make some fixes to adapt to your implementation\n",
    "h = .02  # step size in the mesh\n",
    "x_min, x_max = X_reduced[:, 0].min() - .5, X_reduced[:, 0].max() + .5\n",
    "y_min, y_max = X_reduced[:, 1].min() - .5, X_reduced[:, 1].max() + .5\n",
    "xx, yy = np.meshgrid(np.arange(x_min, x_max, h), np.arange(y_min, y_max, h))\n",
    "\n",
    "Z = logreg.predict(np.c_[xx.ravel(), yy.ravel()])\n",
    "\n",
    "# Put the result into a color plot\n",
    "Z = Z.reshape(xx.shape)\n",
    "\n",
    "plt.figure(1, figsize=(4, 3))\n",
    "plt.pcolormesh(xx, yy, Z, cmap=plt.cm.Paired, shading='auto')\n",
    "\n",
    "# Plot also the training points\n",
    "plt.scatter(X_training[:, 0], X_training[:, 1], c=Y_training, edgecolors='k', cmap=plt.cm.Paired)\n",
    "plt.xlabel(feature_name0)\n",
    "plt.ylabel(feature_name1)\n",
    "\n",
    "plt.xlim(xx.min(), xx.max())\n",
    "plt.ylim(yy.min(), yy.max())\n",
    "plt.xticks(())\n",
    "plt.yticks(())\n",
    "plt.title('Training set')\n",
    "\n",
    "plt.show()\n",
    "\n",
    "# Put the result into a color plot\n",
    "Z = Z.reshape(xx.shape)\n",
    "plt.figure(1, figsize=(4, 3))\n",
    "plt.pcolormesh(xx, yy, Z, cmap=plt.cm.Paired, shading='auto')\n",
    "\n",
    "# Plot also the test points \n",
    "plt.scatter(X_test[:, 0], X_test[:, 1], c=Y_test, edgecolors='k', cmap=plt.cm.Paired, marker='s')\n",
    "plt.xlabel(feature_name0)\n",
    "plt.ylabel(feature_name1)\n",
    "\n",
    "plt.xlim(xx.min(), xx.max())\n",
    "plt.ylim(yy.min(), yy.max())\n",
    "plt.xticks(())\n",
    "plt.yticks(())\n",
    "plt.title('Test set')\n",
    "\n",
    "plt.show()"
   ]
  },
  {
   "cell_type": "markdown",
   "metadata": {},
   "source": [
    "# 2) Linear Regression on the Boston House Price dataset\n",
    "\n",
    "Dataset description: <br>\n",
    "The Boston House Price Dataset involves the prediction of a house price in thousands of dollars given details about the house and its neighborhood.\n",
    "\n",
    "The dataset contains a total of 500 observations, which relate 13 input features to an output variable (house price).\n",
    "\n",
    "The variable names are as follows:\n",
    "\n",
    "CRIM: per capita crime rate by town.\n",
    "\n",
    "ZN: proportion of residential land zoned for lots over 25,000 sq.ft.\n",
    "\n",
    "INDUS: proportion of nonretail business acres per town.\n",
    "\n",
    "CHAS: Charles River dummy variable (= 1 if tract bounds river; 0 otherwise).\n",
    "\n",
    "NOX: nitric oxides concentration (parts per 10 million).\n",
    "\n",
    "RM: average number of rooms per dwelling.\n",
    "\n",
    "AGE: proportion of owner-occupied units built prior to 1940.\n",
    "\n",
    "DIS: weighted distances to five Boston employment centers.\n",
    "\n",
    "RAD: index of accessibility to radial highways.\n",
    "\n",
    "TAX: full-value property-tax rate per $10,000.\n",
    "\n",
    "PTRATIO: pupil-teacher ratio by town.\n",
    "\n",
    "B: 1000*(Bk – 0.63)2 where Bk is the proportion of blacks by town.\n",
    "\n",
    "LSTAT: % lower status of the population.\n",
    "\n",
    "MEDV: Median value of owner-occupied homes in $1000s.\n",
    "    "
   ]
  },
  {
   "cell_type": "code",
   "execution_count": 16,
   "metadata": {},
   "outputs": [],
   "source": [
    "#needed if you get the IPython/javascript error on the in-line plots\n",
    "%matplotlib nbagg  \n",
    "\n",
    "import matplotlib.pyplot as plt\n",
    "import numpy as np\n",
    "import scipy as sp\n",
    "from scipy import stats\n",
    "import pandas as pd"
   ]
  },
  {
   "cell_type": "code",
   "execution_count": 17,
   "metadata": {},
   "outputs": [
    {
     "name": "stdout",
     "output_type": "stream",
     "text": [
      "Shape of data array: (500, 14)\n"
     ]
    }
   ],
   "source": [
    "####  ---IMPORTING DATAS + np.array--  ####\n",
    "filename = \"data/house.csv\"\n",
    "Data = np.genfromtxt(filename, delimiter=';',skip_header=1)\n",
    "\n",
    "dataDescription = stats.describe(Data)\n",
    "#print(dataDescription)\n",
    "print (\"Shape of data array: \" + str(Data.shape))\n"
   ]
  },
  {
   "cell_type": "markdown",
   "metadata": {},
   "source": [
    "# Split data in training, validation and test sets\n",
    "\n",
    "\n",
    "\n",
    "Given $m$ total data, denote with $m_{tv}$ the part used for training and validation. Keep $m_t$ data as training data, $m_{val}:=m_{tv}-m_t$ as validation data and $m_{test}:=m - m_{val} - m_t = m-m_{tv}$. For instance one can take $m_t=0.6m$ of the data as training, $m_{val}=0.2m$  validation and $m_{test}=0.2m$ as testing. Let us define as define\n",
    "\n",
    "$\\bullet$ $S_{t}$ the training data set\n",
    "\n",
    "$\\bullet$ $S_{val}$ the validation data set\n",
    "\n",
    "$\\bullet$ $S_{test}$ the testing data set\n",
    "\n",
    "\n",
    "The reason for this splitting is as follows:\n",
    "\n",
    "TRAINING DATA: The training data are used to compute the empirical loss\n",
    "$$\n",
    "L_S(h) = \\frac{1}{m_t} \\sum_{z_i \\in S_{t}} \\ell(h,z_i)\n",
    "$$\n",
    "which is used to estimate $h$ in a given model class ${\\cal H}$.\n",
    "i.e. \n",
    "$$\n",
    "\\hat{h} = {\\rm arg\\; min}_{h \\in {\\cal H}} \\, L_S(h)\n",
    "$$\n",
    "\n",
    "VALIDATION DATA: When different model classes are present (e.g. of different complexity such as linear regression which uses a different number $d_j$ of regressors $x_1$,...$x_{d_j}$), one has to choose which one is the \"best\" complexity. In this simple example the validation set is not needed, but it is better to get used with it.\n",
    "Let ${\\cal H}_{d_j}$ be the space of models as a function of the complexity $d_j$ and let \n",
    "$$\n",
    "\\hat h_{d_j} = {\\rm arg\\; min}_{h \\in {\\cal H}_{d_j}} \\, L_S(h)\n",
    "$$\n",
    "\n",
    "One can estimate the generalization error for model $\\hat h_{d_j}$ as follows:\n",
    "$$\n",
    "L_{{\\cal D}}(\\hat h_{d_j}) \\simeq \\frac{1}{m_{val}} \\sum_{ z_i \\in S_{val}} \\ell(\\hat h_{d_j},z_i)\n",
    "$$\n",
    "and then choose the complexity which achieves the best estimate of the generalization error\n",
    "$$\n",
    "\\hat d_j: = {\\rm arg\\; min}_{d_j} \\,\\frac{1}{m_{val}} \\sum_{ z_i \\in S_{val}} \\ell(\\hat h_{d_j},z_i)\n",
    "$$\n",
    "\n",
    "TESTING DATA: Last, the test data set can be used to estimate the performance of the final estimated model\n",
    "$\\hat h_{\\hat d_j}$ using:\n",
    "$$\n",
    "L_{{\\cal D}}(\\hat h_{\\hat d_j}) \\simeq \\frac{1}{m_{test}} \\sum_{ z_i \\in S_{test}} \\ell(\\hat h_{\\hat d_j},z_i)\n",
    "$$\n",
    "\n",
    "\n",
    "**TO DO**: split the data in training, validation and test sets (60%-20%-20%)"
   ]
  },
  {
   "cell_type": "code",
   "execution_count": 18,
   "metadata": {},
   "outputs": [
    {
     "name": "stdout",
     "output_type": "stream",
     "text": [
      "Size of each chunk of data:  [300. 100. 100.]\n",
      "(500, 14) 500\n",
      "Training input data size:  (300, 13)\n",
      "Training output data size:  (300, 1)\n",
      "Validation input data size:  (100, 13)\n",
      "Validation output data size:  (100, 1)\n",
      "Test input data size:  (100, 13)\n",
      "Test output data size:  (100, 1)\n"
     ]
    }
   ],
   "source": [
    "####  ---SPLITTING DATASET IN TRAINING, VALIDATION AND TEST--  ####\n",
    "num_total_samples = Data.shape[0]\n",
    "\n",
    "size_chunk = np.array([ 0.6, 0.2, 0.2 ]) #Fractions that will be used to split the dataset\n",
    "size_chunk = num_total_samples*size_chunk\n",
    "for i in np.arange(len(size_chunk)): size_chunk[i]=int(size_chunk[i])\n",
    "print (\"Size of each chunk of data: \", size_chunk)\n",
    "\n",
    "np.random.shuffle(Data) #shuffling datas\n",
    "print(Data.shape, num_total_samples)\n",
    "\n",
    "####  ---TRAINING SPLIT---  ####\n",
    "X_training = Data[ :300, :-1]\n",
    "Y_training = Data[ :300, -1:]\n",
    "print (\"Training input data size: \", X_training.shape)\n",
    "print (\"Training output data size: \", Y_training.shape)\n",
    "\n",
    "####  ---VALIDATION SPLIT---  ####\n",
    "X_validation = Data[300:400, :-1]\n",
    "Y_validation = Data[300:400, -1:]\n",
    "print (\"Validation input data size: \", X_validation.shape)\n",
    "print (\"Validation output data size: \", Y_validation.shape)\n",
    "\n",
    "####  ---TEST SPLIT---  ####\n",
    "X_test = Data[400:, :-1]\n",
    "Y_test = Data[400:, -1:]\n",
    "print (\"Test input data size: \", X_test.shape)\n",
    "print (\"Test output data size: \", Y_test.shape)"
   ]
  },
  {
   "cell_type": "markdown",
   "metadata": {},
   "source": [
    "# Data Normalization\n",
    "It is common practice in Statistics and Machine Learning to scale the data (= each variable) so that it is centered (zero mean) and has standard deviation equal to 1. This helps in terms of numerical conditioning of the (inverse) problems of estimating the model (the coefficients of the linear regression in this case), as well as to give the same scale to all the coefficients."
   ]
  },
  {
   "cell_type": "code",
   "execution_count": 19,
   "metadata": {},
   "outputs": [
    {
     "name": "stdout",
     "output_type": "stream",
     "text": [
      "Mean of the training input data: [ 5.23562675e-16 -8.84477676e-17  3.01980663e-15 -2.05391260e-17\n",
      "  5.96559839e-16  3.19725727e-15  1.43736874e-15 -7.72715225e-16\n",
      " -2.22044605e-17  1.71714494e-16  1.96835141e-14  3.72822144e-15\n",
      "  1.37371596e-15]\n",
      "Std of the training input data: [1. 1. 1. 1. 1. 1. 1. 1. 1. 1. 1. 1. 1.]\n",
      "Mean of the validation input data: [ 0.0605998   0.04729355  0.1990784   0.09176629  0.09382376  0.09866389\n",
      "  0.06838458 -0.16054605  0.04704119  0.1452496  -0.03999537 -0.13004111\n",
      "  0.03503516]\n",
      "Std of the validation input data: [1.16271692 1.13332733 1.09140138 1.1706948  1.10362966 0.98326069\n",
      " 0.94242067 0.90969953 1.03604533 1.01550049 1.03746092 1.10162994\n",
      " 1.0360318 ]\n",
      "Mean of the test input data: [-0.09541986 -0.1057709   0.04886305  0.36706517  0.14710635 -0.08576263\n",
      "  0.09714576 -0.08915538 -0.02868365  0.0049537   0.00883619 -0.04825141\n",
      "  0.16698206]\n",
      "Std of the test input data: [0.62032364 0.98561688 0.94900109 1.54306598 1.10245255 0.80261051\n",
      " 0.96299155 0.92690981 0.95574968 0.9531867  0.98461308 0.94999097\n",
      " 0.976808  ]\n"
     ]
    }
   ],
   "source": [
    "####  ---SCALING DATA AND PRINTING SET PROPERTIES---  ####\n",
    "from sklearn import preprocessing # standardize the input matrix\n",
    "# the transformation is computed on training data and then used on all the 3 sets\n",
    "scaler = preprocessing.StandardScaler().fit(X_training) \n",
    "\n",
    "X_training = scaler.transform(X_training)\n",
    "print (\"Mean of the training input data:\", X_training.mean(axis=0))\n",
    "print (\"Std of the training input data:\",X_training.std(axis=0))\n",
    "\n",
    "X_validation = scaler.transform(X_validation) # same transformation on validation data\n",
    "print (\"Mean of the validation input data:\", X_validation.mean(axis=0))\n",
    "print (\"Std of the validation input data:\", X_validation.std(axis=0))\n",
    "\n",
    "X_test = scaler.transform(X_test) # ame transformation on test data\n",
    "print (\"Mean of the test input data:\", X_test.mean(axis=0))\n",
    "print (\"Std of the test input data:\", X_test.std(axis=0))"
   ]
  },
  {
   "cell_type": "markdown",
   "metadata": {},
   "source": [
    "# Model Training \n",
    "\n",
    "The model is trained (= estimated) minimizing the empirical error\n",
    "$$\n",
    "L_S(h) := \\frac{1}{m_t} \\sum_{z_i \\in S_{t}} \\ell(h,z_i)\n",
    "$$\n",
    "When the loss function is the quadratic loss\n",
    "$$\n",
    "\\ell(h,z) := (y - h(x))^2\n",
    "$$\n",
    "we define  the Residual Sum of Squares (RSS) as\n",
    "$$\n",
    "RSS(h):= \\sum_{z_i \\in S_{t}} \\ell(h,z_i) = \\sum_{z_i \\in S_{t}} (y_i - h(x_i))^2\n",
    "$$ so that the training error becomes\n",
    "$$\n",
    "L_S(h) = \\frac{RSS(h)}{m_t}\n",
    "$$\n",
    "\n",
    "We recal that, for linear models we have $h(x) = <w,x>$ and the Empirical error $L_S(h)$ can be written\n",
    "in terms of the vector of parameters $w$ in the form\n",
    "$$\n",
    "L_S(w) = \\frac{1}{m_t} \\|Y - X w\\|^2\n",
    "$$\n",
    "where $Y$ and $X$ are the matrices whose $i-$th row are, respectively, the output data $y_i$ and the input vectors $x_i^\\top$.\n",
    "\n",
    "\n",
    " **TO DO:** compute the linear regression coefficients using np.linalg.lstsq from scikitlear \n",
    " "
   ]
  },
  {
   "cell_type": "code",
   "execution_count": 20,
   "metadata": {},
   "outputs": [
    {
     "name": "stdout",
     "output_type": "stream",
     "text": [
      "LS coefficients with numpy lstsq: [[ 2.26206667e+02]\n",
      " [-8.86168165e+00]\n",
      " [ 9.16873541e+00]\n",
      " [-1.05638594e-01]\n",
      " [ 1.02318668e+01]\n",
      " [-1.21420380e+01]\n",
      " [ 3.27367209e+01]\n",
      " [-2.09674161e+00]\n",
      " [-2.94742333e+01]\n",
      " [ 2.21352051e+01]\n",
      " [-2.14197177e+01]\n",
      " [-1.66112891e+01]\n",
      " [ 7.01679522e+00]\n",
      " [-3.74023291e+01]]\n",
      "RSS with numpy lstsq:  [627020.96454682]\n",
      "Empirical risk with numpy lstsq: [2090.06988182]\n",
      "Empirical risk with numpy lstsq: 2090.069881822727\n"
     ]
    }
   ],
   "source": [
    "####  ---COMPUTING LINEAR REGRESSION COEFFICIENTS FROM TRAINING---  ####\n",
    "\n",
    "####  ---HOMOGENEOUS COORDINATES FOR ALL SETS---  ####\n",
    "m_training = X_training.shape[0]\n",
    "X_trainingH = np.hstack((np.ones((m_training,1)),X_training)) # H: in homogeneous coordinates\n",
    "#print X_training[0,:]\n",
    "\n",
    "m_validation = X_validation.shape[0]\n",
    "X_validationH = np.hstack((np.ones((m_validation,1)),X_validation))  # H: in homogeneous coordinates\n",
    "#print X_validation[0,:]\n",
    "\n",
    "m_test = X_test.shape[0]\n",
    "X_testH = np.hstack((np.ones((m_test,1)),X_test))  # H: in homogeneous coordinates\n",
    "#print X_test[0,:]   \n",
    "\n",
    "####  ---COMPUTING AND PRINTING LSQ COEFFICIENTS USING np.linalg.lstsq---  ####\n",
    "w_np, RSStr_np, rank_Xtr, sv_Xtr =  np.linalg.lstsq(X_trainingH, Y_training, rcond=None)\n",
    "print(\"LS coefficients with numpy lstsq:\", w_np)\n",
    "\n",
    "####  ---COMPUTING AND PRINTING RESIDUAL SUM OF SQUARES---  ####\n",
    "RSStr_hand = np.sum(np.power(Y_training-np.dot(X_trainingH, w_np),2))\n",
    "\n",
    "print(\"RSS with numpy lstsq: \", RSStr_np)\n",
    "print(\"Empirical risk with numpy lstsq:\", RSStr_np/m_training)\n",
    "print(\"Empirical risk with numpy lstsq:\", RSStr_hand/m_training) #ok\n"
   ]
  },
  {
   "cell_type": "markdown",
   "metadata": {},
   "source": [
    "## Data prediction \n",
    "\n",
    "Compute the output predictions on both training and validation set and compute the Residual Sum of Sqaures (RSS). \n",
    "\n",
    "**TO DO**: Compute these quantities on  training, validation and test sets."
   ]
  },
  {
   "cell_type": "code",
   "execution_count": 21,
   "metadata": {},
   "outputs": [
    {
     "name": "stdout",
     "output_type": "stream",
     "text": [
      "RSS on validation data: 293182.70090987085\n",
      "Loss estimated from validation data: 2931.8270090987085\n",
      "RSS on test data: 198633.85084540208\n",
      "Loss estimated from test data: 1986.3385084540207\n"
     ]
    }
   ],
   "source": [
    "####  ---PREDICTIONG ON VALIDATION, TRAINING AND TEST---  ####\n",
    "prediction_training = np.dot(X_trainingH, w_np)\n",
    "prediction_validation = np.dot(X_validationH, w_np)\n",
    "prediction_test = np.dot(X_testH, w_np)\n",
    "\n",
    "####  ---COMPUTING AND PRINTING RESIDUAL SUM OF SQUARES FOR VALIDATION AND TEST---  ####\n",
    "RSS_validation = np.sum(np.power(Y_validation-np.dot(X_validationH, w_np),2))\n",
    "RSS_test = np.sum(np.power(Y_test-np.dot(X_testH, w_np),2))\n",
    "\n",
    "print(\"RSS on validation data:\",  RSS_validation)\n",
    "print(\"Loss estimated from validation data:\", RSS_validation/m_validation)\n",
    "\n",
    "print(\"RSS on test data:\",  RSS_test)\n",
    "print(\"Loss estimated from test data:\", RSS_test/m_test)"
   ]
  },
  {
   "cell_type": "markdown",
   "metadata": {},
   "source": [
    "### QUESTION 4: Comment on the results you get and on the difference between the train, validation and test errors.\n",
    "\n",
    "The predictor has quite regolar performances over the three sets. Even if the loss on test set is lower than the one on the train one, the validation error happens to be bigger.\n",
    "\n",
    "Actually, data in validation set are not used to provide a better predictor, so the validation and test error both represent estimates of true error itself. So, it could be possible for example to run the prediction on the union  I would rather split, in this specific case, the dataset in just training and test set, to maximize the usage of data of the algorithm."
   ]
  },
  {
   "cell_type": "markdown",
   "metadata": {},
   "source": [
    "## Ordinary Least-Squares using scikit-learn\n",
    "Another fast way to compute the LS estimate is through sklearn.linear_model (for this function homogeneous coordinates are not needed)."
   ]
  },
  {
   "cell_type": "code",
   "execution_count": 22,
   "metadata": {},
   "outputs": [
    {
     "name": "stdout",
     "output_type": "stream",
     "text": [
      "Intercept: [226.20666667]\n",
      "Least-Squares Coefficients: [[ -8.86168165   9.16873541  -0.10563859  10.23186683 -12.142038\n",
      "   32.73672092  -2.09674161 -29.47423328  22.1352051  -21.41971766\n",
      "  -16.61128907   7.01679522 -37.40232914]]\n",
      "Measure on training data: 0.2328909497859446\n"
     ]
    }
   ],
   "source": [
    "from sklearn import linear_model\n",
    "\n",
    "# build the LinearRegression() model and train it\n",
    "LinReg = linear_model.LinearRegression().fit(X_training, Y_training)\n",
    "\n",
    "print(\"Intercept:\", LinReg.intercept_)\n",
    "print(\"Least-Squares Coefficients:\", LinReg.coef_)\n",
    "\n",
    "# return a prediction score based on the coefficient of determination\n",
    "print(\"Measure on training data:\", 1-LinReg.score(X_training, Y_training))"
   ]
  },
  {
   "cell_type": "code",
   "execution_count": null,
   "metadata": {},
   "outputs": [],
   "source": []
  }
 ],
 "metadata": {
  "anaconda-cloud": {},
  "kernelspec": {
   "display_name": "Python 3",
   "language": "python",
   "name": "python3"
  },
  "language_info": {
   "codemirror_mode": {
    "name": "ipython",
    "version": 3
   },
   "file_extension": ".py",
   "mimetype": "text/x-python",
   "name": "python",
   "nbconvert_exporter": "python",
   "pygments_lexer": "ipython3",
   "version": "3.8.5"
  }
 },
 "nbformat": 4,
 "nbformat_minor": 2
}