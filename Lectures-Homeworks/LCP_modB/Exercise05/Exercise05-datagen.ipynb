{
 "cells": [
  {
   "cell_type": "code",
   "execution_count": 1,
   "id": "compressed-transcript",
   "metadata": {
    "tags": []
   },
   "outputs": [],
   "source": [
    "import csv\n",
    "# random seed for reproducibility\n",
    "import random\n",
    "import copy\n",
    "random.seed(12)"
   ]
  },
  {
   "cell_type": "code",
   "execution_count": 2,
   "id": "lightweight-bacon",
   "metadata": {},
   "outputs": [],
   "source": [
    "seqstr4 = ['11001100', '00111100', '11000011', '00110011']\n",
    "seqstr5 = ['11001100', '00111100', '11000011', '00110011', '11111111']\n",
    "seqstr6 = ['11001100', '00111100', '11000011', '00110011', '11111111', '10101000']\n",
    "N = 10000"
   ]
  },
  {
   "cell_type": "code",
   "execution_count": 3,
   "id": "complicated-member",
   "metadata": {},
   "outputs": [],
   "source": [
    "def create_data(seqstr, N):\n",
    "    seq = [[int(i) for i in seqstr[j]] for j in range(len(seqstr))]\n",
    "    data = []\n",
    "    label = []\n",
    "    for i in range(N):\n",
    "        n = random.randint(0,len(seq)-1)\n",
    "        data.append(seq[n].copy())\n",
    "        label.append(n)\n",
    "    return data, label\n",
    "\n",
    "def noise(data, q):\n",
    "    new = copy.deepcopy(data)\n",
    "    for n in range(len(data)):\n",
    "        for j in range(len(data[0])):\n",
    "            if random.random()<q:\n",
    "                new[n][j] = 1-data[n][j]\n",
    "    return new"
   ]
  },
  {
   "cell_type": "code",
   "execution_count": 4,
   "id": "outdoor-lyric",
   "metadata": {},
   "outputs": [],
   "source": [
    "def save_sets(seqstr, q, N = 10000):\n",
    "    x,y = create_data(seqstr, N)\n",
    "    fname1 = 'DATA/dataRBM_clean' + str(len(seqstr)) + '_q'+str(q)+'.csv'\n",
    "    print(fname1)\n",
    "    with open(fname1, mode='w') as myfile:\n",
    "        writer = csv.writer(myfile, delimiter=',')\n",
    "        for i in range(N):\n",
    "            writer.writerow(x[i])\n",
    "    x_noise = noise(x, q)\n",
    "    fname2 = 'DATA/dataRBM_seq' + str(len(seqstr)) + '_q'+str(q)+'.csv'\n",
    "    print(fname2)\n",
    "    with open(fname2, mode='w') as myfile:\n",
    "        writer = csv.writer(myfile, delimiter=',')\n",
    "        for i in range(N):\n",
    "            writer.writerow(x_noise[i])"
   ]
  },
  {
   "cell_type": "code",
   "execution_count": 5,
   "id": "immediate-heath",
   "metadata": {},
   "outputs": [],
   "source": [
    "qs = [0.1, 0.2, 0.3]\n",
    "seqstrs = [seqstr4, seqstr5, seqstr6]"
   ]
  },
  {
   "cell_type": "code",
   "execution_count": 6,
   "id": "powered-brisbane",
   "metadata": {},
   "outputs": [
    {
     "name": "stdout",
     "output_type": "stream",
     "text": [
      "DATA/dataRBM_clean4_q0.1.csv\n",
      "DATA/dataRBM_seq4_q0.1.csv\n",
      "DATA/dataRBM_clean4_q0.2.csv\n",
      "DATA/dataRBM_seq4_q0.2.csv\n",
      "DATA/dataRBM_clean4_q0.3.csv\n",
      "DATA/dataRBM_seq4_q0.3.csv\n",
      "DATA/dataRBM_clean5_q0.1.csv\n",
      "DATA/dataRBM_seq5_q0.1.csv\n",
      "DATA/dataRBM_clean5_q0.2.csv\n",
      "DATA/dataRBM_seq5_q0.2.csv\n",
      "DATA/dataRBM_clean5_q0.3.csv\n",
      "DATA/dataRBM_seq5_q0.3.csv\n",
      "DATA/dataRBM_clean6_q0.1.csv\n",
      "DATA/dataRBM_seq6_q0.1.csv\n",
      "DATA/dataRBM_clean6_q0.2.csv\n",
      "DATA/dataRBM_seq6_q0.2.csv\n",
      "DATA/dataRBM_clean6_q0.3.csv\n",
      "DATA/dataRBM_seq6_q0.3.csv\n"
     ]
    }
   ],
   "source": [
    "for s in seqstrs:\n",
    "    for Q in qs:\n",
    "        save_sets(s, Q, N)"
   ]
  },
  {
   "cell_type": "code",
   "execution_count": 7,
   "id": "least-picking",
   "metadata": {},
   "outputs": [],
   "source": [
    "import pandas as pd\n",
    "import numpy as np"
   ]
  },
  {
   "cell_type": "code",
   "execution_count": 21,
   "id": "stone-university",
   "metadata": {},
   "outputs": [],
   "source": [
    "clean = pd.read_csv('DATA/dataRBM_clean5_q0.2.csv', header=None)\n",
    "noised = pd.read_csv('DATA/dataRBM_seq5_q0.2.csv', header=None)"
   ]
  },
  {
   "cell_type": "code",
   "execution_count": 22,
   "id": "amended-companion",
   "metadata": {},
   "outputs": [
    {
     "data": {
      "text/plain": [
       "0    2029\n",
       "1    1995\n",
       "2    2014\n",
       "3    2041\n",
       "4    2030\n",
       "5    1953\n",
       "6    1977\n",
       "7    1973\n",
       "dtype: int64"
      ]
     },
     "execution_count": 22,
     "metadata": {},
     "output_type": "execute_result"
    }
   ],
   "source": [
    "abs(clean-noised).sum()"
   ]
  },
  {
   "cell_type": "code",
   "execution_count": null,
   "id": "shared-omaha",
   "metadata": {},
   "outputs": [],
   "source": []
  }
 ],
 "metadata": {
  "kernelspec": {
   "display_name": "Python 3",
   "language": "python",
   "name": "python3"
  },
  "language_info": {
   "codemirror_mode": {
    "name": "ipython",
    "version": 3
   },
   "file_extension": ".py",
   "mimetype": "text/x-python",
   "name": "python",
   "nbconvert_exporter": "python",
   "pygments_lexer": "ipython3",
   "version": "3.7.0"
  }
 },
 "nbformat": 4,
 "nbformat_minor": 5
}
