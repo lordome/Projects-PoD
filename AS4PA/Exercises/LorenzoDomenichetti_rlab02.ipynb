{
 "cells": [
  {
   "cell_type": "markdown",
   "metadata": {},
   "source": [
    "## Second Assignment\n",
    "\n",
    "Lorenzo Domenichetti 2011653\n",
    "\n",
    "\n",
    "due 25-04"
   ]
  },
  {
   "cell_type": "code",
   "execution_count": 1,
   "metadata": {},
   "outputs": [
    {
     "name": "stderr",
     "output_type": "stream",
     "text": [
      "-- \u001b[1mAttaching packages\u001b[22m ------------------------------------------------------------------------------- tidyverse 1.3.0 --\n",
      "\n",
      "\u001b[32mv\u001b[39m \u001b[34mggplot2\u001b[39m 3.3.3     \u001b[32mv\u001b[39m \u001b[34mpurrr  \u001b[39m 0.3.4\n",
      "\u001b[32mv\u001b[39m \u001b[34mtibble \u001b[39m 3.1.0     \u001b[32mv\u001b[39m \u001b[34mdplyr  \u001b[39m 1.0.5\n",
      "\u001b[32mv\u001b[39m \u001b[34mtidyr  \u001b[39m 1.1.3     \u001b[32mv\u001b[39m \u001b[34mstringr\u001b[39m 1.4.0\n",
      "\u001b[32mv\u001b[39m \u001b[34mreadr  \u001b[39m 1.4.0     \u001b[32mv\u001b[39m \u001b[34mforcats\u001b[39m 0.5.1\n",
      "\n",
      "Warning message:\n",
      "\"package 'ggplot2' was built under R version 4.0.5\"\n",
      "-- \u001b[1mConflicts\u001b[22m ---------------------------------------------------------------------------------- tidyverse_conflicts() --\n",
      "\u001b[31mx\u001b[39m \u001b[34mdplyr\u001b[39m::\u001b[32mfilter()\u001b[39m masks \u001b[34mstats\u001b[39m::filter()\n",
      "\u001b[31mx\u001b[39m \u001b[34mdplyr\u001b[39m::\u001b[32mlag()\u001b[39m    masks \u001b[34mstats\u001b[39m::lag()\n",
      "\n"
     ]
    }
   ],
   "source": [
    "library(tidyverse)"
   ]
  },
  {
   "cell_type": "markdown",
   "metadata": {},
   "source": [
    "### Exercise 1\n",
    "\n",
    "• A set of measurements have been performed on the concentration of a contaminant\n",
    "in tap water. The following tables reports a set of values (x), with the  corresponding probabilities given by the two methods (p1 and p2).\n",
    "\n",
    "• Evaluate the expected values, $E[X]$, and the variance, $Var(X)$, for both methods\n"
   ]
  },
  {
   "cell_type": "code",
   "execution_count": 2,
   "metadata": {},
   "outputs": [
    {
     "name": "stderr",
     "output_type": "stream",
     "text": [
      "The mean of x for the first method: 15.959\n",
      "\n",
      "The mean of x for the second method: 15.9622\n",
      "\n",
      "The variance of x for the first method: 0.0339790000000164\n",
      "\n",
      "The variance of x for the second method: 0.0281671599999811\n",
      "\n"
     ]
    }
   ],
   "source": [
    "x  <- c(15.58, 15.9, 16, 16.1, 16.2)\n",
    "p1 <- c(0.15, 0.21, 0.35, 0.15, 0.14) \n",
    "p2 <- c(0.14, 0.05, 0.64, 0.08, 0.09)\n",
    "\n",
    "message(\"The mean of x for the first method: \",sum(x*p1))\n",
    "message(\"The mean of x for the second method: \",sum(x*p2))\n",
    "\n",
    "message(\"The variance of x for the first method: \",sum(x^2*p1)-sum(x*p1)^2)\n",
    "message(\"The variance of x for the second method: \",sum(x^2*p2)-sum(x*p2)^2)"
   ]
  },
  {
   "cell_type": "markdown",
   "metadata": {},
   "source": [
    "### Exercise 2\n",
    "\n",
    "The waiting time, in minutes, at the doctor’s is about 30 minutes, and the distribution follows an exponential pdf with rate 1/30.\n",
    "\n",
    "A) Simulate the waiting time for 50 people at the doctor’s office and plot the relative\n",
    "histogram\n"
   ]
  },
  {
   "cell_type": "code",
   "execution_count": 3,
   "metadata": {},
   "outputs": [
    {
     "data": {
      "image/png": "[encoded data removed]",
      "text/plain": [
       "Plot with title \"Histogram of exp_data50\""
      ]
     },
     "metadata": {
      "image/png": {
       "height": 420,
       "width": 420
      }
     },
     "output_type": "display_data"
    }
   ],
   "source": [
    "rate <- 1.0/30\n",
    "exp_data50 <- rexp(50, rate)\n",
    "hist(exp_data50, c = \"green\", xlab = \"Waiting Time\")"
   ]
  },
  {
   "cell_type": "markdown",
   "metadata": {},
   "source": [
    "B) What is the probability that a person will wait for less than 10 minutes ?\n",
    "\n",
    "In general, the 1-prob. of waiting more than 10 minutes. \n",
    "\n",
    "It can be seen also as the cdf for x = 10, as this represent the integral of the distribution up to 10 minutes."
   ]
  },
  {
   "cell_type": "code",
   "execution_count": 4,
   "metadata": {},
   "outputs": [
    {
     "name": "stderr",
     "output_type": "stream",
     "text": [
      "First try:  1-exp 0.283468689426211\n",
      "\n",
      "Second try: CDF   0.283468689426211\n",
      "\n"
     ]
    }
   ],
   "source": [
    "#P (X<10) = 1-e^(-10*lambda)\n",
    "message(\"First try:  1-exp \", 1-exp(-10.0*rate))\n",
    "message(\"Second try: CDF   \", pexp(10, rate = 1/30))"
   ]
  },
  {
   "cell_type": "markdown",
   "metadata": {},
   "source": [
    "C) Evaluate the average waiting time from the simulated data and compare it with\n",
    "the expected value (calculated from theory and by manipulating the probability\n",
    "distributions using R)\n",
    "\n",
    "The distribution has rate 1/30, and the expected value is $(\\frac{1}{30})^{-1}$, so 30 from _theoretical_ calculations. "
   ]
  },
  {
   "cell_type": "code",
   "execution_count": 5,
   "metadata": {},
   "outputs": [
    {
     "name": "stderr",
     "output_type": "stream",
     "text": [
      "The theoretical average is 30, the simulated one: 28.1152015784451\n",
      "\n"
     ]
    }
   ],
   "source": [
    "message(\"The theoretical average is 30, the simulated one: \", mean(exp_data50))"
   ]
  },
  {
   "cell_type": "markdown",
   "metadata": {},
   "source": [
    "D) What is the probability for waiting more than one hour before being received?\n",
    "\n",
    "Same structure as the previous case, but reversed - P (X>60)  = 1-P(X<60)\n"
   ]
  },
  {
   "cell_type": "code",
   "execution_count": 6,
   "metadata": {},
   "outputs": [
    {
     "name": "stderr",
     "output_type": "stream",
     "text": [
      "First try:  1-exp 0.135335283236613\n",
      "\n",
      "Second try: CDF   0.135335283236613\n",
      "\n"
     ]
    }
   ],
   "source": [
    "message(\"First try:  1-exp \", exp(-60.0/30))\n",
    "message(\"Second try: CDF   \", 1-pexp(60, 1/30))"
   ]
  },
  {
   "cell_type": "markdown",
   "metadata": {},
   "source": [
    "### Exercise 3\n",
    "\n",
    "•  Let’s suppose that on a book, on average, there is one typo error every three pages.\n",
    "If the number of errors follows a Poisson distribution, plot the pdf and cdf, and\n",
    "calculate the probability that there is at least one error on a specific page of the\n",
    "book"
   ]
  },
  {
   "cell_type": "code",
   "execution_count": 7,
   "metadata": {},
   "outputs": [
    {
     "data": {
      "image/png": "[encoded data removed]",
      "text/plain": [
       "Plot with title \"CDF distribution\""
      ]
     },
     "metadata": {
      "image/png": {
       "height": 420,
       "width": 420
      }
     },
     "output_type": "display_data"
    }
   ],
   "source": [
    "y_dpois <- dpois(0:10, 1.0/3)\n",
    "y_ppois <- ppois(0:10, lambda = 1.0/3)\n",
    "par(mfrow  = c(2,1))\n",
    "plot(0:10, y_dpois, lwd = 4, col = 'green', t = 's', main = \"PDF distribution\", xlab = \"Number of errors\", ylab = \"PDF value\")\n",
    "plot(0:10, y_ppois, lwd = 4, col = 'red', t = 's', main = \"CDF distribution\", xlab = \"Number of errors\", ylab = \"CDF value\")"
   ]
  },
  {
   "cell_type": "markdown",
   "metadata": {},
   "source": [
    "Calculate the probability that there is at least one error on a specific page of the\n",
    "book\n",
    "\n",
    "1-prob. that no error occurs. For the probability of no error, we can explot the dpois function. "
   ]
  },
  {
   "cell_type": "code",
   "execution_count": 8,
   "metadata": {},
   "outputs": [
    {
     "name": "stderr",
     "output_type": "stream",
     "text": [
      "Probability of at least one error on a single page: 0.283468689426211\n",
      "\n"
     ]
    }
   ],
   "source": [
    "message(\"Probability of at least one error on a single page: \", 1-dpois(0, 1.0/3))"
   ]
  },
  {
   "cell_type": "markdown",
   "metadata": {},
   "source": [
    "### Exercise 4\n",
    "\n",
    "• We randomly draw cards from a deck of 52 cards, with replacement, until one ace is\n",
    "drawn. Calculate the probability that at least 10 draws are needed.\n",
    "\n",
    "Prob of one ace drawn : 4/52 = 1/13\n",
    "So, in order to get at least 10 draws, we can compute the probability of having less than 10 draws and finally compute the complementary.\n",
    "\n",
    "So: 1-P(1)-P(2)-P(3)...-P(9),  where p(i) = p_ace * (p_non_ace)$^{i-1}$\n",
    "\n",
    "Or.. we can simply use pgeom.\n"
   ]
  },
  {
   "cell_type": "code",
   "execution_count": 9,
   "metadata": {},
   "outputs": [
    {
     "data": {
      "text/html": [
       "0.449137107141863"
      ],
      "text/latex": [
       "0.449137107141863"
      ],
      "text/markdown": [
       "0.449137107141863"
      ],
      "text/plain": [
       "[1] 0.4491371"
      ]
     },
     "metadata": {},
     "output_type": "display_data"
    },
    {
     "name": "stderr",
     "output_type": "stream",
     "text": [
      "From the direct calculation: 0.449137107141863\n",
      "\n",
      ".. And from the R one:       0.449137107141863\n",
      "\n"
     ]
    }
   ],
   "source": [
    "prob = 1.0/13\n",
    "\n",
    "nprob = 1-prob\n",
    "\n",
    "sum = 0\n",
    "for (i in 1:10){\n",
    "    sum <- sum + (prob)*(nprob)^(i-1)\n",
    "}\n",
    "res <- 1-sum\n",
    "res\n",
    "\n",
    "message(\"From the direct calculation: \", res)\n",
    "message(\".. And from the R one:       \", 1-pgeom(9, 1.0/13))"
   ]
  },
  {
   "cell_type": "markdown",
   "metadata": {},
   "source": [
    "### Exercise 5\n",
    "\n",
    "The time it takes a student to complete a TOLC-I University orientation and evaluation test follows a density function of the form\n",
    "\n",
    "\\begin{equation}\n",
    "f(t) = \n",
    "    \\begin{cases}\n",
    "     c(t − 1)(2 − t)   \\,\\,\\,\\,\\,  1 < t < 2 \\\\\n",
    "      0 \\,\\,\\,\\,\\,\\,\\,\\,\\,\\,\\,\\,\\,\\,\\,\\,\\,\\,\\,\\,\\,\\,\\,\\,\\,\\,\\,\\,\\,\\,\\,\\,\\,\\, otherwise\n",
    "    \\end{cases}\\,\n",
    "\\end{equation}\n",
    "\n",
    "where t is the time in hours.\n",
    "\n",
    "a) Using the integrate() R function, determine the constant c (and verify it analytically)\n"
   ]
  },
  {
   "cell_type": "code",
   "execution_count": 10,
   "metadata": {},
   "outputs": [
    {
     "name": "stderr",
     "output_type": "stream",
     "text": [
      "The value of the integral from 1 to 2: 0.166666666666667 Its inverse: 6\n",
      "\n",
      "The integral after normalization: 1\n",
      "\n"
     ]
    }
   ],
   "source": [
    "f <- function(t) (t-1)*(2-t)\n",
    "intval <- integrate(f, lower = 1, upper = 2)\n",
    "\n",
    "message(\"The value of the integral from 1 to 2: \", intval$value, \" Its inverse: \", 1/intval$value)\n",
    "\n",
    "normf <- function(t) (6*(t-1)*(2-t))\n",
    "cdf <- function(x){\n",
    "    -2*x^3+9*x^2-12*x\n",
    "}\n",
    "\n",
    "n_intval <- integrate(normf, lower = 1, upper = 2)\n",
    "message(\"The integral after normalization: \",  n_intval$value)"
   ]
  },
  {
   "cell_type": "markdown",
   "metadata": {},
   "source": [
    "b) Write the set of four R functions and plot the pdf and cdf, respectively"
   ]
  },
  {
   "cell_type": "code",
   "execution_count": 11,
   "metadata": {},
   "outputs": [],
   "source": [
    "dprob <- function(x){\n",
    "    if (x<=2 & x>=1){\n",
    "        normf(x)\n",
    "    }\n",
    "    else {\n",
    "        message(\"Error. Insert value in the [1,2] interval\")\n",
    "    }\n",
    "}\n",
    "\n",
    "pprob <- function(x){\n",
    "    if (x<=2 & x>=1){\n",
    "        cdf(x)-cdf(1)\n",
    "    }\n",
    "    else if (x<1){\n",
    "        0\n",
    "    }\n",
    "    else if (x>2){\n",
    "        1\n",
    "    }\n",
    "}\n",
    "\n",
    "qprob <- function(q){\n",
    "  uniroot(function(x){pprob(x) - q},lower = 1, upper = 2)$root\n",
    "}\n",
    "\n",
    "rprob <- function(n){\n",
    "    x <- c()\n",
    "    to_do = TRUE\n",
    "    i = 0\n",
    "    while(i<n){ \n",
    "        while(to_do){\n",
    "            uni <- runif(1,1,2)\n",
    "            sel <- runif(1,0,1.5)\n",
    "            if(dprob(uni)>sel){\n",
    "                x <- c(x,uni)\n",
    "                to_do = FALSE\n",
    "            }\n",
    "        }\n",
    "        to_do = TRUE\n",
    "        i = i+1\n",
    "    }\n",
    "    x   \n",
    "}"
   ]
  },
  {
   "cell_type": "code",
   "execution_count": 12,
   "metadata": {},
   "outputs": [
    {
     "name": "stderr",
     "output_type": "stream",
     "text": [
      "Warning message in if (x <= 2 & x >= 1) {:\n",
      "\"la condizione la lunghezza > 1 e solo il promo elemento verrà utilizzato\"\n",
      "Warning message in if (x <= 2 & x >= 1) {:\n",
      "\"la condizione la lunghezza > 1 e solo il promo elemento verrà utilizzato\"\n"
     ]
    },
    {
     "data": {
      "image/png": "[encoded data removed]",
      "text/plain": [
       "Plot with title \"Quantile function\""
      ]
     },
     "metadata": {
      "image/png": {
       "height": 420,
       "width": 420
      }
     },
     "output_type": "display_data"
    }
   ],
   "source": [
    "a <- (25:50)/25\n",
    "\n",
    "axes <- (1:49)/50\n",
    "\n",
    "res <- c()\n",
    "for (i in axes){\n",
    "    res <- c(res, qprob(i))\n",
    "}\n",
    "\n",
    "par(mfrow = c(2, 2))\n",
    "\n",
    "plot(a, dprob(a), t = \"l\", col = \"green\", lwd = 4, xlab = \"Time (h)\", ylab = \"PDF value\", main = \"PDF distribution\")\n",
    "\n",
    "plot(a, pprob(a), t = \"l\", col = \"red\", lwd = 4, xlab = \"Time (h)\", ylab = \"CDF value\", main = \"CDF distribution\")\n",
    "\n",
    "hist(rprob(10000), xlab = \"Time (h)\", main = \"10000 samples generated accordingly to dprob\", c = \"yellow\")\n",
    "\n",
    "\n",
    "\n",
    "plot(axes, res, t = \"l\", lwd = 4, ylab = \"Time (h)\", xlab = \"Quantiles\", main = \"Quantile function\", col = \"blue\")"
   ]
  },
  {
   "cell_type": "markdown",
   "metadata": {},
   "source": [
    "c) Evaluate the probability that the student will finish the aptitude test in more than\n",
    "75 minutes. And that it will take 90 and 120 minutes and between 90 and 120."
   ]
  },
  {
   "cell_type": "code",
   "execution_count": 13,
   "metadata": {},
   "outputs": [
    {
     "name": "stderr",
     "output_type": "stream",
     "text": [
      "Warning message in if (x <= 2 & x >= 1) {:\n",
      "\"la condizione la lunghezza > 1 e solo il promo elemento verrà utilizzato\"\n",
      "Prob fot the test to take more than 75 min - numerical solution 0.84375\n",
      "\n",
      "Prob fot the test to take more than 75 min - cdf solution 0.84375\n",
      "\n",
      "Prob fot the test to take more than 90 min (distribution's half point) - cdf solution 0.5\n",
      "\n"
     ]
    }
   ],
   "source": [
    "#prob for a student to take more than 75 minute. \n",
    "#The prob is given integrating from 75/120 to 120. \n",
    "message(\"Prob fot the test to take more than 75 min - numerical solution \", integrate(dprob, lower = 75.0/60, upper = 2)$value)\n",
    "message(\"Prob fot the test to take more than 75 min - cdf solution \", 1-pprob(75/60))\n",
    "\n",
    "#prob to take exactly a minute is zero for each of the two cases. \n",
    "#The integral basically has to be computed among the same two extremes, \n",
    "#so the result is basically zero for both 95 and 120 minutes\n",
    "#Prob from 90 to 120 - equal to take more than 90 min\n",
    "message(\"Prob fot the test to take more than 90 min (distribution's half point) - cdf solution \", 1-pprob(90/60))\n"
   ]
  },
  {
   "cell_type": "markdown",
   "metadata": {},
   "source": [
    "### Exercise 6\n",
    "\n",
    "• the lifetime of tires sold by an used tires shop is 104 x km, where x is a random\n",
    "variable following the distribution function\n",
    "\n",
    "\\begin{equation}\n",
    "f(x) = \n",
    "    \\begin{cases}\n",
    "     2/x^2   \\,\\,\\,\\,\\,  1 < x < 2 \\\\\n",
    "      0 \\,\\,\\,\\,\\,\\,\\,\\,\\,\\,\\,\\, otherwise\n",
    "    \\end{cases}\\,.\n",
    "\\end{equation}\n",
    "\n",
    "a) write the set of four R functions and plot the pdf and cdf, respectively"
   ]
  },
  {
   "cell_type": "code",
   "execution_count": 14,
   "metadata": {},
   "outputs": [
    {
     "data": {
      "text/plain": [
       "1 with absolute error < 1.1e-14"
      ]
     },
     "metadata": {},
     "output_type": "display_data"
    }
   ],
   "source": [
    "#Check the integral to be normalized\n",
    "integrate(function(x) 2/x^2, 1,2)"
   ]
  },
  {
   "cell_type": "code",
   "execution_count": 15,
   "metadata": {},
   "outputs": [],
   "source": [
    "dprob2 <- function(x){\n",
    "    if (x<=2 & x>=1){\n",
    "        2/x^2\n",
    "    }\n",
    "    else {\n",
    "        message(\"Error. Insert value in the [1,2] interval\")\n",
    "    }\n",
    "}\n",
    "\n",
    "pprob2 <- function(x){\n",
    "    if (x<=2 & x>=1){\n",
    "        2-2/x\n",
    "    }\n",
    "    else if (x<1){\n",
    "        0\n",
    "    }\n",
    "    else if (x>2){\n",
    "        1\n",
    "    }\n",
    "}\n",
    "\n",
    "qprob2 <- function(q){\n",
    "  uniroot(function(x){pprob2(x) - q},lower = 1, upper = 2)$root\n",
    "}\n",
    "\n",
    "rprob2 <- function(n){\n",
    "    x <- c()\n",
    "    to_do = TRUE\n",
    "    i = 0\n",
    "    while(i<n){ \n",
    "        while(to_do){\n",
    "            uni <- runif(1,1,2)\n",
    "            sel <- runif(1,0,1.5)\n",
    "            if(dprob2(uni)>sel){\n",
    "                x <- c(x,uni)\n",
    "                to_do = FALSE\n",
    "            }\n",
    "        }\n",
    "        to_do = TRUE\n",
    "        i = i+1\n",
    "    }\n",
    "    x   \n",
    "}"
   ]
  },
  {
   "cell_type": "code",
   "execution_count": 16,
   "metadata": {},
   "outputs": [
    {
     "name": "stderr",
     "output_type": "stream",
     "text": [
      "Warning message in if (x <= 2 & x >= 1) {:\n",
      "\"la condizione la lunghezza > 1 e solo il promo elemento verrà utilizzato\"\n",
      "Warning message in if (x <= 2 & x >= 1) {:\n",
      "\"la condizione la lunghezza > 1 e solo il promo elemento verrà utilizzato\"\n"
     ]
    },
    {
     "data": {
      "image/png": "[encoded data removed]",
      "text/plain": [
       "Plot with title \"CDF distribution\""
      ]
     },
     "metadata": {
      "image/png": {
       "height": 420,
       "width": 420
      }
     },
     "output_type": "display_data"
    }
   ],
   "source": [
    "a <- (25:50)/25\n",
    "\n",
    "par(mfrow = c(2, 1))\n",
    "\n",
    "plot(a, dprob2(a), t = \"l\", col = \"green\", lwd = 4, xlab = \"Time (h)\", ylab = \"PDF value\", main = \"PDF distribution\")\n",
    "\n",
    "plot(a, pprob2(a), t = \"l\", col = \"red\", lwd = 4, xlab = \"Time (h)\", ylab = \"CDF value\", main = \"CDF distribution\")"
   ]
  },
  {
   "cell_type": "markdown",
   "metadata": {},
   "source": [
    "b) Determine the probability that tires will last less than 15000 km\n"
   ]
  },
  {
   "cell_type": "code",
   "execution_count": 17,
   "metadata": {},
   "outputs": [
    {
     "name": "stderr",
     "output_type": "stream",
     "text": [
      "Warning message in if (x <= 2 & x >= 1) {:\n",
      "\"la condizione la lunghezza > 1 e solo il promo elemento verrà utilizzato\"\n",
      "\n",
      "Prob for tires to last more than 1.5*10^4 km - numerical integration: 0.666666666666667\n",
      "\n",
      "With cdf: 0.666666666666667\n",
      "\n"
     ]
    }
   ],
   "source": [
    "#prob that tires will last less than 1.5 *10^4 km => area between 1 and 1.5, or cdf at 1.5 (of course)\n",
    "message(\"\\nProb for tires to last more than 1.5*10^4 km - numerical integration: \", integrate(dprob2, 1,1.5)$value)\n",
    "message(\"With cdf: \", pprob2(1.5))"
   ]
  },
  {
   "cell_type": "markdown",
   "metadata": {},
   "source": [
    "\n",
    "c) Sample 3000 random variables from the distribution and determine the mean value and the variance, using the expression $Var(x) = E[x^2]-E[x]^2 $"
   ]
  },
  {
   "cell_type": "code",
   "execution_count": 18,
   "metadata": {},
   "outputs": [
    {
     "name": "stderr",
     "output_type": "stream",
     "text": [
      "The mean for a tire : 1.40381520873044 *10^4 km\n",
      "\n",
      "The variance for a tire: 0.0765859893227859 *10^4km\n",
      "\n",
      "The predicted mean for a tire : 1.38629436111989 *10^4 km\n",
      "\n",
      "The predicted variance for a tire : 0.0781879443271938 *10^4 km\n",
      "\n"
     ]
    }
   ],
   "source": [
    "sample <- rprob2(3000)\n",
    "mean_s <- mean(sample)\n",
    "variance <- mean((sample-mean_s)^2)\n",
    "\n",
    "message(\"The mean for a tire : \", mean_s, \" *10^4 km\")\n",
    "message(\"The variance for a tire: \", variance, \" *10^4km\")\n",
    "\n",
    "\n",
    "#theoretical prediction\n",
    "message(\"The predicted mean for a tire : \", integrate(function(x) 2/x, 1,2)$value, \" *10^4 km\")\n",
    "message(\"The predicted variance for a tire : \", 2 - (integrate(function(x) 2/x, 1,2)$value)^2, \" *10^4 km\")"
   ]
  }
 ],
 "metadata": {
  "kernelspec": {
   "display_name": "R",
   "language": "R",
   "name": "ir"
  },
  "language_info": {
   "codemirror_mode": "r",
   "file_extension": ".r",
   "mimetype": "text/x-r-source",
   "name": "R",
   "pygments_lexer": "r",
   "version": "4.0.4"
  }
 },
 "nbformat": 4,
 "nbformat_minor": 4
}
