{
 "cells": [
  {
   "cell_type": "markdown",
   "metadata": {},
   "source": [
    "## Third Assignment\n",
    "Lorenzo Domenichetti 2011653\n",
    "\n",
    "due 02-05"
   ]
  },
  {
   "cell_type": "code",
   "execution_count": 1,
   "metadata": {},
   "outputs": [
    {
     "name": "stderr",
     "output_type": "stream",
     "text": [
      "-- \u001b[1mAttaching packages\u001b[22m ------------------------------------------------------------------------------- tidyverse 1.3.0 --\n",
      "\n",
      "\u001b[32mv\u001b[39m \u001b[34mggplot2\u001b[39m 3.3.3     \u001b[32mv\u001b[39m \u001b[34mpurrr  \u001b[39m 0.3.4\n",
      "\u001b[32mv\u001b[39m \u001b[34mtibble \u001b[39m 3.1.0     \u001b[32mv\u001b[39m \u001b[34mdplyr  \u001b[39m 1.0.5\n",
      "\u001b[32mv\u001b[39m \u001b[34mtidyr  \u001b[39m 1.1.3     \u001b[32mv\u001b[39m \u001b[34mstringr\u001b[39m 1.4.0\n",
      "\u001b[32mv\u001b[39m \u001b[34mreadr  \u001b[39m 1.4.0     \u001b[32mv\u001b[39m \u001b[34mforcats\u001b[39m 0.5.1\n",
      "\n",
      "Warning message:\n",
      "\"package 'ggplot2' was built under R version 4.0.5\"\n",
      "-- \u001b[1mConflicts\u001b[22m ---------------------------------------------------------------------------------- tidyverse_conflicts() --\n",
      "\u001b[31mx\u001b[39m \u001b[34mdplyr\u001b[39m::\u001b[32mfilter()\u001b[39m masks \u001b[34mstats\u001b[39m::filter()\n",
      "\u001b[31mx\u001b[39m \u001b[34mdplyr\u001b[39m::\u001b[32mlag()\u001b[39m    masks \u001b[34mstats\u001b[39m::lag()\n",
      "\n",
      "\n",
      "Attaching package: 'lubridate'\n",
      "\n",
      "\n",
      "The following objects are masked from 'package:base':\n",
      "\n",
      "    date, intersect, setdiff, union\n",
      "\n",
      "\n",
      "Warning message:\n",
      "\"package 'gridExtra' was built under R version 4.0.5\"\n",
      "\n",
      "Attaching package: 'gridExtra'\n",
      "\n",
      "\n",
      "The following object is masked from 'package:dplyr':\n",
      "\n",
      "    combine\n",
      "\n",
      "\n",
      "Warning message:\n",
      "\"package 'lattice' was built under R version 4.0.5\"\n"
     ]
    }
   ],
   "source": [
    "library(tidyverse)\n",
    "library(lubridate)\n",
    "library(gridExtra)\n",
    "library(grid)\n",
    "library(ggplot2)\n",
    "library(lattice)"
   ]
  },
  {
   "attachments": {
    "image.png": {
     "image/png": "[encoded data removed]"
    }
   },
   "cell_type": "markdown",
   "metadata": {},
   "source": [
    "## Exercise 1 - Six Boxes Toy Model : inference\n",
    "\n",
    "• The six boxes toy model is described in reference [1].\n",
    "\n",
    "• Labeling the boxes as follows:\n",
    "\n",
    " ![image.png](attachment:image.png)\n",
    " \n",
    "• write a program in R that:\n",
    "\n",
    "1) allows the user to insert the color of a randomly extracted box \n",
    "\n",
    "2) prints on the standard output the probability of selecting each box\n",
    "\n",
    "3) plots the probability for each box as a function of the extraction step"
   ]
  },
  {
   "cell_type": "code",
   "execution_count": 2,
   "metadata": {},
   "outputs": [],
   "source": [
    "vecp <- rep(1/6,6)\n",
    "vboxs <- c(0,1/5, 2/5, 3/5, 4/5, 5/5)\n",
    "out <- matrix(NA, nrow=0, ncol=6)"
   ]
  },
  {
   "cell_type": "code",
   "execution_count": 3,
   "metadata": {},
   "outputs": [
    {
     "name": "stdout",
     "output_type": "stream",
     "text": [
      "Enter box number 0 Black - 1 White - 999 to quit:1\n"
     ]
    },
    {
     "name": "stderr",
     "output_type": "stream",
     "text": [
      "1\n",
      "\n",
      "The probabilities for each box:00.06666666666666670.1333333333333330.20.2666666666666670.333333333333333\n",
      "\n"
     ]
    },
    {
     "name": "stdout",
     "output_type": "stream",
     "text": [
      "Enter box number 0 Black - 1 White - 999 to quit:1\n"
     ]
    },
    {
     "name": "stderr",
     "output_type": "stream",
     "text": [
      "1\n",
      "\n",
      "The probabilities for each box:00.01818181818181820.07272727272727270.1636363636363640.2909090909090910.454545454545454\n",
      "\n"
     ]
    },
    {
     "name": "stdout",
     "output_type": "stream",
     "text": [
      "Enter box number 0 Black - 1 White - 999 to quit:1\n"
     ]
    },
    {
     "name": "stderr",
     "output_type": "stream",
     "text": [
      "1\n",
      "\n",
      "The probabilities for each box:00.004444444444444440.03555555555555560.120.2844444444444440.555555555555555\n",
      "\n"
     ]
    },
    {
     "name": "stdout",
     "output_type": "stream",
     "text": [
      "Enter box number 0 Black - 1 White - 999 to quit:1\n"
     ]
    },
    {
     "name": "stderr",
     "output_type": "stream",
     "text": [
      "1\n",
      "\n",
      "The probabilities for each box:00.001021450459652710.01634320735444330.08273748723186920.2614913176710930.638406537282942\n",
      "\n"
     ]
    },
    {
     "name": "stdout",
     "output_type": "stream",
     "text": [
      "Enter box number 0 Black - 1 White - 999 to quit:1\n"
     ]
    },
    {
     "name": "stderr",
     "output_type": "stream",
     "text": [
      "1\n",
      "\n",
      "The probabilities for each box:00.0002259887005649720.00723163841807910.05491525423728810.2314124293785310.706214689265537\n",
      "\n"
     ]
    },
    {
     "name": "stdout",
     "output_type": "stream",
     "text": [
      "Enter box number 0 Black - 1 White - 999 to quit:1\n"
     ]
    },
    {
     "name": "stderr",
     "output_type": "stream",
     "text": [
      "1\n",
      "\n",
      "The probabilities for each box:04.87448208627833e-050.003119668535218130.0355349744089690.1996587862539610.761637825980989\n",
      "\n"
     ]
    },
    {
     "name": "stdout",
     "output_type": "stream",
     "text": [
      "Enter box number 0 Black - 1 White - 999 to quit:1\n"
     ]
    },
    {
     "name": "stderr",
     "output_type": "stream",
     "text": [
      "1\n",
      "\n",
      "The probabilities for each box:01.03279111799639e-050.001321972631035370.02258714175058090.1692124967725280.806868060934676\n",
      "\n"
     ]
    },
    {
     "name": "stdout",
     "output_type": "stream",
     "text": [
      "Enter box number 0 Black - 1 White - 999 to quit:0\n"
     ]
    },
    {
     "name": "stderr",
     "output_type": "stream",
     "text": [
      "0\n",
      "\n",
      "The probabilities for each box:00.000189161070651660.01815946278255940.206847630757590.7748037453891990\n",
      "\n"
     ]
    },
    {
     "name": "stdout",
     "output_type": "stream",
     "text": [
      "Enter box number 0 Black - 1 White - 999 to quit:0\n"
     ]
    },
    {
     "name": "stderr",
     "output_type": "stream",
     "text": [
      "0\n",
      "\n",
      "The probabilities for each box:00.0006083650190114070.04380228136882130.3326235741444870.6229657794676810\n",
      "\n"
     ]
    },
    {
     "name": "stdout",
     "output_type": "stream",
     "text": [
      "Enter box number 0 Black - 1 White - 999 to quit:1\n"
     ]
    },
    {
     "name": "stderr",
     "output_type": "stream",
     "text": [
      "1\n",
      "\n",
      "The probabilities for each box:00.0001700318809776830.02448459086078640.2788947927736450.6964505844845910\n",
      "\n"
     ]
    },
    {
     "name": "stdout",
     "output_type": "stream",
     "text": [
      "Enter box number 0 Black - 1 White - 999 to quit:0\n"
     ]
    },
    {
     "name": "stderr",
     "output_type": "stream",
     "text": [
      "0\n",
      "\n",
      "The probabilities for each box:00.0005120.0552960.4199040.5242880\n",
      "\n"
     ]
    },
    {
     "name": "stdout",
     "output_type": "stream",
     "text": [
      "Enter box number 0 Black - 1 White - 999 to quit:1\n"
     ]
    },
    {
     "name": "stderr",
     "output_type": "stream",
     "text": [
      "1\n",
      "\n",
      "The probabilities for each box:00.0001476368870762360.0318895676084670.3632421060401940.6047206894642630\n",
      "\n"
     ]
    },
    {
     "name": "stdout",
     "output_type": "stream",
     "text": [
      "Enter box number 0 Black - 1 White - 999 to quit:999\n"
     ]
    },
    {
     "data": {
      "text/html": [
       "<table class=\"dataframe\">\n",
       "<caption>A matrix: 12 × 6 of type dbl</caption>\n",
       "<tbody>\n",
       "\t<tr><th scope=row>vecp</th><td>0</td><td>6.666667e-02</td><td>0.133333333</td><td>0.20000000</td><td>0.2666667</td><td>0.3333333</td></tr>\n",
       "\t<tr><th scope=row>vecp</th><td>0</td><td>1.818182e-02</td><td>0.072727273</td><td>0.16363636</td><td>0.2909091</td><td>0.4545455</td></tr>\n",
       "\t<tr><th scope=row>vecp</th><td>0</td><td>4.444444e-03</td><td>0.035555556</td><td>0.12000000</td><td>0.2844444</td><td>0.5555556</td></tr>\n",
       "\t<tr><th scope=row>vecp</th><td>0</td><td>1.021450e-03</td><td>0.016343207</td><td>0.08273749</td><td>0.2614913</td><td>0.6384065</td></tr>\n",
       "\t<tr><th scope=row>vecp</th><td>0</td><td>2.259887e-04</td><td>0.007231638</td><td>0.05491525</td><td>0.2314124</td><td>0.7062147</td></tr>\n",
       "\t<tr><th scope=row>vecp</th><td>0</td><td>4.874482e-05</td><td>0.003119669</td><td>0.03553497</td><td>0.1996588</td><td>0.7616378</td></tr>\n",
       "\t<tr><th scope=row>vecp</th><td>0</td><td>1.032791e-05</td><td>0.001321973</td><td>0.02258714</td><td>0.1692125</td><td>0.8068681</td></tr>\n",
       "\t<tr><th scope=row>vecp</th><td>0</td><td>1.891611e-04</td><td>0.018159463</td><td>0.20684763</td><td>0.7748037</td><td>0.0000000</td></tr>\n",
       "\t<tr><th scope=row>vecp</th><td>0</td><td>6.083650e-04</td><td>0.043802281</td><td>0.33262357</td><td>0.6229658</td><td>0.0000000</td></tr>\n",
       "\t<tr><th scope=row>vecp</th><td>0</td><td>1.700319e-04</td><td>0.024484591</td><td>0.27889479</td><td>0.6964506</td><td>0.0000000</td></tr>\n",
       "\t<tr><th scope=row>vecp</th><td>0</td><td>5.120000e-04</td><td>0.055296000</td><td>0.41990400</td><td>0.5242880</td><td>0.0000000</td></tr>\n",
       "\t<tr><th scope=row>vecp</th><td>0</td><td>1.476369e-04</td><td>0.031889568</td><td>0.36324211</td><td>0.6047207</td><td>0.0000000</td></tr>\n",
       "</tbody>\n",
       "</table>\n"
      ],
      "text/latex": [
       "A matrix: 12 × 6 of type dbl\n",
       "\\begin{tabular}{r|llllll}\n",
       "\tvecp & 0 & 6.666667e-02 & 0.133333333 & 0.20000000 & 0.2666667 & 0.3333333\\\\\n",
       "\tvecp & 0 & 1.818182e-02 & 0.072727273 & 0.16363636 & 0.2909091 & 0.4545455\\\\\n",
       "\tvecp & 0 & 4.444444e-03 & 0.035555556 & 0.12000000 & 0.2844444 & 0.5555556\\\\\n",
       "\tvecp & 0 & 1.021450e-03 & 0.016343207 & 0.08273749 & 0.2614913 & 0.6384065\\\\\n",
       "\tvecp & 0 & 2.259887e-04 & 0.007231638 & 0.05491525 & 0.2314124 & 0.7062147\\\\\n",
       "\tvecp & 0 & 4.874482e-05 & 0.003119669 & 0.03553497 & 0.1996588 & 0.7616378\\\\\n",
       "\tvecp & 0 & 1.032791e-05 & 0.001321973 & 0.02258714 & 0.1692125 & 0.8068681\\\\\n",
       "\tvecp & 0 & 1.891611e-04 & 0.018159463 & 0.20684763 & 0.7748037 & 0.0000000\\\\\n",
       "\tvecp & 0 & 6.083650e-04 & 0.043802281 & 0.33262357 & 0.6229658 & 0.0000000\\\\\n",
       "\tvecp & 0 & 1.700319e-04 & 0.024484591 & 0.27889479 & 0.6964506 & 0.0000000\\\\\n",
       "\tvecp & 0 & 5.120000e-04 & 0.055296000 & 0.41990400 & 0.5242880 & 0.0000000\\\\\n",
       "\tvecp & 0 & 1.476369e-04 & 0.031889568 & 0.36324211 & 0.6047207 & 0.0000000\\\\\n",
       "\\end{tabular}\n"
      ],
      "text/markdown": [
       "\n",
       "A matrix: 12 × 6 of type dbl\n",
       "\n",
       "| vecp | 0 | 6.666667e-02 | 0.133333333 | 0.20000000 | 0.2666667 | 0.3333333 |\n",
       "| vecp | 0 | 1.818182e-02 | 0.072727273 | 0.16363636 | 0.2909091 | 0.4545455 |\n",
       "| vecp | 0 | 4.444444e-03 | 0.035555556 | 0.12000000 | 0.2844444 | 0.5555556 |\n",
       "| vecp | 0 | 1.021450e-03 | 0.016343207 | 0.08273749 | 0.2614913 | 0.6384065 |\n",
       "| vecp | 0 | 2.259887e-04 | 0.007231638 | 0.05491525 | 0.2314124 | 0.7062147 |\n",
       "| vecp | 0 | 4.874482e-05 | 0.003119669 | 0.03553497 | 0.1996588 | 0.7616378 |\n",
       "| vecp | 0 | 1.032791e-05 | 0.001321973 | 0.02258714 | 0.1692125 | 0.8068681 |\n",
       "| vecp | 0 | 1.891611e-04 | 0.018159463 | 0.20684763 | 0.7748037 | 0.0000000 |\n",
       "| vecp | 0 | 6.083650e-04 | 0.043802281 | 0.33262357 | 0.6229658 | 0.0000000 |\n",
       "| vecp | 0 | 1.700319e-04 | 0.024484591 | 0.27889479 | 0.6964506 | 0.0000000 |\n",
       "| vecp | 0 | 5.120000e-04 | 0.055296000 | 0.41990400 | 0.5242880 | 0.0000000 |\n",
       "| vecp | 0 | 1.476369e-04 | 0.031889568 | 0.36324211 | 0.6047207 | 0.0000000 |\n",
       "\n"
      ],
      "text/plain": [
       "     [,1] [,2]         [,3]        [,4]       [,5]      [,6]     \n",
       "vecp 0    6.666667e-02 0.133333333 0.20000000 0.2666667 0.3333333\n",
       "vecp 0    1.818182e-02 0.072727273 0.16363636 0.2909091 0.4545455\n",
       "vecp 0    4.444444e-03 0.035555556 0.12000000 0.2844444 0.5555556\n",
       "vecp 0    1.021450e-03 0.016343207 0.08273749 0.2614913 0.6384065\n",
       "vecp 0    2.259887e-04 0.007231638 0.05491525 0.2314124 0.7062147\n",
       "vecp 0    4.874482e-05 0.003119669 0.03553497 0.1996588 0.7616378\n",
       "vecp 0    1.032791e-05 0.001321973 0.02258714 0.1692125 0.8068681\n",
       "vecp 0    1.891611e-04 0.018159463 0.20684763 0.7748037 0.0000000\n",
       "vecp 0    6.083650e-04 0.043802281 0.33262357 0.6229658 0.0000000\n",
       "vecp 0    1.700319e-04 0.024484591 0.27889479 0.6964506 0.0000000\n",
       "vecp 0    5.120000e-04 0.055296000 0.41990400 0.5242880 0.0000000\n",
       "vecp 0    1.476369e-04 0.031889568 0.36324211 0.6047207 0.0000000"
      ]
     },
     "metadata": {},
     "output_type": "display_data"
    }
   ],
   "source": [
    "iter <- 1\n",
    "\n",
    "n1 <- -1\n",
    "\n",
    "while(!(n1 == 1 || n1 == 0)){\n",
    "    \n",
    "    n1<-as.integer(readline(prompt=\"Enter box number 0 Black - 1 White - 999 to quit:\" ))\n",
    "    if(n1 == 999){\n",
    "        break\n",
    "    }\n",
    "    message(n1)\n",
    "    \n",
    "    norm <- 0\n",
    "    for (i in 1:6){\n",
    "    norm <- norm + vecp[i]*(vboxs[i] * n1 + (1-n1)*(1-vboxs[i]))\n",
    "    } \n",
    "\n",
    "    for (i in 1:6){\n",
    "    vecp[i] <- vecp[i]*(vboxs[i] * n1 + (1-n1)*(1-vboxs[i]))/ norm \n",
    "    }\n",
    "    message(\"The probabilities for each box:\", vecp)\n",
    "    out <- rbind(out, vecp)\n",
    "    n1 <- -1\n",
    "}\n",
    "    \n",
    "out"
   ]
  },
  {
   "cell_type": "code",
   "execution_count": 4,
   "metadata": {},
   "outputs": [
    {
     "data": {
      "image/png": "[encoded data removed]",
      "text/plain": [
       "plot without title"
      ]
     },
     "metadata": {
      "image/png": {
       "height": 600,
       "width": 900
      }
     },
     "output_type": "display_data"
    }
   ],
   "source": [
    "par(mfrow = c(2, 3))\n",
    "options(repr.plot.width=15, repr.plot.height=10)\n",
    "\n",
    "xs = seq(1,length(out[,1]))\n",
    "colors = c(\"blue\", \"red\", \"purple\", \"firebrick\", \"black\", \"green\")\n",
    "for (i in 1:6){\n",
    "    plot(xs, out[,i], xlab = \"Extraction number\", ylab = paste0(\"Probability of H\", i-1), ylim = c(0,1), col = colors[i], pch=\"+\", cex = 3)\n",
    "}"
   ]
  },
  {
   "cell_type": "markdown",
   "metadata": {},
   "source": [
    "## Exercise 2 - Six Boxes Toy Model : simulation\n",
    "\n",
    "• consider again the six boxes toy model of the previous exercise and write a simulation\n",
    "program that: \n",
    "\n",
    "1) selects a random box\n",
    "\n",
    "2) makes random sampling from the box\n",
    "\n",
    "3) prints on the standard output the probability of selecting each box\n",
    "\n",
    "4) plots the probability for each box as a function of the number of trial"
   ]
  },
  {
   "cell_type": "code",
   "execution_count": 25,
   "metadata": {},
   "outputs": [
    {
     "data": {
      "text/html": [
       "<table class=\"dataframe\">\n",
       "<caption>A matrix: 20 × 6 of type dbl</caption>\n",
       "<tbody>\n",
       "\t<tr><th scope=row>vecp</th><td>0.3333333</td><td>0.2666666667</td><td>0.20000000</td><td>0.1333333</td><td>0.06666667</td><td>0</td></tr>\n",
       "\t<tr><th scope=row>vecp</th><td>0.0000000</td><td>0.2000000000</td><td>0.30000000</td><td>0.3000000</td><td>0.20000000</td><td>0</td></tr>\n",
       "\t<tr><th scope=row>vecp</th><td>0.0000000</td><td>0.3200000000</td><td>0.36000000</td><td>0.2400000</td><td>0.08000000</td><td>0</td></tr>\n",
       "\t<tr><th scope=row>vecp</th><td>0.0000000</td><td>0.4383561644</td><td>0.36986301</td><td>0.1643836</td><td>0.02739726</td><td>0</td></tr>\n",
       "\t<tr><th scope=row>vecp</th><td>0.0000000</td><td>0.2461538462</td><td>0.41538462</td><td>0.2769231</td><td>0.06153846</td><td>0</td></tr>\n",
       "\t<tr><th scope=row>vecp</th><td>0.0000000</td><td>0.1142857143</td><td>0.38571429</td><td>0.3857143</td><td>0.11428571</td><td>0</td></tr>\n",
       "\t<tr><th scope=row>vecp</th><td>0.0000000</td><td>0.1828571429</td><td>0.46285714</td><td>0.3085714</td><td>0.04571429</td><td>0</td></tr>\n",
       "\t<tr><th scope=row>vecp</th><td>0.0000000</td><td>0.0824742268</td><td>0.41752577</td><td>0.4175258</td><td>0.08247423</td><td>0</td></tr>\n",
       "\t<tr><th scope=row>vecp</th><td>0.0000000</td><td>0.0329896907</td><td>0.33402062</td><td>0.5010309</td><td>0.13195876</td><td>0</td></tr>\n",
       "\t<tr><th scope=row>vecp</th><td>0.0000000</td><td>0.0120754717</td><td>0.24452830</td><td>0.5501887</td><td>0.19320755</td><td>0</td></tr>\n",
       "\t<tr><th scope=row>vecp</th><td>0.0000000</td><td>0.0041290323</td><td>0.16722581</td><td>0.5643871</td><td>0.26425806</td><td>0</td></tr>\n",
       "\t<tr><th scope=row>vecp</th><td>0.0000000</td><td>0.0086416419</td><td>0.26248987</td><td>0.5906022</td><td>0.13826627</td><td>0</td></tr>\n",
       "\t<tr><th scope=row>vecp</th><td>0.0000000</td><td>0.0030231460</td><td>0.18365612</td><td>0.6198394</td><td>0.19348134</td><td>0</td></tr>\n",
       "\t<tr><th scope=row>vecp</th><td>0.0000000</td><td>0.0010064476</td><td>0.12228338</td><td>0.6190596</td><td>0.25765057</td><td>0</td></tr>\n",
       "\t<tr><th scope=row>vecp</th><td>0.0000000</td><td>0.0021566976</td><td>0.19652906</td><td>0.6632856</td><td>0.13802864</td><td>0</td></tr>\n",
       "\t<tr><th scope=row>vecp</th><td>0.0000000</td><td>0.0007342734</td><td>0.13382132</td><td>0.6774704</td><td>0.18797398</td><td>0</td></tr>\n",
       "\t<tr><th scope=row>vecp</th><td>0.0000000</td><td>0.0002405337</td><td>0.08767453</td><td>0.6657784</td><td>0.24630649</td><td>0</td></tr>\n",
       "\t<tr><th scope=row>vecp</th><td>0.0000000</td><td>0.0005223744</td><td>0.14280409</td><td>0.7229457</td><td>0.13372783</td><td>0</td></tr>\n",
       "\t<tr><th scope=row>vecp</th><td>0.0000000</td><td>0.0010394884</td><td>0.21312760</td><td>0.7193057</td><td>0.06652726</td><td>0</td></tr>\n",
       "\t<tr><th scope=row>vecp</th><td>0.0000000</td><td>0.0003645638</td><td>0.14949395</td><td>0.7568131</td><td>0.09332834</td><td>0</td></tr>\n",
       "</tbody>\n",
       "</table>\n"
      ],
      "text/latex": [
       "A matrix: 20 × 6 of type dbl\n",
       "\\begin{tabular}{r|llllll}\n",
       "\tvecp & 0.3333333 & 0.2666666667 & 0.20000000 & 0.1333333 & 0.06666667 & 0\\\\\n",
       "\tvecp & 0.0000000 & 0.2000000000 & 0.30000000 & 0.3000000 & 0.20000000 & 0\\\\\n",
       "\tvecp & 0.0000000 & 0.3200000000 & 0.36000000 & 0.2400000 & 0.08000000 & 0\\\\\n",
       "\tvecp & 0.0000000 & 0.4383561644 & 0.36986301 & 0.1643836 & 0.02739726 & 0\\\\\n",
       "\tvecp & 0.0000000 & 0.2461538462 & 0.41538462 & 0.2769231 & 0.06153846 & 0\\\\\n",
       "\tvecp & 0.0000000 & 0.1142857143 & 0.38571429 & 0.3857143 & 0.11428571 & 0\\\\\n",
       "\tvecp & 0.0000000 & 0.1828571429 & 0.46285714 & 0.3085714 & 0.04571429 & 0\\\\\n",
       "\tvecp & 0.0000000 & 0.0824742268 & 0.41752577 & 0.4175258 & 0.08247423 & 0\\\\\n",
       "\tvecp & 0.0000000 & 0.0329896907 & 0.33402062 & 0.5010309 & 0.13195876 & 0\\\\\n",
       "\tvecp & 0.0000000 & 0.0120754717 & 0.24452830 & 0.5501887 & 0.19320755 & 0\\\\\n",
       "\tvecp & 0.0000000 & 0.0041290323 & 0.16722581 & 0.5643871 & 0.26425806 & 0\\\\\n",
       "\tvecp & 0.0000000 & 0.0086416419 & 0.26248987 & 0.5906022 & 0.13826627 & 0\\\\\n",
       "\tvecp & 0.0000000 & 0.0030231460 & 0.18365612 & 0.6198394 & 0.19348134 & 0\\\\\n",
       "\tvecp & 0.0000000 & 0.0010064476 & 0.12228338 & 0.6190596 & 0.25765057 & 0\\\\\n",
       "\tvecp & 0.0000000 & 0.0021566976 & 0.19652906 & 0.6632856 & 0.13802864 & 0\\\\\n",
       "\tvecp & 0.0000000 & 0.0007342734 & 0.13382132 & 0.6774704 & 0.18797398 & 0\\\\\n",
       "\tvecp & 0.0000000 & 0.0002405337 & 0.08767453 & 0.6657784 & 0.24630649 & 0\\\\\n",
       "\tvecp & 0.0000000 & 0.0005223744 & 0.14280409 & 0.7229457 & 0.13372783 & 0\\\\\n",
       "\tvecp & 0.0000000 & 0.0010394884 & 0.21312760 & 0.7193057 & 0.06652726 & 0\\\\\n",
       "\tvecp & 0.0000000 & 0.0003645638 & 0.14949395 & 0.7568131 & 0.09332834 & 0\\\\\n",
       "\\end{tabular}\n"
      ],
      "text/markdown": [
       "\n",
       "A matrix: 20 × 6 of type dbl\n",
       "\n",
       "| vecp | 0.3333333 | 0.2666666667 | 0.20000000 | 0.1333333 | 0.06666667 | 0 |\n",
       "| vecp | 0.0000000 | 0.2000000000 | 0.30000000 | 0.3000000 | 0.20000000 | 0 |\n",
       "| vecp | 0.0000000 | 0.3200000000 | 0.36000000 | 0.2400000 | 0.08000000 | 0 |\n",
       "| vecp | 0.0000000 | 0.4383561644 | 0.36986301 | 0.1643836 | 0.02739726 | 0 |\n",
       "| vecp | 0.0000000 | 0.2461538462 | 0.41538462 | 0.2769231 | 0.06153846 | 0 |\n",
       "| vecp | 0.0000000 | 0.1142857143 | 0.38571429 | 0.3857143 | 0.11428571 | 0 |\n",
       "| vecp | 0.0000000 | 0.1828571429 | 0.46285714 | 0.3085714 | 0.04571429 | 0 |\n",
       "| vecp | 0.0000000 | 0.0824742268 | 0.41752577 | 0.4175258 | 0.08247423 | 0 |\n",
       "| vecp | 0.0000000 | 0.0329896907 | 0.33402062 | 0.5010309 | 0.13195876 | 0 |\n",
       "| vecp | 0.0000000 | 0.0120754717 | 0.24452830 | 0.5501887 | 0.19320755 | 0 |\n",
       "| vecp | 0.0000000 | 0.0041290323 | 0.16722581 | 0.5643871 | 0.26425806 | 0 |\n",
       "| vecp | 0.0000000 | 0.0086416419 | 0.26248987 | 0.5906022 | 0.13826627 | 0 |\n",
       "| vecp | 0.0000000 | 0.0030231460 | 0.18365612 | 0.6198394 | 0.19348134 | 0 |\n",
       "| vecp | 0.0000000 | 0.0010064476 | 0.12228338 | 0.6190596 | 0.25765057 | 0 |\n",
       "| vecp | 0.0000000 | 0.0021566976 | 0.19652906 | 0.6632856 | 0.13802864 | 0 |\n",
       "| vecp | 0.0000000 | 0.0007342734 | 0.13382132 | 0.6774704 | 0.18797398 | 0 |\n",
       "| vecp | 0.0000000 | 0.0002405337 | 0.08767453 | 0.6657784 | 0.24630649 | 0 |\n",
       "| vecp | 0.0000000 | 0.0005223744 | 0.14280409 | 0.7229457 | 0.13372783 | 0 |\n",
       "| vecp | 0.0000000 | 0.0010394884 | 0.21312760 | 0.7193057 | 0.06652726 | 0 |\n",
       "| vecp | 0.0000000 | 0.0003645638 | 0.14949395 | 0.7568131 | 0.09332834 | 0 |\n",
       "\n"
      ],
      "text/plain": [
       "     [,1]      [,2]         [,3]       [,4]      [,5]       [,6]\n",
       "vecp 0.3333333 0.2666666667 0.20000000 0.1333333 0.06666667 0   \n",
       "vecp 0.0000000 0.2000000000 0.30000000 0.3000000 0.20000000 0   \n",
       "vecp 0.0000000 0.3200000000 0.36000000 0.2400000 0.08000000 0   \n",
       "vecp 0.0000000 0.4383561644 0.36986301 0.1643836 0.02739726 0   \n",
       "vecp 0.0000000 0.2461538462 0.41538462 0.2769231 0.06153846 0   \n",
       "vecp 0.0000000 0.1142857143 0.38571429 0.3857143 0.11428571 0   \n",
       "vecp 0.0000000 0.1828571429 0.46285714 0.3085714 0.04571429 0   \n",
       "vecp 0.0000000 0.0824742268 0.41752577 0.4175258 0.08247423 0   \n",
       "vecp 0.0000000 0.0329896907 0.33402062 0.5010309 0.13195876 0   \n",
       "vecp 0.0000000 0.0120754717 0.24452830 0.5501887 0.19320755 0   \n",
       "vecp 0.0000000 0.0041290323 0.16722581 0.5643871 0.26425806 0   \n",
       "vecp 0.0000000 0.0086416419 0.26248987 0.5906022 0.13826627 0   \n",
       "vecp 0.0000000 0.0030231460 0.18365612 0.6198394 0.19348134 0   \n",
       "vecp 0.0000000 0.0010064476 0.12228338 0.6190596 0.25765057 0   \n",
       "vecp 0.0000000 0.0021566976 0.19652906 0.6632856 0.13802864 0   \n",
       "vecp 0.0000000 0.0007342734 0.13382132 0.6774704 0.18797398 0   \n",
       "vecp 0.0000000 0.0002405337 0.08767453 0.6657784 0.24630649 0   \n",
       "vecp 0.0000000 0.0005223744 0.14280409 0.7229457 0.13372783 0   \n",
       "vecp 0.0000000 0.0010394884 0.21312760 0.7193057 0.06652726 0   \n",
       "vecp 0.0000000 0.0003645638 0.14949395 0.7568131 0.09332834 0   "
      ]
     },
     "metadata": {},
     "output_type": "display_data"
    }
   ],
   "source": [
    "sel_box <- sample(c(0:5),1)\n",
    "prob <- sel_box/5\n",
    "\n",
    "vecp <- rep(1/6,6)\n",
    "out_auto <- matrix(NA, nrow=0, ncol=6)\n",
    "\n",
    "num_samples <- 20\n",
    "res <- sample(c(0,1), size=num_samples, replace=TRUE, prob=c(1-prob,prob))\n",
    "\n",
    "vecp <- rep(1/6,6)\n",
    "\n",
    "for (n1 in res){\n",
    "    \n",
    "    norm <- 0\n",
    "    for (i in 1:6){\n",
    "    norm <- norm + vecp[i]*(vboxs[i] * n1 + (1-n1)*(1-vboxs[i]))\n",
    "    } \n",
    "\n",
    "    for (i in 1:6){\n",
    "    vecp[i] <- vecp[i]*(vboxs[i] * n1 + (1-n1)*(1-vboxs[i]))/ norm \n",
    "    }\n",
    "    out_auto <- rbind(out_auto, vecp)\n",
    "}\n",
    "out_auto"
   ]
  },
  {
   "cell_type": "code",
   "execution_count": 6,
   "metadata": {},
   "outputs": [
    {
     "data": {
      "image/png": "[encoded data removed]",
      "text/plain": [
       "plot without title"
      ]
     },
     "metadata": {
      "image/png": {
       "height": 600,
       "width": 900
      }
     },
     "output_type": "display_data"
    }
   ],
   "source": [
    "par(mfrow = c(2, 3))\n",
    "options(repr.plot.width=15, repr.plot.height=10)\n",
    "xs = seq(1,length(out_auto[,1]))\n",
    "for (i in 1:6){\n",
    "    plot(xs, out_auto[,i], xlab = \"Extraction number\", ylab = paste0(\"Probability of H\", i-1), ylim = c(0,1), col = colors[i], pch=\"+\", cex = 3)\n",
    "}"
   ]
  },
  {
   "cell_type": "markdown",
   "metadata": {},
   "source": [
    "## Exercise 3\n",
    "\n",
    "• An important property of the gamma distribution is the so-called reproductive property\n",
    "\n",
    "• given a sequence of independent random variable Xj ∼ Gamma($\\alpha_j , \\beta $), it follows that\n",
    "\n",
    "$$Y = \\sum_{j=1}^N X_j → Y \\sim Gamma(\\alpha, \\beta) \\,\\,\\,\\,\\,\\, where \\,\\,\\,\\,\\,\\,  \\alpha =\\sum_{j=1}^n \\alpha_j$$ \n",
    "\n",
    "• if $\\alpha$ = m is an integer, a random variable from gamma distribution Gamma(m, $\\beta$) (also known as Erlang distribution) can be obtained by summing m independent exponential random variables Xj ∼ Exp(β):\n",
    "\n",
    "$$ Y = \\beta \\sum_{j=1}^N −\\ln Uj = −\\beta \\ln \\prod_{j=1}^N U_j$$\n",
    "\n",
    "a) write an algorithm to sample variables from an Erlang distribution Gamma(m, β)\n",
    "\n",
    "\n",
    "$$ f(x;k,\\lambda )={\\lambda ^{k}x^{k-1}e^{-\\lambda x} \\over (k-1)!}\\quad {\\mbox{per }}x,\\lambda \\geq 0$$\n"
   ]
  },
  {
   "cell_type": "code",
   "execution_count": 7,
   "metadata": {},
   "outputs": [
    {
     "data": {
      "image/png": "[encoded data removed]",
      "text/plain": [
       "Plot with title \"Histogram of -1/beta * (colSums(log(data.frame(replicate(1000, runif(m))))))\""
      ]
     },
     "metadata": {
      "image/png": {
       "height": 420,
       "width": 840
      }
     },
     "output_type": "display_data"
    }
   ],
   "source": [
    "m = 7\n",
    "beta = 0.5\n",
    "\n",
    "par(mfrow = c(1, 4))\n",
    "options(repr.plot.width=14, repr.plot.height=7)\n",
    "\n",
    "hist(rgamma(1000, m, beta), c = \"blue\", xlim=c(0, 40))\n",
    "\n",
    "hist(qgamma(runif(1000), m, beta), c = \"red\", xlim=c(0, 40))\n",
    "\n",
    "hist(colSums(data.frame(replicate(1000,rexp(m, beta)))), c = 'green' ,xlim=c(0, 40))\n",
    "\n",
    "hist(-1/beta*(colSums(log(data.frame(replicate(1000,runif(m)))))), c = 'violet', xlim=c(0, 40))"
   ]
  },
  {
   "cell_type": "markdown",
   "metadata": {},
   "source": [
    "## Exercise 4\n",
    "• one of the first random number generator was proposed by von Neumann, the so-called\n",
    "middle square algorithm\n",
    "\n",
    "• write R code to implement this type of generator and, given a fixed digit number input,\n",
    "square it an remove the leading and trailing digits, in order to return a number with the\n",
    "same number of digits as the original number\n",
    "\n",
    "• Suggestion : after having squared the number, convert it to a list of characters\n",
    "\n",
    "```number <- unlist(strsplit(as.character(x.squared),\"\")) ```\n",
    "\n",
    "and, after having removed the head and tail of the list, convert it back to a number\n",
    "\n",
    "```as.numeric(paste(number.after.trimming, collapse=\"\"))```\n"
   ]
  },
  {
   "cell_type": "code",
   "execution_count": 8,
   "metadata": {},
   "outputs": [
    {
     "data": {
      "text/html": [
       "7923805949"
      ],
      "text/latex": [
       "7923805949"
      ],
      "text/markdown": [
       "7923805949"
      ],
      "text/plain": [
       "[1] 7923805949"
      ]
     },
     "metadata": {},
     "output_type": "display_data"
    }
   ],
   "source": [
    "rVonNeumann <- function(x){\n",
    "    number <- unlist(strsplit(as.character(x^2),\"\"))\n",
    "    dim <-  length(unlist(strsplit(as.character(x),\"\")))\n",
    "    if (length(number) == length(dim)){\n",
    "        message(\"Error: Same number of digits, returning input\")\n",
    "        return(x)\n",
    "    }\n",
    "\n",
    "    while(length(number)>dim){\n",
    "        if(length(number)>=dim+2){\n",
    "            number <- number[-1]\n",
    "            number <- number[-length(number)]\n",
    "        }else{\n",
    "            number <- number[-1]\n",
    "        }\n",
    "    }\n",
    "    \n",
    "    return(as.numeric(paste(number, collapse=\"\")))\n",
    "} \n",
    "\n",
    "rVonNeumann(5772156649)"
   ]
  }
 ],
 "metadata": {
  "kernelspec": {
   "display_name": "R",
   "language": "R",
   "name": "ir"
  },
  "language_info": {
   "codemirror_mode": "r",
   "file_extension": ".r",
   "mimetype": "text/x-r-source",
   "name": "R",
   "pygments_lexer": "r",
   "version": "4.0.4"
  }
 },
 "nbformat": 4,
 "nbformat_minor": 4
}
